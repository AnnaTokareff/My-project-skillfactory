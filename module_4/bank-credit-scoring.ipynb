{
 "cells": [
  {
   "cell_type": "code",
   "execution_count": 1,
   "metadata": {
    "_cell_guid": "b1076dfc-b9ad-4769-8c92-a6c4dae69d19",
    "_uuid": "8f2839f25d086af736a60e9eeb907d3b93b6e0e5",
    "execution": {
     "iopub.execute_input": "2021-03-03T22:13:58.179765Z",
     "iopub.status.busy": "2021-03-03T22:13:58.178544Z",
     "iopub.status.idle": "2021-03-03T22:13:58.186069Z",
     "shell.execute_reply": "2021-03-03T22:13:58.185319Z"
    },
    "papermill": {
     "duration": 0.087752,
     "end_time": "2021-03-03T22:13:58.186292",
     "exception": false,
     "start_time": "2021-03-03T22:13:58.098540",
     "status": "completed"
    },
    "tags": []
   },
   "outputs": [
    {
     "name": "stdout",
     "output_type": "stream",
     "text": [
      "/kaggle/input/sf-dst-scoring/sample_submission.csv\n",
      "/kaggle/input/sf-dst-scoring/train.csv\n",
      "/kaggle/input/sf-dst-scoring/test.csv\n"
     ]
    }
   ],
   "source": [
    "# This Python 3 environment comes with many helpful analytics libraries installed\n",
    "# It is defined by the kaggle/python Docker image: https://github.com/kaggle/docker-python\n",
    "# For example, here's several helpful packages to load\n",
    "\n",
    "import numpy as np # linear algebra\n",
    "import pandas as pd # data processing, CSV file I/O (e.g. pd.read_csv)\n",
    "\n",
    "# Input data files are available in the read-only \"../input/\" directory\n",
    "# For example, running this (by clicking run or pressing Shift+Enter) will list all files under the input directory\n",
    "\n",
    "import os\n",
    "for dirname, _, filenames in os.walk('/kaggle/input'):\n",
    "    for filename in filenames:\n",
    "        print(os.path.join(dirname, filename))\n",
    "\n",
    "# You can write up to 20GB to the current directory (/kaggle/working/) that gets preserved as output when you create a version using \"Save & Run All\" \n",
    "# You can also write temporary files to /kaggle/temp/, but they won't be saved outside of the current session"
   ]
  },
  {
   "cell_type": "code",
   "execution_count": 2,
   "metadata": {
    "execution": {
     "iopub.execute_input": "2021-03-03T22:13:58.341991Z",
     "iopub.status.busy": "2021-03-03T22:13:58.341270Z",
     "iopub.status.idle": "2021-03-03T22:14:01.408402Z",
     "shell.execute_reply": "2021-03-03T22:14:01.407784Z"
    },
    "papermill": {
     "duration": 3.149553,
     "end_time": "2021-03-03T22:14:01.408548",
     "exception": false,
     "start_time": "2021-03-03T22:13:58.258995",
     "status": "completed"
    },
    "tags": []
   },
   "outputs": [],
   "source": [
    "import pandas as pd\n",
    "import datetime\n",
    "import pandas_profiling\n",
    "import numpy as np\n",
    "import matplotlib.pyplot as plt\n",
    "import seaborn as sns \n",
    "%matplotlib inline\n",
    "\n",
    "from sklearn.feature_selection import f_classif, mutual_info_classif\n",
    "from sklearn.preprocessing import LabelEncoder, OneHotEncoder, StandardScaler\n",
    "from sklearn.metrics import plot_confusion_matrix\n",
    "from sklearn.preprocessing import PolynomialFeatures\n",
    "from sklearn.model_selection import train_test_split,GridSearchCV\n",
    "from sklearn.metrics import auc, roc_auc_score, roc_curve\n",
    "from sklearn.linear_model import LogisticRegression\n",
    "from sklearn.metrics import accuracy_score, precision_score, recall_score, f1_score\n",
    "from sklearn.model_selection import cross_validate\n",
    "from sklearn.metrics import confusion_matrix, ConfusionMatrixDisplay\n",
    "from scipy.stats import randint\n",
    "from sklearn.tree import DecisionTreeClassifier\n",
    "from sklearn.model_selection import RandomizedSearchCV\n",
    "\n",
    "\n",
    "from mlxtend.feature_selection import ExhaustiveFeatureSelector as EFS\n",
    "from math import log as log\n",
    "import os"
   ]
  },
  {
   "cell_type": "markdown",
   "metadata": {
    "papermill": {
     "duration": 0.071733,
     "end_time": "2021-03-03T22:14:01.552001",
     "exception": false,
     "start_time": "2021-03-03T22:14:01.480268",
     "status": "completed"
    },
    "tags": []
   },
   "source": [
    "# **Смотрим на данные**"
   ]
  },
  {
   "cell_type": "code",
   "execution_count": 3,
   "metadata": {
    "execution": {
     "iopub.execute_input": "2021-03-03T22:14:01.697518Z",
     "iopub.status.busy": "2021-03-03T22:14:01.696909Z",
     "iopub.status.idle": "2021-03-03T22:14:01.701608Z",
     "shell.execute_reply": "2021-03-03T22:14:01.701097Z"
    },
    "papermill": {
     "duration": 0.078434,
     "end_time": "2021-03-03T22:14:01.701750",
     "exception": false,
     "start_time": "2021-03-03T22:14:01.623316",
     "status": "completed"
    },
    "tags": []
   },
   "outputs": [],
   "source": [
    "path = '/kaggle/input/sf-dst-scoring/'"
   ]
  },
  {
   "cell_type": "code",
   "execution_count": 4,
   "metadata": {
    "execution": {
     "iopub.execute_input": "2021-03-03T22:14:01.850989Z",
     "iopub.status.busy": "2021-03-03T22:14:01.850319Z",
     "iopub.status.idle": "2021-03-03T22:14:02.243593Z",
     "shell.execute_reply": "2021-03-03T22:14:02.242919Z"
    },
    "papermill": {
     "duration": 0.47076,
     "end_time": "2021-03-03T22:14:02.243840",
     "exception": false,
     "start_time": "2021-03-03T22:14:01.773080",
     "status": "completed"
    },
    "tags": []
   },
   "outputs": [],
   "source": [
    "train = pd.read_csv(path +'/train.csv')\n",
    "test = pd.read_csv(path +'test.csv')\n",
    "sample_sub = pd.read_csv(path +'/sample_submission.csv')"
   ]
  },
  {
   "cell_type": "code",
   "execution_count": 5,
   "metadata": {
    "execution": {
     "iopub.execute_input": "2021-03-03T22:14:02.396726Z",
     "iopub.status.busy": "2021-03-03T22:14:02.396021Z",
     "iopub.status.idle": "2021-03-03T22:14:02.464930Z",
     "shell.execute_reply": "2021-03-03T22:14:02.465425Z"
    },
    "papermill": {
     "duration": 0.150059,
     "end_time": "2021-03-03T22:14:02.465593",
     "exception": false,
     "start_time": "2021-03-03T22:14:02.315534",
     "status": "completed"
    },
    "tags": []
   },
   "outputs": [
    {
     "name": "stdout",
     "output_type": "stream",
     "text": [
      "<class 'pandas.core.frame.DataFrame'>\n",
      "RangeIndex: 73799 entries, 0 to 73798\n",
      "Data columns (total 19 columns):\n",
      " #   Column            Non-Null Count  Dtype  \n",
      "---  ------            --------------  -----  \n",
      " 0   client_id         73799 non-null  int64  \n",
      " 1   app_date          73799 non-null  object \n",
      " 2   education         73492 non-null  object \n",
      " 3   sex               73799 non-null  object \n",
      " 4   age               73799 non-null  int64  \n",
      " 5   car               73799 non-null  object \n",
      " 6   car_type          73799 non-null  object \n",
      " 7   decline_app_cnt   73799 non-null  int64  \n",
      " 8   good_work         73799 non-null  int64  \n",
      " 9   score_bki         73799 non-null  float64\n",
      " 10  bki_request_cnt   73799 non-null  int64  \n",
      " 11  region_rating     73799 non-null  int64  \n",
      " 12  home_address      73799 non-null  int64  \n",
      " 13  work_address      73799 non-null  int64  \n",
      " 14  income            73799 non-null  int64  \n",
      " 15  sna               73799 non-null  int64  \n",
      " 16  first_time        73799 non-null  int64  \n",
      " 17  foreign_passport  73799 non-null  object \n",
      " 18  default           73799 non-null  int64  \n",
      "dtypes: float64(1), int64(12), object(6)\n",
      "memory usage: 10.7+ MB\n",
      "Размер обучающей выборки (73799, 19)\n"
     ]
    }
   ],
   "source": [
    "train.info()\n",
    "print('Размер обучающей выборки', train.shape)\n"
   ]
  },
  {
   "cell_type": "code",
   "execution_count": 6,
   "metadata": {
    "execution": {
     "iopub.execute_input": "2021-03-03T22:14:02.617679Z",
     "iopub.status.busy": "2021-03-03T22:14:02.617071Z",
     "iopub.status.idle": "2021-03-03T22:14:02.639190Z",
     "shell.execute_reply": "2021-03-03T22:14:02.639675Z"
    },
    "papermill": {
     "duration": 0.101469,
     "end_time": "2021-03-03T22:14:02.639860",
     "exception": false,
     "start_time": "2021-03-03T22:14:02.538391",
     "status": "completed"
    },
    "tags": []
   },
   "outputs": [
    {
     "data": {
      "text/html": [
       "<div>\n",
       "<style scoped>\n",
       "    .dataframe tbody tr th:only-of-type {\n",
       "        vertical-align: middle;\n",
       "    }\n",
       "\n",
       "    .dataframe tbody tr th {\n",
       "        vertical-align: top;\n",
       "    }\n",
       "\n",
       "    .dataframe thead th {\n",
       "        text-align: right;\n",
       "    }\n",
       "</style>\n",
       "<table border=\"1\" class=\"dataframe\">\n",
       "  <thead>\n",
       "    <tr style=\"text-align: right;\">\n",
       "      <th></th>\n",
       "      <th>client_id</th>\n",
       "      <th>app_date</th>\n",
       "      <th>education</th>\n",
       "      <th>sex</th>\n",
       "      <th>age</th>\n",
       "      <th>car</th>\n",
       "      <th>car_type</th>\n",
       "      <th>decline_app_cnt</th>\n",
       "      <th>good_work</th>\n",
       "      <th>score_bki</th>\n",
       "      <th>bki_request_cnt</th>\n",
       "      <th>region_rating</th>\n",
       "      <th>home_address</th>\n",
       "      <th>work_address</th>\n",
       "      <th>income</th>\n",
       "      <th>sna</th>\n",
       "      <th>first_time</th>\n",
       "      <th>foreign_passport</th>\n",
       "      <th>default</th>\n",
       "    </tr>\n",
       "  </thead>\n",
       "  <tbody>\n",
       "    <tr>\n",
       "      <th>0</th>\n",
       "      <td>25905</td>\n",
       "      <td>01FEB2014</td>\n",
       "      <td>SCH</td>\n",
       "      <td>M</td>\n",
       "      <td>62</td>\n",
       "      <td>Y</td>\n",
       "      <td>Y</td>\n",
       "      <td>0</td>\n",
       "      <td>0</td>\n",
       "      <td>-2.008753</td>\n",
       "      <td>1</td>\n",
       "      <td>50</td>\n",
       "      <td>1</td>\n",
       "      <td>2</td>\n",
       "      <td>18000</td>\n",
       "      <td>4</td>\n",
       "      <td>1</td>\n",
       "      <td>N</td>\n",
       "      <td>0</td>\n",
       "    </tr>\n",
       "    <tr>\n",
       "      <th>1</th>\n",
       "      <td>63161</td>\n",
       "      <td>12MAR2014</td>\n",
       "      <td>SCH</td>\n",
       "      <td>F</td>\n",
       "      <td>59</td>\n",
       "      <td>N</td>\n",
       "      <td>N</td>\n",
       "      <td>0</td>\n",
       "      <td>0</td>\n",
       "      <td>-1.532276</td>\n",
       "      <td>3</td>\n",
       "      <td>50</td>\n",
       "      <td>2</td>\n",
       "      <td>3</td>\n",
       "      <td>19000</td>\n",
       "      <td>4</td>\n",
       "      <td>1</td>\n",
       "      <td>N</td>\n",
       "      <td>0</td>\n",
       "    </tr>\n",
       "    <tr>\n",
       "      <th>2</th>\n",
       "      <td>25887</td>\n",
       "      <td>01FEB2014</td>\n",
       "      <td>SCH</td>\n",
       "      <td>M</td>\n",
       "      <td>25</td>\n",
       "      <td>Y</td>\n",
       "      <td>N</td>\n",
       "      <td>2</td>\n",
       "      <td>0</td>\n",
       "      <td>-1.408142</td>\n",
       "      <td>1</td>\n",
       "      <td>80</td>\n",
       "      <td>1</td>\n",
       "      <td>2</td>\n",
       "      <td>30000</td>\n",
       "      <td>1</td>\n",
       "      <td>4</td>\n",
       "      <td>Y</td>\n",
       "      <td>0</td>\n",
       "    </tr>\n",
       "    <tr>\n",
       "      <th>3</th>\n",
       "      <td>16222</td>\n",
       "      <td>23JAN2014</td>\n",
       "      <td>SCH</td>\n",
       "      <td>F</td>\n",
       "      <td>53</td>\n",
       "      <td>N</td>\n",
       "      <td>N</td>\n",
       "      <td>0</td>\n",
       "      <td>0</td>\n",
       "      <td>-2.057471</td>\n",
       "      <td>2</td>\n",
       "      <td>50</td>\n",
       "      <td>2</td>\n",
       "      <td>3</td>\n",
       "      <td>10000</td>\n",
       "      <td>1</td>\n",
       "      <td>3</td>\n",
       "      <td>N</td>\n",
       "      <td>0</td>\n",
       "    </tr>\n",
       "    <tr>\n",
       "      <th>4</th>\n",
       "      <td>101655</td>\n",
       "      <td>18APR2014</td>\n",
       "      <td>GRD</td>\n",
       "      <td>M</td>\n",
       "      <td>48</td>\n",
       "      <td>N</td>\n",
       "      <td>N</td>\n",
       "      <td>0</td>\n",
       "      <td>1</td>\n",
       "      <td>-1.244723</td>\n",
       "      <td>1</td>\n",
       "      <td>60</td>\n",
       "      <td>2</td>\n",
       "      <td>3</td>\n",
       "      <td>30000</td>\n",
       "      <td>1</td>\n",
       "      <td>4</td>\n",
       "      <td>Y</td>\n",
       "      <td>0</td>\n",
       "    </tr>\n",
       "  </tbody>\n",
       "</table>\n",
       "</div>"
      ],
      "text/plain": [
       "   client_id   app_date education sex  age car car_type  decline_app_cnt  \\\n",
       "0      25905  01FEB2014       SCH   M   62   Y        Y                0   \n",
       "1      63161  12MAR2014       SCH   F   59   N        N                0   \n",
       "2      25887  01FEB2014       SCH   M   25   Y        N                2   \n",
       "3      16222  23JAN2014       SCH   F   53   N        N                0   \n",
       "4     101655  18APR2014       GRD   M   48   N        N                0   \n",
       "\n",
       "   good_work  score_bki  bki_request_cnt  region_rating  home_address  \\\n",
       "0          0  -2.008753                1             50             1   \n",
       "1          0  -1.532276                3             50             2   \n",
       "2          0  -1.408142                1             80             1   \n",
       "3          0  -2.057471                2             50             2   \n",
       "4          1  -1.244723                1             60             2   \n",
       "\n",
       "   work_address  income  sna  first_time foreign_passport  default  \n",
       "0             2   18000    4           1                N        0  \n",
       "1             3   19000    4           1                N        0  \n",
       "2             2   30000    1           4                Y        0  \n",
       "3             3   10000    1           3                N        0  \n",
       "4             3   30000    1           4                Y        0  "
      ]
     },
     "execution_count": 6,
     "metadata": {},
     "output_type": "execute_result"
    }
   ],
   "source": [
    "train.head()"
   ]
  },
  {
   "cell_type": "code",
   "execution_count": 7,
   "metadata": {
    "execution": {
     "iopub.execute_input": "2021-03-03T22:14:02.790680Z",
     "iopub.status.busy": "2021-03-03T22:14:02.790063Z",
     "iopub.status.idle": "2021-03-03T22:14:02.826878Z",
     "shell.execute_reply": "2021-03-03T22:14:02.826229Z"
    },
    "papermill": {
     "duration": 0.114847,
     "end_time": "2021-03-03T22:14:02.827029",
     "exception": false,
     "start_time": "2021-03-03T22:14:02.712182",
     "status": "completed"
    },
    "tags": []
   },
   "outputs": [
    {
     "name": "stdout",
     "output_type": "stream",
     "text": [
      "<class 'pandas.core.frame.DataFrame'>\n",
      "RangeIndex: 36349 entries, 0 to 36348\n",
      "Data columns (total 18 columns):\n",
      " #   Column            Non-Null Count  Dtype  \n",
      "---  ------            --------------  -----  \n",
      " 0   client_id         36349 non-null  int64  \n",
      " 1   app_date          36349 non-null  object \n",
      " 2   education         36178 non-null  object \n",
      " 3   sex               36349 non-null  object \n",
      " 4   age               36349 non-null  int64  \n",
      " 5   car               36349 non-null  object \n",
      " 6   car_type          36349 non-null  object \n",
      " 7   decline_app_cnt   36349 non-null  int64  \n",
      " 8   good_work         36349 non-null  int64  \n",
      " 9   score_bki         36349 non-null  float64\n",
      " 10  bki_request_cnt   36349 non-null  int64  \n",
      " 11  region_rating     36349 non-null  int64  \n",
      " 12  home_address      36349 non-null  int64  \n",
      " 13  work_address      36349 non-null  int64  \n",
      " 14  income            36349 non-null  int64  \n",
      " 15  sna               36349 non-null  int64  \n",
      " 16  first_time        36349 non-null  int64  \n",
      " 17  foreign_passport  36349 non-null  object \n",
      "dtypes: float64(1), int64(11), object(6)\n",
      "memory usage: 5.0+ MB\n",
      "Размер тестовой выборки (73799, 19)\n"
     ]
    }
   ],
   "source": [
    "test.info()\n",
    "print('Размер тестовой выборки', train.shape)"
   ]
  },
  {
   "cell_type": "code",
   "execution_count": 8,
   "metadata": {
    "execution": {
     "iopub.execute_input": "2021-03-03T22:14:02.977079Z",
     "iopub.status.busy": "2021-03-03T22:14:02.976434Z",
     "iopub.status.idle": "2021-03-03T22:14:02.994443Z",
     "shell.execute_reply": "2021-03-03T22:14:02.994995Z"
    },
    "papermill": {
     "duration": 0.095035,
     "end_time": "2021-03-03T22:14:02.995163",
     "exception": false,
     "start_time": "2021-03-03T22:14:02.900128",
     "status": "completed"
    },
    "tags": []
   },
   "outputs": [
    {
     "data": {
      "text/html": [
       "<div>\n",
       "<style scoped>\n",
       "    .dataframe tbody tr th:only-of-type {\n",
       "        vertical-align: middle;\n",
       "    }\n",
       "\n",
       "    .dataframe tbody tr th {\n",
       "        vertical-align: top;\n",
       "    }\n",
       "\n",
       "    .dataframe thead th {\n",
       "        text-align: right;\n",
       "    }\n",
       "</style>\n",
       "<table border=\"1\" class=\"dataframe\">\n",
       "  <thead>\n",
       "    <tr style=\"text-align: right;\">\n",
       "      <th></th>\n",
       "      <th>client_id</th>\n",
       "      <th>app_date</th>\n",
       "      <th>education</th>\n",
       "      <th>sex</th>\n",
       "      <th>age</th>\n",
       "      <th>car</th>\n",
       "      <th>car_type</th>\n",
       "      <th>decline_app_cnt</th>\n",
       "      <th>good_work</th>\n",
       "      <th>score_bki</th>\n",
       "      <th>bki_request_cnt</th>\n",
       "      <th>region_rating</th>\n",
       "      <th>home_address</th>\n",
       "      <th>work_address</th>\n",
       "      <th>income</th>\n",
       "      <th>sna</th>\n",
       "      <th>first_time</th>\n",
       "      <th>foreign_passport</th>\n",
       "    </tr>\n",
       "  </thead>\n",
       "  <tbody>\n",
       "    <tr>\n",
       "      <th>0</th>\n",
       "      <td>74835</td>\n",
       "      <td>22MAR2014</td>\n",
       "      <td>GRD</td>\n",
       "      <td>M</td>\n",
       "      <td>29</td>\n",
       "      <td>Y</td>\n",
       "      <td>Y</td>\n",
       "      <td>0</td>\n",
       "      <td>0</td>\n",
       "      <td>-2.271884</td>\n",
       "      <td>3</td>\n",
       "      <td>50</td>\n",
       "      <td>1</td>\n",
       "      <td>2</td>\n",
       "      <td>50000</td>\n",
       "      <td>1</td>\n",
       "      <td>4</td>\n",
       "      <td>N</td>\n",
       "    </tr>\n",
       "    <tr>\n",
       "      <th>1</th>\n",
       "      <td>17527</td>\n",
       "      <td>24JAN2014</td>\n",
       "      <td>SCH</td>\n",
       "      <td>F</td>\n",
       "      <td>39</td>\n",
       "      <td>N</td>\n",
       "      <td>N</td>\n",
       "      <td>5</td>\n",
       "      <td>0</td>\n",
       "      <td>-1.504999</td>\n",
       "      <td>2</td>\n",
       "      <td>50</td>\n",
       "      <td>1</td>\n",
       "      <td>2</td>\n",
       "      <td>5000</td>\n",
       "      <td>4</td>\n",
       "      <td>3</td>\n",
       "      <td>N</td>\n",
       "    </tr>\n",
       "    <tr>\n",
       "      <th>2</th>\n",
       "      <td>75683</td>\n",
       "      <td>23MAR2014</td>\n",
       "      <td>UGR</td>\n",
       "      <td>M</td>\n",
       "      <td>50</td>\n",
       "      <td>Y</td>\n",
       "      <td>Y</td>\n",
       "      <td>0</td>\n",
       "      <td>0</td>\n",
       "      <td>-1.691339</td>\n",
       "      <td>1</td>\n",
       "      <td>50</td>\n",
       "      <td>1</td>\n",
       "      <td>2</td>\n",
       "      <td>30000</td>\n",
       "      <td>1</td>\n",
       "      <td>3</td>\n",
       "      <td>Y</td>\n",
       "    </tr>\n",
       "    <tr>\n",
       "      <th>3</th>\n",
       "      <td>26883</td>\n",
       "      <td>03FEB2014</td>\n",
       "      <td>SCH</td>\n",
       "      <td>M</td>\n",
       "      <td>56</td>\n",
       "      <td>N</td>\n",
       "      <td>N</td>\n",
       "      <td>0</td>\n",
       "      <td>0</td>\n",
       "      <td>-2.374182</td>\n",
       "      <td>1</td>\n",
       "      <td>40</td>\n",
       "      <td>1</td>\n",
       "      <td>2</td>\n",
       "      <td>17000</td>\n",
       "      <td>1</td>\n",
       "      <td>3</td>\n",
       "      <td>N</td>\n",
       "    </tr>\n",
       "    <tr>\n",
       "      <th>4</th>\n",
       "      <td>28862</td>\n",
       "      <td>04FEB2014</td>\n",
       "      <td>GRD</td>\n",
       "      <td>F</td>\n",
       "      <td>38</td>\n",
       "      <td>N</td>\n",
       "      <td>N</td>\n",
       "      <td>0</td>\n",
       "      <td>0</td>\n",
       "      <td>-2.487502</td>\n",
       "      <td>0</td>\n",
       "      <td>80</td>\n",
       "      <td>2</td>\n",
       "      <td>3</td>\n",
       "      <td>120000</td>\n",
       "      <td>1</td>\n",
       "      <td>3</td>\n",
       "      <td>N</td>\n",
       "    </tr>\n",
       "  </tbody>\n",
       "</table>\n",
       "</div>"
      ],
      "text/plain": [
       "   client_id   app_date education sex  age car car_type  decline_app_cnt  \\\n",
       "0      74835  22MAR2014       GRD   M   29   Y        Y                0   \n",
       "1      17527  24JAN2014       SCH   F   39   N        N                5   \n",
       "2      75683  23MAR2014       UGR   M   50   Y        Y                0   \n",
       "3      26883  03FEB2014       SCH   M   56   N        N                0   \n",
       "4      28862  04FEB2014       GRD   F   38   N        N                0   \n",
       "\n",
       "   good_work  score_bki  bki_request_cnt  region_rating  home_address  \\\n",
       "0          0  -2.271884                3             50             1   \n",
       "1          0  -1.504999                2             50             1   \n",
       "2          0  -1.691339                1             50             1   \n",
       "3          0  -2.374182                1             40             1   \n",
       "4          0  -2.487502                0             80             2   \n",
       "\n",
       "   work_address  income  sna  first_time foreign_passport  \n",
       "0             2   50000    1           4                N  \n",
       "1             2    5000    4           3                N  \n",
       "2             2   30000    1           3                Y  \n",
       "3             2   17000    1           3                N  \n",
       "4             3  120000    1           3                N  "
      ]
     },
     "execution_count": 8,
     "metadata": {},
     "output_type": "execute_result"
    }
   ],
   "source": [
    "test.head(5)"
   ]
  },
  {
   "cell_type": "code",
   "execution_count": 9,
   "metadata": {
    "execution": {
     "iopub.execute_input": "2021-03-03T22:14:03.147581Z",
     "iopub.status.busy": "2021-03-03T22:14:03.146992Z",
     "iopub.status.idle": "2021-03-03T22:14:03.160399Z",
     "shell.execute_reply": "2021-03-03T22:14:03.160913Z"
    },
    "papermill": {
     "duration": 0.090454,
     "end_time": "2021-03-03T22:14:03.161089",
     "exception": false,
     "start_time": "2021-03-03T22:14:03.070635",
     "status": "completed"
    },
    "tags": []
   },
   "outputs": [
    {
     "name": "stdout",
     "output_type": "stream",
     "text": [
      "<class 'pandas.core.frame.DataFrame'>\n",
      "RangeIndex: 24354 entries, 0 to 24353\n",
      "Data columns (total 2 columns):\n",
      " #   Column     Non-Null Count  Dtype  \n",
      "---  ------     --------------  -----  \n",
      " 0   client_id  24354 non-null  int64  \n",
      " 1   default    24354 non-null  float64\n",
      "dtypes: float64(1), int64(1)\n",
      "memory usage: 380.7 KB\n",
      "(24354, 2)\n"
     ]
    }
   ],
   "source": [
    "sample_sub.info()\n",
    "print(sample_sub.shape)"
   ]
  },
  {
   "cell_type": "code",
   "execution_count": 10,
   "metadata": {
    "execution": {
     "iopub.execute_input": "2021-03-03T22:14:03.320469Z",
     "iopub.status.busy": "2021-03-03T22:14:03.319761Z",
     "iopub.status.idle": "2021-03-03T22:14:03.322847Z",
     "shell.execute_reply": "2021-03-03T22:14:03.323335Z"
    },
    "papermill": {
     "duration": 0.087895,
     "end_time": "2021-03-03T22:14:03.323502",
     "exception": false,
     "start_time": "2021-03-03T22:14:03.235607",
     "status": "completed"
    },
    "tags": []
   },
   "outputs": [
    {
     "data": {
      "text/html": [
       "<div>\n",
       "<style scoped>\n",
       "    .dataframe tbody tr th:only-of-type {\n",
       "        vertical-align: middle;\n",
       "    }\n",
       "\n",
       "    .dataframe tbody tr th {\n",
       "        vertical-align: top;\n",
       "    }\n",
       "\n",
       "    .dataframe thead th {\n",
       "        text-align: right;\n",
       "    }\n",
       "</style>\n",
       "<table border=\"1\" class=\"dataframe\">\n",
       "  <thead>\n",
       "    <tr style=\"text-align: right;\">\n",
       "      <th></th>\n",
       "      <th>client_id</th>\n",
       "      <th>default</th>\n",
       "    </tr>\n",
       "  </thead>\n",
       "  <tbody>\n",
       "    <tr>\n",
       "      <th>0</th>\n",
       "      <td>66799</td>\n",
       "      <td>0.441004</td>\n",
       "    </tr>\n",
       "    <tr>\n",
       "      <th>1</th>\n",
       "      <td>25379</td>\n",
       "      <td>0.138092</td>\n",
       "    </tr>\n",
       "    <tr>\n",
       "      <th>2</th>\n",
       "      <td>28825</td>\n",
       "      <td>0.373370</td>\n",
       "    </tr>\n",
       "    <tr>\n",
       "      <th>3</th>\n",
       "      <td>37530</td>\n",
       "      <td>0.476501</td>\n",
       "    </tr>\n",
       "    <tr>\n",
       "      <th>4</th>\n",
       "      <td>4264</td>\n",
       "      <td>0.304640</td>\n",
       "    </tr>\n",
       "  </tbody>\n",
       "</table>\n",
       "</div>"
      ],
      "text/plain": [
       "   client_id   default\n",
       "0      66799  0.441004\n",
       "1      25379  0.138092\n",
       "2      28825  0.373370\n",
       "3      37530  0.476501\n",
       "4       4264  0.304640"
      ]
     },
     "execution_count": 10,
     "metadata": {},
     "output_type": "execute_result"
    }
   ],
   "source": [
    "sample_sub.head(5)"
   ]
  },
  {
   "cell_type": "code",
   "execution_count": 11,
   "metadata": {
    "execution": {
     "iopub.execute_input": "2021-03-03T22:14:03.476687Z",
     "iopub.status.busy": "2021-03-03T22:14:03.475971Z",
     "iopub.status.idle": "2021-03-03T22:14:03.642253Z",
     "shell.execute_reply": "2021-03-03T22:14:03.642695Z"
    },
    "papermill": {
     "duration": 0.244636,
     "end_time": "2021-03-03T22:14:03.642901",
     "exception": false,
     "start_time": "2021-03-03T22:14:03.398265",
     "status": "completed"
    },
    "tags": []
   },
   "outputs": [
    {
     "name": "stderr",
     "output_type": "stream",
     "text": [
      "/opt/conda/lib/python3.7/site-packages/seaborn/_decorators.py:43: FutureWarning: Pass the following variable as a keyword arg: x. From version 0.12, the only valid positional argument will be `data`, and passing other arguments without an explicit keyword will result in an error or misinterpretation.\n",
      "  FutureWarning\n"
     ]
    },
    {
     "data": {
      "text/plain": [
       "<AxesSubplot:xlabel='default', ylabel='count'>"
      ]
     },
     "execution_count": 11,
     "metadata": {},
     "output_type": "execute_result"
    },
    {
     "data": {
      "image/png": "[encoded data removed]",
      "text/plain": [
       "<Figure size 432x288 with 1 Axes>"
      ]
     },
     "metadata": {
      "needs_background": "light"
     },
     "output_type": "display_data"
    }
   ],
   "source": [
    "# Посмотрим на рспределение признака default в обучающей выбоке\n",
    "sns.countplot(train['default'])"
   ]
  },
  {
   "cell_type": "markdown",
   "metadata": {
    "papermill": {
     "duration": 0.076459,
     "end_time": "2021-03-03T22:14:03.795714",
     "exception": false,
     "start_time": "2021-03-03T22:14:03.719255",
     "status": "completed"
    },
    "tags": []
   },
   "source": [
    "Видим, что распределение неравномерное. Клиентов, которым выдают кредит,намного больше."
   ]
  },
  {
   "cell_type": "markdown",
   "metadata": {
    "papermill": {
     "duration": 0.076674,
     "end_time": "2021-03-03T22:14:03.951142",
     "exception": false,
     "start_time": "2021-03-03T22:14:03.874468",
     "status": "completed"
    },
    "tags": []
   },
   "source": [
    "### Неудобно работать поочередно с каждым датасетом, поэтому объединим данные в один"
   ]
  },
  {
   "cell_type": "code",
   "execution_count": 12,
   "metadata": {
    "execution": {
     "iopub.execute_input": "2021-03-03T22:14:04.108345Z",
     "iopub.status.busy": "2021-03-03T22:14:04.107657Z",
     "iopub.status.idle": "2021-03-03T22:14:04.165710Z",
     "shell.execute_reply": "2021-03-03T22:14:04.166245Z"
    },
    "papermill": {
     "duration": 0.137918,
     "end_time": "2021-03-03T22:14:04.166424",
     "exception": false,
     "start_time": "2021-03-03T22:14:04.028506",
     "status": "completed"
    },
    "tags": []
   },
   "outputs": [],
   "source": [
    "# Чтобы различать обущающую и тестовые выборки, создадим столбец со значениями 1 и 0\n",
    "train['sample'] = 1   # обучающая выборка\n",
    "test['sample'] = 0    # тестовая выборка\n",
    "test['default'] = -1  # т.к. изначально в тестовых данных у нас нет переменной default, создадим столбец со значениями -1\n",
    "data = train.append(test, sort=False).reset_index(drop=True)"
   ]
  },
  {
   "cell_type": "code",
   "execution_count": 13,
   "metadata": {
    "execution": {
     "iopub.execute_input": "2021-03-03T22:14:04.322368Z",
     "iopub.status.busy": "2021-03-03T22:14:04.321678Z",
     "iopub.status.idle": "2021-03-03T22:14:04.408007Z",
     "shell.execute_reply": "2021-03-03T22:14:04.407432Z"
    },
    "papermill": {
     "duration": 0.165294,
     "end_time": "2021-03-03T22:14:04.408156",
     "exception": false,
     "start_time": "2021-03-03T22:14:04.242862",
     "status": "completed"
    },
    "tags": []
   },
   "outputs": [
    {
     "name": "stdout",
     "output_type": "stream",
     "text": [
      "<class 'pandas.core.frame.DataFrame'>\n",
      "RangeIndex: 110148 entries, 0 to 110147\n",
      "Data columns (total 20 columns):\n",
      " #   Column            Non-Null Count   Dtype  \n",
      "---  ------            --------------   -----  \n",
      " 0   client_id         110148 non-null  int64  \n",
      " 1   app_date          110148 non-null  object \n",
      " 2   education         109670 non-null  object \n",
      " 3   sex               110148 non-null  object \n",
      " 4   age               110148 non-null  int64  \n",
      " 5   car               110148 non-null  object \n",
      " 6   car_type          110148 non-null  object \n",
      " 7   decline_app_cnt   110148 non-null  int64  \n",
      " 8   good_work         110148 non-null  int64  \n",
      " 9   score_bki         110148 non-null  float64\n",
      " 10  bki_request_cnt   110148 non-null  int64  \n",
      " 11  region_rating     110148 non-null  int64  \n",
      " 12  home_address      110148 non-null  int64  \n",
      " 13  work_address      110148 non-null  int64  \n",
      " 14  income            110148 non-null  int64  \n",
      " 15  sna               110148 non-null  int64  \n",
      " 16  first_time        110148 non-null  int64  \n",
      " 17  foreign_passport  110148 non-null  object \n",
      " 18  default           110148 non-null  int64  \n",
      " 19  sample            110148 non-null  int64  \n",
      "dtypes: float64(1), int64(13), object(6)\n",
      "memory usage: 16.8+ MB\n"
     ]
    }
   ],
   "source": [
    "data.info()"
   ]
  },
  {
   "cell_type": "code",
   "execution_count": 14,
   "metadata": {
    "execution": {
     "iopub.execute_input": "2021-03-03T22:14:04.567390Z",
     "iopub.status.busy": "2021-03-03T22:14:04.566448Z",
     "iopub.status.idle": "2021-03-03T22:14:04.570859Z",
     "shell.execute_reply": "2021-03-03T22:14:04.570305Z"
    },
    "papermill": {
     "duration": 0.085752,
     "end_time": "2021-03-03T22:14:04.570998",
     "exception": false,
     "start_time": "2021-03-03T22:14:04.485246",
     "status": "completed"
    },
    "tags": []
   },
   "outputs": [
    {
     "data": {
      "text/plain": [
       "(110148, 20)"
      ]
     },
     "execution_count": 14,
     "metadata": {},
     "output_type": "execute_result"
    }
   ],
   "source": [
    "data.shape"
   ]
  },
  {
   "cell_type": "markdown",
   "metadata": {
    "papermill": {
     "duration": 0.077643,
     "end_time": "2021-03-03T22:14:04.728599",
     "exception": false,
     "start_time": "2021-03-03T22:14:04.650956",
     "status": "completed"
    },
    "tags": []
   },
   "source": [
    "## *Описание данных:*\n",
    "client_id - идентификатор клиента\n",
    "\n",
    "education - уровень образования\n",
    "\n",
    "sex - пол заемщика\n",
    "\n",
    "age - возраст заемщика\n",
    "\n",
    "car - флаг наличия автомобиля\n",
    "\n",
    "car_type - флаг автомобиля иномарки\n",
    "\n",
    "decline_app_cnt - количество отказанных прошлых заявок\n",
    "\n",
    "good_work - флаг наличия “хорошей” работы\n",
    "\n",
    "bki_request_cnt - количество запросов в БКИ\n",
    "\n",
    "home_address - категоризатор домашнего адреса\n",
    "\n",
    "work_address - категоризатор рабочего адреса\n",
    "\n",
    "income - доход заемщика\n",
    "\n",
    "foreign_passport - наличие загранпаспорта\n",
    "\n",
    "sna - связь заемщика с клиентами банка\n",
    "\n",
    "first_time - давность наличия информации о заемщике\n",
    "\n",
    "score_bki - скоринговый балл по данным из БКИ\n",
    "\n",
    "region_rating - рейтинг региона\n",
    "\n",
    "app_date - дата подачи заявки\n",
    "\n",
    "default - флаг дефолта по кредиту"
   ]
  },
  {
   "cell_type": "markdown",
   "metadata": {
    "papermill": {
     "duration": 0.078578,
     "end_time": "2021-03-03T22:14:04.885294",
     "exception": false,
     "start_time": "2021-03-03T22:14:04.806716",
     "status": "completed"
    },
    "tags": []
   },
   "source": [
    "# Визуализация данных"
   ]
  },
  {
   "cell_type": "code",
   "execution_count": 15,
   "metadata": {
    "execution": {
     "iopub.execute_input": "2021-03-03T22:14:05.075543Z",
     "iopub.status.busy": "2021-03-03T22:14:05.065995Z",
     "iopub.status.idle": "2021-03-03T22:14:05.080569Z",
     "shell.execute_reply": "2021-03-03T22:14:05.079954Z"
    },
    "papermill": {
     "duration": 0.117418,
     "end_time": "2021-03-03T22:14:05.080742",
     "exception": false,
     "start_time": "2021-03-03T22:14:04.963324",
     "status": "completed"
    },
    "tags": []
   },
   "outputs": [
    {
     "data": {
      "text/html": [
       "<div>\n",
       "<style scoped>\n",
       "    .dataframe tbody tr th:only-of-type {\n",
       "        vertical-align: middle;\n",
       "    }\n",
       "\n",
       "    .dataframe tbody tr th {\n",
       "        vertical-align: top;\n",
       "    }\n",
       "\n",
       "    .dataframe thead th {\n",
       "        text-align: right;\n",
       "    }\n",
       "</style>\n",
       "<table border=\"1\" class=\"dataframe\">\n",
       "  <thead>\n",
       "    <tr style=\"text-align: right;\">\n",
       "      <th></th>\n",
       "      <th>client_id</th>\n",
       "      <th>app_date</th>\n",
       "      <th>education</th>\n",
       "      <th>sex</th>\n",
       "      <th>age</th>\n",
       "      <th>car</th>\n",
       "      <th>car_type</th>\n",
       "      <th>decline_app_cnt</th>\n",
       "      <th>good_work</th>\n",
       "      <th>score_bki</th>\n",
       "      <th>bki_request_cnt</th>\n",
       "      <th>region_rating</th>\n",
       "      <th>home_address</th>\n",
       "      <th>work_address</th>\n",
       "      <th>income</th>\n",
       "      <th>sna</th>\n",
       "      <th>first_time</th>\n",
       "      <th>foreign_passport</th>\n",
       "      <th>default</th>\n",
       "      <th>sample</th>\n",
       "    </tr>\n",
       "  </thead>\n",
       "  <tbody>\n",
       "    <tr>\n",
       "      <th>0</th>\n",
       "      <td>25905</td>\n",
       "      <td>01FEB2014</td>\n",
       "      <td>SCH</td>\n",
       "      <td>M</td>\n",
       "      <td>62</td>\n",
       "      <td>Y</td>\n",
       "      <td>Y</td>\n",
       "      <td>0</td>\n",
       "      <td>0</td>\n",
       "      <td>-2.008753</td>\n",
       "      <td>1</td>\n",
       "      <td>50</td>\n",
       "      <td>1</td>\n",
       "      <td>2</td>\n",
       "      <td>18000</td>\n",
       "      <td>4</td>\n",
       "      <td>1</td>\n",
       "      <td>N</td>\n",
       "      <td>0</td>\n",
       "      <td>1</td>\n",
       "    </tr>\n",
       "    <tr>\n",
       "      <th>1</th>\n",
       "      <td>63161</td>\n",
       "      <td>12MAR2014</td>\n",
       "      <td>SCH</td>\n",
       "      <td>F</td>\n",
       "      <td>59</td>\n",
       "      <td>N</td>\n",
       "      <td>N</td>\n",
       "      <td>0</td>\n",
       "      <td>0</td>\n",
       "      <td>-1.532276</td>\n",
       "      <td>3</td>\n",
       "      <td>50</td>\n",
       "      <td>2</td>\n",
       "      <td>3</td>\n",
       "      <td>19000</td>\n",
       "      <td>4</td>\n",
       "      <td>1</td>\n",
       "      <td>N</td>\n",
       "      <td>0</td>\n",
       "      <td>1</td>\n",
       "    </tr>\n",
       "    <tr>\n",
       "      <th>2</th>\n",
       "      <td>25887</td>\n",
       "      <td>01FEB2014</td>\n",
       "      <td>SCH</td>\n",
       "      <td>M</td>\n",
       "      <td>25</td>\n",
       "      <td>Y</td>\n",
       "      <td>N</td>\n",
       "      <td>2</td>\n",
       "      <td>0</td>\n",
       "      <td>-1.408142</td>\n",
       "      <td>1</td>\n",
       "      <td>80</td>\n",
       "      <td>1</td>\n",
       "      <td>2</td>\n",
       "      <td>30000</td>\n",
       "      <td>1</td>\n",
       "      <td>4</td>\n",
       "      <td>Y</td>\n",
       "      <td>0</td>\n",
       "      <td>1</td>\n",
       "    </tr>\n",
       "    <tr>\n",
       "      <th>3</th>\n",
       "      <td>16222</td>\n",
       "      <td>23JAN2014</td>\n",
       "      <td>SCH</td>\n",
       "      <td>F</td>\n",
       "      <td>53</td>\n",
       "      <td>N</td>\n",
       "      <td>N</td>\n",
       "      <td>0</td>\n",
       "      <td>0</td>\n",
       "      <td>-2.057471</td>\n",
       "      <td>2</td>\n",
       "      <td>50</td>\n",
       "      <td>2</td>\n",
       "      <td>3</td>\n",
       "      <td>10000</td>\n",
       "      <td>1</td>\n",
       "      <td>3</td>\n",
       "      <td>N</td>\n",
       "      <td>0</td>\n",
       "      <td>1</td>\n",
       "    </tr>\n",
       "    <tr>\n",
       "      <th>4</th>\n",
       "      <td>101655</td>\n",
       "      <td>18APR2014</td>\n",
       "      <td>GRD</td>\n",
       "      <td>M</td>\n",
       "      <td>48</td>\n",
       "      <td>N</td>\n",
       "      <td>N</td>\n",
       "      <td>0</td>\n",
       "      <td>1</td>\n",
       "      <td>-1.244723</td>\n",
       "      <td>1</td>\n",
       "      <td>60</td>\n",
       "      <td>2</td>\n",
       "      <td>3</td>\n",
       "      <td>30000</td>\n",
       "      <td>1</td>\n",
       "      <td>4</td>\n",
       "      <td>Y</td>\n",
       "      <td>0</td>\n",
       "      <td>1</td>\n",
       "    </tr>\n",
       "    <tr>\n",
       "      <th>...</th>\n",
       "      <td>...</td>\n",
       "      <td>...</td>\n",
       "      <td>...</td>\n",
       "      <td>...</td>\n",
       "      <td>...</td>\n",
       "      <td>...</td>\n",
       "      <td>...</td>\n",
       "      <td>...</td>\n",
       "      <td>...</td>\n",
       "      <td>...</td>\n",
       "      <td>...</td>\n",
       "      <td>...</td>\n",
       "      <td>...</td>\n",
       "      <td>...</td>\n",
       "      <td>...</td>\n",
       "      <td>...</td>\n",
       "      <td>...</td>\n",
       "      <td>...</td>\n",
       "      <td>...</td>\n",
       "      <td>...</td>\n",
       "    </tr>\n",
       "    <tr>\n",
       "      <th>110143</th>\n",
       "      <td>83775</td>\n",
       "      <td>31MAR2014</td>\n",
       "      <td>SCH</td>\n",
       "      <td>F</td>\n",
       "      <td>37</td>\n",
       "      <td>N</td>\n",
       "      <td>N</td>\n",
       "      <td>1</td>\n",
       "      <td>0</td>\n",
       "      <td>-1.744976</td>\n",
       "      <td>3</td>\n",
       "      <td>50</td>\n",
       "      <td>2</td>\n",
       "      <td>3</td>\n",
       "      <td>15000</td>\n",
       "      <td>4</td>\n",
       "      <td>1</td>\n",
       "      <td>N</td>\n",
       "      <td>-1</td>\n",
       "      <td>0</td>\n",
       "    </tr>\n",
       "    <tr>\n",
       "      <th>110144</th>\n",
       "      <td>106254</td>\n",
       "      <td>25APR2014</td>\n",
       "      <td>GRD</td>\n",
       "      <td>F</td>\n",
       "      <td>64</td>\n",
       "      <td>Y</td>\n",
       "      <td>Y</td>\n",
       "      <td>0</td>\n",
       "      <td>0</td>\n",
       "      <td>-2.293781</td>\n",
       "      <td>3</td>\n",
       "      <td>60</td>\n",
       "      <td>1</td>\n",
       "      <td>2</td>\n",
       "      <td>200000</td>\n",
       "      <td>1</td>\n",
       "      <td>4</td>\n",
       "      <td>N</td>\n",
       "      <td>-1</td>\n",
       "      <td>0</td>\n",
       "    </tr>\n",
       "    <tr>\n",
       "      <th>110145</th>\n",
       "      <td>81852</td>\n",
       "      <td>30MAR2014</td>\n",
       "      <td>GRD</td>\n",
       "      <td>M</td>\n",
       "      <td>31</td>\n",
       "      <td>N</td>\n",
       "      <td>N</td>\n",
       "      <td>2</td>\n",
       "      <td>0</td>\n",
       "      <td>-0.940752</td>\n",
       "      <td>1</td>\n",
       "      <td>50</td>\n",
       "      <td>1</td>\n",
       "      <td>2</td>\n",
       "      <td>60000</td>\n",
       "      <td>4</td>\n",
       "      <td>2</td>\n",
       "      <td>N</td>\n",
       "      <td>-1</td>\n",
       "      <td>0</td>\n",
       "    </tr>\n",
       "    <tr>\n",
       "      <th>110146</th>\n",
       "      <td>1971</td>\n",
       "      <td>07JAN2014</td>\n",
       "      <td>UGR</td>\n",
       "      <td>F</td>\n",
       "      <td>27</td>\n",
       "      <td>N</td>\n",
       "      <td>N</td>\n",
       "      <td>1</td>\n",
       "      <td>0</td>\n",
       "      <td>-1.242392</td>\n",
       "      <td>2</td>\n",
       "      <td>80</td>\n",
       "      <td>2</td>\n",
       "      <td>3</td>\n",
       "      <td>30000</td>\n",
       "      <td>1</td>\n",
       "      <td>1</td>\n",
       "      <td>N</td>\n",
       "      <td>-1</td>\n",
       "      <td>0</td>\n",
       "    </tr>\n",
       "    <tr>\n",
       "      <th>110147</th>\n",
       "      <td>69044</td>\n",
       "      <td>17MAR2014</td>\n",
       "      <td>SCH</td>\n",
       "      <td>M</td>\n",
       "      <td>38</td>\n",
       "      <td>N</td>\n",
       "      <td>N</td>\n",
       "      <td>0</td>\n",
       "      <td>0</td>\n",
       "      <td>-1.507549</td>\n",
       "      <td>2</td>\n",
       "      <td>50</td>\n",
       "      <td>1</td>\n",
       "      <td>2</td>\n",
       "      <td>15000</td>\n",
       "      <td>4</td>\n",
       "      <td>2</td>\n",
       "      <td>N</td>\n",
       "      <td>-1</td>\n",
       "      <td>0</td>\n",
       "    </tr>\n",
       "  </tbody>\n",
       "</table>\n",
       "<p>110148 rows × 20 columns</p>\n",
       "</div>"
      ],
      "text/plain": [
       "        client_id   app_date education sex  age car car_type  decline_app_cnt  \\\n",
       "0           25905  01FEB2014       SCH   M   62   Y        Y                0   \n",
       "1           63161  12MAR2014       SCH   F   59   N        N                0   \n",
       "2           25887  01FEB2014       SCH   M   25   Y        N                2   \n",
       "3           16222  23JAN2014       SCH   F   53   N        N                0   \n",
       "4          101655  18APR2014       GRD   M   48   N        N                0   \n",
       "...           ...        ...       ...  ..  ...  ..      ...              ...   \n",
       "110143      83775  31MAR2014       SCH   F   37   N        N                1   \n",
       "110144     106254  25APR2014       GRD   F   64   Y        Y                0   \n",
       "110145      81852  30MAR2014       GRD   M   31   N        N                2   \n",
       "110146       1971  07JAN2014       UGR   F   27   N        N                1   \n",
       "110147      69044  17MAR2014       SCH   M   38   N        N                0   \n",
       "\n",
       "        good_work  score_bki  bki_request_cnt  region_rating  home_address  \\\n",
       "0               0  -2.008753                1             50             1   \n",
       "1               0  -1.532276                3             50             2   \n",
       "2               0  -1.408142                1             80             1   \n",
       "3               0  -2.057471                2             50             2   \n",
       "4               1  -1.244723                1             60             2   \n",
       "...           ...        ...              ...            ...           ...   \n",
       "110143          0  -1.744976                3             50             2   \n",
       "110144          0  -2.293781                3             60             1   \n",
       "110145          0  -0.940752                1             50             1   \n",
       "110146          0  -1.242392                2             80             2   \n",
       "110147          0  -1.507549                2             50             1   \n",
       "\n",
       "        work_address  income  sna  first_time foreign_passport  default  \\\n",
       "0                  2   18000    4           1                N        0   \n",
       "1                  3   19000    4           1                N        0   \n",
       "2                  2   30000    1           4                Y        0   \n",
       "3                  3   10000    1           3                N        0   \n",
       "4                  3   30000    1           4                Y        0   \n",
       "...              ...     ...  ...         ...              ...      ...   \n",
       "110143             3   15000    4           1                N       -1   \n",
       "110144             2  200000    1           4                N       -1   \n",
       "110145             2   60000    4           2                N       -1   \n",
       "110146             3   30000    1           1                N       -1   \n",
       "110147             2   15000    4           2                N       -1   \n",
       "\n",
       "        sample  \n",
       "0            1  \n",
       "1            1  \n",
       "2            1  \n",
       "3            1  \n",
       "4            1  \n",
       "...        ...  \n",
       "110143       0  \n",
       "110144       0  \n",
       "110145       0  \n",
       "110146       0  \n",
       "110147       0  \n",
       "\n",
       "[110148 rows x 20 columns]"
      ]
     },
     "metadata": {},
     "output_type": "display_data"
    }
   ],
   "source": [
    "display(data)"
   ]
  },
  {
   "cell_type": "code",
   "execution_count": 16,
   "metadata": {
    "execution": {
     "iopub.execute_input": "2021-03-03T22:14:05.241253Z",
     "iopub.status.busy": "2021-03-03T22:14:05.240446Z",
     "iopub.status.idle": "2021-03-03T22:14:05.245477Z",
     "shell.execute_reply": "2021-03-03T22:14:05.246014Z"
    },
    "papermill": {
     "duration": 0.086367,
     "end_time": "2021-03-03T22:14:05.246194",
     "exception": false,
     "start_time": "2021-03-03T22:14:05.159827",
     "status": "completed"
    },
    "tags": []
   },
   "outputs": [],
   "source": [
    "num_cols = ['age','decline_app_cnt','score_bki','income','bki_request_cnt','region_rating'] # Числовые переменные\n",
    "cat_cols = ['education','work_address','home_address','sna','first_time'] # категориальные переменные\n",
    "bin_cols = ['sex','car','car_type','good_work','foreign_passport'] # бинарные переменные"
   ]
  },
  {
   "cell_type": "markdown",
   "metadata": {
    "papermill": {
     "duration": 0.078496,
     "end_time": "2021-03-03T22:14:05.404592",
     "exception": false,
     "start_time": "2021-03-03T22:14:05.326096",
     "status": "completed"
    },
    "tags": []
   },
   "source": [
    "# *Numerical*"
   ]
  },
  {
   "cell_type": "code",
   "execution_count": 17,
   "metadata": {
    "execution": {
     "iopub.execute_input": "2021-03-03T22:14:05.612556Z",
     "iopub.status.busy": "2021-03-03T22:14:05.585752Z",
     "iopub.status.idle": "2021-03-03T22:14:07.474244Z",
     "shell.execute_reply": "2021-03-03T22:14:07.473614Z"
    },
    "papermill": {
     "duration": 1.990467,
     "end_time": "2021-03-03T22:14:07.474409",
     "exception": false,
     "start_time": "2021-03-03T22:14:05.483942",
     "status": "completed"
    },
    "tags": []
   },
   "outputs": [
    {
     "name": "stderr",
     "output_type": "stream",
     "text": [
      "/opt/conda/lib/python3.7/site-packages/seaborn/distributions.py:2557: FutureWarning: `distplot` is a deprecated function and will be removed in a future version. Please adapt your code to use either `displot` (a figure-level function with similar flexibility) or `histplot` (an axes-level function for histograms).\n",
      "  warnings.warn(msg, FutureWarning)\n"
     ]
    },
    {
     "data": {
      "image/png": "[encoded data removed]",
      "text/plain": [
       "<Figure size 1800x1080 with 6 Axes>"
      ]
     },
     "metadata": {
      "needs_background": "light"
     },
     "output_type": "display_data"
    }
   ],
   "source": [
    "# Смотрим на распределение числовых данных\n",
    "fig, axes = plt.subplots(2, 3, figsize=(25,15))\n",
    "\n",
    "for i,col in enumerate(num_cols):\n",
    "    sns.distplot(data[col], kde=False, ax=axes.flat[i])"
   ]
  },
  {
   "cell_type": "markdown",
   "metadata": {
    "papermill": {
     "duration": 0.082028,
     "end_time": "2021-03-03T22:14:07.639163",
     "exception": false,
     "start_time": "2021-03-03T22:14:07.557135",
     "status": "completed"
    },
    "tags": []
   },
   "source": [
    "### Видим, что распределение совсем не похоже на нормальное...Попробуем поработать с логарифмическими величинами наших переменных."
   ]
  },
  {
   "cell_type": "markdown",
   "metadata": {
    "papermill": {
     "duration": 0.081119,
     "end_time": "2021-03-03T22:14:07.801498",
     "exception": false,
     "start_time": "2021-03-03T22:14:07.720379",
     "status": "completed"
    },
    "tags": []
   },
   "source": [
    "Логарифмируем только те столбцы, распределение которых совсем не похоже на нормальное:"
   ]
  },
  {
   "cell_type": "code",
   "execution_count": 18,
   "metadata": {
    "execution": {
     "iopub.execute_input": "2021-03-03T22:14:07.992926Z",
     "iopub.status.busy": "2021-03-03T22:14:07.990185Z",
     "iopub.status.idle": "2021-03-03T22:14:08.717037Z",
     "shell.execute_reply": "2021-03-03T22:14:08.716481Z"
    },
    "papermill": {
     "duration": 0.833095,
     "end_time": "2021-03-03T22:14:08.717180",
     "exception": false,
     "start_time": "2021-03-03T22:14:07.884085",
     "status": "completed"
    },
    "tags": []
   },
   "outputs": [
    {
     "name": "stderr",
     "output_type": "stream",
     "text": [
      "/opt/conda/lib/python3.7/site-packages/seaborn/distributions.py:2557: FutureWarning: `distplot` is a deprecated function and will be removed in a future version. Please adapt your code to use either `displot` (a figure-level function with similar flexibility) or `histplot` (an axes-level function for histograms).\n",
      "  warnings.warn(msg, FutureWarning)\n",
      "/opt/conda/lib/python3.7/site-packages/seaborn/distributions.py:2557: FutureWarning: `distplot` is a deprecated function and will be removed in a future version. Please adapt your code to use either `displot` (a figure-level function with similar flexibility) or `histplot` (an axes-level function for histograms).\n",
      "  warnings.warn(msg, FutureWarning)\n",
      "/opt/conda/lib/python3.7/site-packages/seaborn/distributions.py:2557: FutureWarning: `distplot` is a deprecated function and will be removed in a future version. Please adapt your code to use either `displot` (a figure-level function with similar flexibility) or `histplot` (an axes-level function for histograms).\n",
      "  warnings.warn(msg, FutureWarning)\n"
     ]
    },
    {
     "data": {
      "image/png": "[encoded data removed]",
      "text/plain": [
       "<Figure size 720x504 with 3 Axes>"
      ]
     },
     "metadata": {
      "needs_background": "light"
     },
     "output_type": "display_data"
    }
   ],
   "source": [
    "fig, axes = plt.subplots(1, 3, figsize=(10,7))\n",
    "for i,col in enumerate(['decline_app_cnt', 'bki_request_cnt', 'income']):\n",
    "    data[col] = np.log(data[col] + 1)\n",
    "    sns.distplot(data[col][data[col] > 0].dropna(), ax=axes.flat[i],kde = False, rug=False,color=\"g\")\n",
    "    #sns.distplot(data[col], kde=False, ax=axes.flat[i],color='g')\n",
    "    "
   ]
  },
  {
   "cell_type": "markdown",
   "metadata": {
    "papermill": {
     "duration": 0.085184,
     "end_time": "2021-03-03T22:14:08.885107",
     "exception": false,
     "start_time": "2021-03-03T22:14:08.799923",
     "status": "completed"
    },
    "tags": []
   },
   "source": [
    "## Столбцы теперь выглядят лучше, но выбросы все равно есть."
   ]
  },
  {
   "cell_type": "markdown",
   "metadata": {
    "papermill": {
     "duration": 0.081504,
     "end_time": "2021-03-03T22:14:09.049506",
     "exception": false,
     "start_time": "2021-03-03T22:14:08.968002",
     "status": "completed"
    },
    "tags": []
   },
   "source": [
    "### Теперь построим боксплоты для наших числовых переменных:"
   ]
  },
  {
   "cell_type": "code",
   "execution_count": 19,
   "metadata": {
    "execution": {
     "iopub.execute_input": "2021-03-03T22:14:09.237629Z",
     "iopub.status.busy": "2021-03-03T22:14:09.236936Z",
     "iopub.status.idle": "2021-03-03T22:14:10.358284Z",
     "shell.execute_reply": "2021-03-03T22:14:10.357581Z"
    },
    "papermill": {
     "duration": 1.226843,
     "end_time": "2021-03-03T22:14:10.358440",
     "exception": false,
     "start_time": "2021-03-03T22:14:09.131597",
     "status": "completed"
    },
    "tags": []
   },
   "outputs": [
    {
     "data": {
      "image/png": "[encoded data removed]",
      "text/plain": [
       "<Figure size 1008x288 with 1 Axes>"
      ]
     },
     "metadata": {
      "needs_background": "light"
     },
     "output_type": "display_data"
    },
    {
     "data": {
      "image/png": "[encoded data removed]",
      "text/plain": [
       "<Figure size 1008x288 with 1 Axes>"
      ]
     },
     "metadata": {
      "needs_background": "light"
     },
     "output_type": "display_data"
    },
    {
     "data": {
      "image/png": "[encoded data removed]",
      "text/plain": [
       "<Figure size 1008x288 with 1 Axes>"
      ]
     },
     "metadata": {
      "needs_background": "light"
     },
     "output_type": "display_data"
    },
    {
     "data": {
      "image/png": "[encoded data removed]",
      "text/plain": [
       "<Figure size 1008x288 with 1 Axes>"
      ]
     },
     "metadata": {
      "needs_background": "light"
     },
     "output_type": "display_data"
    },
    {
     "data": {
      "image/png": "[encoded data removed]",
      "text/plain": [
       "<Figure size 1008x288 with 1 Axes>"
      ]
     },
     "metadata": {
      "needs_background": "light"
     },
     "output_type": "display_data"
    },
    {
     "data": {
      "image/png": "[encoded data removed]",
      "text/plain": [
       "<Figure size 1008x288 with 1 Axes>"
      ]
     },
     "metadata": {
      "needs_background": "light"
     },
     "output_type": "display_data"
    }
   ],
   "source": [
    "def boxplot(col):\n",
    "    fig, axes = plt.subplots(figsize = (14, 4))\n",
    "    sns.boxplot(x='default', y=col, data=data[data['sample']==1],ax=axes)\n",
    "    axes.set_title('Boxplot for ' + col)\n",
    "    plt.show()\n",
    "for col in num_cols:\n",
    "    boxplot(col)"
   ]
  },
  {
   "cell_type": "markdown",
   "metadata": {
    "papermill": {
     "duration": 0.086117,
     "end_time": "2021-03-03T22:14:10.531436",
     "exception": false,
     "start_time": "2021-03-03T22:14:10.445319",
     "status": "completed"
    },
    "tags": []
   },
   "source": [
    "1) Недефолтные клиенты, как правило, старше.\n",
    "\n",
    "2) Скоринговый балл выше у дефолтных клиентов\n",
    "\n",
    "3) В среднем, доход недефолтных клиентов незначительно выше, чем у дефолтных.\n",
    "\n",
    "4) Рейттинг региона значительно влияет на положительный ответ к запросу о выдаче кредита.\n",
    "\n",
    "5) Количество запросов в БКИ в среднем больше у недефотных клиентов."
   ]
  },
  {
   "cell_type": "markdown",
   "metadata": {
    "papermill": {
     "duration": 0.085571,
     "end_time": "2021-03-03T22:14:10.703869",
     "exception": false,
     "start_time": "2021-03-03T22:14:10.618298",
     "status": "completed"
    },
    "tags": []
   },
   "source": [
    "### С выбросами разберемся позже."
   ]
  },
  {
   "cell_type": "markdown",
   "metadata": {
    "papermill": {
     "duration": 0.087969,
     "end_time": "2021-03-03T22:14:10.878658",
     "exception": false,
     "start_time": "2021-03-03T22:14:10.790689",
     "status": "completed"
    },
    "tags": []
   },
   "source": [
    "# *Categorical*"
   ]
  },
  {
   "cell_type": "code",
   "execution_count": 20,
   "metadata": {
    "execution": {
     "iopub.execute_input": "2021-03-03T22:14:11.089297Z",
     "iopub.status.busy": "2021-03-03T22:14:11.085910Z",
     "iopub.status.idle": "2021-03-03T22:14:11.243242Z",
     "shell.execute_reply": "2021-03-03T22:14:11.243707Z"
    },
    "papermill": {
     "duration": 0.276933,
     "end_time": "2021-03-03T22:14:11.243894",
     "exception": false,
     "start_time": "2021-03-03T22:14:10.966961",
     "status": "completed"
    },
    "tags": []
   },
   "outputs": [
    {
     "data": {
      "text/plain": [
       "<AxesSubplot:>"
      ]
     },
     "execution_count": 20,
     "metadata": {},
     "output_type": "execute_result"
    },
    {
     "data": {
      "image/png": "[encoded data removed]",
      "text/plain": [
       "<Figure size 576x432 with 1 Axes>"
      ]
     },
     "metadata": {
      "needs_background": "light"
     },
     "output_type": "display_data"
    }
   ],
   "source": [
    "data.education.value_counts().plot(kind=\"bar\",figsize=(8,6),color=\"r\")"
   ]
  },
  {
   "cell_type": "code",
   "execution_count": 21,
   "metadata": {
    "execution": {
     "iopub.execute_input": "2021-03-03T22:14:11.436347Z",
     "iopub.status.busy": "2021-03-03T22:14:11.435673Z",
     "iopub.status.idle": "2021-03-03T22:14:11.445117Z",
     "shell.execute_reply": "2021-03-03T22:14:11.444491Z"
    },
    "papermill": {
     "duration": 0.11339,
     "end_time": "2021-03-03T22:14:11.445259",
     "exception": false,
     "start_time": "2021-03-03T22:14:11.331869",
     "status": "completed"
    },
    "tags": []
   },
   "outputs": [
    {
     "data": {
      "text/plain": [
       "False    109670\n",
       "True        478\n",
       "Name: education, dtype: int64"
      ]
     },
     "execution_count": 21,
     "metadata": {},
     "output_type": "execute_result"
    }
   ],
   "source": [
    "data.education.isna().value_counts()"
   ]
  },
  {
   "cell_type": "markdown",
   "metadata": {
    "papermill": {
     "duration": 0.087241,
     "end_time": "2021-03-03T22:14:11.620228",
     "exception": false,
     "start_time": "2021-03-03T22:14:11.532987",
     "status": "completed"
    },
    "tags": []
   },
   "source": [
    "Пропущенные значения заменим на самое встречаемое \"SCH\"."
   ]
  },
  {
   "cell_type": "code",
   "execution_count": 22,
   "metadata": {
    "execution": {
     "iopub.execute_input": "2021-03-03T22:14:11.811579Z",
     "iopub.status.busy": "2021-03-03T22:14:11.810910Z",
     "iopub.status.idle": "2021-03-03T22:14:11.816861Z",
     "shell.execute_reply": "2021-03-03T22:14:11.816185Z"
    },
    "papermill": {
     "duration": 0.109388,
     "end_time": "2021-03-03T22:14:11.817005",
     "exception": false,
     "start_time": "2021-03-03T22:14:11.707617",
     "status": "completed"
    },
    "tags": []
   },
   "outputs": [],
   "source": [
    "data.education = data.education.fillna(\"SCH\")"
   ]
  },
  {
   "cell_type": "code",
   "execution_count": 23,
   "metadata": {
    "execution": {
     "iopub.execute_input": "2021-03-03T22:14:12.014897Z",
     "iopub.status.busy": "2021-03-03T22:14:12.014231Z",
     "iopub.status.idle": "2021-03-03T22:14:12.020929Z",
     "shell.execute_reply": "2021-03-03T22:14:12.021400Z"
    },
    "papermill": {
     "duration": 0.113611,
     "end_time": "2021-03-03T22:14:12.021582",
     "exception": false,
     "start_time": "2021-03-03T22:14:11.907971",
     "status": "completed"
    },
    "tags": []
   },
   "outputs": [
    {
     "data": {
      "text/plain": [
       "False    110148\n",
       "Name: education, dtype: int64"
      ]
     },
     "execution_count": 23,
     "metadata": {},
     "output_type": "execute_result"
    }
   ],
   "source": [
    "data.education.isna().value_counts()"
   ]
  },
  {
   "cell_type": "markdown",
   "metadata": {
    "papermill": {
     "duration": 0.088807,
     "end_time": "2021-03-03T22:14:12.200277",
     "exception": false,
     "start_time": "2021-03-03T22:14:12.111470",
     "status": "completed"
    },
    "tags": []
   },
   "source": [
    "Смотрим зависимость дохода от уровня образования"
   ]
  },
  {
   "cell_type": "code",
   "execution_count": 24,
   "metadata": {
    "execution": {
     "iopub.execute_input": "2021-03-03T22:14:12.381027Z",
     "iopub.status.busy": "2021-03-03T22:14:12.380384Z",
     "iopub.status.idle": "2021-03-03T22:14:12.679959Z",
     "shell.execute_reply": "2021-03-03T22:14:12.679269Z"
    },
    "papermill": {
     "duration": 0.391474,
     "end_time": "2021-03-03T22:14:12.680109",
     "exception": false,
     "start_time": "2021-03-03T22:14:12.288635",
     "status": "completed"
    },
    "tags": []
   },
   "outputs": [
    {
     "data": {
      "text/plain": [
       "<AxesSubplot:xlabel='education', ylabel='income'>"
      ]
     },
     "execution_count": 24,
     "metadata": {},
     "output_type": "execute_result"
    },
    {
     "data": {
      "image/png": "[encoded data removed]",
      "text/plain": [
       "<Figure size 1080x576 with 1 Axes>"
      ]
     },
     "metadata": {
      "needs_background": "light"
     },
     "output_type": "display_data"
    }
   ],
   "source": [
    "plt.figure(figsize=(15, 8))\n",
    "sns.boxplot(x=\"education\", y=\"income\", data=data, showfliers=False)"
   ]
  },
  {
   "cell_type": "markdown",
   "metadata": {
    "papermill": {
     "duration": 0.089173,
     "end_time": "2021-03-03T22:14:12.859237",
     "exception": false,
     "start_time": "2021-03-03T22:14:12.770064",
     "status": "completed"
    },
    "tags": []
   },
   "source": [
    "Чем выше уровень образования, тем больше доход."
   ]
  },
  {
   "cell_type": "code",
   "execution_count": 25,
   "metadata": {
    "execution": {
     "iopub.execute_input": "2021-03-03T22:14:13.075980Z",
     "iopub.status.busy": "2021-03-03T22:14:13.074277Z",
     "iopub.status.idle": "2021-03-03T22:14:13.354648Z",
     "shell.execute_reply": "2021-03-03T22:14:13.353954Z"
    },
    "papermill": {
     "duration": 0.401228,
     "end_time": "2021-03-03T22:14:13.354793",
     "exception": false,
     "start_time": "2021-03-03T22:14:12.953565",
     "status": "completed"
    },
    "tags": []
   },
   "outputs": [
    {
     "data": {
      "text/plain": [
       "<AxesSubplot:xlabel='region_rating', ylabel='score_bki'>"
      ]
     },
     "execution_count": 25,
     "metadata": {},
     "output_type": "execute_result"
    },
    {
     "data": {
      "image/png": "[encoded data removed]",
      "text/plain": [
       "<Figure size 1080x576 with 1 Axes>"
      ]
     },
     "metadata": {
      "needs_background": "light"
     },
     "output_type": "display_data"
    }
   ],
   "source": [
    "plt.figure(figsize=(15, 8))\n",
    "sns.boxplot(x=\"region_rating\", y=\"score_bki\", data=data, showfliers=False)"
   ]
  },
  {
   "cell_type": "markdown",
   "metadata": {
    "papermill": {
     "duration": 0.090483,
     "end_time": "2021-03-03T22:14:13.536590",
     "exception": false,
     "start_time": "2021-03-03T22:14:13.446107",
     "status": "completed"
    },
    "tags": []
   },
   "source": [
    "Рейтинг региона пусть и незначительно, но влияет на балл по БКИ.\n"
   ]
  },
  {
   "cell_type": "code",
   "execution_count": 26,
   "metadata": {
    "execution": {
     "iopub.execute_input": "2021-03-03T22:14:13.750364Z",
     "iopub.status.busy": "2021-03-03T22:14:13.743698Z",
     "iopub.status.idle": "2021-03-03T22:14:14.193048Z",
     "shell.execute_reply": "2021-03-03T22:14:14.192500Z"
    },
    "papermill": {
     "duration": 0.564932,
     "end_time": "2021-03-03T22:14:14.193204",
     "exception": false,
     "start_time": "2021-03-03T22:14:13.628272",
     "status": "completed"
    },
    "tags": []
   },
   "outputs": [
    {
     "data": {
      "text/plain": [
       "<AxesSubplot:xlabel='education', ylabel='age'>"
      ]
     },
     "execution_count": 26,
     "metadata": {},
     "output_type": "execute_result"
    },
    {
     "data": {
      "image/png": "[encoded data removed]",
      "text/plain": [
       "<Figure size 1080x576 with 1 Axes>"
      ]
     },
     "metadata": {
      "needs_background": "light"
     },
     "output_type": "display_data"
    }
   ],
   "source": [
    "plt.figure(figsize=(15, 8))\n",
    "sns.boxplot(x=\"education\", y=\"age\", data=data, showfliers=False)"
   ]
  },
  {
   "cell_type": "markdown",
   "metadata": {
    "papermill": {
     "duration": 0.091721,
     "end_time": "2021-03-03T22:14:14.380078",
     "exception": false,
     "start_time": "2021-03-03T22:14:14.288357",
     "status": "completed"
    },
    "tags": []
   },
   "source": [
    "# *Binary*"
   ]
  },
  {
   "cell_type": "code",
   "execution_count": 27,
   "metadata": {
    "execution": {
     "iopub.execute_input": "2021-03-03T22:14:14.570243Z",
     "iopub.status.busy": "2021-03-03T22:14:14.569562Z",
     "iopub.status.idle": "2021-03-03T22:14:14.743559Z",
     "shell.execute_reply": "2021-03-03T22:14:14.742977Z"
    },
    "papermill": {
     "duration": 0.272119,
     "end_time": "2021-03-03T22:14:14.743706",
     "exception": false,
     "start_time": "2021-03-03T22:14:14.471587",
     "status": "completed"
    },
    "tags": []
   },
   "outputs": [
    {
     "data": {
      "text/plain": [
       "<AxesSubplot:xlabel='good_work', ylabel='income'>"
      ]
     },
     "execution_count": 27,
     "metadata": {},
     "output_type": "execute_result"
    },
    {
     "data": {
      "image/png": "[encoded data removed]",
      "text/plain": [
       "<Figure size 1080x576 with 1 Axes>"
      ]
     },
     "metadata": {
      "needs_background": "light"
     },
     "output_type": "display_data"
    }
   ],
   "source": [
    "plt.figure(figsize=(15, 8))\n",
    "sns.boxplot(x=\"good_work\", y=\"income\", data=data, showfliers=False)"
   ]
  },
  {
   "cell_type": "code",
   "execution_count": 28,
   "metadata": {
    "execution": {
     "iopub.execute_input": "2021-03-03T22:14:14.964592Z",
     "iopub.status.busy": "2021-03-03T22:14:14.958273Z",
     "iopub.status.idle": "2021-03-03T22:14:15.185408Z",
     "shell.execute_reply": "2021-03-03T22:14:15.185957Z"
    },
    "papermill": {
     "duration": 0.347052,
     "end_time": "2021-03-03T22:14:15.186146",
     "exception": false,
     "start_time": "2021-03-03T22:14:14.839094",
     "status": "completed"
    },
    "tags": []
   },
   "outputs": [
    {
     "data": {
      "text/plain": [
       "<AxesSubplot:xlabel='foreign_passport', ylabel='score_bki'>"
      ]
     },
     "execution_count": 28,
     "metadata": {},
     "output_type": "execute_result"
    },
    {
     "data": {
      "image/png": "[encoded data removed]",
      "text/plain": [
       "<Figure size 1080x576 with 1 Axes>"
      ]
     },
     "metadata": {
      "needs_background": "light"
     },
     "output_type": "display_data"
    }
   ],
   "source": [
    "plt.figure(figsize=(15, 8))\n",
    "sns.boxplot(x=\"foreign_passport\", y=\"score_bki\", data=data, showfliers=False)"
   ]
  },
  {
   "cell_type": "markdown",
   "metadata": {
    "papermill": {
     "duration": 0.094184,
     "end_time": "2021-03-03T22:14:15.374680",
     "exception": false,
     "start_time": "2021-03-03T22:14:15.280496",
     "status": "completed"
    },
    "tags": []
   },
   "source": [
    " У владельцев иностранного паспорта score_bki немного выше."
   ]
  },
  {
   "cell_type": "code",
   "execution_count": 29,
   "metadata": {
    "execution": {
     "iopub.execute_input": "2021-03-03T22:14:15.569655Z",
     "iopub.status.busy": "2021-03-03T22:14:15.569030Z",
     "iopub.status.idle": "2021-03-03T22:14:17.197733Z",
     "shell.execute_reply": "2021-03-03T22:14:17.198274Z"
    },
    "papermill": {
     "duration": 1.729338,
     "end_time": "2021-03-03T22:14:17.198451",
     "exception": false,
     "start_time": "2021-03-03T22:14:15.469113",
     "status": "completed"
    },
    "tags": []
   },
   "outputs": [
    {
     "data": {
      "text/plain": [
       "<AxesSubplot:>"
      ]
     },
     "execution_count": 29,
     "metadata": {},
     "output_type": "execute_result"
    },
    {
     "data": {
      "image/png": "[encoded data removed]",
      "text/plain": [
       "<Figure size 1080x720 with 2 Axes>"
      ]
     },
     "metadata": {
      "needs_background": "light"
     },
     "output_type": "display_data"
    }
   ],
   "source": [
    "plt.rcParams['figure.figsize'] = (15,10)\n",
    "sns.heatmap(data.corr(), vmin=0, vmax=1, annot = True)"
   ]
  },
  {
   "cell_type": "markdown",
   "metadata": {
    "papermill": {
     "duration": 0.098016,
     "end_time": "2021-03-03T22:14:17.396518",
     "exception": false,
     "start_time": "2021-03-03T22:14:17.298502",
     "status": "completed"
    },
    "tags": []
   },
   "source": [
    "### Сильно коррелирующих переменных практически нет"
   ]
  },
  {
   "cell_type": "markdown",
   "metadata": {
    "papermill": {
     "duration": 0.097868,
     "end_time": "2021-03-03T22:14:17.592321",
     "exception": false,
     "start_time": "2021-03-03T22:14:17.494453",
     "status": "completed"
    },
    "tags": []
   },
   "source": [
    "# *EDA and feature engineering*"
   ]
  },
  {
   "cell_type": "markdown",
   "metadata": {
    "papermill": {
     "duration": 0.099376,
     "end_time": "2021-03-03T22:14:17.789711",
     "exception": false,
     "start_time": "2021-03-03T22:14:17.690335",
     "status": "completed"
    },
    "tags": []
   },
   "source": [
    "Начнем, пожалуй, со столбца с датами."
   ]
  },
  {
   "cell_type": "code",
   "execution_count": 30,
   "metadata": {
    "execution": {
     "iopub.execute_input": "2021-03-03T22:14:17.994993Z",
     "iopub.status.busy": "2021-03-03T22:14:17.994004Z",
     "iopub.status.idle": "2021-03-03T22:14:18.042141Z",
     "shell.execute_reply": "2021-03-03T22:14:18.042616Z"
    },
    "papermill": {
     "duration": 0.153252,
     "end_time": "2021-03-03T22:14:18.042816",
     "exception": false,
     "start_time": "2021-03-03T22:14:17.889564",
     "status": "completed"
    },
    "tags": []
   },
   "outputs": [],
   "source": [
    "data['app_date'] = pd.to_datetime(data.app_date)"
   ]
  },
  {
   "cell_type": "code",
   "execution_count": 31,
   "metadata": {
    "execution": {
     "iopub.execute_input": "2021-03-03T22:14:18.254663Z",
     "iopub.status.busy": "2021-03-03T22:14:18.245724Z",
     "iopub.status.idle": "2021-03-03T22:14:18.259560Z",
     "shell.execute_reply": "2021-03-03T22:14:18.258923Z"
    },
    "papermill": {
     "duration": 0.116974,
     "end_time": "2021-03-03T22:14:18.259702",
     "exception": false,
     "start_time": "2021-03-03T22:14:18.142728",
     "status": "completed"
    },
    "tags": []
   },
   "outputs": [
    {
     "data": {
      "text/plain": [
       "59631   2014-03-28\n",
       "93420   2014-03-23\n",
       "48602   2014-04-03\n",
       "Name: app_date, dtype: datetime64[ns]"
      ]
     },
     "execution_count": 31,
     "metadata": {},
     "output_type": "execute_result"
    }
   ],
   "source": [
    "data['app_date'].sample(3)"
   ]
  },
  {
   "cell_type": "markdown",
   "metadata": {
    "papermill": {
     "duration": 0.098616,
     "end_time": "2021-03-03T22:14:18.458896",
     "exception": false,
     "start_time": "2021-03-03T22:14:18.360280",
     "status": "completed"
    },
    "tags": []
   },
   "source": [
    "Теперь можем посчитать количество дней, прошедших с самой первой даты в нашем датасете."
   ]
  },
  {
   "cell_type": "code",
   "execution_count": 32,
   "metadata": {
    "execution": {
     "iopub.execute_input": "2021-03-03T22:14:18.670060Z",
     "iopub.status.busy": "2021-03-03T22:14:18.664706Z",
     "iopub.status.idle": "2021-03-03T22:15:04.469326Z",
     "shell.execute_reply": "2021-03-03T22:15:04.469795Z"
    },
    "papermill": {
     "duration": 45.91169,
     "end_time": "2021-03-03T22:15:04.469998",
     "exception": false,
     "start_time": "2021-03-03T22:14:18.558308",
     "status": "completed"
    },
    "tags": []
   },
   "outputs": [],
   "source": [
    "data['app_date'] = data['app_date'].apply(lambda x: (x - data['app_date'].min()).days) "
   ]
  },
  {
   "cell_type": "code",
   "execution_count": 33,
   "metadata": {
    "execution": {
     "iopub.execute_input": "2021-03-03T22:15:04.680551Z",
     "iopub.status.busy": "2021-03-03T22:15:04.679650Z",
     "iopub.status.idle": "2021-03-03T22:15:04.687460Z",
     "shell.execute_reply": "2021-03-03T22:15:04.686786Z"
    },
    "papermill": {
     "duration": 0.115687,
     "end_time": "2021-03-03T22:15:04.687606",
     "exception": false,
     "start_time": "2021-03-03T22:15:04.571919",
     "status": "completed"
    },
    "tags": []
   },
   "outputs": [],
   "source": [
    "# Запомним наш датасет на всякий случай\n",
    "df = data.copy()"
   ]
  },
  {
   "cell_type": "code",
   "execution_count": 34,
   "metadata": {
    "execution": {
     "iopub.execute_input": "2021-03-03T22:15:04.894752Z",
     "iopub.status.busy": "2021-03-03T22:15:04.894095Z",
     "iopub.status.idle": "2021-03-03T22:15:04.902710Z",
     "shell.execute_reply": "2021-03-03T22:15:04.902086Z"
    },
    "papermill": {
     "duration": 0.115742,
     "end_time": "2021-03-03T22:15:04.902883",
     "exception": false,
     "start_time": "2021-03-03T22:15:04.787141",
     "status": "completed"
    },
    "tags": []
   },
   "outputs": [],
   "source": [
    "# средний доход по возрасту\n",
    "mean_income = df.groupby('age')['income'].mean().to_dict()\n",
    "df['mean_income_age'] = df['age'].map(mean_income)"
   ]
  },
  {
   "cell_type": "code",
   "execution_count": 35,
   "metadata": {
    "execution": {
     "iopub.execute_input": "2021-03-03T22:15:05.109572Z",
     "iopub.status.busy": "2021-03-03T22:15:05.108832Z",
     "iopub.status.idle": "2021-03-03T22:15:05.118050Z",
     "shell.execute_reply": "2021-03-03T22:15:05.117362Z"
    },
    "papermill": {
     "duration": 0.115242,
     "end_time": "2021-03-03T22:15:05.118193",
     "exception": false,
     "start_time": "2021-03-03T22:15:05.002951",
     "status": "completed"
    },
    "tags": []
   },
   "outputs": [],
   "source": [
    "# Теперь найдем максимальный доход по возрасту\n",
    "max_income = df.groupby('age')['income'].max().to_dict()\n",
    "df['max_income_age'] = df['age'].map(max_income)"
   ]
  },
  {
   "cell_type": "code",
   "execution_count": 36,
   "metadata": {
    "execution": {
     "iopub.execute_input": "2021-03-03T22:15:05.323351Z",
     "iopub.status.busy": "2021-03-03T22:15:05.322604Z",
     "iopub.status.idle": "2021-03-03T22:15:05.328501Z",
     "shell.execute_reply": "2021-03-03T22:15:05.328970Z"
    },
    "papermill": {
     "duration": 0.111522,
     "end_time": "2021-03-03T22:15:05.329148",
     "exception": false,
     "start_time": "2021-03-03T22:15:05.217626",
     "status": "completed"
    },
    "tags": []
   },
   "outputs": [],
   "source": [
    "# Нормализуем\n",
    "df[\"normalized_income\"] = abs((df.income - df.mean_income_age)/df.max_income_age)"
   ]
  },
  {
   "cell_type": "code",
   "execution_count": 37,
   "metadata": {
    "execution": {
     "iopub.execute_input": "2021-03-03T22:15:05.535606Z",
     "iopub.status.busy": "2021-03-03T22:15:05.534965Z",
     "iopub.status.idle": "2021-03-03T22:15:05.543372Z",
     "shell.execute_reply": "2021-03-03T22:15:05.544007Z"
    },
    "papermill": {
     "duration": 0.114003,
     "end_time": "2021-03-03T22:15:05.544197",
     "exception": false,
     "start_time": "2021-03-03T22:15:05.430194",
     "status": "completed"
    },
    "tags": []
   },
   "outputs": [],
   "source": [
    "# Найдем среднее количество запросов в БКИ в зависимости от дохода и возраста\n",
    "mean_bki = df.groupby('age')['bki_request_cnt'].mean().to_dict()\n",
    "df['mean_requests_age'] = df['age'].map(mean_bki)"
   ]
  },
  {
   "cell_type": "code",
   "execution_count": 38,
   "metadata": {
    "execution": {
     "iopub.execute_input": "2021-03-03T22:15:05.749744Z",
     "iopub.status.busy": "2021-03-03T22:15:05.749067Z",
     "iopub.status.idle": "2021-03-03T22:15:05.762678Z",
     "shell.execute_reply": "2021-03-03T22:15:05.763208Z"
    },
    "papermill": {
     "duration": 0.117077,
     "end_time": "2021-03-03T22:15:05.763380",
     "exception": false,
     "start_time": "2021-03-03T22:15:05.646303",
     "status": "completed"
    },
    "tags": []
   },
   "outputs": [],
   "source": [
    "mean_bki_inc = df.groupby('income')['bki_request_cnt'].mean().to_dict()\n",
    "df['mean_requests_income'] = df['income'].map(mean_bki_inc)"
   ]
  },
  {
   "cell_type": "code",
   "execution_count": 39,
   "metadata": {
    "execution": {
     "iopub.execute_input": "2021-03-03T22:15:05.969693Z",
     "iopub.status.busy": "2021-03-03T22:15:05.969061Z",
     "iopub.status.idle": "2021-03-03T22:15:05.979624Z",
     "shell.execute_reply": "2021-03-03T22:15:05.979109Z"
    },
    "papermill": {
     "duration": 0.115158,
     "end_time": "2021-03-03T22:15:05.979772",
     "exception": false,
     "start_time": "2021-03-03T22:15:05.864614",
     "status": "completed"
    },
    "tags": []
   },
   "outputs": [],
   "source": [
    "# Найдем средний уровень дохода в зависимости от рейтинга региона\n",
    "mean_income_rat = df.groupby('region_rating')['income'].mean().to_dict()\n",
    "df['mean_income_region'] = df['region_rating'].map(mean_income_rat)"
   ]
  },
  {
   "cell_type": "markdown",
   "metadata": {
    "papermill": {
     "duration": 0.099912,
     "end_time": "2021-03-03T22:15:06.181655",
     "exception": false,
     "start_time": "2021-03-03T22:15:06.081743",
     "status": "completed"
    },
    "tags": []
   },
   "source": [
    "### Теперь трансформируем наши бинарные и категориальные признаки с помощью LabelEncoder и OneHotEncoder."
   ]
  },
  {
   "cell_type": "code",
   "execution_count": 40,
   "metadata": {
    "execution": {
     "iopub.execute_input": "2021-03-03T22:15:06.428440Z",
     "iopub.status.busy": "2021-03-03T22:15:06.427735Z",
     "iopub.status.idle": "2021-03-03T22:15:06.569056Z",
     "shell.execute_reply": "2021-03-03T22:15:06.568261Z"
    },
    "papermill": {
     "duration": 0.287976,
     "end_time": "2021-03-03T22:15:06.569228",
     "exception": false,
     "start_time": "2021-03-03T22:15:06.281252",
     "status": "completed"
    },
    "tags": []
   },
   "outputs": [],
   "source": [
    "mapped_data = {}\n",
    "label_encoder = LabelEncoder()\n",
    "for col in bin_cols:\n",
    "    df[col] = label_encoder.fit_transform(df[col])\n",
    "    mapped_data[col] = dict(enumerate(label_encoder.classes_))"
   ]
  },
  {
   "cell_type": "code",
   "execution_count": 41,
   "metadata": {
    "execution": {
     "iopub.execute_input": "2021-03-03T22:15:06.779590Z",
     "iopub.status.busy": "2021-03-03T22:15:06.778965Z",
     "iopub.status.idle": "2021-03-03T22:15:06.783635Z",
     "shell.execute_reply": "2021-03-03T22:15:06.783079Z"
    },
    "papermill": {
     "duration": 0.111865,
     "end_time": "2021-03-03T22:15:06.783780",
     "exception": false,
     "start_time": "2021-03-03T22:15:06.671915",
     "status": "completed"
    },
    "tags": []
   },
   "outputs": [
    {
     "data": {
      "text/plain": [
       "{'sex': {0: 'F', 1: 'M'},\n",
       " 'car': {0: 'N', 1: 'Y'},\n",
       " 'car_type': {0: 'N', 1: 'Y'},\n",
       " 'good_work': {0: 0, 1: 1},\n",
       " 'foreign_passport': {0: 'N', 1: 'Y'}}"
      ]
     },
     "execution_count": 41,
     "metadata": {},
     "output_type": "execute_result"
    }
   ],
   "source": [
    "mapped_data"
   ]
  },
  {
   "cell_type": "code",
   "execution_count": 42,
   "metadata": {
    "execution": {
     "iopub.execute_input": "2021-03-03T22:15:07.038195Z",
     "iopub.status.busy": "2021-03-03T22:15:07.037456Z",
     "iopub.status.idle": "2021-03-03T22:15:07.060250Z",
     "shell.execute_reply": "2021-03-03T22:15:07.060837Z"
    },
    "papermill": {
     "duration": 0.17574,
     "end_time": "2021-03-03T22:15:07.061033",
     "exception": false,
     "start_time": "2021-03-03T22:15:06.885293",
     "status": "completed"
    },
    "tags": []
   },
   "outputs": [],
   "source": [
    "mapped_data_cat = {}\n",
    "enc = OneHotEncoder()\n",
    "for col in cat_cols:\n",
    "    df[col] = label_encoder.fit_transform(df[col])\n",
    "    mapped_data_cat[col] = dict(enumerate(label_encoder.classes_))\n"
   ]
  },
  {
   "cell_type": "code",
   "execution_count": 43,
   "metadata": {
    "execution": {
     "iopub.execute_input": "2021-03-03T22:15:07.271391Z",
     "iopub.status.busy": "2021-03-03T22:15:07.270383Z",
     "iopub.status.idle": "2021-03-03T22:15:07.274979Z",
     "shell.execute_reply": "2021-03-03T22:15:07.274352Z"
    },
    "papermill": {
     "duration": 0.111124,
     "end_time": "2021-03-03T22:15:07.275118",
     "exception": false,
     "start_time": "2021-03-03T22:15:07.163994",
     "status": "completed"
    },
    "tags": []
   },
   "outputs": [
    {
     "data": {
      "text/plain": [
       "{'education': {0: 'ACD', 1: 'GRD', 2: 'PGR', 3: 'SCH', 4: 'UGR'},\n",
       " 'work_address': {0: 1, 1: 2, 2: 3},\n",
       " 'home_address': {0: 1, 1: 2, 2: 3},\n",
       " 'sna': {0: 1, 1: 2, 2: 3, 3: 4},\n",
       " 'first_time': {0: 1, 1: 2, 2: 3, 3: 4}}"
      ]
     },
     "execution_count": 43,
     "metadata": {},
     "output_type": "execute_result"
    }
   ],
   "source": [
    "mapped_data_cat"
   ]
  },
  {
   "cell_type": "markdown",
   "metadata": {
    "papermill": {
     "duration": 0.102257,
     "end_time": "2021-03-03T22:15:07.480501",
     "exception": false,
     "start_time": "2021-03-03T22:15:07.378244",
     "status": "completed"
    },
    "tags": []
   },
   "source": [
    "### Переобозначим наши колонки"
   ]
  },
  {
   "cell_type": "code",
   "execution_count": 44,
   "metadata": {
    "execution": {
     "iopub.execute_input": "2021-03-03T22:15:07.690549Z",
     "iopub.status.busy": "2021-03-03T22:15:07.689682Z",
     "iopub.status.idle": "2021-03-03T22:15:07.694445Z",
     "shell.execute_reply": "2021-03-03T22:15:07.694926Z"
    },
    "papermill": {
     "duration": 0.11235,
     "end_time": "2021-03-03T22:15:07.695107",
     "exception": false,
     "start_time": "2021-03-03T22:15:07.582757",
     "status": "completed"
    },
    "tags": []
   },
   "outputs": [
    {
     "data": {
      "text/plain": [
       "Index(['client_id', 'app_date', 'education', 'sex', 'age', 'car', 'car_type',\n",
       "       'decline_app_cnt', 'good_work', 'score_bki', 'bki_request_cnt',\n",
       "       'region_rating', 'home_address', 'work_address', 'income', 'sna',\n",
       "       'first_time', 'foreign_passport', 'default', 'sample',\n",
       "       'mean_income_age', 'max_income_age', 'normalized_income',\n",
       "       'mean_requests_age', 'mean_requests_income', 'mean_income_region'],\n",
       "      dtype='object')"
      ]
     },
     "execution_count": 44,
     "metadata": {},
     "output_type": "execute_result"
    }
   ],
   "source": [
    "df.columns"
   ]
  },
  {
   "cell_type": "code",
   "execution_count": 45,
   "metadata": {
    "execution": {
     "iopub.execute_input": "2021-03-03T22:15:07.907170Z",
     "iopub.status.busy": "2021-03-03T22:15:07.906295Z",
     "iopub.status.idle": "2021-03-03T22:15:07.909549Z",
     "shell.execute_reply": "2021-03-03T22:15:07.908870Z"
    },
    "papermill": {
     "duration": 0.112325,
     "end_time": "2021-03-03T22:15:07.909703",
     "exception": false,
     "start_time": "2021-03-03T22:15:07.797378",
     "status": "completed"
    },
    "tags": []
   },
   "outputs": [],
   "source": [
    "num_cols = ['age','decline_app_cnt','score_bki','income','bki_request_cnt','app_date', 'mean_income_age','region_rating','max_income_age', 'normalized_income',\n",
    "       'mean_requests_age', 'mean_requests_income', 'mean_income_region'] # Числовые переменные\n",
    "cat_cols = ['education','work_address','home_address','sna','first_time'] # категориальные переменные\n",
    "bin_cols = ['sex','car','car_type','good_work','foreign_passport'] # бинарные переменные"
   ]
  },
  {
   "cell_type": "code",
   "execution_count": 46,
   "metadata": {
    "execution": {
     "iopub.execute_input": "2021-03-03T22:15:08.157122Z",
     "iopub.status.busy": "2021-03-03T22:15:08.156334Z",
     "iopub.status.idle": "2021-03-03T22:15:08.159851Z",
     "shell.execute_reply": "2021-03-03T22:15:08.160345Z"
    },
    "papermill": {
     "duration": 0.121345,
     "end_time": "2021-03-03T22:15:08.160514",
     "exception": false,
     "start_time": "2021-03-03T22:15:08.039169",
     "status": "completed"
    },
    "tags": []
   },
   "outputs": [
    {
     "data": {
      "text/plain": [
       "13"
      ]
     },
     "execution_count": 46,
     "metadata": {},
     "output_type": "execute_result"
    }
   ],
   "source": [
    "len(num_cols)"
   ]
  },
  {
   "cell_type": "markdown",
   "metadata": {
    "papermill": {
     "duration": 0.101965,
     "end_time": "2021-03-03T22:15:08.365443",
     "exception": false,
     "start_time": "2021-03-03T22:15:08.263478",
     "status": "completed"
    },
    "tags": []
   },
   "source": [
    "### Найдем границы выбросов"
   ]
  },
  {
   "cell_type": "code",
   "execution_count": 47,
   "metadata": {
    "execution": {
     "iopub.execute_input": "2021-03-03T22:15:08.573858Z",
     "iopub.status.busy": "2021-03-03T22:15:08.573158Z",
     "iopub.status.idle": "2021-03-03T22:15:08.731505Z",
     "shell.execute_reply": "2021-03-03T22:15:08.730875Z"
    },
    "papermill": {
     "duration": 0.263656,
     "end_time": "2021-03-03T22:15:08.731664",
     "exception": false,
     "start_time": "2021-03-03T22:15:08.468008",
     "status": "completed"
    },
    "tags": []
   },
   "outputs": [
    {
     "name": "stdout",
     "output_type": "stream",
     "text": [
      "Колонка  age\n",
      "25-й перцентиль: 30.0, 75-й перцентиль: 48.0, IQR: 18.0,  Границы выбросов: [3.0, 75.0].\n",
      "Колонка  decline_app_cnt\n",
      "25-й перцентиль: 0.0, 75-й перцентиль: 0.0, IQR: 0.0,  Границы выбросов: [0.0, 0.0].\n",
      "Колонка  score_bki\n",
      "25-й перцентиль: -2.2604336700000003, 75-й перцентиль: -1.5678881525, IQR: 0.6925455175000004,  Границы выбросов: [-3.299251946250001, -0.5290698762499992].\n",
      "Колонка  income\n",
      "25-й перцентиль: 9.90353755128617, 75-й перцентиль: 10.778977123006351, IQR: 0.8754395717201806,  Границы выбросов: [8.590378193705899, 12.092136480586621].\n",
      "Колонка  bki_request_cnt\n",
      "25-й перцентиль: 0.0, 75-й перцентиль: 1.3862943611198906, IQR: 1.3862943611198906,  Границы выбросов: [-2.0794415416798357, 3.465735902799726].\n",
      "Колонка  app_date\n",
      "25-й перцентиль: 33.0, 75-й перцентиль: 89.0, IQR: 56.0,  Границы выбросов: [-51.0, 173.0].\n",
      "Колонка  mean_income_age\n",
      "25-й перцентиль: 10.305358726970132, 75-й перцентиль: 10.444420558250247, IQR: 0.13906183128011484,  Границы выбросов: [10.096765980049959, 10.653013305170418].\n",
      "Колонка  region_rating\n",
      "25-й перцентиль: 50.0, 75-й перцентиль: 60.0, IQR: 10.0,  Границы выбросов: [35.0, 75.0].\n",
      "Колонка  max_income_age\n",
      "25-й перцентиль: 13.353476685668044, 75-й перцентиль: 13.81451105863119, IQR: 0.4610343729631463,  Границы выбросов: [12.661925126223323, 14.506062618075909].\n",
      "Колонка  normalized_income\n",
      "25-й перцентиль: 0.013430427132960408, 75-й перцентиль: 0.053841327128479305, IQR: 0.0404108999955189,  Границы выбросов: [-0.04718592286031794, 0.11445767712175765].\n",
      "Колонка  mean_requests_age\n",
      "25-й перцентиль: 0.86780129721632, 75-й перцентиль: 0.9372579762447628, IQR: 0.06945667902844277,  Границы выбросов: [0.7636162786736559, 1.041442994787427].\n",
      "Колонка  mean_requests_income\n",
      "25-й перцентиль: 0.8445031475192104, 75-й перцентиль: 0.9147138726841684, IQR: 0.07021072516495797,  Границы выбросов: [0.7391870597717735, 1.0200299604316054].\n",
      "Колонка  mean_income_region\n",
      "25-й перцентиль: 10.208090289049158, 75-й перцентиль: 10.278313764031008, IQR: 0.07022347498184978,  Границы выбросов: [10.102755076576383, 10.383648976503782].\n"
     ]
    }
   ],
   "source": [
    "for col in num_cols:\n",
    "    median = df[col].median()\n",
    "    IQR = df[col].quantile(0.75) - df[col].quantile(0.25)\n",
    "    perc25 = df[col].quantile(0.25)\n",
    "    perc75 = df[col].quantile(0.75)\n",
    "    print(\"Колонка \", col)\n",
    "    print('25-й перцентиль: {},'.format(perc25), '75-й перцентиль: {},'.format(perc75), \n",
    "          \"IQR: {}, \".format(IQR),\"Границы выбросов: [{f}, {l}].\".format(f=perc25 - 1.5*IQR, l=perc75 + 1.5*IQR))"
   ]
  },
  {
   "cell_type": "code",
   "execution_count": 48,
   "metadata": {
    "execution": {
     "iopub.execute_input": "2021-03-03T22:15:08.966250Z",
     "iopub.status.busy": "2021-03-03T22:15:08.960896Z",
     "iopub.status.idle": "2021-03-03T22:15:09.174600Z",
     "shell.execute_reply": "2021-03-03T22:15:09.173960Z"
    },
    "papermill": {
     "duration": 0.337407,
     "end_time": "2021-03-03T22:15:09.174831",
     "exception": false,
     "start_time": "2021-03-03T22:15:08.837424",
     "status": "completed"
    },
    "tags": []
   },
   "outputs": [
    {
     "data": {
      "text/plain": [
       "<AxesSubplot:>"
      ]
     },
     "execution_count": 48,
     "metadata": {},
     "output_type": "execute_result"
    },
    {
     "data": {
      "image/png": "[encoded data removed]",
      "text/plain": [
       "<Figure size 720x432 with 1 Axes>"
      ]
     },
     "metadata": {
      "needs_background": "light"
     },
     "output_type": "display_data"
    }
   ],
   "source": [
    "df.age.hist(color='r', figsize=(10,6))"
   ]
  },
  {
   "cell_type": "code",
   "execution_count": 49,
   "metadata": {
    "execution": {
     "iopub.execute_input": "2021-03-03T22:15:09.408183Z",
     "iopub.status.busy": "2021-03-03T22:15:09.407435Z",
     "iopub.status.idle": "2021-03-03T22:15:09.611789Z",
     "shell.execute_reply": "2021-03-03T22:15:09.611023Z"
    },
    "papermill": {
     "duration": 0.330986,
     "end_time": "2021-03-03T22:15:09.611966",
     "exception": false,
     "start_time": "2021-03-03T22:15:09.280980",
     "status": "completed"
    },
    "tags": []
   },
   "outputs": [
    {
     "data": {
      "text/plain": [
       "<AxesSubplot:>"
      ]
     },
     "execution_count": 49,
     "metadata": {},
     "output_type": "execute_result"
    },
    {
     "data": {
      "image/png": "[encoded data removed]",
      "text/plain": [
       "<Figure size 720x432 with 1 Axes>"
      ]
     },
     "metadata": {
      "needs_background": "light"
     },
     "output_type": "display_data"
    }
   ],
   "source": [
    "df.decline_app_cnt.hist(color=\"g\",figsize=(10,6))"
   ]
  },
  {
   "cell_type": "markdown",
   "metadata": {
    "papermill": {
     "duration": 0.10654,
     "end_time": "2021-03-03T22:15:09.825384",
     "exception": false,
     "start_time": "2021-03-03T22:15:09.718844",
     "status": "completed"
    },
    "tags": []
   },
   "source": [
    "У данного признака очень странные границы выбросов [0,0], поэтому не будем ничего с этим делать."
   ]
  },
  {
   "cell_type": "code",
   "execution_count": 50,
   "metadata": {
    "execution": {
     "iopub.execute_input": "2021-03-03T22:15:10.071684Z",
     "iopub.status.busy": "2021-03-03T22:15:10.069308Z",
     "iopub.status.idle": "2021-03-03T22:15:10.294072Z",
     "shell.execute_reply": "2021-03-03T22:15:10.294553Z"
    },
    "papermill": {
     "duration": 0.360381,
     "end_time": "2021-03-03T22:15:10.294738",
     "exception": false,
     "start_time": "2021-03-03T22:15:09.934357",
     "status": "completed"
    },
    "tags": []
   },
   "outputs": [
    {
     "data": {
      "text/plain": [
       "<AxesSubplot:>"
      ]
     },
     "execution_count": 50,
     "metadata": {},
     "output_type": "execute_result"
    },
    {
     "data": {
      "image/png": "[encoded data removed]",
      "text/plain": [
       "<Figure size 720x432 with 1 Axes>"
      ]
     },
     "metadata": {
      "needs_background": "light"
     },
     "output_type": "display_data"
    }
   ],
   "source": [
    "df.bki_request_cnt.hist(color=\"b\",figsize=(10,6))"
   ]
  },
  {
   "cell_type": "markdown",
   "metadata": {
    "papermill": {
     "duration": 0.153134,
     "end_time": "2021-03-03T22:15:10.554897",
     "exception": false,
     "start_time": "2021-03-03T22:15:10.401763",
     "status": "completed"
    },
    "tags": []
   },
   "source": [
    "Выбросов нет."
   ]
  },
  {
   "cell_type": "code",
   "execution_count": 51,
   "metadata": {
    "execution": {
     "iopub.execute_input": "2021-03-03T22:15:10.775436Z",
     "iopub.status.busy": "2021-03-03T22:15:10.774395Z",
     "iopub.status.idle": "2021-03-03T22:15:10.983500Z",
     "shell.execute_reply": "2021-03-03T22:15:10.984009Z"
    },
    "papermill": {
     "duration": 0.322792,
     "end_time": "2021-03-03T22:15:10.984199",
     "exception": false,
     "start_time": "2021-03-03T22:15:10.661407",
     "status": "completed"
    },
    "tags": []
   },
   "outputs": [
    {
     "data": {
      "text/plain": [
       "<AxesSubplot:>"
      ]
     },
     "execution_count": 51,
     "metadata": {},
     "output_type": "execute_result"
    },
    {
     "data": {
      "image/png": "[encoded data removed]",
      "text/plain": [
       "<Figure size 720x432 with 1 Axes>"
      ]
     },
     "metadata": {
      "needs_background": "light"
     },
     "output_type": "display_data"
    }
   ],
   "source": [
    "df.mean_income_age.hist(color=\"purple\",figsize=(10,6))"
   ]
  },
  {
   "cell_type": "code",
   "execution_count": 52,
   "metadata": {
    "execution": {
     "iopub.execute_input": "2021-03-03T22:15:11.223983Z",
     "iopub.status.busy": "2021-03-03T22:15:11.222445Z",
     "iopub.status.idle": "2021-03-03T22:15:11.480559Z",
     "shell.execute_reply": "2021-03-03T22:15:11.480047Z"
    },
    "papermill": {
     "duration": 0.387422,
     "end_time": "2021-03-03T22:15:11.480730",
     "exception": false,
     "start_time": "2021-03-03T22:15:11.093308",
     "status": "completed"
    },
    "tags": []
   },
   "outputs": [
    {
     "data": {
      "text/plain": [
       "<AxesSubplot:>"
      ]
     },
     "execution_count": 52,
     "metadata": {},
     "output_type": "execute_result"
    },
    {
     "data": {
      "image/png": "[encoded data removed]",
      "text/plain": [
       "<Figure size 720x432 with 1 Axes>"
      ]
     },
     "metadata": {
      "needs_background": "light"
     },
     "output_type": "display_data"
    }
   ],
   "source": [
    "df.region_rating.hist(color=\"pink\",figsize=(10,6))"
   ]
  },
  {
   "cell_type": "markdown",
   "metadata": {
    "papermill": {
     "duration": 0.111253,
     "end_time": "2021-03-03T22:15:11.711242",
     "exception": false,
     "start_time": "2021-03-03T22:15:11.599989",
     "status": "completed"
    },
    "tags": []
   },
   "source": [
    "## Стандартизация числовых признаков"
   ]
  },
  {
   "cell_type": "code",
   "execution_count": 53,
   "metadata": {
    "execution": {
     "iopub.execute_input": "2021-03-03T22:15:11.943583Z",
     "iopub.status.busy": "2021-03-03T22:15:11.942229Z",
     "iopub.status.idle": "2021-03-03T22:15:11.955925Z",
     "shell.execute_reply": "2021-03-03T22:15:11.955378Z"
    },
    "papermill": {
     "duration": 0.134508,
     "end_time": "2021-03-03T22:15:11.956074",
     "exception": false,
     "start_time": "2021-03-03T22:15:11.821566",
     "status": "completed"
    },
    "tags": []
   },
   "outputs": [],
   "source": [
    "dataset = df.copy() # Еще раз сохраняем наш датасет"
   ]
  },
  {
   "cell_type": "code",
   "execution_count": 54,
   "metadata": {
    "execution": {
     "iopub.execute_input": "2021-03-03T22:15:12.193161Z",
     "iopub.status.busy": "2021-03-03T22:15:12.192502Z",
     "iopub.status.idle": "2021-03-03T22:15:12.213933Z",
     "shell.execute_reply": "2021-03-03T22:15:12.213238Z"
    },
    "papermill": {
     "duration": 0.142977,
     "end_time": "2021-03-03T22:15:12.214094",
     "exception": false,
     "start_time": "2021-03-03T22:15:12.071117",
     "status": "completed"
    },
    "tags": []
   },
   "outputs": [
    {
     "data": {
      "text/html": [
       "<div>\n",
       "<style scoped>\n",
       "    .dataframe tbody tr th:only-of-type {\n",
       "        vertical-align: middle;\n",
       "    }\n",
       "\n",
       "    .dataframe tbody tr th {\n",
       "        vertical-align: top;\n",
       "    }\n",
       "\n",
       "    .dataframe thead th {\n",
       "        text-align: right;\n",
       "    }\n",
       "</style>\n",
       "<table border=\"1\" class=\"dataframe\">\n",
       "  <thead>\n",
       "    <tr style=\"text-align: right;\">\n",
       "      <th></th>\n",
       "      <th>client_id</th>\n",
       "      <th>app_date</th>\n",
       "      <th>education</th>\n",
       "      <th>sex</th>\n",
       "      <th>age</th>\n",
       "      <th>car</th>\n",
       "      <th>car_type</th>\n",
       "      <th>decline_app_cnt</th>\n",
       "      <th>good_work</th>\n",
       "      <th>score_bki</th>\n",
       "      <th>...</th>\n",
       "      <th>first_time</th>\n",
       "      <th>foreign_passport</th>\n",
       "      <th>default</th>\n",
       "      <th>sample</th>\n",
       "      <th>mean_income_age</th>\n",
       "      <th>max_income_age</th>\n",
       "      <th>normalized_income</th>\n",
       "      <th>mean_requests_age</th>\n",
       "      <th>mean_requests_income</th>\n",
       "      <th>mean_income_region</th>\n",
       "    </tr>\n",
       "  </thead>\n",
       "  <tbody>\n",
       "    <tr>\n",
       "      <th>0</th>\n",
       "      <td>25905</td>\n",
       "      <td>31</td>\n",
       "      <td>3</td>\n",
       "      <td>1</td>\n",
       "      <td>62</td>\n",
       "      <td>1</td>\n",
       "      <td>1</td>\n",
       "      <td>0.000000</td>\n",
       "      <td>0</td>\n",
       "      <td>-2.008753</td>\n",
       "      <td>...</td>\n",
       "      <td>0</td>\n",
       "      <td>0</td>\n",
       "      <td>0</td>\n",
       "      <td>1</td>\n",
       "      <td>9.917638</td>\n",
       "      <td>12.611541</td>\n",
       "      <td>0.009472</td>\n",
       "      <td>0.901260</td>\n",
       "      <td>0.895328</td>\n",
       "      <td>10.208090</td>\n",
       "    </tr>\n",
       "    <tr>\n",
       "      <th>1</th>\n",
       "      <td>63161</td>\n",
       "      <td>70</td>\n",
       "      <td>3</td>\n",
       "      <td>0</td>\n",
       "      <td>59</td>\n",
       "      <td>0</td>\n",
       "      <td>0</td>\n",
       "      <td>0.000000</td>\n",
       "      <td>0</td>\n",
       "      <td>-1.532276</td>\n",
       "      <td>...</td>\n",
       "      <td>0</td>\n",
       "      <td>0</td>\n",
       "      <td>0</td>\n",
       "      <td>1</td>\n",
       "      <td>9.997499</td>\n",
       "      <td>13.764218</td>\n",
       "      <td>0.010553</td>\n",
       "      <td>0.914524</td>\n",
       "      <td>0.941051</td>\n",
       "      <td>10.208090</td>\n",
       "    </tr>\n",
       "    <tr>\n",
       "      <th>2</th>\n",
       "      <td>25887</td>\n",
       "      <td>31</td>\n",
       "      <td>3</td>\n",
       "      <td>1</td>\n",
       "      <td>25</td>\n",
       "      <td>1</td>\n",
       "      <td>0</td>\n",
       "      <td>1.098612</td>\n",
       "      <td>0</td>\n",
       "      <td>-1.408142</td>\n",
       "      <td>...</td>\n",
       "      <td>3</td>\n",
       "      <td>1</td>\n",
       "      <td>0</td>\n",
       "      <td>1</td>\n",
       "      <td>10.305359</td>\n",
       "      <td>13.304687</td>\n",
       "      <td>0.000273</td>\n",
       "      <td>0.828157</td>\n",
       "      <td>0.844503</td>\n",
       "      <td>10.784262</td>\n",
       "    </tr>\n",
       "  </tbody>\n",
       "</table>\n",
       "<p>3 rows × 26 columns</p>\n",
       "</div>"
      ],
      "text/plain": [
       "   client_id  app_date  education  sex  age  car  car_type  decline_app_cnt  \\\n",
       "0      25905        31          3    1   62    1         1         0.000000   \n",
       "1      63161        70          3    0   59    0         0         0.000000   \n",
       "2      25887        31          3    1   25    1         0         1.098612   \n",
       "\n",
       "   good_work  score_bki  ...  first_time  foreign_passport  default  sample  \\\n",
       "0          0  -2.008753  ...           0                 0        0       1   \n",
       "1          0  -1.532276  ...           0                 0        0       1   \n",
       "2          0  -1.408142  ...           3                 1        0       1   \n",
       "\n",
       "   mean_income_age  max_income_age  normalized_income  mean_requests_age  \\\n",
       "0         9.917638       12.611541           0.009472           0.901260   \n",
       "1         9.997499       13.764218           0.010553           0.914524   \n",
       "2        10.305359       13.304687           0.000273           0.828157   \n",
       "\n",
       "   mean_requests_income  mean_income_region  \n",
       "0              0.895328           10.208090  \n",
       "1              0.941051           10.208090  \n",
       "2              0.844503           10.784262  \n",
       "\n",
       "[3 rows x 26 columns]"
      ]
     },
     "execution_count": 54,
     "metadata": {},
     "output_type": "execute_result"
    }
   ],
   "source": [
    "dataset.head(3)"
   ]
  },
  {
   "cell_type": "markdown",
   "metadata": {
    "papermill": {
     "duration": 0.112528,
     "end_time": "2021-03-03T22:15:12.440117",
     "exception": false,
     "start_time": "2021-03-03T22:15:12.327589",
     "status": "completed"
    },
    "tags": []
   },
   "source": [
    "#### Используем StandardScaler"
   ]
  },
  {
   "cell_type": "code",
   "execution_count": 55,
   "metadata": {
    "execution": {
     "iopub.execute_input": "2021-03-03T22:15:12.665563Z",
     "iopub.status.busy": "2021-03-03T22:15:12.664924Z",
     "iopub.status.idle": "2021-03-03T22:15:12.742401Z",
     "shell.execute_reply": "2021-03-03T22:15:12.742952Z"
    },
    "papermill": {
     "duration": 0.191979,
     "end_time": "2021-03-03T22:15:12.743149",
     "exception": false,
     "start_time": "2021-03-03T22:15:12.551170",
     "status": "completed"
    },
    "tags": []
   },
   "outputs": [],
   "source": [
    "dataset[num_cols] = pd.DataFrame(StandardScaler().fit_transform(df[num_cols]), columns = df[num_cols].columns)\n"
   ]
  },
  {
   "cell_type": "markdown",
   "metadata": {
    "papermill": {
     "duration": 0.11137,
     "end_time": "2021-03-03T22:15:12.964468",
     "exception": false,
     "start_time": "2021-03-03T22:15:12.853098",
     "status": "completed"
    },
    "tags": []
   },
   "source": [
    "## Оценка значимости переменных"
   ]
  },
  {
   "cell_type": "markdown",
   "metadata": {
    "papermill": {
     "duration": 0.111196,
     "end_time": "2021-03-03T22:15:13.188269",
     "exception": false,
     "start_time": "2021-03-03T22:15:13.077073",
     "status": "completed"
    },
    "tags": []
   },
   "source": [
    "### Числовые переменные"
   ]
  },
  {
   "cell_type": "code",
   "execution_count": 56,
   "metadata": {
    "execution": {
     "iopub.execute_input": "2021-03-03T22:15:13.412445Z",
     "iopub.status.busy": "2021-03-03T22:15:13.411761Z",
     "iopub.status.idle": "2021-03-03T22:15:13.436092Z",
     "shell.execute_reply": "2021-03-03T22:15:13.436574Z"
    },
    "papermill": {
     "duration": 0.138316,
     "end_time": "2021-03-03T22:15:13.436761",
     "exception": false,
     "start_time": "2021-03-03T22:15:13.298445",
     "status": "completed"
    },
    "tags": []
   },
   "outputs": [],
   "source": [
    "data_temp = dataset.loc[data['sample'] == 1] # обучающая выборка"
   ]
  },
  {
   "cell_type": "code",
   "execution_count": 57,
   "metadata": {
    "execution": {
     "iopub.execute_input": "2021-03-03T22:15:13.663717Z",
     "iopub.status.busy": "2021-03-03T22:15:13.663086Z",
     "iopub.status.idle": "2021-03-03T22:15:13.940228Z",
     "shell.execute_reply": "2021-03-03T22:15:13.940759Z"
    },
    "papermill": {
     "duration": 0.393622,
     "end_time": "2021-03-03T22:15:13.940955",
     "exception": false,
     "start_time": "2021-03-03T22:15:13.547333",
     "status": "completed"
    },
    "tags": []
   },
   "outputs": [
    {
     "data": {
      "text/plain": [
       "<AxesSubplot:>"
      ]
     },
     "execution_count": 57,
     "metadata": {},
     "output_type": "execute_result"
    },
    {
     "data": {
      "image/png": "[encoded data removed]",
      "text/plain": [
       "<Figure size 1080x720 with 1 Axes>"
      ]
     },
     "metadata": {
      "needs_background": "light"
     },
     "output_type": "display_data"
    }
   ],
   "source": [
    "imp_num = pd.Series(f_classif(data_temp[num_cols], data_temp['default'])[0], index = num_cols)\n",
    "imp_num.sort_values(inplace = True)\n",
    "imp_num.plot(kind = 'barh')"
   ]
  },
  {
   "cell_type": "markdown",
   "metadata": {
    "papermill": {
     "duration": 0.111336,
     "end_time": "2021-03-03T22:15:14.166447",
     "exception": false,
     "start_time": "2021-03-03T22:15:14.055111",
     "status": "completed"
    },
    "tags": []
   },
   "source": [
    "Как можно увидеть, наибольшее влияние на \"дефолтность\" оказывает признак score_bki. Из всех сгенерированных признаков хоть какую-то значимость привносит признак mean_income_region."
   ]
  },
  {
   "cell_type": "markdown",
   "metadata": {
    "papermill": {
     "duration": 0.11088,
     "end_time": "2021-03-03T22:15:14.388538",
     "exception": false,
     "start_time": "2021-03-03T22:15:14.277658",
     "status": "completed"
    },
    "tags": []
   },
   "source": [
    "### Категориальные и Бинарные переменные"
   ]
  },
  {
   "cell_type": "code",
   "execution_count": 58,
   "metadata": {
    "execution": {
     "iopub.execute_input": "2021-03-03T22:15:14.620476Z",
     "iopub.status.busy": "2021-03-03T22:15:14.619772Z",
     "iopub.status.idle": "2021-03-03T22:15:14.992106Z",
     "shell.execute_reply": "2021-03-03T22:15:14.991420Z"
    },
    "papermill": {
     "duration": 0.492539,
     "end_time": "2021-03-03T22:15:14.992529",
     "exception": false,
     "start_time": "2021-03-03T22:15:14.499990",
     "status": "completed"
    },
    "tags": []
   },
   "outputs": [
    {
     "data": {
      "text/plain": [
       "<AxesSubplot:>"
      ]
     },
     "execution_count": 58,
     "metadata": {},
     "output_type": "execute_result"
    },
    {
     "data": {
      "image/png": "[encoded data removed]",
      "text/plain": [
       "<Figure size 1080x720 with 1 Axes>"
      ]
     },
     "metadata": {
      "needs_background": "light"
     },
     "output_type": "display_data"
    }
   ],
   "source": [
    "imp_cat = pd.Series(mutual_info_classif(data_temp[bin_cols + cat_cols], data_temp['default'],\n",
    "                                     discrete_features =True), index = bin_cols + cat_cols)\n",
    "imp_cat.sort_values(inplace = True)\n",
    "imp_cat.plot(kind = 'barh')"
   ]
  },
  {
   "cell_type": "markdown",
   "metadata": {
    "papermill": {
     "duration": 0.117892,
     "end_time": "2021-03-03T22:15:15.224674",
     "exception": false,
     "start_time": "2021-03-03T22:15:15.106782",
     "status": "completed"
    },
    "tags": []
   },
   "source": [
    "Итак, здесь самым значимым является признак sna(связь заемщика с клиентами), а затем признаки first_time, home_address и education."
   ]
  },
  {
   "cell_type": "markdown",
   "metadata": {
    "papermill": {
     "duration": 0.11304,
     "end_time": "2021-03-03T22:15:15.450628",
     "exception": false,
     "start_time": "2021-03-03T22:15:15.337588",
     "status": "completed"
    },
    "tags": []
   },
   "source": [
    "## *Get_dummies*"
   ]
  },
  {
   "cell_type": "code",
   "execution_count": 59,
   "metadata": {
    "execution": {
     "iopub.execute_input": "2021-03-03T22:15:15.690363Z",
     "iopub.status.busy": "2021-03-03T22:15:15.689104Z",
     "iopub.status.idle": "2021-03-03T22:15:15.716319Z",
     "shell.execute_reply": "2021-03-03T22:15:15.715672Z"
    },
    "papermill": {
     "duration": 0.152321,
     "end_time": "2021-03-03T22:15:15.716463",
     "exception": false,
     "start_time": "2021-03-03T22:15:15.564142",
     "status": "completed"
    },
    "tags": []
   },
   "outputs": [],
   "source": [
    "df = pd.get_dummies(dataset, prefix=cat_cols, columns=cat_cols) # dummy для категориальных признаков"
   ]
  },
  {
   "cell_type": "code",
   "execution_count": 60,
   "metadata": {
    "execution": {
     "iopub.execute_input": "2021-03-03T22:15:15.956281Z",
     "iopub.status.busy": "2021-03-03T22:15:15.954181Z",
     "iopub.status.idle": "2021-03-03T22:15:15.963551Z",
     "shell.execute_reply": "2021-03-03T22:15:15.962964Z"
    },
    "papermill": {
     "duration": 0.132528,
     "end_time": "2021-03-03T22:15:15.963697",
     "exception": false,
     "start_time": "2021-03-03T22:15:15.831169",
     "status": "completed"
    },
    "tags": []
   },
   "outputs": [],
   "source": [
    "data = df.copy()"
   ]
  },
  {
   "cell_type": "code",
   "execution_count": 61,
   "metadata": {
    "execution": {
     "iopub.execute_input": "2021-03-03T22:15:16.225027Z",
     "iopub.status.busy": "2021-03-03T22:15:16.223978Z",
     "iopub.status.idle": "2021-03-03T22:15:16.229139Z",
     "shell.execute_reply": "2021-03-03T22:15:16.228581Z"
    },
    "papermill": {
     "duration": 0.148751,
     "end_time": "2021-03-03T22:15:16.229302",
     "exception": false,
     "start_time": "2021-03-03T22:15:16.080551",
     "status": "completed"
    },
    "tags": []
   },
   "outputs": [
    {
     "data": {
      "text/html": [
       "<div>\n",
       "<style scoped>\n",
       "    .dataframe tbody tr th:only-of-type {\n",
       "        vertical-align: middle;\n",
       "    }\n",
       "\n",
       "    .dataframe tbody tr th {\n",
       "        vertical-align: top;\n",
       "    }\n",
       "\n",
       "    .dataframe thead th {\n",
       "        text-align: right;\n",
       "    }\n",
       "</style>\n",
       "<table border=\"1\" class=\"dataframe\">\n",
       "  <thead>\n",
       "    <tr style=\"text-align: right;\">\n",
       "      <th></th>\n",
       "      <th>client_id</th>\n",
       "      <th>app_date</th>\n",
       "      <th>sex</th>\n",
       "      <th>age</th>\n",
       "      <th>car</th>\n",
       "      <th>car_type</th>\n",
       "      <th>decline_app_cnt</th>\n",
       "      <th>good_work</th>\n",
       "      <th>score_bki</th>\n",
       "      <th>bki_request_cnt</th>\n",
       "      <th>...</th>\n",
       "      <th>home_address_1</th>\n",
       "      <th>home_address_2</th>\n",
       "      <th>sna_0</th>\n",
       "      <th>sna_1</th>\n",
       "      <th>sna_2</th>\n",
       "      <th>sna_3</th>\n",
       "      <th>first_time_0</th>\n",
       "      <th>first_time_1</th>\n",
       "      <th>first_time_2</th>\n",
       "      <th>first_time_3</th>\n",
       "    </tr>\n",
       "  </thead>\n",
       "  <tbody>\n",
       "    <tr>\n",
       "      <th>0</th>\n",
       "      <td>25905</td>\n",
       "      <td>-0.934391</td>\n",
       "      <td>1</td>\n",
       "      <td>1.975219</td>\n",
       "      <td>1</td>\n",
       "      <td>1</td>\n",
       "      <td>-0.418815</td>\n",
       "      <td>0</td>\n",
       "      <td>-0.208688</td>\n",
       "      <td>-0.281790</td>\n",
       "      <td>...</td>\n",
       "      <td>0</td>\n",
       "      <td>0</td>\n",
       "      <td>0</td>\n",
       "      <td>0</td>\n",
       "      <td>0</td>\n",
       "      <td>1</td>\n",
       "      <td>1</td>\n",
       "      <td>0</td>\n",
       "      <td>0</td>\n",
       "      <td>0</td>\n",
       "    </tr>\n",
       "    <tr>\n",
       "      <th>1</th>\n",
       "      <td>63161</td>\n",
       "      <td>0.281474</td>\n",
       "      <td>0</td>\n",
       "      <td>1.714757</td>\n",
       "      <td>0</td>\n",
       "      <td>0</td>\n",
       "      <td>-0.418815</td>\n",
       "      <td>0</td>\n",
       "      <td>0.745419</td>\n",
       "      <td>0.770563</td>\n",
       "      <td>...</td>\n",
       "      <td>1</td>\n",
       "      <td>0</td>\n",
       "      <td>0</td>\n",
       "      <td>0</td>\n",
       "      <td>0</td>\n",
       "      <td>1</td>\n",
       "      <td>1</td>\n",
       "      <td>0</td>\n",
       "      <td>0</td>\n",
       "      <td>0</td>\n",
       "    </tr>\n",
       "    <tr>\n",
       "      <th>2</th>\n",
       "      <td>25887</td>\n",
       "      <td>-0.934391</td>\n",
       "      <td>1</td>\n",
       "      <td>-1.237142</td>\n",
       "      <td>1</td>\n",
       "      <td>0</td>\n",
       "      <td>2.621662</td>\n",
       "      <td>0</td>\n",
       "      <td>0.993988</td>\n",
       "      <td>-0.281790</td>\n",
       "      <td>...</td>\n",
       "      <td>0</td>\n",
       "      <td>0</td>\n",
       "      <td>1</td>\n",
       "      <td>0</td>\n",
       "      <td>0</td>\n",
       "      <td>0</td>\n",
       "      <td>0</td>\n",
       "      <td>0</td>\n",
       "      <td>0</td>\n",
       "      <td>1</td>\n",
       "    </tr>\n",
       "  </tbody>\n",
       "</table>\n",
       "<p>3 rows × 40 columns</p>\n",
       "</div>"
      ],
      "text/plain": [
       "   client_id  app_date  sex       age  car  car_type  decline_app_cnt  \\\n",
       "0      25905 -0.934391    1  1.975219    1         1        -0.418815   \n",
       "1      63161  0.281474    0  1.714757    0         0        -0.418815   \n",
       "2      25887 -0.934391    1 -1.237142    1         0         2.621662   \n",
       "\n",
       "   good_work  score_bki  bki_request_cnt  ...  home_address_1  home_address_2  \\\n",
       "0          0  -0.208688        -0.281790  ...               0               0   \n",
       "1          0   0.745419         0.770563  ...               1               0   \n",
       "2          0   0.993988        -0.281790  ...               0               0   \n",
       "\n",
       "   sna_0  sna_1  sna_2  sna_3  first_time_0  first_time_1  first_time_2  \\\n",
       "0      0      0      0      1             1             0             0   \n",
       "1      0      0      0      1             1             0             0   \n",
       "2      1      0      0      0             0             0             0   \n",
       "\n",
       "   first_time_3  \n",
       "0             0  \n",
       "1             0  \n",
       "2             1  \n",
       "\n",
       "[3 rows x 40 columns]"
      ]
     },
     "execution_count": 61,
     "metadata": {},
     "output_type": "execute_result"
    }
   ],
   "source": [
    "data.head(3)"
   ]
  },
  {
   "cell_type": "markdown",
   "metadata": {
    "papermill": {
     "duration": 0.115654,
     "end_time": "2021-03-03T22:15:16.463494",
     "exception": false,
     "start_time": "2021-03-03T22:15:16.347840",
     "status": "completed"
    },
    "tags": []
   },
   "source": [
    "# Строим модель"
   ]
  },
  {
   "cell_type": "code",
   "execution_count": 62,
   "metadata": {
    "execution": {
     "iopub.execute_input": "2021-03-03T22:15:16.699764Z",
     "iopub.status.busy": "2021-03-03T22:15:16.699087Z",
     "iopub.status.idle": "2021-03-03T22:15:16.743910Z",
     "shell.execute_reply": "2021-03-03T22:15:16.743346Z"
    },
    "papermill": {
     "duration": 0.165231,
     "end_time": "2021-03-03T22:15:16.744061",
     "exception": false,
     "start_time": "2021-03-03T22:15:16.578830",
     "status": "completed"
    },
    "tags": []
   },
   "outputs": [],
   "source": [
    "train_df = df.query('sample == 1').drop(['sample','client_id'], axis=1)\n",
    "test_df = df.query('sample == 0').drop(['sample','client_id'], axis=1)"
   ]
  },
  {
   "cell_type": "code",
   "execution_count": 63,
   "metadata": {
    "execution": {
     "iopub.execute_input": "2021-03-03T22:15:16.986784Z",
     "iopub.status.busy": "2021-03-03T22:15:16.986095Z",
     "iopub.status.idle": "2021-03-03T22:15:16.999920Z",
     "shell.execute_reply": "2021-03-03T22:15:16.999202Z"
    },
    "papermill": {
     "duration": 0.140413,
     "end_time": "2021-03-03T22:15:17.000066",
     "exception": false,
     "start_time": "2021-03-03T22:15:16.859653",
     "status": "completed"
    },
    "tags": []
   },
   "outputs": [],
   "source": [
    "X = train_df.drop(['default'], axis=1).values\n",
    "y = train_df['default'].values # целевая переменная"
   ]
  },
  {
   "cell_type": "code",
   "execution_count": 64,
   "metadata": {
    "execution": {
     "iopub.execute_input": "2021-03-03T22:15:17.240272Z",
     "iopub.status.busy": "2021-03-03T22:15:17.239569Z",
     "iopub.status.idle": "2021-03-03T22:15:17.275601Z",
     "shell.execute_reply": "2021-03-03T22:15:17.274905Z"
    },
    "papermill": {
     "duration": 0.15937,
     "end_time": "2021-03-03T22:15:17.275758",
     "exception": false,
     "start_time": "2021-03-03T22:15:17.116388",
     "status": "completed"
    },
    "tags": []
   },
   "outputs": [],
   "source": [
    "X_train, X_valid, y_train, y_valid = train_test_split(X, y, test_size=0.20, random_state=42)"
   ]
  },
  {
   "cell_type": "code",
   "execution_count": 65,
   "metadata": {
    "execution": {
     "iopub.execute_input": "2021-03-03T22:15:17.512876Z",
     "iopub.status.busy": "2021-03-03T22:15:17.511884Z",
     "iopub.status.idle": "2021-03-03T22:15:17.515327Z",
     "shell.execute_reply": "2021-03-03T22:15:17.514652Z"
    },
    "papermill": {
     "duration": 0.122993,
     "end_time": "2021-03-03T22:15:17.515465",
     "exception": false,
     "start_time": "2021-03-03T22:15:17.392472",
     "status": "completed"
    },
    "tags": []
   },
   "outputs": [],
   "source": [
    "# Логистическая регрессия \n",
    "model = LogisticRegression(max_iter = 1000)"
   ]
  },
  {
   "cell_type": "code",
   "execution_count": 66,
   "metadata": {
    "execution": {
     "iopub.execute_input": "2021-03-03T22:15:17.750795Z",
     "iopub.status.busy": "2021-03-03T22:15:17.750128Z",
     "iopub.status.idle": "2021-03-03T22:15:19.142708Z",
     "shell.execute_reply": "2021-03-03T22:15:19.142029Z"
    },
    "papermill": {
     "duration": 1.512399,
     "end_time": "2021-03-03T22:15:19.142870",
     "exception": false,
     "start_time": "2021-03-03T22:15:17.630471",
     "status": "completed"
    },
    "tags": []
   },
   "outputs": [],
   "source": [
    "model.fit(X_train, y_train)\n",
    "y_pred = model.predict(X_valid)"
   ]
  },
  {
   "cell_type": "markdown",
   "metadata": {
    "papermill": {
     "duration": 0.115068,
     "end_time": "2021-03-03T22:15:19.373439",
     "exception": false,
     "start_time": "2021-03-03T22:15:19.258371",
     "status": "completed"
    },
    "tags": []
   },
   "source": [
    "## **Кривая ROC AUC**"
   ]
  },
  {
   "cell_type": "code",
   "execution_count": 67,
   "metadata": {
    "execution": {
     "iopub.execute_input": "2021-03-03T22:15:19.611607Z",
     "iopub.status.busy": "2021-03-03T22:15:19.610501Z",
     "iopub.status.idle": "2021-03-03T22:15:19.865201Z",
     "shell.execute_reply": "2021-03-03T22:15:19.865735Z"
    },
    "papermill": {
     "duration": 0.37766,
     "end_time": "2021-03-03T22:15:19.865928",
     "exception": false,
     "start_time": "2021-03-03T22:15:19.488268",
     "status": "completed"
    },
    "tags": []
   },
   "outputs": [
    {
     "data": {
      "image/png": "[encoded data removed]",
      "text/plain": [
       "<Figure size 1080x720 with 1 Axes>"
      ]
     },
     "metadata": {
      "needs_background": "light"
     },
     "output_type": "display_data"
    }
   ],
   "source": [
    "probs = model.predict_proba(X_valid)\n",
    "probs = probs[:,1]\n",
    "\n",
    "\n",
    "fpr, tpr, threshold = roc_curve(y_valid, probs)\n",
    "roc_auc = roc_auc_score(y_valid, probs)\n",
    "\n",
    "plt.figure()\n",
    "plt.plot([0, 1], label='Baseline', linestyle='--')\n",
    "plt.plot(fpr, tpr, label = 'Regression')\n",
    "plt.title('Logistic Regression ROC AUC = %0.3f' % roc_auc)\n",
    "plt.ylabel('True Positive Rate')\n",
    "plt.xlabel('False Positive Rate')\n",
    "plt.legend(loc = 'lower right')\n",
    "plt.show()"
   ]
  },
  {
   "cell_type": "markdown",
   "metadata": {
    "papermill": {
     "duration": 0.122639,
     "end_time": "2021-03-03T22:15:20.112781",
     "exception": false,
     "start_time": "2021-03-03T22:15:19.990142",
     "status": "completed"
    },
    "tags": []
   },
   "source": [
    "Значение ROC AUC довольно высоко, но попробуем улучшить его с помощью подбора гипермараметров."
   ]
  },
  {
   "cell_type": "code",
   "execution_count": 68,
   "metadata": {
    "execution": {
     "iopub.execute_input": "2021-03-03T22:15:20.356729Z",
     "iopub.status.busy": "2021-03-03T22:15:20.355710Z",
     "iopub.status.idle": "2021-03-03T22:15:20.378937Z",
     "shell.execute_reply": "2021-03-03T22:15:20.378339Z"
    },
    "papermill": {
     "duration": 0.146492,
     "end_time": "2021-03-03T22:15:20.379094",
     "exception": false,
     "start_time": "2021-03-03T22:15:20.232602",
     "status": "completed"
    },
    "tags": []
   },
   "outputs": [
    {
     "name": "stdout",
     "output_type": "stream",
     "text": [
      "accuracy_score: 0.875\n",
      "precision_score: 0.41346153846153844\n",
      "recall_score: 0.02353585112205802\n",
      "f1_score: 0.044536509580528225\n"
     ]
    }
   ],
   "source": [
    "print('accuracy_score:',accuracy_score(y_valid,y_pred))\n",
    "print('precision_score:',precision_score(y_valid,y_pred))\n",
    "print('recall_score:',recall_score(y_valid,y_pred))\n",
    "print('f1_score:',f1_score(y_valid,y_pred))"
   ]
  },
  {
   "cell_type": "markdown",
   "metadata": {
    "papermill": {
     "duration": 0.117269,
     "end_time": "2021-03-03T22:15:20.613171",
     "exception": false,
     "start_time": "2021-03-03T22:15:20.495902",
     "status": "completed"
    },
    "tags": []
   },
   "source": [
    "Судя по метрикам, модель достаточно плохо справляется..."
   ]
  },
  {
   "cell_type": "markdown",
   "metadata": {
    "papermill": {
     "duration": 0.121917,
     "end_time": "2021-03-03T22:15:20.851930",
     "exception": false,
     "start_time": "2021-03-03T22:15:20.730013",
     "status": "completed"
    },
    "tags": []
   },
   "source": [
    "### Confusion matrix"
   ]
  },
  {
   "cell_type": "code",
   "execution_count": 69,
   "metadata": {
    "execution": {
     "iopub.execute_input": "2021-03-03T22:15:21.096874Z",
     "iopub.status.busy": "2021-03-03T22:15:21.096174Z",
     "iopub.status.idle": "2021-03-03T22:15:21.367458Z",
     "shell.execute_reply": "2021-03-03T22:15:21.366714Z"
    },
    "papermill": {
     "duration": 0.396034,
     "end_time": "2021-03-03T22:15:21.367623",
     "exception": false,
     "start_time": "2021-03-03T22:15:20.971589",
     "status": "completed"
    },
    "tags": []
   },
   "outputs": [
    {
     "data": {
      "text/plain": [
       "[Text(0.5, 0, 'Predicted'), Text(0, 0.5, 'True')]"
      ]
     },
     "execution_count": 69,
     "metadata": {},
     "output_type": "execute_result"
    },
    {
     "data": {
      "image/png": "[encoded data removed]",
      "text/plain": [
       "<Figure size 1080x720 with 2 Axes>"
      ]
     },
     "metadata": {
      "needs_background": "light"
     },
     "output_type": "display_data"
    }
   ],
   "source": [
    "cm = confusion_matrix(y_valid, y_pred)\n",
    "cmd = ConfusionMatrixDisplay(cm, display_labels=['non_default','default'])\n",
    "cmd.plot()\n",
    "cmd.ax_.set(xlabel='Predicted', ylabel='True')"
   ]
  },
  {
   "cell_type": "markdown",
   "metadata": {
    "papermill": {
     "duration": 0.11836,
     "end_time": "2021-03-03T22:15:21.605632",
     "exception": false,
     "start_time": "2021-03-03T22:15:21.487272",
     "status": "completed"
    },
    "tags": []
   },
   "source": [
    "Недефолтных клиентов модель предсказывает хорошо: 12880 из 14665, т.е. 87.8 %, однако, дефолтных клиентов модель предсказывает не так хорошо: 53 из 95, т.е. 56.7%, что мне кажется плохим результатом. Получается, наша модель будет выдавть кредит практически всем клиентам....Возможно, это связано с несбалансированностью нашей выборки.\n",
    "Попробуем обучить модель с гиперпараметрами."
   ]
  },
  {
   "cell_type": "markdown",
   "metadata": {
    "papermill": {
     "duration": 0.118924,
     "end_time": "2021-03-03T22:15:21.842961",
     "exception": false,
     "start_time": "2021-03-03T22:15:21.724037",
     "status": "completed"
    },
    "tags": []
   },
   "source": [
    "# Модель с гиперпараметрами"
   ]
  },
  {
   "cell_type": "markdown",
   "metadata": {
    "papermill": {
     "duration": 0.119917,
     "end_time": "2021-03-03T22:15:22.081433",
     "exception": false,
     "start_time": "2021-03-03T22:15:21.961516",
     "status": "completed"
    },
    "tags": []
   },
   "source": [
    "### Используем RandomizedSearchCV. Помог данный сайт: http://espressocode.top/ml-hyperparameter-tuning/"
   ]
  },
  {
   "cell_type": "code",
   "execution_count": 70,
   "metadata": {
    "execution": {
     "iopub.execute_input": "2021-03-03T22:15:22.324527Z",
     "iopub.status.busy": "2021-03-03T22:15:22.323520Z",
     "iopub.status.idle": "2021-03-03T22:15:22.359620Z",
     "shell.execute_reply": "2021-03-03T22:15:22.359053Z"
    },
    "papermill": {
     "duration": 0.160192,
     "end_time": "2021-03-03T22:15:22.359772",
     "exception": false,
     "start_time": "2021-03-03T22:15:22.199580",
     "status": "completed"
    },
    "tags": []
   },
   "outputs": [],
   "source": [
    "train_df = df.query('sample == 1').drop(['sample','client_id'], axis=1)\n",
    "test_df = df.query('sample == 0').drop(['sample','client_id'], axis=1)"
   ]
  },
  {
   "cell_type": "code",
   "execution_count": 71,
   "metadata": {
    "execution": {
     "iopub.execute_input": "2021-03-03T22:15:22.607562Z",
     "iopub.status.busy": "2021-03-03T22:15:22.606319Z",
     "iopub.status.idle": "2021-03-03T22:15:22.620113Z",
     "shell.execute_reply": "2021-03-03T22:15:22.619375Z"
    },
    "papermill": {
     "duration": 0.141311,
     "end_time": "2021-03-03T22:15:22.620275",
     "exception": false,
     "start_time": "2021-03-03T22:15:22.478964",
     "status": "completed"
    },
    "tags": []
   },
   "outputs": [],
   "source": [
    "X = train_df.drop(['default'], axis=1).values\n",
    "y = train_df['default'].values # целевая переменная"
   ]
  },
  {
   "cell_type": "code",
   "execution_count": 72,
   "metadata": {
    "execution": {
     "iopub.execute_input": "2021-03-03T22:15:22.869388Z",
     "iopub.status.busy": "2021-03-03T22:15:22.868623Z",
     "iopub.status.idle": "2021-03-03T22:15:22.903681Z",
     "shell.execute_reply": "2021-03-03T22:15:22.902776Z"
    },
    "papermill": {
     "duration": 0.163143,
     "end_time": "2021-03-03T22:15:22.903853",
     "exception": false,
     "start_time": "2021-03-03T22:15:22.740710",
     "status": "completed"
    },
    "tags": []
   },
   "outputs": [],
   "source": [
    "X_train, X_valid, y_train, y_valid = train_test_split(X, y, test_size=0.20, random_state=42)"
   ]
  },
  {
   "cell_type": "code",
   "execution_count": 73,
   "metadata": {
    "execution": {
     "iopub.execute_input": "2021-03-03T22:15:23.150590Z",
     "iopub.status.busy": "2021-03-03T22:15:23.149699Z",
     "iopub.status.idle": "2021-03-03T22:15:23.152707Z",
     "shell.execute_reply": "2021-03-03T22:15:23.153179Z"
    },
    "papermill": {
     "duration": 0.129764,
     "end_time": "2021-03-03T22:15:23.153349",
     "exception": false,
     "start_time": "2021-03-03T22:15:23.023585",
     "status": "completed"
    },
    "tags": []
   },
   "outputs": [],
   "source": [
    "param_dist = {\"max_depth\": [3, None],\n",
    "\n",
    "              \"max_features\": randint(1, 9),\n",
    "\n",
    "              \"min_samples_leaf\": randint(1, 9),\n",
    "\n",
    "              \"criterion\": [\"gini\", \"entropy\"]}"
   ]
  },
  {
   "cell_type": "code",
   "execution_count": 74,
   "metadata": {
    "execution": {
     "iopub.execute_input": "2021-03-03T22:15:23.394577Z",
     "iopub.status.busy": "2021-03-03T22:15:23.393942Z",
     "iopub.status.idle": "2021-03-03T22:15:23.397365Z",
     "shell.execute_reply": "2021-03-03T22:15:23.396737Z"
    },
    "papermill": {
     "duration": 0.126121,
     "end_time": "2021-03-03T22:15:23.397500",
     "exception": false,
     "start_time": "2021-03-03T22:15:23.271379",
     "status": "completed"
    },
    "tags": []
   },
   "outputs": [],
   "source": [
    " tree = DecisionTreeClassifier() # дерево решений"
   ]
  },
  {
   "cell_type": "code",
   "execution_count": 75,
   "metadata": {
    "execution": {
     "iopub.execute_input": "2021-03-03T22:15:23.639789Z",
     "iopub.status.busy": "2021-03-03T22:15:23.639178Z",
     "iopub.status.idle": "2021-03-03T22:15:23.641734Z",
     "shell.execute_reply": "2021-03-03T22:15:23.642200Z"
    },
    "papermill": {
     "duration": 0.125899,
     "end_time": "2021-03-03T22:15:23.642368",
     "exception": false,
     "start_time": "2021-03-03T22:15:23.516469",
     "status": "completed"
    },
    "tags": []
   },
   "outputs": [],
   "source": [
    "# Создание объекта RandomizedSearchCV\n",
    "tree_cv = RandomizedSearchCV(tree, param_dist, cv = 5)"
   ]
  },
  {
   "cell_type": "code",
   "execution_count": 76,
   "metadata": {
    "execution": {
     "iopub.execute_input": "2021-03-03T22:15:23.886401Z",
     "iopub.status.busy": "2021-03-03T22:15:23.885685Z",
     "iopub.status.idle": "2021-03-03T22:15:27.565409Z",
     "shell.execute_reply": "2021-03-03T22:15:27.564680Z"
    },
    "papermill": {
     "duration": 3.803351,
     "end_time": "2021-03-03T22:15:27.565555",
     "exception": false,
     "start_time": "2021-03-03T22:15:23.762204",
     "status": "completed"
    },
    "tags": []
   },
   "outputs": [],
   "source": [
    "model_2 = tree_cv.fit(X_train, y_train)"
   ]
  },
  {
   "cell_type": "code",
   "execution_count": 77,
   "metadata": {
    "execution": {
     "iopub.execute_input": "2021-03-03T22:15:27.812446Z",
     "iopub.status.busy": "2021-03-03T22:15:27.811655Z",
     "iopub.status.idle": "2021-03-03T22:15:27.815843Z",
     "shell.execute_reply": "2021-03-03T22:15:27.815181Z"
    },
    "papermill": {
     "duration": 0.13066,
     "end_time": "2021-03-03T22:15:27.815996",
     "exception": false,
     "start_time": "2021-03-03T22:15:27.685336",
     "status": "completed"
    },
    "tags": []
   },
   "outputs": [
    {
     "name": "stdout",
     "output_type": "stream",
     "text": [
      "Tuned Decision Tree Parameters: {'criterion': 'gini', 'max_depth': 3, 'max_features': 6, 'min_samples_leaf': 8}\n",
      "Результат: 0.87220311982488\n"
     ]
    }
   ],
   "source": [
    "print(\"Tuned Decision Tree Parameters: {}\".format(tree_cv.best_params_))\n",
    "print(\"Результат: {}\".format(tree_cv.best_score_))"
   ]
  },
  {
   "cell_type": "markdown",
   "metadata": {
    "papermill": {
     "duration": 0.121205,
     "end_time": "2021-03-03T22:15:28.059160",
     "exception": false,
     "start_time": "2021-03-03T22:15:27.937955",
     "status": "completed"
    },
    "tags": []
   },
   "source": [
    "Обучаем с параметрами"
   ]
  },
  {
   "cell_type": "code",
   "execution_count": 78,
   "metadata": {
    "execution": {
     "iopub.execute_input": "2021-03-03T22:15:28.306237Z",
     "iopub.status.busy": "2021-03-03T22:15:28.305218Z",
     "iopub.status.idle": "2021-03-03T22:15:28.308418Z",
     "shell.execute_reply": "2021-03-03T22:15:28.307766Z"
    },
    "papermill": {
     "duration": 0.127903,
     "end_time": "2021-03-03T22:15:28.308561",
     "exception": false,
     "start_time": "2021-03-03T22:15:28.180658",
     "status": "completed"
    },
    "tags": []
   },
   "outputs": [],
   "source": [
    " tree = DecisionTreeClassifier(criterion='gini',max_depth=3, max_features=7, min_samples_leaf=5)"
   ]
  },
  {
   "cell_type": "code",
   "execution_count": 79,
   "metadata": {
    "execution": {
     "iopub.execute_input": "2021-03-03T22:15:28.554248Z",
     "iopub.status.busy": "2021-03-03T22:15:28.552979Z",
     "iopub.status.idle": "2021-03-03T22:15:28.613891Z",
     "shell.execute_reply": "2021-03-03T22:15:28.613270Z"
    },
    "papermill": {
     "duration": 0.185873,
     "end_time": "2021-03-03T22:15:28.614037",
     "exception": false,
     "start_time": "2021-03-03T22:15:28.428164",
     "status": "completed"
    },
    "tags": []
   },
   "outputs": [],
   "source": [
    "model_2 = tree.fit(X_train, y_train)"
   ]
  },
  {
   "cell_type": "markdown",
   "metadata": {
    "papermill": {
     "duration": 0.118963,
     "end_time": "2021-03-03T22:15:28.852668",
     "exception": false,
     "start_time": "2021-03-03T22:15:28.733705",
     "status": "completed"
    },
    "tags": []
   },
   "source": [
    "## Кривая ROC AUC"
   ]
  },
  {
   "cell_type": "code",
   "execution_count": 80,
   "metadata": {
    "execution": {
     "iopub.execute_input": "2021-03-03T22:15:29.105468Z",
     "iopub.status.busy": "2021-03-03T22:15:29.104369Z",
     "iopub.status.idle": "2021-03-03T22:15:29.359467Z",
     "shell.execute_reply": "2021-03-03T22:15:29.358823Z"
    },
    "papermill": {
     "duration": 0.384068,
     "end_time": "2021-03-03T22:15:29.359614",
     "exception": false,
     "start_time": "2021-03-03T22:15:28.975546",
     "status": "completed"
    },
    "tags": []
   },
   "outputs": [
    {
     "data": {
      "image/png": "[encoded data removed]",
      "text/plain": [
       "<Figure size 1080x720 with 1 Axes>"
      ]
     },
     "metadata": {
      "needs_background": "light"
     },
     "output_type": "display_data"
    }
   ],
   "source": [
    "probs = model_2.predict_proba(X_valid)\n",
    "probs = probs[:,1]\n",
    "\n",
    "\n",
    "fpr, tpr, threshold = roc_curve(y_valid, probs)\n",
    "roc_auc = roc_auc_score(y_valid, probs)\n",
    "\n",
    "plt.figure()\n",
    "plt.plot([0, 1], label='Baseline', linestyle='--')\n",
    "plt.plot(fpr, tpr, label = 'Regression')\n",
    "plt.title('Logistic Regression ROC AUC = %0.3f' % roc_auc)\n",
    "plt.ylabel('True Positive Rate')\n",
    "plt.xlabel('False Positive Rate')\n",
    "plt.legend(loc = 'lower right')\n",
    "plt.show()"
   ]
  },
  {
   "cell_type": "markdown",
   "metadata": {
    "papermill": {
     "duration": 0.121534,
     "end_time": "2021-03-03T22:15:29.603278",
     "exception": false,
     "start_time": "2021-03-03T22:15:29.481744",
     "status": "completed"
    },
    "tags": []
   },
   "source": [
    "Значение ROC AUC уменьшилось :("
   ]
  },
  {
   "cell_type": "markdown",
   "metadata": {
    "papermill": {
     "duration": 0.121297,
     "end_time": "2021-03-03T22:15:29.845728",
     "exception": false,
     "start_time": "2021-03-03T22:15:29.724431",
     "status": "completed"
    },
    "tags": []
   },
   "source": [
    "### Пробуем использовать GridSearchCV"
   ]
  },
  {
   "cell_type": "markdown",
   "metadata": {
    "papermill": {
     "duration": 0.14048,
     "end_time": "2021-03-03T22:15:30.117530",
     "exception": false,
     "start_time": "2021-03-03T22:15:29.977050",
     "status": "completed"
    },
    "tags": []
   },
   "source": [
    "#### Код для поиска параметров подсмотрен у [данного](http://www.kaggle.com/sokolovaleks/sf-dst-10-creditscoring-golobokov-sokolov) автора"
   ]
  },
  {
   "cell_type": "code",
   "execution_count": 81,
   "metadata": {
    "execution": {
     "iopub.execute_input": "2021-03-03T22:15:30.371915Z",
     "iopub.status.busy": "2021-03-03T22:15:30.371198Z",
     "iopub.status.idle": "2021-03-03T22:16:17.018535Z",
     "shell.execute_reply": "2021-03-03T22:16:17.017556Z"
    },
    "papermill": {
     "duration": 46.78014,
     "end_time": "2021-03-03T22:16:17.018774",
     "exception": false,
     "start_time": "2021-03-03T22:15:30.238634",
     "status": "completed"
    },
    "tags": []
   },
   "outputs": [
    {
     "name": "stderr",
     "output_type": "stream",
     "text": [
      "/opt/conda/lib/python3.7/site-packages/sklearn/model_selection/_search.py:921: UserWarning: One or more of the test scores are non-finite: [       nan        nan        nan        nan 0.34027268        nan\n",
      " 0.34037431        nan 0.05781712 0.05751194        nan 0.05708575\n",
      " 0.05732705 0.05781712 0.05751194        nan 0.05708147 0.05732705\n",
      " 0.34022758 0.33997715 0.34022762 0.34042106 0.34024062 0.34022758\n",
      " 0.33997715 0.34022762 0.34027336 0.34028642 0.05780893 0.05751194\n",
      " 0.05756412 0.05757185 0.05780893 0.05751194 0.05781712 0.05757185\n",
      " 0.34021569 0.33999986 0.34020282 0.34026357 0.34021569 0.33999986\n",
      " 0.34000186 0.34027514]\n",
      "  category=UserWarning\n"
     ]
    },
    {
     "name": "stdout",
     "output_type": "stream",
     "text": [
      "\tC: 1.0\n",
      "\tclass_weight: 'balanced'\n",
      "\tdual: False\n",
      "\tfit_intercept: True\n",
      "\tintercept_scaling: 1\n",
      "\tl1_ratio: None\n",
      "\tmax_iter: 15\n",
      "\tmulti_class: 'auto'\n",
      "\tn_jobs: None\n",
      "\tpenalty: 'l2'\n",
      "\trandom_state: None\n",
      "\tsolver: 'sag'\n",
      "\ttol: 0.001\n",
      "\tverbose: 0\n",
      "\twarm_start: False\n",
      "Accuracy: 0.6700\n",
      "Precision: 0.2258\n",
      "Recall: 0.6858\n",
      "F1: 0.3397\n"
     ]
    },
    {
     "name": "stderr",
     "output_type": "stream",
     "text": [
      "/opt/conda/lib/python3.7/site-packages/sklearn/linear_model/_sag.py:329: ConvergenceWarning: The max_iter was reached which means the coef_ did not converge\n",
      "  \"the coef_ did not converge\", ConvergenceWarning)\n"
     ]
    }
   ],
   "source": [
    "iter_ = 15\n",
    "epsilon_stop = 1e-3\n",
    "\n",
    "param_grid = [\n",
    "    {'penalty': ['l1'], \n",
    "     'solver': ['liblinear', 'lbfgs'], \n",
    "     'class_weight':['none', 'balanced'], \n",
    "     'multi_class': ['auto','ovr'], \n",
    "     'max_iter':[iter_],\n",
    "     'tol':[epsilon_stop]},\n",
    "    {'penalty': ['l2'], \n",
    "     'solver': ['newton-cg', 'lbfgs', 'liblinear', 'sag', 'saga'], \n",
    "     'class_weight':['none', 'balanced'], \n",
    "     'multi_class': ['auto','ovr'], \n",
    "     'max_iter':[iter_],\n",
    "     'tol':[epsilon_stop]},\n",
    "    {'penalty': ['none'], \n",
    "     'solver': ['newton-cg', 'lbfgs', 'sag', 'saga'], \n",
    "     'class_weight':['none', 'balanced'], \n",
    "     'multi_class': ['auto','ovr'], \n",
    "     'max_iter':[iter_],\n",
    "     'tol':[epsilon_stop]},\n",
    "]\n",
    "\n",
    "gridsearch = GridSearchCV(model, param_grid, scoring='f1', n_jobs=-1, cv=5)\n",
    "gridsearch.fit(X_train, y_train)\n",
    "model = gridsearch.best_estimator_\n",
    "\n",
    "best_parameters = model.get_params()\n",
    "for param_name in sorted(best_parameters.keys()):\n",
    "        print('\\t%s: %r' % (param_name, best_parameters[param_name]))\n",
    "\n",
    "preds = model.predict(X_valid)\n",
    "print('Accuracy: %.4f' % accuracy_score(y_valid, preds))\n",
    "print('Precision: %.4f' % precision_score(y_valid, preds))\n",
    "print('Recall: %.4f' % recall_score(y_valid, preds))\n",
    "print('F1: %.4f' % f1_score(y_valid, preds))"
   ]
  },
  {
   "cell_type": "markdown",
   "metadata": {
    "papermill": {
     "duration": 0.1235,
     "end_time": "2021-03-03T22:16:17.269069",
     "exception": false,
     "start_time": "2021-03-03T22:16:17.145569",
     "status": "completed"
    },
    "tags": []
   },
   "source": [
    "### Подстраиваем параметры"
   ]
  },
  {
   "cell_type": "code",
   "execution_count": 82,
   "metadata": {
    "execution": {
     "iopub.execute_input": "2021-03-03T22:16:17.524310Z",
     "iopub.status.busy": "2021-03-03T22:16:17.523624Z",
     "iopub.status.idle": "2021-03-03T22:16:35.445576Z",
     "shell.execute_reply": "2021-03-03T22:16:35.444878Z"
    },
    "papermill": {
     "duration": 18.052486,
     "end_time": "2021-03-03T22:16:35.445728",
     "exception": false,
     "start_time": "2021-03-03T22:16:17.393242",
     "status": "completed"
    },
    "tags": []
   },
   "outputs": [],
   "source": [
    "best_model = LogisticRegression(random_state=42, C=1,  class_weight='balanced', dual=False, \n",
    "                            fit_intercept=True, intercept_scaling=1, l1_ratio=None, multi_class='auto',\n",
    "                             n_jobs=None, penalty='l1', solver='saga',tol=0.001, verbose=0, warm_start=False,max_iter=1000)\n",
    "\n",
    "best_model.fit(X_train, y_train)\n",
    "y_pred_prob = best_model.predict_proba(X_valid)[:,1]\n",
    "y_pred = best_model.predict(X_valid)"
   ]
  },
  {
   "cell_type": "code",
   "execution_count": 83,
   "metadata": {
    "execution": {
     "iopub.execute_input": "2021-03-03T22:16:35.701232Z",
     "iopub.status.busy": "2021-03-03T22:16:35.700295Z",
     "iopub.status.idle": "2021-03-03T22:16:35.704083Z",
     "shell.execute_reply": "2021-03-03T22:16:35.704561Z"
    },
    "papermill": {
     "duration": 0.134244,
     "end_time": "2021-03-03T22:16:35.704725",
     "exception": false,
     "start_time": "2021-03-03T22:16:35.570481",
     "status": "completed"
    },
    "tags": []
   },
   "outputs": [
    {
     "data": {
      "text/plain": [
       "array([0.62865162, 0.57753206, 0.33041184, ..., 0.44114756, 0.46396166,\n",
       "       0.34036064])"
      ]
     },
     "execution_count": 83,
     "metadata": {},
     "output_type": "execute_result"
    }
   ],
   "source": [
    "y_pred_prob"
   ]
  },
  {
   "cell_type": "code",
   "execution_count": 84,
   "metadata": {
    "execution": {
     "iopub.execute_input": "2021-03-03T22:16:35.962118Z",
     "iopub.status.busy": "2021-03-03T22:16:35.961078Z",
     "iopub.status.idle": "2021-03-03T22:16:35.994201Z",
     "shell.execute_reply": "2021-03-03T22:16:35.994720Z"
    },
    "papermill": {
     "duration": 0.166816,
     "end_time": "2021-03-03T22:16:35.994948",
     "exception": false,
     "start_time": "2021-03-03T22:16:35.828132",
     "status": "completed"
    },
    "tags": []
   },
   "outputs": [
    {
     "name": "stdout",
     "output_type": "stream",
     "text": [
      "accuracy_score: 0.6699864498644986\n",
      "precision_score: 0.22566690699351116\n",
      "recall_score: 0.6852764094143404\n",
      "f1_score: 0.33952542372881356\n"
     ]
    }
   ],
   "source": [
    "print('accuracy_score:',accuracy_score(y_valid,y_pred))\n",
    "print('precision_score:',precision_score(y_valid,y_pred))\n",
    "print('recall_score:',recall_score(y_valid,y_pred))\n",
    "print('f1_score:',f1_score(y_valid,y_pred))"
   ]
  },
  {
   "cell_type": "code",
   "execution_count": 85,
   "metadata": {
    "execution": {
     "iopub.execute_input": "2021-03-03T22:16:36.269203Z",
     "iopub.status.busy": "2021-03-03T22:16:36.268269Z",
     "iopub.status.idle": "2021-03-03T22:16:36.530888Z",
     "shell.execute_reply": "2021-03-03T22:16:36.530271Z"
    },
    "papermill": {
     "duration": 0.390412,
     "end_time": "2021-03-03T22:16:36.531025",
     "exception": false,
     "start_time": "2021-03-03T22:16:36.140613",
     "status": "completed"
    },
    "tags": []
   },
   "outputs": [
    {
     "data": {
      "image/png": "[encoded data removed]",
      "text/plain": [
       "<Figure size 1080x720 with 1 Axes>"
      ]
     },
     "metadata": {
      "needs_background": "light"
     },
     "output_type": "display_data"
    }
   ],
   "source": [
    "probs = best_model.predict_proba(X_valid)\n",
    "probs = probs[:,1]\n",
    "\n",
    "\n",
    "fpr, tpr, threshold = roc_curve(y_valid, probs)\n",
    "roc_auc = roc_auc_score(y_valid, probs)\n",
    "\n",
    "plt.figure()\n",
    "plt.plot([0, 1], label='Baseline', linestyle='--')\n",
    "plt.plot(fpr, tpr, label = 'Regression')\n",
    "plt.title('Logistic Regression ROC AUC = %0.3f' % roc_auc)\n",
    "plt.ylabel('True Positive Rate')\n",
    "plt.xlabel('False Positive Rate')\n",
    "plt.legend(loc = 'lower right')\n",
    "plt.show()"
   ]
  },
  {
   "cell_type": "markdown",
   "metadata": {
    "papermill": {
     "duration": 0.12604,
     "end_time": "2021-03-03T22:16:36.783618",
     "exception": false,
     "start_time": "2021-03-03T22:16:36.657578",
     "status": "completed"
    },
    "tags": []
   },
   "source": [
    "Даже с гиперпараметрами значение ROC AUC не изменилось. Зато видно улучшение в значении некоторых метрик."
   ]
  },
  {
   "cell_type": "markdown",
   "metadata": {
    "papermill": {
     "duration": 0.127762,
     "end_time": "2021-03-03T22:16:37.039267",
     "exception": false,
     "start_time": "2021-03-03T22:16:36.911505",
     "status": "completed"
    },
    "tags": []
   },
   "source": [
    "# SUBMISSION"
   ]
  },
  {
   "cell_type": "code",
   "execution_count": 86,
   "metadata": {
    "execution": {
     "iopub.execute_input": "2021-03-03T22:16:37.299142Z",
     "iopub.status.busy": "2021-03-03T22:16:37.298020Z",
     "iopub.status.idle": "2021-03-03T22:16:37.347989Z",
     "shell.execute_reply": "2021-03-03T22:16:37.347322Z"
    },
    "papermill": {
     "duration": 0.181512,
     "end_time": "2021-03-03T22:16:37.348134",
     "exception": false,
     "start_time": "2021-03-03T22:16:37.166622",
     "status": "completed"
    },
    "tags": []
   },
   "outputs": [],
   "source": [
    "train_data = data.query('sample == 1').drop(['sample','client_id'], axis=1)\n",
    "test_data = data.query('sample == 0').drop(['sample','client_id'], axis=1)"
   ]
  },
  {
   "cell_type": "code",
   "execution_count": 87,
   "metadata": {
    "execution": {
     "iopub.execute_input": "2021-03-03T22:16:37.612241Z",
     "iopub.status.busy": "2021-03-03T22:16:37.611173Z",
     "iopub.status.idle": "2021-03-03T22:16:37.618584Z",
     "shell.execute_reply": "2021-03-03T22:16:37.617956Z"
    },
    "papermill": {
     "duration": 0.142815,
     "end_time": "2021-03-03T22:16:37.618720",
     "exception": false,
     "start_time": "2021-03-03T22:16:37.475905",
     "status": "completed"
    },
    "tags": []
   },
   "outputs": [],
   "source": [
    "X_train = train_data.drop(['default'], axis=1)\n",
    "y_train = train_data.default.values\n",
    "X_test = test_data.drop(['default'], axis=1)"
   ]
  },
  {
   "cell_type": "code",
   "execution_count": 88,
   "metadata": {
    "execution": {
     "iopub.execute_input": "2021-03-03T22:16:37.872523Z",
     "iopub.status.busy": "2021-03-03T22:16:37.871856Z",
     "iopub.status.idle": "2021-03-03T22:16:37.877377Z",
     "shell.execute_reply": "2021-03-03T22:16:37.877895Z"
    },
    "papermill": {
     "duration": 0.133833,
     "end_time": "2021-03-03T22:16:37.878065",
     "exception": false,
     "start_time": "2021-03-03T22:16:37.744232",
     "status": "completed"
    },
    "tags": []
   },
   "outputs": [
    {
     "data": {
      "text/plain": [
       "((36349, 38), (73799, 38), (73799, 37), (73799,), (36349, 37))"
      ]
     },
     "execution_count": 88,
     "metadata": {},
     "output_type": "execute_result"
    }
   ],
   "source": [
    "test_data.shape, train_data.shape, X_train.shape, y_train.shape, X_test.shape"
   ]
  },
  {
   "cell_type": "code",
   "execution_count": 89,
   "metadata": {
    "execution": {
     "iopub.execute_input": "2021-03-03T22:16:38.139362Z",
     "iopub.status.busy": "2021-03-03T22:16:38.138608Z",
     "iopub.status.idle": "2021-03-03T22:16:42.053920Z",
     "shell.execute_reply": "2021-03-03T22:16:42.054481Z"
    },
    "papermill": {
     "duration": 4.046557,
     "end_time": "2021-03-03T22:16:42.054653",
     "exception": false,
     "start_time": "2021-03-03T22:16:38.008096",
     "status": "completed"
    },
    "tags": []
   },
   "outputs": [],
   "source": [
    "last_model = LogisticRegression(random_state=42, C=1,  class_weight='balanced', dual=False, \n",
    "                            fit_intercept=True, intercept_scaling=1, l1_ratio=None, multi_class='auto',\n",
    "                             n_jobs=None, penalty='l1', solver='saga',tol=0.001, verbose=0, warm_start=False,max_iter=1000)\n",
    "\n",
    "last_model.fit(X_train, y_train)\n",
    "y_pred_prob = last_model.predict_proba(X_test)[:,1]\n",
    "y_pred = last_model.predict(X_test)"
   ]
  },
  {
   "cell_type": "code",
   "execution_count": 90,
   "metadata": {
    "execution": {
     "iopub.execute_input": "2021-03-03T22:16:42.319642Z",
     "iopub.status.busy": "2021-03-03T22:16:42.318974Z",
     "iopub.status.idle": "2021-03-03T22:16:42.458168Z",
     "shell.execute_reply": "2021-03-03T22:16:42.457486Z"
    },
    "papermill": {
     "duration": 0.274012,
     "end_time": "2021-03-03T22:16:42.458322",
     "exception": false,
     "start_time": "2021-03-03T22:16:42.184310",
     "status": "completed"
    },
    "tags": []
   },
   "outputs": [],
   "source": [
    "submit = pd.DataFrame(test.client_id)\n",
    "submit['default']=y_pred_prob\n",
    "submit.to_csv('submission.csv', index=False)"
   ]
  },
  {
   "cell_type": "code",
   "execution_count": 91,
   "metadata": {
    "execution": {
     "iopub.execute_input": "2021-03-03T22:16:42.725928Z",
     "iopub.status.busy": "2021-03-03T22:16:42.725207Z",
     "iopub.status.idle": "2021-03-03T22:16:42.729592Z",
     "shell.execute_reply": "2021-03-03T22:16:42.728971Z"
    },
    "papermill": {
     "duration": 0.143785,
     "end_time": "2021-03-03T22:16:42.729736",
     "exception": false,
     "start_time": "2021-03-03T22:16:42.585951",
     "status": "completed"
    },
    "tags": []
   },
   "outputs": [
    {
     "data": {
      "text/html": [
       "<div>\n",
       "<style scoped>\n",
       "    .dataframe tbody tr th:only-of-type {\n",
       "        vertical-align: middle;\n",
       "    }\n",
       "\n",
       "    .dataframe tbody tr th {\n",
       "        vertical-align: top;\n",
       "    }\n",
       "\n",
       "    .dataframe thead th {\n",
       "        text-align: right;\n",
       "    }\n",
       "</style>\n",
       "<table border=\"1\" class=\"dataframe\">\n",
       "  <thead>\n",
       "    <tr style=\"text-align: right;\">\n",
       "      <th></th>\n",
       "      <th>client_id</th>\n",
       "      <th>default</th>\n",
       "    </tr>\n",
       "  </thead>\n",
       "  <tbody>\n",
       "    <tr>\n",
       "      <th>0</th>\n",
       "      <td>74835</td>\n",
       "      <td>0.205956</td>\n",
       "    </tr>\n",
       "    <tr>\n",
       "      <th>1</th>\n",
       "      <td>17527</td>\n",
       "      <td>0.803475</td>\n",
       "    </tr>\n",
       "    <tr>\n",
       "      <th>2</th>\n",
       "      <td>75683</td>\n",
       "      <td>0.322499</td>\n",
       "    </tr>\n",
       "    <tr>\n",
       "      <th>3</th>\n",
       "      <td>26883</td>\n",
       "      <td>0.387106</td>\n",
       "    </tr>\n",
       "    <tr>\n",
       "      <th>4</th>\n",
       "      <td>28862</td>\n",
       "      <td>0.141541</td>\n",
       "    </tr>\n",
       "    <tr>\n",
       "      <th>...</th>\n",
       "      <td>...</td>\n",
       "      <td>...</td>\n",
       "    </tr>\n",
       "    <tr>\n",
       "      <th>36344</th>\n",
       "      <td>83775</td>\n",
       "      <td>0.785098</td>\n",
       "    </tr>\n",
       "    <tr>\n",
       "      <th>36345</th>\n",
       "      <td>106254</td>\n",
       "      <td>0.082720</td>\n",
       "    </tr>\n",
       "    <tr>\n",
       "      <th>36346</th>\n",
       "      <td>81852</td>\n",
       "      <td>0.790978</td>\n",
       "    </tr>\n",
       "    <tr>\n",
       "      <th>36347</th>\n",
       "      <td>1971</td>\n",
       "      <td>0.637193</td>\n",
       "    </tr>\n",
       "    <tr>\n",
       "      <th>36348</th>\n",
       "      <td>69044</td>\n",
       "      <td>0.717623</td>\n",
       "    </tr>\n",
       "  </tbody>\n",
       "</table>\n",
       "<p>36349 rows × 2 columns</p>\n",
       "</div>"
      ],
      "text/plain": [
       "       client_id   default\n",
       "0          74835  0.205956\n",
       "1          17527  0.803475\n",
       "2          75683  0.322499\n",
       "3          26883  0.387106\n",
       "4          28862  0.141541\n",
       "...          ...       ...\n",
       "36344      83775  0.785098\n",
       "36345     106254  0.082720\n",
       "36346      81852  0.790978\n",
       "36347       1971  0.637193\n",
       "36348      69044  0.717623\n",
       "\n",
       "[36349 rows x 2 columns]"
      ]
     },
     "metadata": {},
     "output_type": "display_data"
    }
   ],
   "source": [
    "display(submit)"
   ]
  }
 ],
 "metadata": {
  "kernelspec": {
   "display_name": "Python 3",
   "language": "python",
   "name": "python3"
  },
  "language_info": {
   "codemirror_mode": {
    "name": "ipython",
    "version": 3
   },
   "file_extension": ".py",
   "mimetype": "text/x-python",
   "name": "python",
   "nbconvert_exporter": "python",
   "pygments_lexer": "ipython3",
   "version": "3.7.9"
  },
  "papermill": {
   "default_parameters": {},
   "duration": 172.2536,
   "end_time": "2021-03-03T22:16:44.073068",
   "environment_variables": {},
   "exception": null,
   "input_path": "__notebook__.ipynb",
   "output_path": "__notebook__.ipynb",
   "parameters": {},
   "start_time": "2021-03-03T22:13:51.819468",
   "version": "2.2.2"
  }
 },
 "nbformat": 4,
 "nbformat_minor": 4
}
