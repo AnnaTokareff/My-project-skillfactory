{
 "cells": [
  {
   "cell_type": "markdown",
   "metadata": {
    "papermill": {
     "duration": 0.029718,
     "end_time": "2020-10-26T12:46:41.276296",
     "exception": false,
     "start_time": "2020-10-26T12:46:41.246578",
     "status": "completed"
    },
    "tags": []
   },
   "source": [
    "<img src=\"https://whatcar.vn/media/2018/09/car-lot-940x470.jpg\"/>\n",
    "\n",
    "## Прогнозирование стоимости автомобиля по характеристикам\n",
    "*Этот Ноутбук является Примером/Шаблоном (Baseline) к этому соревнованию и не служит готовым решением!*   \n",
    "Вы можете использовать его как основу для построения своего решения.\n",
    "\n",
    "\n",
    "> **baseline** создается больше как шаблон, где можно посмотреть как происходит обращение с входящими данными и что нужно получить на выходе. При этом МЛ начинка может быть достаточно простой. Это помогает быстрее приступить к самому МЛ, а не тратить ценное время на чисто инженерные задачи. \n",
    "Также baseline является хорошей опорной точкой по метрике. Если твое решение хуже baseline - ты явно делаешь что-то не то и стоит попробовать другой путь) "
   ]
  },
  {
   "cell_type": "markdown",
   "metadata": {
    "papermill": {
     "duration": 0.028027,
     "end_time": "2020-10-26T12:46:41.334278",
     "exception": false,
     "start_time": "2020-10-26T12:46:41.306251",
     "status": "completed"
    },
    "tags": []
   },
   "source": [
    "Помним, что по условию соревнования, нам нужно самостоятельно собрать обучающий датасет. В этом ноутбуке мы не будем рассматривать сбор данных. Предположим, что мы уже все собрали и просто подключили свой датасет через \"Add Data\", чтобы приступить к самому ML."
   ]
  },
  {
   "cell_type": "code",
   "execution_count": 336,
   "metadata": {
    "_cell_guid": "b1076dfc-b9ad-4769-8c92-a6c4dae69d19",
    "_uuid": "8f2839f25d086af736a60e9eeb907d3b93b6e0e5",
    "execution": {
     "iopub.execute_input": "2021-11-01T09:00:53.505511Z",
     "iopub.status.busy": "2021-11-01T09:00:53.504881Z",
     "iopub.status.idle": "2021-11-01T09:00:54.646056Z",
     "shell.execute_reply": "2021-11-01T09:00:54.644871Z",
     "shell.execute_reply.started": "2021-11-01T09:00:53.505469Z"
    },
    "papermill": {
     "duration": 1.219772,
     "end_time": "2020-10-26T12:46:42.581597",
     "exception": false,
     "start_time": "2020-10-26T12:46:41.361825",
     "status": "completed"
    },
    "tags": []
   },
   "outputs": [],
   "source": [
    "import numpy as np \n",
    "import pandas as pd \n",
    "import re\n",
    "import sys\n",
    "from sklearn.model_selection import train_test_split\n",
    "from sklearn.model_selection import KFold\n",
    "from tqdm.notebook import tqdm\n",
    "from catboost import CatBoostRegressor\n",
    "from sklearn.preprocessing import LabelEncoder\n",
    "import warnings\n",
    "warnings.filterwarnings('ignore')\n"
   ]
  },
  {
   "cell_type": "code",
   "execution_count": 337,
   "metadata": {
    "execution": {
     "iopub.execute_input": "2021-11-01T09:00:54.649744Z",
     "iopub.status.busy": "2021-11-01T09:00:54.649203Z",
     "iopub.status.idle": "2021-11-01T09:00:55.897970Z",
     "shell.execute_reply": "2021-11-01T09:00:55.897003Z",
     "shell.execute_reply.started": "2021-11-01T09:00:54.649692Z"
    }
   },
   "outputs": [],
   "source": [
    "from bs4 import BeautifulSoup\n",
    "import requests as rs\n",
    "from joblib import Parallel, delayed\n",
    "from tqdm import tqdm\n",
    "from itertools import chain\n",
    "import json\n",
    "import time\n",
    "\n",
    "from scipy.stats import ttest_ind\n",
    "import statsmodels.api as sm\n",
    "\n",
    "import matplotlib.pyplot as plt\n",
    "import seaborn as sns\n",
    "\n",
    "from sklearn.preprocessing import LabelEncoder, OneHotEncoder, StandardScaler, PolynomialFeatures\n",
    "from sklearn.feature_selection import f_regression, mutual_info_regression\n",
    "\n",
    "from sklearn.feature_selection import f_classif, mutual_info_classif\n",
    "from sklearn.model_selection import train_test_split, RandomizedSearchCV\n",
    "from sklearn.model_selection import KFold\n",
    "from sklearn.ensemble import StackingRegressor\n",
    "from tqdm import tqdm\n",
    "import warnings\n",
    "\n",
    "from sklearn.metrics import confusion_matrix\n",
    "from sklearn.metrics import auc, roc_auc_score, roc_curve\n",
    "\n",
    "from sklearn.preprocessing import PowerTransformer\n",
    "from sklearn.preprocessing import QuantileTransformer\n",
    "\n",
    "from sklearn.model_selection import GridSearchCV\n",
    "from sklearn.metrics import accuracy_score, precision_score, recall_score, f1_score\n",
    "from sklearn.metrics import precision_recall_curve\n",
    "from sklearn.metrics import average_precision_score\n",
    "\n",
    "from sklearn.linear_model import LinearRegression\n",
    "from catboost import CatBoostRegressor\n",
    "from sklearn.ensemble import BaggingRegressor\n",
    "from sklearn.tree import DecisionTreeRegressor\n",
    "from sklearn.ensemble import RandomForestRegressor, ExtraTreesRegressor\n",
    "from sklearn.ensemble import GradientBoostingRegressor, AdaBoostRegressor\n",
    "from sklearn.base import clone\n",
    "\n",
    "import requests  \n",
    "from bs4 import BeautifulSoup as bs"
   ]
  },
  {
   "cell_type": "code",
   "execution_count": 338,
   "metadata": {
    "_kg_hide-input": true,
    "execution": {
     "iopub.execute_input": "2021-11-01T09:00:55.900058Z",
     "iopub.status.busy": "2021-11-01T09:00:55.899734Z",
     "iopub.status.idle": "2021-11-01T09:00:55.906643Z",
     "shell.execute_reply": "2021-11-01T09:00:55.905187Z",
     "shell.execute_reply.started": "2021-11-01T09:00:55.900028Z"
    },
    "papermill": {
     "duration": 0.040034,
     "end_time": "2020-10-26T12:46:42.650603",
     "exception": false,
     "start_time": "2020-10-26T12:46:42.610569",
     "status": "completed"
    },
    "tags": []
   },
   "outputs": [
    {
     "name": "stdout",
     "output_type": "stream",
     "text": [
      "Python       : 3.8.5 (default, Sep  3 2020, 21:29:08) [MSC v.1916 64 bit (AMD64)]\n",
      "Numpy        : 1.20.2\n"
     ]
    }
   ],
   "source": [
    "print('Python       :', sys.version.split('\\n')[0])\n",
    "print('Numpy        :', np.__version__)"
   ]
  },
  {
   "cell_type": "code",
   "execution_count": 339,
   "metadata": {
    "_kg_hide-input": true,
    "execution": {
     "iopub.execute_input": "2021-11-01T09:00:55.908638Z",
     "iopub.status.busy": "2021-11-01T09:00:55.908245Z",
     "iopub.status.idle": "2021-11-01T09:00:58.830144Z",
     "shell.execute_reply": "2021-11-01T09:00:58.828920Z",
     "shell.execute_reply.started": "2021-11-01T09:00:55.908609Z"
    },
    "papermill": {
     "duration": 5.172536,
     "end_time": "2020-10-26T12:46:47.852593",
     "exception": false,
     "start_time": "2020-10-26T12:46:42.680057",
     "status": "completed"
    },
    "tags": []
   },
   "outputs": [
    {
     "name": "stderr",
     "output_type": "stream",
     "text": [
      "WARNING: Ignoring invalid distribution -ip (c:\\users\\asus\\appdata\\roaming\\python\\python38\\site-packages)\n"
     ]
    }
   ],
   "source": [
    "# зафиксируем версию пакетов, чтобы эксперименты были воспроизводимы:\n",
    "!pip freeze > requirements.txt"
   ]
  },
  {
   "cell_type": "code",
   "execution_count": 340,
   "metadata": {
    "execution": {
     "iopub.execute_input": "2021-11-01T09:00:58.835055Z",
     "iopub.status.busy": "2021-11-01T09:00:58.833978Z",
     "iopub.status.idle": "2021-11-01T09:00:58.840564Z",
     "shell.execute_reply": "2021-11-01T09:00:58.839319Z",
     "shell.execute_reply.started": "2021-11-01T09:00:58.834962Z"
    },
    "papermill": {
     "duration": 0.039842,
     "end_time": "2020-10-26T12:46:47.922434",
     "exception": false,
     "start_time": "2020-10-26T12:46:47.882592",
     "status": "completed"
    },
    "tags": []
   },
   "outputs": [],
   "source": [
    "# всегда фиксируйте RANDOM_SEED, чтобы ваши эксперименты были воспроизводимы!\n",
    "RANDOM_SEED = 42"
   ]
  },
  {
   "cell_type": "code",
   "execution_count": 341,
   "metadata": {
    "_kg_hide-input": true,
    "execution": {
     "iopub.execute_input": "2021-11-01T09:00:58.845195Z",
     "iopub.status.busy": "2021-11-01T09:00:58.844717Z",
     "iopub.status.idle": "2021-11-01T09:00:58.853709Z",
     "shell.execute_reply": "2021-11-01T09:00:58.852776Z",
     "shell.execute_reply.started": "2021-11-01T09:00:58.845153Z"
    }
   },
   "outputs": [],
   "source": [
    "# Функция нашей метрики\n",
    "def mape(y_true, y_pred):\n",
    "    return np.mean(np.abs((y_pred-y_true)/y_true))"
   ]
  },
  {
   "cell_type": "markdown",
   "metadata": {
    "papermill": {
     "duration": 0.028837,
     "end_time": "2020-10-26T12:46:47.981435",
     "exception": false,
     "start_time": "2020-10-26T12:46:47.952598",
     "status": "completed"
    },
    "tags": []
   },
   "source": [
    "# Setup"
   ]
  },
  {
   "cell_type": "code",
   "execution_count": 342,
   "metadata": {
    "execution": {
     "iopub.execute_input": "2021-11-01T09:00:58.856232Z",
     "iopub.status.busy": "2021-11-01T09:00:58.855472Z",
     "iopub.status.idle": "2021-11-01T09:00:58.866531Z",
     "shell.execute_reply": "2021-11-01T09:00:58.865607Z",
     "shell.execute_reply.started": "2021-11-01T09:00:58.856186Z"
    },
    "papermill": {
     "duration": 0.039969,
     "end_time": "2020-10-26T12:46:48.052728",
     "exception": false,
     "start_time": "2020-10-26T12:46:48.012759",
     "status": "completed"
    },
    "tags": []
   },
   "outputs": [],
   "source": [
    "VERSION    = 16\n",
    "DIR_TRAIN  = '../parsing-all-moscow-auto-ru-09-09-2020/' # подключил к ноутбуку внешний датасет\n",
    "DIR_TEST   = '../sf-dst-car-price-prediction/'\n",
    "DIR_CARS = '../cars-df/'\n",
    "VAL_SIZE   = 0.20   # 20%"
   ]
  },
  {
   "cell_type": "code",
   "execution_count": 343,
   "metadata": {},
   "outputs": [
    {
     "data": {
      "text/plain": [
       "'../parsing-all-moscow-auto-ru-09-09-2020/'"
      ]
     },
     "execution_count": 343,
     "metadata": {},
     "output_type": "execute_result"
    }
   ],
   "source": [
    "DIR_TRAIN"
   ]
  },
  {
   "cell_type": "markdown",
   "metadata": {
    "papermill": {
     "duration": 0.030254,
     "end_time": "2020-10-26T12:46:48.112586",
     "exception": false,
     "start_time": "2020-10-26T12:46:48.082332",
     "status": "completed"
    },
    "tags": []
   },
   "source": [
    "# Data"
   ]
  },
  {
   "cell_type": "code",
   "execution_count": 344,
   "metadata": {
    "execution": {
     "iopub.execute_input": "2021-11-01T09:00:58.868950Z",
     "iopub.status.busy": "2021-11-01T09:00:58.868187Z",
     "iopub.status.idle": "2021-11-01T09:00:59.651531Z",
     "shell.execute_reply": "2021-11-01T09:00:59.650029Z",
     "shell.execute_reply.started": "2021-11-01T09:00:58.868900Z"
    },
    "papermill": {
     "duration": 0.783211,
     "end_time": "2020-10-26T12:46:48.925418",
     "exception": false,
     "start_time": "2020-10-26T12:46:48.142207",
     "status": "completed"
    },
    "tags": []
   },
   "outputs": [
    {
     "name": "stderr",
     "output_type": "stream",
     "text": [
      "\"ls\" ­Ґ пў«пҐвбп ў­гваҐ­­Ґ© Ё«Ё ў­Ґи­Ґ©\n",
      "Є®¬ ­¤®©, ЁбЇ®«­пҐ¬®© Їа®Ја ¬¬®© Ё«Ё Ї ЄҐв­л¬ д ©«®¬.\n"
     ]
    }
   ],
   "source": [
    "!ls '../input'"
   ]
  },
  {
   "cell_type": "code",
   "execution_count": 345,
   "metadata": {
    "_cell_guid": "79c7e3d0-c299-4dcb-8224-4455121ee9b0",
    "_uuid": "d629ff2d2480ee46fbb7e2d37f6b5fab8052498a",
    "execution": {
     "iopub.execute_input": "2021-11-01T09:00:59.653954Z",
     "iopub.status.busy": "2021-11-01T09:00:59.653583Z",
     "iopub.status.idle": "2021-11-01T09:01:11.331759Z",
     "shell.execute_reply": "2021-11-01T09:01:11.330413Z",
     "shell.execute_reply.started": "2021-11-01T09:00:59.653919Z"
    },
    "papermill": {
     "duration": 13.16556,
     "end_time": "2020-10-26T12:47:02.12133",
     "exception": false,
     "start_time": "2020-10-26T12:46:48.95577",
     "status": "completed"
    },
    "tags": []
   },
   "outputs": [],
   "source": [
    "train = pd.read_csv(\"all_auto_ru_09_09_2020.csv.zip\") # датасет для обучения модели\n",
    "test = pd.read_csv('test.csv.zip')\n",
    "cars_train = pd.read_csv('cars_df.csv.zip')\n",
    "sample_submission = pd.read_csv('sample_submission.csv')"
   ]
  },
  {
   "cell_type": "code",
   "execution_count": 346,
   "metadata": {
    "execution": {
     "iopub.execute_input": "2021-11-01T09:01:11.333479Z",
     "iopub.status.busy": "2021-11-01T09:01:11.333195Z",
     "iopub.status.idle": "2021-11-01T09:01:11.383944Z",
     "shell.execute_reply": "2021-11-01T09:01:11.382774Z",
     "shell.execute_reply.started": "2021-11-01T09:01:11.333450Z"
    }
   },
   "outputs": [
    {
     "data": {
      "text/html": [
       "<div>\n",
       "<style scoped>\n",
       "    .dataframe tbody tr th:only-of-type {\n",
       "        vertical-align: middle;\n",
       "    }\n",
       "\n",
       "    .dataframe tbody tr th {\n",
       "        vertical-align: top;\n",
       "    }\n",
       "\n",
       "    .dataframe thead th {\n",
       "        text-align: right;\n",
       "    }\n",
       "</style>\n",
       "<table border=\"1\" class=\"dataframe\">\n",
       "  <thead>\n",
       "    <tr style=\"text-align: right;\">\n",
       "      <th></th>\n",
       "      <th>bodyType</th>\n",
       "      <th>brand</th>\n",
       "      <th>color</th>\n",
       "      <th>fuelType</th>\n",
       "      <th>modelDate</th>\n",
       "      <th>name</th>\n",
       "      <th>numberOfDoors</th>\n",
       "      <th>productionDate</th>\n",
       "      <th>vehicleConfiguration</th>\n",
       "      <th>vehicleTransmission</th>\n",
       "      <th>...</th>\n",
       "      <th>Руль</th>\n",
       "      <th>Состояние</th>\n",
       "      <th>Владельцы</th>\n",
       "      <th>ПТС</th>\n",
       "      <th>Таможня</th>\n",
       "      <th>Владение</th>\n",
       "      <th>price</th>\n",
       "      <th>start_date</th>\n",
       "      <th>hidden</th>\n",
       "      <th>model</th>\n",
       "    </tr>\n",
       "  </thead>\n",
       "  <tbody>\n",
       "    <tr>\n",
       "      <th>0</th>\n",
       "      <td>Седан</td>\n",
       "      <td>AUDI</td>\n",
       "      <td>040001</td>\n",
       "      <td>бензин</td>\n",
       "      <td>1990.0</td>\n",
       "      <td>2.8 MT (174 л.с.) 4WD</td>\n",
       "      <td>4.0</td>\n",
       "      <td>1991</td>\n",
       "      <td>SEDAN MECHANICAL 2.8</td>\n",
       "      <td>MECHANICAL</td>\n",
       "      <td>...</td>\n",
       "      <td>LEFT</td>\n",
       "      <td>NaN</td>\n",
       "      <td>3.0</td>\n",
       "      <td>ORIGINAL</td>\n",
       "      <td>True</td>\n",
       "      <td>NaN</td>\n",
       "      <td>200000.0</td>\n",
       "      <td>2019-10-03T08:09:11Z</td>\n",
       "      <td>NaN</td>\n",
       "      <td>100</td>\n",
       "    </tr>\n",
       "    <tr>\n",
       "      <th>1</th>\n",
       "      <td>Седан</td>\n",
       "      <td>AUDI</td>\n",
       "      <td>EE1D19</td>\n",
       "      <td>бензин</td>\n",
       "      <td>1982.0</td>\n",
       "      <td>1.8 MT (90 л.с.)</td>\n",
       "      <td>4.0</td>\n",
       "      <td>1986</td>\n",
       "      <td>SEDAN MECHANICAL 1.8</td>\n",
       "      <td>MECHANICAL</td>\n",
       "      <td>...</td>\n",
       "      <td>LEFT</td>\n",
       "      <td>NaN</td>\n",
       "      <td>3.0</td>\n",
       "      <td>ORIGINAL</td>\n",
       "      <td>True</td>\n",
       "      <td>NaN</td>\n",
       "      <td>60000.0</td>\n",
       "      <td>2020-09-06T06:49:40Z</td>\n",
       "      <td>NaN</td>\n",
       "      <td>100</td>\n",
       "    </tr>\n",
       "    <tr>\n",
       "      <th>2</th>\n",
       "      <td>Универсал 5 дв.</td>\n",
       "      <td>AUDI</td>\n",
       "      <td>0000CC</td>\n",
       "      <td>бензин</td>\n",
       "      <td>1988.0</td>\n",
       "      <td>2.3 MT (136 л.с.) 4WD</td>\n",
       "      <td>5.0</td>\n",
       "      <td>1989</td>\n",
       "      <td>WAGON_5_DOORS MECHANICAL 2.3</td>\n",
       "      <td>MECHANICAL</td>\n",
       "      <td>...</td>\n",
       "      <td>LEFT</td>\n",
       "      <td>NaN</td>\n",
       "      <td>3.0</td>\n",
       "      <td>ORIGINAL</td>\n",
       "      <td>True</td>\n",
       "      <td>NaN</td>\n",
       "      <td>99000.0</td>\n",
       "      <td>2020-09-02T14:04:21Z</td>\n",
       "      <td>NaN</td>\n",
       "      <td>100</td>\n",
       "    </tr>\n",
       "    <tr>\n",
       "      <th>3</th>\n",
       "      <td>Седан</td>\n",
       "      <td>AUDI</td>\n",
       "      <td>CACECB</td>\n",
       "      <td>бензин</td>\n",
       "      <td>1988.0</td>\n",
       "      <td>1.8 MT (90 л.с.)</td>\n",
       "      <td>4.0</td>\n",
       "      <td>1989</td>\n",
       "      <td>SEDAN MECHANICAL 1.8</td>\n",
       "      <td>MECHANICAL</td>\n",
       "      <td>...</td>\n",
       "      <td>LEFT</td>\n",
       "      <td>NaN</td>\n",
       "      <td>3.0</td>\n",
       "      <td>ORIGINAL</td>\n",
       "      <td>True</td>\n",
       "      <td>NaN</td>\n",
       "      <td>65000.0</td>\n",
       "      <td>2020-08-23T17:40:09Z</td>\n",
       "      <td>NaN</td>\n",
       "      <td>100</td>\n",
       "    </tr>\n",
       "    <tr>\n",
       "      <th>4</th>\n",
       "      <td>Седан</td>\n",
       "      <td>AUDI</td>\n",
       "      <td>040001</td>\n",
       "      <td>бензин</td>\n",
       "      <td>1990.0</td>\n",
       "      <td>2.0 MT (101 л.с.)</td>\n",
       "      <td>4.0</td>\n",
       "      <td>1991</td>\n",
       "      <td>SEDAN MECHANICAL 2.0</td>\n",
       "      <td>MECHANICAL</td>\n",
       "      <td>...</td>\n",
       "      <td>LEFT</td>\n",
       "      <td>NaN</td>\n",
       "      <td>3.0</td>\n",
       "      <td>DUPLICATE</td>\n",
       "      <td>True</td>\n",
       "      <td>NaN</td>\n",
       "      <td>100000.0</td>\n",
       "      <td>2020-09-08T09:22:07Z</td>\n",
       "      <td>NaN</td>\n",
       "      <td>100</td>\n",
       "    </tr>\n",
       "  </tbody>\n",
       "</table>\n",
       "<p>5 rows × 26 columns</p>\n",
       "</div>"
      ],
      "text/plain": [
       "          bodyType brand   color fuelType  modelDate                   name  \\\n",
       "0            Седан  AUDI  040001   бензин     1990.0  2.8 MT (174 л.с.) 4WD   \n",
       "1            Седан  AUDI  EE1D19   бензин     1982.0       1.8 MT (90 л.с.)   \n",
       "2  Универсал 5 дв.  AUDI  0000CC   бензин     1988.0  2.3 MT (136 л.с.) 4WD   \n",
       "3            Седан  AUDI  CACECB   бензин     1988.0       1.8 MT (90 л.с.)   \n",
       "4            Седан  AUDI  040001   бензин     1990.0      2.0 MT (101 л.с.)   \n",
       "\n",
       "   numberOfDoors  productionDate          vehicleConfiguration  \\\n",
       "0            4.0            1991          SEDAN MECHANICAL 2.8   \n",
       "1            4.0            1986          SEDAN MECHANICAL 1.8   \n",
       "2            5.0            1989  WAGON_5_DOORS MECHANICAL 2.3   \n",
       "3            4.0            1989          SEDAN MECHANICAL 1.8   \n",
       "4            4.0            1991          SEDAN MECHANICAL 2.0   \n",
       "\n",
       "  vehicleTransmission  ...  Руль  Состояние Владельцы        ПТС Таможня  \\\n",
       "0          MECHANICAL  ...  LEFT        NaN       3.0   ORIGINAL    True   \n",
       "1          MECHANICAL  ...  LEFT        NaN       3.0   ORIGINAL    True   \n",
       "2          MECHANICAL  ...  LEFT        NaN       3.0   ORIGINAL    True   \n",
       "3          MECHANICAL  ...  LEFT        NaN       3.0   ORIGINAL    True   \n",
       "4          MECHANICAL  ...  LEFT        NaN       3.0  DUPLICATE    True   \n",
       "\n",
       "  Владение     price            start_date  hidden model  \n",
       "0      NaN  200000.0  2019-10-03T08:09:11Z     NaN   100  \n",
       "1      NaN   60000.0  2020-09-06T06:49:40Z     NaN   100  \n",
       "2      NaN   99000.0  2020-09-02T14:04:21Z     NaN   100  \n",
       "3      NaN   65000.0  2020-08-23T17:40:09Z     NaN   100  \n",
       "4      NaN  100000.0  2020-09-08T09:22:07Z     NaN   100  \n",
       "\n",
       "[5 rows x 26 columns]"
      ]
     },
     "execution_count": 346,
     "metadata": {},
     "output_type": "execute_result"
    }
   ],
   "source": [
    "train.head(5)"
   ]
  },
  {
   "cell_type": "code",
   "execution_count": 347,
   "metadata": {
    "execution": {
     "iopub.execute_input": "2021-11-01T09:01:11.385767Z",
     "iopub.status.busy": "2021-11-01T09:01:11.385445Z",
     "iopub.status.idle": "2021-11-01T09:01:11.458840Z",
     "shell.execute_reply": "2021-11-01T09:01:11.457450Z",
     "shell.execute_reply.started": "2021-11-01T09:01:11.385736Z"
    }
   },
   "outputs": [
    {
     "data": {
      "text/plain": [
       "<bound method NDFrame.describe of               bodyType       brand   color fuelType  modelDate  \\\n",
       "0                Седан        AUDI  040001   бензин     1990.0   \n",
       "1                Седан        AUDI  EE1D19   бензин     1982.0   \n",
       "2      Универсал 5 дв.        AUDI  0000CC   бензин     1988.0   \n",
       "3                Седан        AUDI  CACECB   бензин     1988.0   \n",
       "4                Седан        AUDI  040001   бензин     1990.0   \n",
       "...                ...         ...     ...      ...        ...   \n",
       "89373          Минивэн  SSANG_YONG  040001   дизель     2004.0   \n",
       "89374          Минивэн  SSANG_YONG  CACECB   дизель     2004.0   \n",
       "89375          Минивэн  SSANG_YONG  040001   дизель     2013.0   \n",
       "89376          Минивэн  SSANG_YONG  97948F   дизель     2013.0   \n",
       "89377          Минивэн  SSANG_YONG  FAFBFB   дизель     2013.0   \n",
       "\n",
       "                         name  numberOfDoors  productionDate  \\\n",
       "0       2.8 MT (174 л.с.) 4WD            4.0            1991   \n",
       "1            1.8 MT (90 л.с.)            4.0            1986   \n",
       "2       2.3 MT (136 л.с.) 4WD            5.0            1989   \n",
       "3            1.8 MT (90 л.с.)            4.0            1989   \n",
       "4           2.0 MT (101 л.с.)            4.0            1991   \n",
       "...                       ...            ...             ...   \n",
       "89373  2.7d AT (163 л.с.) 4WD            5.0            2006   \n",
       "89374  2.7d AT (163 л.с.) 4WD            5.0            2007   \n",
       "89375  2.0d AT (149 л.с.) 4WD            5.0            2014   \n",
       "89376  2.0d AT (149 л.с.) 4WD            5.0            2013   \n",
       "89377  2.0d AT (149 л.с.) 4WD            5.0            2014   \n",
       "\n",
       "               vehicleConfiguration vehicleTransmission  ...  Руль  Состояние  \\\n",
       "0              SEDAN MECHANICAL 2.8          MECHANICAL  ...  LEFT        NaN   \n",
       "1              SEDAN MECHANICAL 1.8          MECHANICAL  ...  LEFT        NaN   \n",
       "2      WAGON_5_DOORS MECHANICAL 2.3          MECHANICAL  ...  LEFT        NaN   \n",
       "3              SEDAN MECHANICAL 1.8          MECHANICAL  ...  LEFT        NaN   \n",
       "4              SEDAN MECHANICAL 2.0          MECHANICAL  ...  LEFT        NaN   \n",
       "...                             ...                 ...  ...   ...        ...   \n",
       "89373        MINIVAN AUTOMATIC 2.7d           AUTOMATIC  ...  LEFT        NaN   \n",
       "89374        MINIVAN AUTOMATIC 2.7d           AUTOMATIC  ...  LEFT        NaN   \n",
       "89375        MINIVAN AUTOMATIC 2.0d           AUTOMATIC  ...  LEFT        NaN   \n",
       "89376        MINIVAN AUTOMATIC 2.0d           AUTOMATIC  ...  LEFT        NaN   \n",
       "89377        MINIVAN AUTOMATIC 2.0d           AUTOMATIC  ...  LEFT        NaN   \n",
       "\n",
       "      Владельцы        ПТС Таможня                     Владение      price  \\\n",
       "0           3.0   ORIGINAL    True                          NaN   200000.0   \n",
       "1           3.0   ORIGINAL    True                          NaN    60000.0   \n",
       "2           3.0   ORIGINAL    True                          NaN    99000.0   \n",
       "3           3.0   ORIGINAL    True                          NaN    65000.0   \n",
       "4           3.0  DUPLICATE    True                          NaN   100000.0   \n",
       "...         ...        ...     ...                          ...        ...   \n",
       "89373       3.0   ORIGINAL    True                          NaN   450000.0   \n",
       "89374       3.0   ORIGINAL    True   {'year': 2017, 'month': 2}   485000.0   \n",
       "89375       1.0   ORIGINAL    True  {'year': 2015, 'month': 12}  1090000.0   \n",
       "89376       3.0   ORIGINAL    True  {'year': 2017, 'month': 10}  1180000.0   \n",
       "89377       2.0   ORIGINAL    True   {'year': 2018, 'month': 6}  1075000.0   \n",
       "\n",
       "                 start_date  hidden   model  \n",
       "0      2019-10-03T08:09:11Z     NaN     100  \n",
       "1      2020-09-06T06:49:40Z     NaN     100  \n",
       "2      2020-09-02T14:04:21Z     NaN     100  \n",
       "3      2020-08-23T17:40:09Z     NaN     100  \n",
       "4      2020-09-08T09:22:07Z     NaN     100  \n",
       "...                     ...     ...     ...  \n",
       "89373  2020-02-11T09:29:59Z     NaN  RODIUS  \n",
       "89374  2020-05-30T18:56:30Z     NaN  RODIUS  \n",
       "89375  2020-08-30T14:39:15Z     NaN  STAVIC  \n",
       "89376  2019-05-14T15:43:20Z     NaN  STAVIC  \n",
       "89377  2020-08-10T11:30:29Z     NaN  STAVIC  \n",
       "\n",
       "[89378 rows x 26 columns]>"
      ]
     },
     "execution_count": 347,
     "metadata": {},
     "output_type": "execute_result"
    }
   ],
   "source": [
    "train.describe"
   ]
  },
  {
   "cell_type": "code",
   "execution_count": 348,
   "metadata": {
    "execution": {
     "iopub.execute_input": "2021-11-01T09:01:11.462447Z",
     "iopub.status.busy": "2021-11-01T09:01:11.462141Z",
     "iopub.status.idle": "2021-11-01T09:01:11.590277Z",
     "shell.execute_reply": "2021-11-01T09:01:11.588628Z",
     "shell.execute_reply.started": "2021-11-01T09:01:11.462420Z"
    }
   },
   "outputs": [
    {
     "name": "stdout",
     "output_type": "stream",
     "text": [
      "<class 'pandas.core.frame.DataFrame'>\n",
      "RangeIndex: 34686 entries, 0 to 34685\n",
      "Data columns (total 32 columns):\n",
      " #   Column                Non-Null Count  Dtype \n",
      "---  ------                --------------  ----- \n",
      " 0   bodyType              34686 non-null  object\n",
      " 1   brand                 34686 non-null  object\n",
      " 2   car_url               34686 non-null  object\n",
      " 3   color                 34686 non-null  object\n",
      " 4   complectation_dict    6418 non-null   object\n",
      " 5   description           34686 non-null  object\n",
      " 6   engineDisplacement    34686 non-null  object\n",
      " 7   enginePower           34686 non-null  object\n",
      " 8   equipment_dict        24690 non-null  object\n",
      " 9   fuelType              34686 non-null  object\n",
      " 10  image                 34686 non-null  object\n",
      " 11  mileage               34686 non-null  int64 \n",
      " 12  modelDate             34686 non-null  int64 \n",
      " 13  model_info            34686 non-null  object\n",
      " 14  model_name            34686 non-null  object\n",
      " 15  name                  34686 non-null  object\n",
      " 16  numberOfDoors         34686 non-null  int64 \n",
      " 17  parsing_unixtime      34686 non-null  int64 \n",
      " 18  priceCurrency         34686 non-null  object\n",
      " 19  productionDate        34686 non-null  int64 \n",
      " 20  sell_id               34686 non-null  int64 \n",
      " 21  super_gen             34686 non-null  object\n",
      " 22  vehicleConfiguration  34686 non-null  object\n",
      " 23  vehicleTransmission   34686 non-null  object\n",
      " 24  vendor                34686 non-null  object\n",
      " 25  Владельцы             34686 non-null  object\n",
      " 26  Владение              11995 non-null  object\n",
      " 27  ПТС                   34685 non-null  object\n",
      " 28  Привод                34686 non-null  object\n",
      " 29  Руль                  34686 non-null  object\n",
      " 30  Состояние             34686 non-null  object\n",
      " 31  Таможня               34686 non-null  object\n",
      "dtypes: int64(6), object(26)\n",
      "memory usage: 8.5+ MB\n"
     ]
    }
   ],
   "source": [
    "test.info()"
   ]
  },
  {
   "cell_type": "code",
   "execution_count": 349,
   "metadata": {
    "execution": {
     "iopub.execute_input": "2021-11-01T09:01:11.593243Z",
     "iopub.status.busy": "2021-11-01T09:01:11.592707Z",
     "iopub.status.idle": "2021-11-01T09:01:11.643568Z",
     "shell.execute_reply": "2021-11-01T09:01:11.642125Z",
     "shell.execute_reply.started": "2021-11-01T09:01:11.593196Z"
    }
   },
   "outputs": [
    {
     "data": {
      "text/plain": [
       "<bound method NDFrame.describe of                 bodyType  brand  \\\n",
       "0                лифтбек  SKODA   \n",
       "1                лифтбек  SKODA   \n",
       "2                лифтбек  SKODA   \n",
       "3                лифтбек  SKODA   \n",
       "4                лифтбек  SKODA   \n",
       "...                  ...    ...   \n",
       "34681              седан    BMW   \n",
       "34682              седан    BMW   \n",
       "34683              седан    BMW   \n",
       "34684  внедорожник 5 дв.    BMW   \n",
       "34685  внедорожник 5 дв.    BMW   \n",
       "\n",
       "                                                 car_url       color  \\\n",
       "0      https://auto.ru/cars/used/sale/skoda/octavia/1...       синий   \n",
       "1      https://auto.ru/cars/used/sale/skoda/octavia/1...      чёрный   \n",
       "2      https://auto.ru/cars/used/sale/skoda/superb/11...       серый   \n",
       "3      https://auto.ru/cars/used/sale/skoda/octavia/1...  коричневый   \n",
       "4      https://auto.ru/cars/used/sale/skoda/octavia/1...       белый   \n",
       "...                                                  ...         ...   \n",
       "34681  https://auto.ru/cars/used/sale/bmw/3er/1101369...  коричневый   \n",
       "34682  https://auto.ru/cars/used/sale/bmw/5er/1101369...      чёрный   \n",
       "34683  https://auto.ru/cars/used/sale/bmw/5er/1101364...       серый   \n",
       "34684  https://auto.ru/cars/used/sale/bmw/x1/11013625...  коричневый   \n",
       "34685  https://auto.ru/cars/used/sale/bmw/x5/11012560...      чёрный   \n",
       "\n",
       "                                      complectation_dict  \\\n",
       "0                                                    NaN   \n",
       "1                                                    NaN   \n",
       "2      {\"id\":\"20026336\",\"name\":\"Ambition\",\"available_...   \n",
       "3      {\"id\":\"20803582\",\"name\":\"Ambition\",\"available_...   \n",
       "4                                                    NaN   \n",
       "...                                                  ...   \n",
       "34681                                                NaN   \n",
       "34682                                                NaN   \n",
       "34683                                                NaN   \n",
       "34684  {\"id\":\"6336008\",\"name\":\"xDrive20d Локальная сб...   \n",
       "34685                                                NaN   \n",
       "\n",
       "                                             description engineDisplacement  \\\n",
       "0      Все автомобили, представленные в продаже, прох...            1.2 LTR   \n",
       "1      ЛОТ: 01217195\\nАвтопрага Север\\nДанный автомоб...            1.6 LTR   \n",
       "2      Все автомобили, представленные в продаже, прох...            1.8 LTR   \n",
       "3      КОМПЛЕКТ ЗИМНЕЙ (ЛЕТНЕЙ) РЕЗИНЫ ПО СЕЗОНУ В ПО...            1.6 LTR   \n",
       "4      ЛОТ: 01220889\\nАвтопрага Север\\n\\nВы можете по...            1.8 LTR   \n",
       "...                                                  ...                ...   \n",
       "34681  Продается BMW 316i в отличном состоянии. Прода...            1.6 LTR   \n",
       "34682                     Продаётся отличный автомобиль.            2.0 LTR   \n",
       "34683                                  Хорошее состояние            2.5 LTR   \n",
       "34684  Автомобиль в идеальном состоянии . Куплен новы...            2.0 LTR   \n",
       "34685   Пробег реальный, состояние отличное! Авторска...            3.0 LTR   \n",
       "\n",
       "      enginePower                                     equipment_dict fuelType  \\\n",
       "0         105 N12  {\"engine-proof\":true,\"tinted-glass\":true,\"airb...   бензин   \n",
       "1         110 N12  {\"cruise-control\":true,\"asr\":true,\"esp\":true,\"...   бензин   \n",
       "2         152 N12  {\"cruise-control\":true,\"tinted-glass\":true,\"es...   бензин   \n",
       "3         110 N12  {\"cruise-control\":true,\"roller-blind-for-rear-...   бензин   \n",
       "4         152 N12  {\"cruise-control\":true,\"asr\":true,\"esp\":true,\"...   бензин   \n",
       "...           ...                                                ...      ...   \n",
       "34681     136 N12  {\"cruise-control\":true,\"asr\":true,\"tinted-glas...   бензин   \n",
       "34682     190 N12                                                NaN   дизель   \n",
       "34683     170 N12                                                NaN   бензин   \n",
       "34684     184 N12  {\"engine-proof\":true,\"esp\":true,\"start-stop-fu...   дизель   \n",
       "34685     235 N12  {\"alloy-wheel-disks\":true,\"navigation\":true,\"p...   дизель   \n",
       "\n",
       "       ...           vehicleConfiguration  vehicleTransmission    vendor  \\\n",
       "0      ...             LIFTBACK ROBOT 1.2     роботизированная  EUROPEAN   \n",
       "1      ...        LIFTBACK MECHANICAL 1.6         механическая  EUROPEAN   \n",
       "2      ...             LIFTBACK ROBOT 1.8     роботизированная  EUROPEAN   \n",
       "3      ...         LIFTBACK AUTOMATIC 1.6       автоматическая  EUROPEAN   \n",
       "4      ...         LIFTBACK AUTOMATIC 1.8       автоматическая  EUROPEAN   \n",
       "...    ...                            ...                  ...       ...   \n",
       "34681  ...            SEDAN AUTOMATIC 1.6       автоматическая  EUROPEAN   \n",
       "34682  ...            SEDAN AUTOMATIC 2.0       автоматическая  EUROPEAN   \n",
       "34683  ...            SEDAN AUTOMATIC 2.5       автоматическая  EUROPEAN   \n",
       "34684  ...  ALLROAD_5_DOORS AUTOMATIC 2.0       автоматическая  EUROPEAN   \n",
       "34685  ...  ALLROAD_5_DOORS AUTOMATIC 3.0       автоматическая  EUROPEAN   \n",
       "\n",
       "         Владельцы          Владение       ПТС    Привод   Руль  \\\n",
       "0      3 или более               NaN  Оригинал  передний  Левый   \n",
       "1       1 владелец               NaN  Оригинал  передний  Левый   \n",
       "2       1 владелец               NaN  Оригинал  передний  Левый   \n",
       "3       1 владелец               NaN  Оригинал  передний  Левый   \n",
       "4       1 владелец               NaN  Оригинал  передний  Левый   \n",
       "...            ...               ...       ...       ...    ...   \n",
       "34681  3 или более  2 года и 1 месяц  Оригинал    задний  Левый   \n",
       "34682   1 владелец               NaN  Оригинал    полный  Левый   \n",
       "34683  3 или более               NaN  Дубликат    задний  Левый   \n",
       "34684  2 владельца               NaN  Оригинал    полный  Левый   \n",
       "34685  3 или более   6 лет и 1 месяц  Оригинал    полный  Левый   \n",
       "\n",
       "                Состояние     Таможня  \n",
       "0      Не требует ремонта  Растаможен  \n",
       "1      Не требует ремонта  Растаможен  \n",
       "2      Не требует ремонта  Растаможен  \n",
       "3      Не требует ремонта  Растаможен  \n",
       "4      Не требует ремонта  Растаможен  \n",
       "...                   ...         ...  \n",
       "34681  Не требует ремонта  Растаможен  \n",
       "34682  Не требует ремонта  Растаможен  \n",
       "34683  Не требует ремонта  Растаможен  \n",
       "34684  Не требует ремонта  Растаможен  \n",
       "34685  Не требует ремонта  Растаможен  \n",
       "\n",
       "[34686 rows x 32 columns]>"
      ]
     },
     "execution_count": 349,
     "metadata": {},
     "output_type": "execute_result"
    }
   ],
   "source": [
    "test.describe"
   ]
  },
  {
   "cell_type": "code",
   "execution_count": 350,
   "metadata": {
    "execution": {
     "iopub.execute_input": "2021-11-01T09:01:11.645702Z",
     "iopub.status.busy": "2021-11-01T09:01:11.645232Z",
     "iopub.status.idle": "2021-11-01T09:01:11.751272Z",
     "shell.execute_reply": "2021-11-01T09:01:11.750004Z",
     "shell.execute_reply.started": "2021-11-01T09:01:11.645629Z"
    }
   },
   "outputs": [
    {
     "name": "stdout",
     "output_type": "stream",
     "text": [
      "<class 'pandas.core.frame.DataFrame'>\n",
      "RangeIndex: 37181 entries, 0 to 37180\n",
      "Data columns (total 25 columns):\n",
      " #   Column                Non-Null Count  Dtype  \n",
      "---  ------                --------------  -----  \n",
      " 0   bodyType              37181 non-null  object \n",
      " 1   brand                 37181 non-null  object \n",
      " 2   car_url               37181 non-null  object \n",
      " 3   color                 37181 non-null  object \n",
      " 4   description           37181 non-null  object \n",
      " 5   engineDisplacement    37181 non-null  object \n",
      " 6   enginePower           37181 non-null  object \n",
      " 7   fuelType              37181 non-null  object \n",
      " 8   image                 37181 non-null  object \n",
      " 9   mileage               37181 non-null  object \n",
      " 10  modelDate             37181 non-null  float64\n",
      " 11  model_name            37181 non-null  object \n",
      " 12  name                  37181 non-null  object \n",
      " 13  numberOfDoors         37181 non-null  float64\n",
      " 14  priceCurrency         37181 non-null  object \n",
      " 15  productionDate        37181 non-null  int64  \n",
      " 16  vehicleConfiguration  37181 non-null  object \n",
      " 17  vehicleTransmission   37181 non-null  object \n",
      " 18  Владельцы             37181 non-null  object \n",
      " 19  ПТС                   37181 non-null  object \n",
      " 20  Привод                37181 non-null  object \n",
      " 21  Руль                  37181 non-null  object \n",
      " 22  Состояние             37181 non-null  object \n",
      " 23  Таможня               37181 non-null  object \n",
      " 24  price                 37181 non-null  object \n",
      "dtypes: float64(2), int64(1), object(22)\n",
      "memory usage: 7.1+ MB\n"
     ]
    }
   ],
   "source": [
    "cars_train.info()"
   ]
  },
  {
   "cell_type": "code",
   "execution_count": 351,
   "metadata": {
    "execution": {
     "iopub.execute_input": "2021-11-01T09:01:11.753031Z",
     "iopub.status.busy": "2021-11-01T09:01:11.752711Z",
     "iopub.status.idle": "2021-11-01T09:01:11.797905Z",
     "shell.execute_reply": "2021-11-01T09:01:11.796909Z",
     "shell.execute_reply.started": "2021-11-01T09:01:11.753002Z"
    }
   },
   "outputs": [
    {
     "data": {
      "text/plain": [
       "<bound method NDFrame.describe of                 bodyType     brand  \\\n",
       "0                минивэн  MERCEDES   \n",
       "1      внедорожник 5 дв.    TOYOTA   \n",
       "2      внедорожник 5 дв.  MERCEDES   \n",
       "3                   купе      AUDI   \n",
       "4      внедорожник 5 дв.   PORSCHE   \n",
       "...                  ...       ...   \n",
       "37176      хэтчбек 5 дв.     HONDA   \n",
       "37177         компактвэн     HONDA   \n",
       "37178              седан     HONDA   \n",
       "37179      хэтчбек 5 дв.     HONDA   \n",
       "37180              седан     HONDA   \n",
       "\n",
       "                                                 car_url        color  \\\n",
       "0      https://auto.ru/cars/used/sale/mercedes/v_klas...       чёрный   \n",
       "1      https://auto.ru/cars/used/sale/toyota/rav_4/11...        серый   \n",
       "2      https://auto.ru/cars/used/sale/mercedes/glc_kl...      красный   \n",
       "3      https://auto.ru/cars/used/sale/audi/tt_rs/1104...        серый   \n",
       "4      https://auto.ru/cars/used/sale/porsche/macan/1...   коричневый   \n",
       "...                                                  ...          ...   \n",
       "37176  https://auto.ru/cars/used/sale/honda/civic/110...      красный   \n",
       "37177  https://auto.ru/cars/used/sale/honda/stream/11...  серебристый   \n",
       "37178  https://auto.ru/cars/used/sale/honda/civic/110...        серый   \n",
       "37179  https://auto.ru/cars/used/sale/honda/civic/110...        синий   \n",
       "37180  https://auto.ru/cars/used/sale/honda/accord/11...       чёрный   \n",
       "\n",
       "                                             description engineDisplacement  \\\n",
       "0      Новый V class без пробега, в наличии. \\nПоказ ...            2.1 LTR   \n",
       "1      RAV 4 2011 года, CVT, 2.0, 4x4, 158 л.с. Обслу...            2.0 LTR   \n",
       "2      Продаётся автомобиль Мерседес GLC 300 AMG. Цве...            2.0 LTR   \n",
       "3      Сделано по машине\\nСт2\\nКарбоновый руль\\nКулек...            2.5 LTR   \n",
       "4      Отличное состояние,оригинальный пробег,ездила ...            2.0 LTR   \n",
       "...                                                  ...                ...   \n",
       "37176  Машина в отличном состоянии, есть что передела...            1.5 LTR   \n",
       "37177  Продам свою ласточку или поменяю на более деше...            1.7 LTR   \n",
       "37178  Продаю личный автомобиль. Технически исправен,...            1.8 LTR   \n",
       "37179  В нормальном состоянии, требует внимание кузов...            1.4 LTR   \n",
       "37180  На полном ходу есть жизненные котцки возможен ...            2.0 LTR   \n",
       "\n",
       "      enginePower fuelType                                              image  \\\n",
       "0         190 N12   дизель  https://avatars.mds.yandex.net/get-autoru-vos/...   \n",
       "1         158 N12   бензин  https://avatars.mds.yandex.net/get-autoru-vos/...   \n",
       "2         245 N12   бензин  https://avatars.mds.yandex.net/get-autoru-vos/...   \n",
       "3         400 N12   бензин  https://avatars.mds.yandex.net/get-autoru-vos/...   \n",
       "4         252 N12   бензин  https://autoru.naydex.net/F9Gs1rI48/42427dMKj-...   \n",
       "...           ...      ...                                                ...   \n",
       "37176     115 N12   бензин  https://autoru.naydex.net/VyLm91f05/4c3ef9yM_4...   \n",
       "37177     130 N12   бензин  https://avatars.mds.yandex.net/get-autoru-vos/...   \n",
       "37178     140 N12   бензин  https://avatars.mds.yandex.net/get-autoru-vos/...   \n",
       "37179      90 N12   бензин  https://autoru.naydex.net/VyLm91f05/4c3ef9yM_4...   \n",
       "37180     131 N12   бензин  https://autoru.naydex.net/VyLm91f05/4c3ef9yM_4...   \n",
       "\n",
       "          mileage  ...  productionDate              vehicleConfiguration  \\\n",
       "0           15 км  ...            2020             MINIVAN AUTOMATIC 2.1   \n",
       "1      180 000 км  ...            2011      ALLROAD_5_DOORS VARIATOR 2.0   \n",
       "2       47 000 км  ...            2017     ALLROAD_5_DOORS AUTOMATIC 2.0   \n",
       "3       66 000 км  ...            2016                   COUPE ROBOT 2.5   \n",
       "4        6 000 км  ...            2019         ALLROAD_5_DOORS ROBOT 2.0   \n",
       "...           ...  ...             ...                               ...   \n",
       "37176      373317  ...            1999  HATCHBACK_5_DOORS MECHANICAL 1.5   \n",
       "37177      311000  ...            2002          COMPACTVAN AUTOMATIC 1.7   \n",
       "37178      196000  ...            2008              SEDAN MECHANICAL 1.8   \n",
       "37179      350000  ...            2000  HATCHBACK_5_DOORS MECHANICAL 1.4   \n",
       "37180       90000  ...            1995              SEDAN MECHANICAL 2.0   \n",
       "\n",
       "      vehicleTransmission    Владельцы       ПТС    Привод    Руль  \\\n",
       "0          автоматическая   1 владелец  Оригинал    полный   Левый   \n",
       "1                вариатор   1 владелец  Оригинал    полный   Левый   \n",
       "2          автоматическая  3 или более  Оригинал    полный   Левый   \n",
       "3        роботизированная  3 или более  Оригинал    полный   Левый   \n",
       "4        роботизированная  2 владельца  Оригинал    полный   Левый   \n",
       "...                   ...          ...       ...       ...     ...   \n",
       "37176        механическая  3 или более  Дубликат  передний   Левый   \n",
       "37177      автоматическая  3 или более  Оригинал  передний  Правый   \n",
       "37178        механическая  3 или более  Дубликат  передний   Левый   \n",
       "37179        механическая  3 или более  Дубликат  передний   Левый   \n",
       "37180        механическая  3 или более  Оригинал  передний   Левый   \n",
       "\n",
       "                Состояние     Таможня         price  \n",
       "0      Не требует ремонта  Растаможен  14 945 000 ₽  \n",
       "1      Не требует ремонта  Растаможен   1 150 000 ₽  \n",
       "2      Не требует ремонта  Растаможен   3 200 000 ₽  \n",
       "3      Не требует ремонта  Растаможен   4 850 000 ₽  \n",
       "4      Не требует ремонта  Растаможен   4 650 000 ₽  \n",
       "...                   ...         ...           ...  \n",
       "37176  Не требует ремонта  Растаможен      210000.0  \n",
       "37177  Не требует ремонта  Растаможен      330000.0  \n",
       "37178  Не требует ремонта  Растаможен      430000.0  \n",
       "37179  Не требует ремонта  Растаможен      135000.0  \n",
       "37180  Не требует ремонта  Растаможен      210000.0  \n",
       "\n",
       "[37181 rows x 25 columns]>"
      ]
     },
     "execution_count": 351,
     "metadata": {},
     "output_type": "execute_result"
    }
   ],
   "source": [
    "cars_train.describe"
   ]
  },
  {
   "cell_type": "markdown",
   "metadata": {},
   "source": [
    "Видим, что датасет, в основном, состоит из категориальных колонок. Причем, в тестовом датасете информации содержится больше."
   ]
  },
  {
   "cell_type": "markdown",
   "metadata": {},
   "source": [
    "## Признаки датасета:\n",
    "\n",
    "1) bodyType - тип кузова\n",
    "\n",
    "2) brand - марка автомобиля\n",
    "\n",
    "3) car_url - ссылка на объявление\n",
    "\n",
    "4) color - цвет автомобиля\n",
    "\n",
    "5) complectation_dict - комплектация авто\n",
    "\n",
    "6) description - описание \n",
    "\n",
    "7) engineDisplacement - объем двигателя\n",
    "\n",
    "8) enginePower - мощность двигателя\n",
    "\n",
    "9) equipment_dict - оснащение авто\n",
    "\n",
    "10) fuelType - тип топлива\n",
    "\n",
    "11) image - фотография\n",
    "\n",
    "12) mileage - пробег автомобиля\n",
    "\n",
    "13) modelDate - дата выпуска модели\n",
    "\n",
    "14) model_info - общая информация о модели\n",
    "\n",
    "15) model_name - название модели авто\n",
    "\n",
    "16) name - имя\n",
    "\n",
    "17) numberOfDoors - количество дверей\n",
    "\n",
    "18) priceCurrency - валюта\n",
    "\n",
    "19) productionDate - год производства\n",
    "\n",
    "20) sell_id id продажи\n",
    "\n",
    "21) super_gen - доп. инфо\n",
    "\n",
    "22) vehicleConfiguration - конфигурация авто\n",
    "\n",
    "23) vehicleTransmission - трансмиссия\n",
    "\n",
    "24) vendor - страна-изготовитель\n",
    "\n",
    "25) Владельцы - кол-во владельцев\n",
    "\n",
    "26) Владение - период владения\n",
    "\n",
    "27) ПТС\n",
    "\n",
    "28) Привод\n",
    "\n",
    "29) Руль \n",
    "\n",
    "30) Состояние\n",
    "\n",
    "31) Таможня\n",
    "\n",
    "32) parsing_unixtime - дата парсинга сайта"
   ]
  },
  {
   "cell_type": "markdown",
   "metadata": {},
   "source": [
    "## Попробуем собрать собственный тренировочный датасет."
   ]
  },
  {
   "cell_type": "markdown",
   "metadata": {},
   "source": [
    "# Parsing"
   ]
  },
  {
   "cell_type": "code",
   "execution_count": 352,
   "metadata": {
    "execution": {
     "iopub.execute_input": "2021-11-01T09:01:11.799445Z",
     "iopub.status.busy": "2021-11-01T09:01:11.799124Z",
     "iopub.status.idle": "2021-11-01T09:01:11.806882Z",
     "shell.execute_reply": "2021-11-01T09:01:11.806039Z",
     "shell.execute_reply.started": "2021-11-01T09:01:11.799413Z"
    }
   },
   "outputs": [],
   "source": [
    "# Будем опираться на марки автомобилей\n",
    "brands = list(test[\"brand\"].unique())\n"
   ]
  },
  {
   "cell_type": "code",
   "execution_count": 353,
   "metadata": {
    "execution": {
     "iopub.execute_input": "2021-11-01T09:01:11.808845Z",
     "iopub.status.busy": "2021-11-01T09:01:11.808354Z",
     "iopub.status.idle": "2021-11-01T09:01:11.821918Z",
     "shell.execute_reply": "2021-11-01T09:01:11.820766Z",
     "shell.execute_reply.started": "2021-11-01T09:01:11.808811Z"
    }
   },
   "outputs": [
    {
     "data": {
      "text/plain": [
       "['SKODA',\n",
       " 'AUDI',\n",
       " 'HONDA',\n",
       " 'VOLVO',\n",
       " 'BMW',\n",
       " 'NISSAN',\n",
       " 'INFINITI',\n",
       " 'MERCEDES',\n",
       " 'TOYOTA',\n",
       " 'LEXUS',\n",
       " 'VOLKSWAGEN',\n",
       " 'MITSUBISHI']"
      ]
     },
     "execution_count": 353,
     "metadata": {},
     "output_type": "execute_result"
    }
   ],
   "source": [
    "brands"
   ]
  },
  {
   "cell_type": "code",
   "execution_count": 354,
   "metadata": {
    "execution": {
     "iopub.execute_input": "2021-11-01T09:01:11.823764Z",
     "iopub.status.busy": "2021-11-01T09:01:11.823401Z",
     "iopub.status.idle": "2021-11-01T09:01:11.832587Z",
     "shell.execute_reply": "2021-11-01T09:01:11.831768Z",
     "shell.execute_reply.started": "2021-11-01T09:01:11.823730Z"
    }
   },
   "outputs": [],
   "source": [
    "import pprint"
   ]
  },
  {
   "cell_type": "code",
   "execution_count": 355,
   "metadata": {
    "execution": {
     "iopub.execute_input": "2021-11-01T09:01:11.834445Z",
     "iopub.status.busy": "2021-11-01T09:01:11.833966Z",
     "iopub.status.idle": "2021-11-01T09:01:11.847581Z",
     "shell.execute_reply": "2021-11-01T09:01:11.846395Z",
     "shell.execute_reply.started": "2021-11-01T09:01:11.834412Z"
    }
   },
   "outputs": [
    {
     "data": {
      "text/plain": [
       "' car_links=[]\\nfor brand in brands:\\n    for i in range(1,120):\\n        url = \\'https://auto.ru/moskva/cars/{}/used/?page=\\'.format(brand) + str(i)\\n        r = requests.get(url)\\n        soup = bs(r.content, \\'html.parser\\')\\n        test_link = soup.find(\\'a\\', class_ = \\'Link ListingItemTitle__link\\')\\n        if(test_link is None):\\n            print(\"No more pages\")\\n            break\\n            \\n        links = soup.find_all(\\'a\\', class_=\\'Link ListingItemTitle__link\\')\\n        for link in links:\\n            car_links.append(link[\\'href\\']) '"
      ]
     },
     "execution_count": 355,
     "metadata": {},
     "output_type": "execute_result"
    }
   ],
   "source": [
    "# Сначала соберем ссылки на все марки автомобилей\n",
    "''' car_links=[]\n",
    "for brand in brands:\n",
    "    for i in range(1,120):\n",
    "        url = 'https://auto.ru/moskva/cars/{}/used/?page='.format(brand) + str(i)\n",
    "        r = requests.get(url)\n",
    "        soup = bs(r.content, 'html.parser')\n",
    "        test_link = soup.find('a', class_ = 'Link ListingItemTitle__link')\n",
    "        if(test_link is None):\n",
    "            print(\"No more pages\")\n",
    "            break\n",
    "            \n",
    "        links = soup.find_all('a', class_='Link ListingItemTitle__link')\n",
    "        for link in links:\n",
    "            car_links.append(link['href']) '''\n"
   ]
  },
  {
   "cell_type": "code",
   "execution_count": 356,
   "metadata": {
    "execution": {
     "iopub.execute_input": "2021-11-01T09:01:11.849573Z",
     "iopub.status.busy": "2021-11-01T09:01:11.849080Z",
     "iopub.status.idle": "2021-11-01T09:01:11.860602Z",
     "shell.execute_reply": "2021-11-01T09:01:11.859261Z",
     "shell.execute_reply.started": "2021-11-01T09:01:11.849541Z"
    }
   },
   "outputs": [
    {
     "data": {
      "text/plain": [
       "' \\ncars_list = []\\nchar_dict={}\\nfor link in links:\\n    response = requests.get(link)\\n    response.encoding = \\'utf-8\\'\\n    soup = BeautifulSoup(response.text, \\'html.parser\\')\\n    if soup.find(\\'div\\', class_=\\'CardSold\\') == None:\\n        try:\\n            json_data = json.loads(soup.find(\\'script\\', type=\"application/ld+json\").string)\\n        except:\\n            pass\\n       \\n        try:\\n            char_dict = {\\n                    \\'bodyType\\': json_data[\\'bodyType\\'],\\n                    \\'brand\\': json_data[\\'brand\\'],\\n                    \\'car_url\\': json_data[\\'offers\\'][\\'url\\'],\\n                    \\'color\\': json_data[\\'color\\'],\\n                    \\'description\\': json_data[\\'description\\'],\\n                    \\'engineDisplacement\\': json_data[\\'vehicleEngine\\'][\\'engineDisplacement\\'],\\n                    \\'enginePower\\': json_data[\\'vehicleEngine\\'][\\'enginePower\\'],\\n                    \\'fuelType\\': json_data[\\'fuelType\\'],\\n                    \\'image\\': json_data[\\'image\\'],\\n                    \\'mileage\\': soup.find(\\'li\\', class_= \\'CardInfoRow_kmAge\\').find_all(\\'span\\')[1].text,\\n                    \\'modelDate\\': json_data[\\'modelDate\\'],\\n                    \\'model_name\\': json_data[\\'name\\'],\\n                    \\'name\\': json_data[\\'vehicleEngine\\'][\\'name\\'],\\n                    \\'numberOfDoors\\': json_data[\\'numberOfDoors\\'],\\n                    \\'parsing_unixtime\\': int(time.time()),\\n                    \\'priceCurrency\\': json_data[\\'offers\\'][\\'priceCurrency\\'],\\n                    \\'productionDate\\': json_data[\\'productionDate\\'],\\n                    \\'sell_id\\': soup.find(\\'div\\', title=\\'Идентификатор объявления\\').text,\\n                    \\'vehicleConfiguration\\': json_data[\\'vehicleConfiguration\\'],\\n                    \\'vehicleTransmission\\': json_data[\\'vehicleTransmission\\'],\\n                    \\'Владельцы\\': soup.find(\\'li\\', class_=\\'CardInfoRow_ownersCount\\').find_all(\\'span\\')[1].text,\\n                    \\'ПТС\\': soup.find(\\'li\\', class_=\\'CardInfoRow_pts\\').find_all(\\'span\\')[1].text,\\n                    \\'Привод\\': soup.find(\\'li\\', class_=\\'CardInfoRow_drive\\').find_all(\\'span\\')[1].text,\\n                    \\'Руль\\': soup.find(\\'li\\', class_=\\'CardInfoRow_wheel\\').find_all(\\'span\\')[1].text,\\n                    \\'Состояние\\': soup.find(\\'li\\', class_=\\'CardInfoRow_state\\').find_all(\\'span\\')[1].text,\\n                    \\'Таможня\\': soup.find(\\'li\\', class_=\\'CardInfoRow_customs\\').find_all(\\'span\\')[1].text,\\n                    \\'price\\': soup.find(\\'span\\', class_=\\'OfferPriceCaption__price\\').text\\n                    }\\n        except:\\n                pass\\n        \\n        cars_list.append(char_dict)\\n        #pprint.pprint(char_dict) \\n   \\ndf = pd.DataFrame(cars_list)\\ndf.to_csv(\\'cars_df.csv\\', index = False) '"
      ]
     },
     "execution_count": 356,
     "metadata": {},
     "output_type": "execute_result"
    }
   ],
   "source": [
    "''' \n",
    "cars_list = []\n",
    "char_dict={}\n",
    "for link in links:\n",
    "    response = requests.get(link)\n",
    "    response.encoding = 'utf-8'\n",
    "    soup = BeautifulSoup(response.text, 'html.parser')\n",
    "    if soup.find('div', class_='CardSold') == None:\n",
    "        try:\n",
    "            json_data = json.loads(soup.find('script', type=\"application/ld+json\").string)\n",
    "        except:\n",
    "            pass\n",
    "       \n",
    "        try:\n",
    "            char_dict = {\n",
    "                    'bodyType': json_data['bodyType'],\n",
    "                    'brand': json_data['brand'],\n",
    "                    'car_url': json_data['offers']['url'],\n",
    "                    'color': json_data['color'],\n",
    "                    'description': json_data['description'],\n",
    "                    'engineDisplacement': json_data['vehicleEngine']['engineDisplacement'],\n",
    "                    'enginePower': json_data['vehicleEngine']['enginePower'],\n",
    "                    'fuelType': json_data['fuelType'],\n",
    "                    'image': json_data['image'],\n",
    "                    'mileage': soup.find('li', class_= 'CardInfoRow_kmAge').find_all('span')[1].text,\n",
    "                    'modelDate': json_data['modelDate'],\n",
    "                    'model_name': json_data['name'],\n",
    "                    'name': json_data['vehicleEngine']['name'],\n",
    "                    'numberOfDoors': json_data['numberOfDoors'],\n",
    "                    'parsing_unixtime': int(time.time()),\n",
    "                    'priceCurrency': json_data['offers']['priceCurrency'],\n",
    "                    'productionDate': json_data['productionDate'],\n",
    "                    'sell_id': soup.find('div', title='Идентификатор объявления').text,\n",
    "                    'vehicleConfiguration': json_data['vehicleConfiguration'],\n",
    "                    'vehicleTransmission': json_data['vehicleTransmission'],\n",
    "                    'Владельцы': soup.find('li', class_='CardInfoRow_ownersCount').find_all('span')[1].text,\n",
    "                    'ПТС': soup.find('li', class_='CardInfoRow_pts').find_all('span')[1].text,\n",
    "                    'Привод': soup.find('li', class_='CardInfoRow_drive').find_all('span')[1].text,\n",
    "                    'Руль': soup.find('li', class_='CardInfoRow_wheel').find_all('span')[1].text,\n",
    "                    'Состояние': soup.find('li', class_='CardInfoRow_state').find_all('span')[1].text,\n",
    "                    'Таможня': soup.find('li', class_='CardInfoRow_customs').find_all('span')[1].text,\n",
    "                    'price': soup.find('span', class_='OfferPriceCaption__price').text\n",
    "                    }\n",
    "        except:\n",
    "                pass\n",
    "        \n",
    "        cars_list.append(char_dict)\n",
    "        #pprint.pprint(char_dict) \n",
    "   \n",
    "df = pd.DataFrame(cars_list)\n",
    "df.to_csv('cars_df.csv', index = False) '''"
   ]
  },
  {
   "cell_type": "markdown",
   "metadata": {
    "papermill": {
     "duration": 0.033402,
     "end_time": "2020-10-26T12:47:02.866506",
     "exception": false,
     "start_time": "2020-10-26T12:47:02.833104",
     "status": "completed"
    },
    "tags": []
   },
   "source": [
    "## Data Preprocessing"
   ]
  },
  {
   "cell_type": "markdown",
   "metadata": {},
   "source": [
    "Данные из собранного датасета относятся к 2021 году, поэтому необходимо учесть рост цен."
   ]
  },
  {
   "cell_type": "code",
   "execution_count": 357,
   "metadata": {
    "execution": {
     "iopub.execute_input": "2021-11-01T09:01:11.862607Z",
     "iopub.status.busy": "2021-11-01T09:01:11.862187Z",
     "iopub.status.idle": "2021-11-01T09:01:11.877074Z",
     "shell.execute_reply": "2021-11-01T09:01:11.875810Z",
     "shell.execute_reply.started": "2021-11-01T09:01:11.862559Z"
    },
    "papermill": {
     "duration": 0.042812,
     "end_time": "2020-10-26T12:47:02.943868",
     "exception": false,
     "start_time": "2020-10-26T12:47:02.901056",
     "status": "completed"
    },
    "tags": []
   },
   "outputs": [
    {
     "data": {
      "text/plain": [
       "Index(['bodyType', 'brand', 'color', 'fuelType', 'modelDate', 'name',\n",
       "       'numberOfDoors', 'productionDate', 'vehicleConfiguration',\n",
       "       'vehicleTransmission', 'engineDisplacement', 'enginePower',\n",
       "       'description', 'mileage', 'Комплектация', 'Привод', 'Руль', 'Состояние',\n",
       "       'Владельцы', 'ПТС', 'Таможня', 'Владение', 'price', 'start_date',\n",
       "       'hidden', 'model'],\n",
       "      dtype='object')"
      ]
     },
     "execution_count": 357,
     "metadata": {},
     "output_type": "execute_result"
    }
   ],
   "source": [
    "train.columns"
   ]
  },
  {
   "cell_type": "code",
   "execution_count": 358,
   "metadata": {
    "execution": {
     "iopub.execute_input": "2021-11-01T09:01:11.878997Z",
     "iopub.status.busy": "2021-11-01T09:01:11.878590Z",
     "iopub.status.idle": "2021-11-01T09:01:11.890265Z",
     "shell.execute_reply": "2021-11-01T09:01:11.888858Z",
     "shell.execute_reply.started": "2021-11-01T09:01:11.878965Z"
    }
   },
   "outputs": [
    {
     "data": {
      "text/plain": [
       "Index(['bodyType', 'brand', 'car_url', 'color', 'description',\n",
       "       'engineDisplacement', 'enginePower', 'fuelType', 'image', 'mileage',\n",
       "       'modelDate', 'model_name', 'name', 'numberOfDoors', 'priceCurrency',\n",
       "       'productionDate', 'vehicleConfiguration', 'vehicleTransmission',\n",
       "       'Владельцы', 'ПТС', 'Привод', 'Руль', 'Состояние', 'Таможня', 'price'],\n",
       "      dtype='object')"
      ]
     },
     "execution_count": 358,
     "metadata": {},
     "output_type": "execute_result"
    }
   ],
   "source": [
    "cars_train.columns"
   ]
  },
  {
   "cell_type": "markdown",
   "metadata": {},
   "source": [
    "Код для учета инфляции позаимствован здесь: https://www.kaggle.com/dmitriykovzhun/sf-dst-car-price-prediction-kovzhun/notebook"
   ]
  },
  {
   "cell_type": "code",
   "execution_count": 359,
   "metadata": {
    "execution": {
     "iopub.execute_input": "2021-11-01T09:01:11.892103Z",
     "iopub.status.busy": "2021-11-01T09:01:11.891775Z",
     "iopub.status.idle": "2021-11-01T09:01:11.994212Z",
     "shell.execute_reply": "2021-11-01T09:01:11.993336Z",
     "shell.execute_reply.started": "2021-11-01T09:01:11.892072Z"
    }
   },
   "outputs": [],
   "source": [
    "cars_train['price'] = cars_train['price'].apply(lambda x: str(x))\n",
    "cars_train[\"price\"] = cars_train[\"price\"].apply(lambda x: (\"\".join(filter(str.isdigit, x)))).astype('int')"
   ]
  },
  {
   "cell_type": "code",
   "execution_count": 360,
   "metadata": {
    "execution": {
     "iopub.execute_input": "2021-11-01T09:01:11.995844Z",
     "iopub.status.busy": "2021-11-01T09:01:11.995364Z",
     "iopub.status.idle": "2021-11-01T09:01:12.439892Z",
     "shell.execute_reply": "2021-11-01T09:01:12.438832Z",
     "shell.execute_reply.started": "2021-11-01T09:01:11.995798Z"
    }
   },
   "outputs": [],
   "source": [
    "for brand in brands:\n",
    "    mean20 = train[train[\"brand\"]==brand].price.mean()\n",
    "    mean21 = cars_train[train[\"brand\"]==brand].price.mean()\n",
    "    inf = (mean21 - mean20)/mean20\n",
    "    if inf > 0:\n",
    "        cars_train.loc[cars_train[\"brand\"]==brand, ['price']] = cars_train.loc[cars_train[\"brand\"]==brand, ['price']].apply(lambda x: round(x / (1+inf),0))\n"
   ]
  },
  {
   "cell_type": "code",
   "execution_count": 361,
   "metadata": {
    "execution": {
     "iopub.execute_input": "2021-11-01T09:01:12.444052Z",
     "iopub.status.busy": "2021-11-01T09:01:12.443719Z",
     "iopub.status.idle": "2021-11-01T09:01:12.450201Z",
     "shell.execute_reply": "2021-11-01T09:01:12.448787Z",
     "shell.execute_reply.started": "2021-11-01T09:01:12.444022Z"
    }
   },
   "outputs": [
    {
     "name": "stdout",
     "output_type": "stream",
     "text": [
      "{'hidden', 'model', 'start_date', 'Владение', 'Комплектация'}\n"
     ]
    }
   ],
   "source": [
    "print(set(train.columns) - set(cars_train.columns))"
   ]
  },
  {
   "cell_type": "code",
   "execution_count": 362,
   "metadata": {
    "execution": {
     "iopub.execute_input": "2021-11-01T09:01:12.453085Z",
     "iopub.status.busy": "2021-11-01T09:01:12.452571Z",
     "iopub.status.idle": "2021-11-01T09:01:12.464114Z",
     "shell.execute_reply": "2021-11-01T09:01:12.462916Z",
     "shell.execute_reply.started": "2021-11-01T09:01:12.453037Z"
    }
   },
   "outputs": [
    {
     "name": "stdout",
     "output_type": "stream",
     "text": [
      "{'car_url', 'image', 'model_name', 'priceCurrency'}\n"
     ]
    }
   ],
   "source": [
    "print(set(cars_train.columns) - set(train.columns))"
   ]
  },
  {
   "cell_type": "code",
   "execution_count": 363,
   "metadata": {
    "execution": {
     "iopub.execute_input": "2021-11-01T09:01:12.466186Z",
     "iopub.status.busy": "2021-11-01T09:01:12.465869Z",
     "iopub.status.idle": "2021-11-01T09:01:12.507827Z",
     "shell.execute_reply": "2021-11-01T09:01:12.506635Z",
     "shell.execute_reply.started": "2021-11-01T09:01:12.466158Z"
    }
   },
   "outputs": [],
   "source": [
    "# удалим некоторые колонки, чтобы объединить два датасета\n",
    "train.drop(['Комплектация', 'hidden', 'Владение', 'start_date'], axis=1, inplace=True)\n",
    "cars_train.drop(['priceCurrency', 'car_url', 'image'], axis=1,inplace=True)"
   ]
  },
  {
   "cell_type": "markdown",
   "metadata": {},
   "source": [
    "Переименуем наши колонки"
   ]
  },
  {
   "cell_type": "code",
   "execution_count": 364,
   "metadata": {
    "execution": {
     "iopub.execute_input": "2021-11-01T09:01:12.509427Z",
     "iopub.status.busy": "2021-11-01T09:01:12.509137Z",
     "iopub.status.idle": "2021-11-01T09:01:12.516078Z",
     "shell.execute_reply": "2021-11-01T09:01:12.514996Z",
     "shell.execute_reply.started": "2021-11-01T09:01:12.509401Z"
    }
   },
   "outputs": [],
   "source": [
    "train.columns = ['bodyType', 'brand', 'color', 'fuelType', 'modelDate', 'name',\n",
    "       'numberOfDoors', 'productionDate', 'vehicleConfiguration',\n",
    "       'vehicleTransmission', 'engineDisplacement', 'enginePower',\n",
    "       'description', 'mileage', 'transmission', 'wheel', 'state',\n",
    "       'owners', 'auto_passport', 'custom', 'price', 'model_name']"
   ]
  },
  {
   "cell_type": "code",
   "execution_count": 365,
   "metadata": {
    "execution": {
     "iopub.execute_input": "2021-11-01T09:01:12.518097Z",
     "iopub.status.busy": "2021-11-01T09:01:12.517760Z",
     "iopub.status.idle": "2021-11-01T09:01:12.530475Z",
     "shell.execute_reply": "2021-11-01T09:01:12.529523Z",
     "shell.execute_reply.started": "2021-11-01T09:01:12.518064Z"
    }
   },
   "outputs": [],
   "source": [
    "cars_train.columns = ['bodyType', 'brand', 'color', 'description',\n",
    "       'engineDisplacement', 'enginePower', 'fuelType', 'mileage',\n",
    "       'modelDate', 'model_name', 'name', 'numberOfDoors',\n",
    "       'productionDate', 'vehicleConfiguration', 'vehicleTransmission',\n",
    "       'owners', 'auto_passport', 'transmission', 'wheel', 'state', 'custom', 'price']"
   ]
  },
  {
   "cell_type": "code",
   "execution_count": 366,
   "metadata": {
    "execution": {
     "iopub.execute_input": "2021-11-01T09:01:12.532478Z",
     "iopub.status.busy": "2021-11-01T09:01:12.532171Z",
     "iopub.status.idle": "2021-11-01T09:01:12.549480Z",
     "shell.execute_reply": "2021-11-01T09:01:12.547840Z",
     "shell.execute_reply.started": "2021-11-01T09:01:12.532449Z"
    }
   },
   "outputs": [
    {
     "name": "stdout",
     "output_type": "stream",
     "text": [
      "set()\n"
     ]
    }
   ],
   "source": [
    "print(set(train.columns) - set(cars_train.columns))"
   ]
  },
  {
   "cell_type": "code",
   "execution_count": 367,
   "metadata": {
    "execution": {
     "iopub.execute_input": "2021-11-01T09:01:12.552447Z",
     "iopub.status.busy": "2021-11-01T09:01:12.551886Z",
     "iopub.status.idle": "2021-11-01T09:01:12.561972Z",
     "shell.execute_reply": "2021-11-01T09:01:12.560678Z",
     "shell.execute_reply.started": "2021-11-01T09:01:12.552397Z"
    }
   },
   "outputs": [
    {
     "name": "stdout",
     "output_type": "stream",
     "text": [
      "set()\n"
     ]
    }
   ],
   "source": [
    "print(set(cars_train.columns) - set(train.columns))"
   ]
  },
  {
   "cell_type": "code",
   "execution_count": 368,
   "metadata": {
    "execution": {
     "iopub.execute_input": "2021-11-01T09:01:12.574704Z",
     "iopub.status.busy": "2021-11-01T09:01:12.574274Z",
     "iopub.status.idle": "2021-11-01T09:01:12.700455Z",
     "shell.execute_reply": "2021-11-01T09:01:12.699203Z",
     "shell.execute_reply.started": "2021-11-01T09:01:12.574647Z"
    }
   },
   "outputs": [],
   "source": [
    "# Объединим два датасета в один тренировочный\n",
    "train_df = pd.concat([train, cars_train])"
   ]
  },
  {
   "cell_type": "code",
   "execution_count": 369,
   "metadata": {
    "execution": {
     "iopub.execute_input": "2021-11-01T09:01:12.704979Z",
     "iopub.status.busy": "2021-11-01T09:01:12.704643Z",
     "iopub.status.idle": "2021-11-01T09:01:12.818808Z",
     "shell.execute_reply": "2021-11-01T09:01:12.817530Z",
     "shell.execute_reply.started": "2021-11-01T09:01:12.704950Z"
    }
   },
   "outputs": [],
   "source": [
    "# Почистим датафрейм от ненужных колонок\n",
    "train_df.drop(['name','state','custom'], inplace=True, axis=1)"
   ]
  },
  {
   "cell_type": "raw",
   "metadata": {},
   "source": [
    "train_df.drop_duplicates()"
   ]
  },
  {
   "cell_type": "code",
   "execution_count": 370,
   "metadata": {
    "execution": {
     "iopub.execute_input": "2021-11-01T09:01:12.820753Z",
     "iopub.status.busy": "2021-11-01T09:01:12.820381Z",
     "iopub.status.idle": "2021-11-01T09:01:12.827553Z",
     "shell.execute_reply": "2021-11-01T09:01:12.826723Z",
     "shell.execute_reply.started": "2021-11-01T09:01:12.820713Z"
    }
   },
   "outputs": [
    {
     "name": "stdout",
     "output_type": "stream",
     "text": [
      "{'transmission', 'auto_passport', 'price', 'wheel', 'owners'}\n",
      "  \n",
      "{'complectation_dict', 'vendor', 'Состояние', 'image', 'Руль', 'parsing_unixtime', 'equipment_dict', 'super_gen', 'Таможня', 'car_url', 'ПТС', 'Владение', 'priceCurrency', 'model_info', 'name', 'sell_id', 'Владельцы', 'Привод'}\n"
     ]
    }
   ],
   "source": [
    "# Теперь сравним названия колонок с тестовым датасетом\n",
    "print(set(train_df.columns) - set(test.columns))\n",
    "print(\"  \")\n",
    "print(set(test.columns) - set(train_df.columns))"
   ]
  },
  {
   "cell_type": "code",
   "execution_count": 371,
   "metadata": {
    "execution": {
     "iopub.execute_input": "2021-11-01T09:01:12.829348Z",
     "iopub.status.busy": "2021-11-01T09:01:12.829055Z",
     "iopub.status.idle": "2021-11-01T09:01:13.106141Z",
     "shell.execute_reply": "2021-11-01T09:01:13.104772Z",
     "shell.execute_reply.started": "2021-11-01T09:01:12.829320Z"
    }
   },
   "outputs": [
    {
     "data": {
      "text/html": [
       "<div>\n",
       "<style scoped>\n",
       "    .dataframe tbody tr th:only-of-type {\n",
       "        vertical-align: middle;\n",
       "    }\n",
       "\n",
       "    .dataframe tbody tr th {\n",
       "        vertical-align: top;\n",
       "    }\n",
       "\n",
       "    .dataframe thead th {\n",
       "        text-align: right;\n",
       "    }\n",
       "</style>\n",
       "<table border=\"1\" class=\"dataframe\">\n",
       "  <thead>\n",
       "    <tr style=\"text-align: right;\">\n",
       "      <th></th>\n",
       "      <th>bodyType</th>\n",
       "      <th>brand</th>\n",
       "      <th>color</th>\n",
       "      <th>fuelType</th>\n",
       "      <th>modelDate</th>\n",
       "      <th>numberOfDoors</th>\n",
       "      <th>productionDate</th>\n",
       "      <th>vehicleConfiguration</th>\n",
       "      <th>vehicleTransmission</th>\n",
       "      <th>engineDisplacement</th>\n",
       "      <th>enginePower</th>\n",
       "      <th>description</th>\n",
       "      <th>mileage</th>\n",
       "      <th>transmission</th>\n",
       "      <th>wheel</th>\n",
       "      <th>owners</th>\n",
       "      <th>auto_passport</th>\n",
       "      <th>price</th>\n",
       "      <th>model_name</th>\n",
       "    </tr>\n",
       "  </thead>\n",
       "  <tbody>\n",
       "    <tr>\n",
       "      <th>0</th>\n",
       "      <td>Седан</td>\n",
       "      <td>AUDI</td>\n",
       "      <td>040001</td>\n",
       "      <td>бензин</td>\n",
       "      <td>1990.0</td>\n",
       "      <td>4.0</td>\n",
       "      <td>1991</td>\n",
       "      <td>SEDAN MECHANICAL 2.8</td>\n",
       "      <td>MECHANICAL</td>\n",
       "      <td>2.8</td>\n",
       "      <td>174.0</td>\n",
       "      <td>Машина  в приличном состоянии ,не гнилая не р...</td>\n",
       "      <td>350000</td>\n",
       "      <td>полный</td>\n",
       "      <td>LEFT</td>\n",
       "      <td>3.0</td>\n",
       "      <td>ORIGINAL</td>\n",
       "      <td>200000.0</td>\n",
       "      <td>100</td>\n",
       "    </tr>\n",
       "    <tr>\n",
       "      <th>1</th>\n",
       "      <td>Седан</td>\n",
       "      <td>AUDI</td>\n",
       "      <td>EE1D19</td>\n",
       "      <td>бензин</td>\n",
       "      <td>1982.0</td>\n",
       "      <td>4.0</td>\n",
       "      <td>1986</td>\n",
       "      <td>SEDAN MECHANICAL 1.8</td>\n",
       "      <td>MECHANICAL</td>\n",
       "      <td>1.8</td>\n",
       "      <td>90.0</td>\n",
       "      <td>Машина в оригинале не гнилая все вопросы по те...</td>\n",
       "      <td>173424</td>\n",
       "      <td>передний</td>\n",
       "      <td>LEFT</td>\n",
       "      <td>3.0</td>\n",
       "      <td>ORIGINAL</td>\n",
       "      <td>60000.0</td>\n",
       "      <td>100</td>\n",
       "    </tr>\n",
       "    <tr>\n",
       "      <th>2</th>\n",
       "      <td>Универсал 5 дв.</td>\n",
       "      <td>AUDI</td>\n",
       "      <td>0000CC</td>\n",
       "      <td>бензин</td>\n",
       "      <td>1988.0</td>\n",
       "      <td>5.0</td>\n",
       "      <td>1989</td>\n",
       "      <td>WAGON_5_DOORS MECHANICAL 2.3</td>\n",
       "      <td>MECHANICAL</td>\n",
       "      <td>2.3</td>\n",
       "      <td>136.0</td>\n",
       "      <td>ПТС Оригинал!\\nПолный комплект ключей!\\nПо рез...</td>\n",
       "      <td>230000</td>\n",
       "      <td>полный</td>\n",
       "      <td>LEFT</td>\n",
       "      <td>3.0</td>\n",
       "      <td>ORIGINAL</td>\n",
       "      <td>99000.0</td>\n",
       "      <td>100</td>\n",
       "    </tr>\n",
       "    <tr>\n",
       "      <th>4</th>\n",
       "      <td>Седан</td>\n",
       "      <td>AUDI</td>\n",
       "      <td>040001</td>\n",
       "      <td>бензин</td>\n",
       "      <td>1990.0</td>\n",
       "      <td>4.0</td>\n",
       "      <td>1991</td>\n",
       "      <td>SEDAN MECHANICAL 2.0</td>\n",
       "      <td>MECHANICAL</td>\n",
       "      <td>2.0</td>\n",
       "      <td>101.0</td>\n",
       "      <td>Машина не гнилая, дыр нет, днище целое, даже в...</td>\n",
       "      <td>300000</td>\n",
       "      <td>передний</td>\n",
       "      <td>LEFT</td>\n",
       "      <td>3.0</td>\n",
       "      <td>DUPLICATE</td>\n",
       "      <td>100000.0</td>\n",
       "      <td>100</td>\n",
       "    </tr>\n",
       "    <tr>\n",
       "      <th>5</th>\n",
       "      <td>Седан</td>\n",
       "      <td>AUDI</td>\n",
       "      <td>007F00</td>\n",
       "      <td>бензин</td>\n",
       "      <td>1990.0</td>\n",
       "      <td>4.0</td>\n",
       "      <td>1993</td>\n",
       "      <td>SEDAN MECHANICAL 2.8</td>\n",
       "      <td>MECHANICAL</td>\n",
       "      <td>2.8</td>\n",
       "      <td>174.0</td>\n",
       "      <td>Хорошая комплектация: климат, эл. стекла, эл. ...</td>\n",
       "      <td>200000</td>\n",
       "      <td>передний</td>\n",
       "      <td>LEFT</td>\n",
       "      <td>3.0</td>\n",
       "      <td>ORIGINAL</td>\n",
       "      <td>90000.0</td>\n",
       "      <td>100</td>\n",
       "    </tr>\n",
       "    <tr>\n",
       "      <th>...</th>\n",
       "      <td>...</td>\n",
       "      <td>...</td>\n",
       "      <td>...</td>\n",
       "      <td>...</td>\n",
       "      <td>...</td>\n",
       "      <td>...</td>\n",
       "      <td>...</td>\n",
       "      <td>...</td>\n",
       "      <td>...</td>\n",
       "      <td>...</td>\n",
       "      <td>...</td>\n",
       "      <td>...</td>\n",
       "      <td>...</td>\n",
       "      <td>...</td>\n",
       "      <td>...</td>\n",
       "      <td>...</td>\n",
       "      <td>...</td>\n",
       "      <td>...</td>\n",
       "      <td>...</td>\n",
       "    </tr>\n",
       "    <tr>\n",
       "      <th>37176</th>\n",
       "      <td>хэтчбек 5 дв.</td>\n",
       "      <td>HONDA</td>\n",
       "      <td>красный</td>\n",
       "      <td>бензин</td>\n",
       "      <td>1999.0</td>\n",
       "      <td>5.0</td>\n",
       "      <td>1999</td>\n",
       "      <td>HATCHBACK_5_DOORS MECHANICAL 1.5</td>\n",
       "      <td>механическая</td>\n",
       "      <td>1.5 LTR</td>\n",
       "      <td>115 N12</td>\n",
       "      <td>Машина в отличном состоянии, есть что передела...</td>\n",
       "      <td>373317</td>\n",
       "      <td>передний</td>\n",
       "      <td>Левый</td>\n",
       "      <td>3 или более</td>\n",
       "      <td>Дубликат</td>\n",
       "      <td>674938.0</td>\n",
       "      <td>CIVIC</td>\n",
       "    </tr>\n",
       "    <tr>\n",
       "      <th>37177</th>\n",
       "      <td>компактвэн</td>\n",
       "      <td>HONDA</td>\n",
       "      <td>серебристый</td>\n",
       "      <td>бензин</td>\n",
       "      <td>2002.0</td>\n",
       "      <td>5.0</td>\n",
       "      <td>2002</td>\n",
       "      <td>COMPACTVAN AUTOMATIC 1.7</td>\n",
       "      <td>автоматическая</td>\n",
       "      <td>1.7 LTR</td>\n",
       "      <td>130 N12</td>\n",
       "      <td>Продам свою ласточку или поменяю на более деше...</td>\n",
       "      <td>311000</td>\n",
       "      <td>передний</td>\n",
       "      <td>Правый</td>\n",
       "      <td>3 или более</td>\n",
       "      <td>Оригинал</td>\n",
       "      <td>1060617.0</td>\n",
       "      <td>STREAM</td>\n",
       "    </tr>\n",
       "    <tr>\n",
       "      <th>37178</th>\n",
       "      <td>седан</td>\n",
       "      <td>HONDA</td>\n",
       "      <td>серый</td>\n",
       "      <td>бензин</td>\n",
       "      <td>2008.0</td>\n",
       "      <td>4.0</td>\n",
       "      <td>2008</td>\n",
       "      <td>SEDAN MECHANICAL 1.8</td>\n",
       "      <td>механическая</td>\n",
       "      <td>1.8 LTR</td>\n",
       "      <td>140 N12</td>\n",
       "      <td>Продаю личный автомобиль. Технически исправен,...</td>\n",
       "      <td>196000</td>\n",
       "      <td>передний</td>\n",
       "      <td>Левый</td>\n",
       "      <td>3 или более</td>\n",
       "      <td>Дубликат</td>\n",
       "      <td>1382016.0</td>\n",
       "      <td>CIVIC</td>\n",
       "    </tr>\n",
       "    <tr>\n",
       "      <th>37179</th>\n",
       "      <td>хэтчбек 5 дв.</td>\n",
       "      <td>HONDA</td>\n",
       "      <td>синий</td>\n",
       "      <td>бензин</td>\n",
       "      <td>2000.0</td>\n",
       "      <td>5.0</td>\n",
       "      <td>2000</td>\n",
       "      <td>HATCHBACK_5_DOORS MECHANICAL 1.4</td>\n",
       "      <td>механическая</td>\n",
       "      <td>1.4 LTR</td>\n",
       "      <td>90 N12</td>\n",
       "      <td>В нормальном состоянии, требует внимание кузов...</td>\n",
       "      <td>350000</td>\n",
       "      <td>передний</td>\n",
       "      <td>Левый</td>\n",
       "      <td>3 или более</td>\n",
       "      <td>Дубликат</td>\n",
       "      <td>433889.0</td>\n",
       "      <td>CIVIC</td>\n",
       "    </tr>\n",
       "    <tr>\n",
       "      <th>37180</th>\n",
       "      <td>седан</td>\n",
       "      <td>HONDA</td>\n",
       "      <td>чёрный</td>\n",
       "      <td>бензин</td>\n",
       "      <td>1995.0</td>\n",
       "      <td>4.0</td>\n",
       "      <td>1995</td>\n",
       "      <td>SEDAN MECHANICAL 2.0</td>\n",
       "      <td>механическая</td>\n",
       "      <td>2.0 LTR</td>\n",
       "      <td>131 N12</td>\n",
       "      <td>На полном ходу есть жизненные котцки возможен ...</td>\n",
       "      <td>90000</td>\n",
       "      <td>передний</td>\n",
       "      <td>Левый</td>\n",
       "      <td>3 или более</td>\n",
       "      <td>Оригинал</td>\n",
       "      <td>674938.0</td>\n",
       "      <td>ACCORD</td>\n",
       "    </tr>\n",
       "  </tbody>\n",
       "</table>\n",
       "<p>109372 rows × 19 columns</p>\n",
       "</div>"
      ],
      "text/plain": [
       "              bodyType  brand        color fuelType  modelDate  numberOfDoors  \\\n",
       "0                Седан   AUDI       040001   бензин     1990.0            4.0   \n",
       "1                Седан   AUDI       EE1D19   бензин     1982.0            4.0   \n",
       "2      Универсал 5 дв.   AUDI       0000CC   бензин     1988.0            5.0   \n",
       "4                Седан   AUDI       040001   бензин     1990.0            4.0   \n",
       "5                Седан   AUDI       007F00   бензин     1990.0            4.0   \n",
       "...                ...    ...          ...      ...        ...            ...   \n",
       "37176    хэтчбек 5 дв.  HONDA      красный   бензин     1999.0            5.0   \n",
       "37177       компактвэн  HONDA  серебристый   бензин     2002.0            5.0   \n",
       "37178            седан  HONDA        серый   бензин     2008.0            4.0   \n",
       "37179    хэтчбек 5 дв.  HONDA        синий   бензин     2000.0            5.0   \n",
       "37180            седан  HONDA       чёрный   бензин     1995.0            4.0   \n",
       "\n",
       "       productionDate              vehicleConfiguration vehicleTransmission  \\\n",
       "0                1991              SEDAN MECHANICAL 2.8          MECHANICAL   \n",
       "1                1986              SEDAN MECHANICAL 1.8          MECHANICAL   \n",
       "2                1989      WAGON_5_DOORS MECHANICAL 2.3          MECHANICAL   \n",
       "4                1991              SEDAN MECHANICAL 2.0          MECHANICAL   \n",
       "5                1993              SEDAN MECHANICAL 2.8          MECHANICAL   \n",
       "...               ...                               ...                 ...   \n",
       "37176            1999  HATCHBACK_5_DOORS MECHANICAL 1.5        механическая   \n",
       "37177            2002          COMPACTVAN AUTOMATIC 1.7      автоматическая   \n",
       "37178            2008              SEDAN MECHANICAL 1.8        механическая   \n",
       "37179            2000  HATCHBACK_5_DOORS MECHANICAL 1.4        механическая   \n",
       "37180            1995              SEDAN MECHANICAL 2.0        механическая   \n",
       "\n",
       "      engineDisplacement enginePower  \\\n",
       "0                    2.8       174.0   \n",
       "1                    1.8        90.0   \n",
       "2                    2.3       136.0   \n",
       "4                    2.0       101.0   \n",
       "5                    2.8       174.0   \n",
       "...                  ...         ...   \n",
       "37176            1.5 LTR     115 N12   \n",
       "37177            1.7 LTR     130 N12   \n",
       "37178            1.8 LTR     140 N12   \n",
       "37179            1.4 LTR      90 N12   \n",
       "37180            2.0 LTR     131 N12   \n",
       "\n",
       "                                             description mileage transmission  \\\n",
       "0       Машина  в приличном состоянии ,не гнилая не р...  350000       полный   \n",
       "1      Машина в оригинале не гнилая все вопросы по те...  173424     передний   \n",
       "2      ПТС Оригинал!\\nПолный комплект ключей!\\nПо рез...  230000       полный   \n",
       "4      Машина не гнилая, дыр нет, днище целое, даже в...  300000     передний   \n",
       "5      Хорошая комплектация: климат, эл. стекла, эл. ...  200000     передний   \n",
       "...                                                  ...     ...          ...   \n",
       "37176  Машина в отличном состоянии, есть что передела...  373317     передний   \n",
       "37177  Продам свою ласточку или поменяю на более деше...  311000     передний   \n",
       "37178  Продаю личный автомобиль. Технически исправен,...  196000     передний   \n",
       "37179  В нормальном состоянии, требует внимание кузов...  350000     передний   \n",
       "37180  На полном ходу есть жизненные котцки возможен ...   90000     передний   \n",
       "\n",
       "        wheel       owners auto_passport      price model_name  \n",
       "0        LEFT          3.0      ORIGINAL   200000.0        100  \n",
       "1        LEFT          3.0      ORIGINAL    60000.0        100  \n",
       "2        LEFT          3.0      ORIGINAL    99000.0        100  \n",
       "4        LEFT          3.0     DUPLICATE   100000.0        100  \n",
       "5        LEFT          3.0      ORIGINAL    90000.0        100  \n",
       "...       ...          ...           ...        ...        ...  \n",
       "37176   Левый  3 или более      Дубликат   674938.0      CIVIC  \n",
       "37177  Правый  3 или более      Оригинал  1060617.0     STREAM  \n",
       "37178   Левый  3 или более      Дубликат  1382016.0      CIVIC  \n",
       "37179   Левый  3 или более      Дубликат   433889.0      CIVIC  \n",
       "37180   Левый  3 или более      Оригинал   674938.0     ACCORD  \n",
       "\n",
       "[109372 rows x 19 columns]"
      ]
     },
     "execution_count": 371,
     "metadata": {},
     "output_type": "execute_result"
    }
   ],
   "source": [
    "train_df.dropna()"
   ]
  },
  {
   "cell_type": "code",
   "execution_count": 372,
   "metadata": {
    "execution": {
     "iopub.execute_input": "2021-11-01T09:01:13.107828Z",
     "iopub.status.busy": "2021-11-01T09:01:13.107480Z",
     "iopub.status.idle": "2021-11-01T09:01:13.113262Z",
     "shell.execute_reply": "2021-11-01T09:01:13.112284Z",
     "shell.execute_reply.started": "2021-11-01T09:01:13.107795Z"
    }
   },
   "outputs": [],
   "source": [
    "# добавим столбик price в тестовый датасет\n",
    "test[\"price\"] = 0"
   ]
  },
  {
   "cell_type": "code",
   "execution_count": 373,
   "metadata": {
    "execution": {
     "iopub.execute_input": "2021-11-01T09:01:13.114896Z",
     "iopub.status.busy": "2021-11-01T09:01:13.114545Z",
     "iopub.status.idle": "2021-11-01T09:01:13.127028Z",
     "shell.execute_reply": "2021-11-01T09:01:13.125908Z",
     "shell.execute_reply.started": "2021-11-01T09:01:13.114866Z"
    }
   },
   "outputs": [],
   "source": [
    "test.columns = ['bodyType', 'brand', 'car_url', 'color', 'complectation_dict',\n",
    "       'description', 'engineDisplacement', 'enginePower', 'equipment_dict',\n",
    "       'fuelType', 'image', 'mileage', 'modelDate', 'model_info', 'model_name',\n",
    "       'name', 'numberOfDoors', 'parsing_unixtime', 'priceCurrency',\n",
    "       'productionDate', 'sell_id', 'super_gen', 'vehicleConfiguration',\n",
    "       'vehicleTransmission', 'vendor', 'owners', 'Владение', 'auto_passport',\n",
    "       'transmission', 'wheel', 'state', 'custom', 'price']"
   ]
  },
  {
   "cell_type": "code",
   "execution_count": 374,
   "metadata": {
    "execution": {
     "iopub.execute_input": "2021-11-01T09:01:13.128966Z",
     "iopub.status.busy": "2021-11-01T09:01:13.128447Z",
     "iopub.status.idle": "2021-11-01T09:01:13.160159Z",
     "shell.execute_reply": "2021-11-01T09:01:13.159143Z",
     "shell.execute_reply.started": "2021-11-01T09:01:13.128923Z"
    }
   },
   "outputs": [],
   "source": [
    "test.drop(['priceCurrency', 'parsing_unixtime', 'model_info', 'car_url', 'sell_id', 'complectation_dict', 'super_gen', 'image', 'vendor', 'Владение', 'equipment_dict', 'name','state','custom'], axis=1, inplace=True)"
   ]
  },
  {
   "cell_type": "code",
   "execution_count": 375,
   "metadata": {
    "execution": {
     "iopub.execute_input": "2021-11-01T09:01:13.162564Z",
     "iopub.status.busy": "2021-11-01T09:01:13.162042Z",
     "iopub.status.idle": "2021-11-01T09:01:13.168190Z",
     "shell.execute_reply": "2021-11-01T09:01:13.167286Z",
     "shell.execute_reply.started": "2021-11-01T09:01:13.162531Z"
    }
   },
   "outputs": [],
   "source": [
    "# объединим трейн и тест в один датасет\n",
    "train_df['sample'] = 1 # помечаем трейн\n",
    "test['sample'] = 0 # помечаем  тест"
   ]
  },
  {
   "cell_type": "code",
   "execution_count": 376,
   "metadata": {
    "execution": {
     "iopub.execute_input": "2021-11-01T09:01:13.170502Z",
     "iopub.status.busy": "2021-11-01T09:01:13.169882Z",
     "iopub.status.idle": "2021-11-01T09:01:13.313326Z",
     "shell.execute_reply": "2021-11-01T09:01:13.312538Z",
     "shell.execute_reply.started": "2021-11-01T09:01:13.170455Z"
    }
   },
   "outputs": [],
   "source": [
    "data = pd.concat([test, train_df]).reset_index(drop=True)"
   ]
  },
  {
   "cell_type": "code",
   "execution_count": 377,
   "metadata": {
    "execution": {
     "iopub.execute_input": "2021-11-01T09:01:13.315009Z",
     "iopub.status.busy": "2021-11-01T09:01:13.314497Z",
     "iopub.status.idle": "2021-11-01T09:01:13.342826Z",
     "shell.execute_reply": "2021-11-01T09:01:13.341725Z",
     "shell.execute_reply.started": "2021-11-01T09:01:13.314963Z"
    }
   },
   "outputs": [
    {
     "data": {
      "text/html": [
       "<div>\n",
       "<style scoped>\n",
       "    .dataframe tbody tr th:only-of-type {\n",
       "        vertical-align: middle;\n",
       "    }\n",
       "\n",
       "    .dataframe tbody tr th {\n",
       "        vertical-align: top;\n",
       "    }\n",
       "\n",
       "    .dataframe thead th {\n",
       "        text-align: right;\n",
       "    }\n",
       "</style>\n",
       "<table border=\"1\" class=\"dataframe\">\n",
       "  <thead>\n",
       "    <tr style=\"text-align: right;\">\n",
       "      <th></th>\n",
       "      <th>bodyType</th>\n",
       "      <th>brand</th>\n",
       "      <th>color</th>\n",
       "      <th>description</th>\n",
       "      <th>engineDisplacement</th>\n",
       "      <th>enginePower</th>\n",
       "      <th>fuelType</th>\n",
       "      <th>mileage</th>\n",
       "      <th>modelDate</th>\n",
       "      <th>model_name</th>\n",
       "      <th>numberOfDoors</th>\n",
       "      <th>productionDate</th>\n",
       "      <th>vehicleConfiguration</th>\n",
       "      <th>vehicleTransmission</th>\n",
       "      <th>owners</th>\n",
       "      <th>auto_passport</th>\n",
       "      <th>transmission</th>\n",
       "      <th>wheel</th>\n",
       "      <th>price</th>\n",
       "      <th>sample</th>\n",
       "    </tr>\n",
       "  </thead>\n",
       "  <tbody>\n",
       "    <tr>\n",
       "      <th>0</th>\n",
       "      <td>лифтбек</td>\n",
       "      <td>SKODA</td>\n",
       "      <td>синий</td>\n",
       "      <td>Все автомобили, представленные в продаже, прох...</td>\n",
       "      <td>1.2 LTR</td>\n",
       "      <td>105 N12</td>\n",
       "      <td>бензин</td>\n",
       "      <td>74000</td>\n",
       "      <td>2013.0</td>\n",
       "      <td>OCTAVIA</td>\n",
       "      <td>5.0</td>\n",
       "      <td>2014</td>\n",
       "      <td>LIFTBACK ROBOT 1.2</td>\n",
       "      <td>роботизированная</td>\n",
       "      <td>3 или более</td>\n",
       "      <td>Оригинал</td>\n",
       "      <td>передний</td>\n",
       "      <td>Левый</td>\n",
       "      <td>0.0</td>\n",
       "      <td>0</td>\n",
       "    </tr>\n",
       "    <tr>\n",
       "      <th>1</th>\n",
       "      <td>лифтбек</td>\n",
       "      <td>SKODA</td>\n",
       "      <td>чёрный</td>\n",
       "      <td>ЛОТ: 01217195\\nАвтопрага Север\\nДанный автомоб...</td>\n",
       "      <td>1.6 LTR</td>\n",
       "      <td>110 N12</td>\n",
       "      <td>бензин</td>\n",
       "      <td>60563</td>\n",
       "      <td>2017.0</td>\n",
       "      <td>OCTAVIA</td>\n",
       "      <td>5.0</td>\n",
       "      <td>2017</td>\n",
       "      <td>LIFTBACK MECHANICAL 1.6</td>\n",
       "      <td>механическая</td>\n",
       "      <td>1 владелец</td>\n",
       "      <td>Оригинал</td>\n",
       "      <td>передний</td>\n",
       "      <td>Левый</td>\n",
       "      <td>0.0</td>\n",
       "      <td>0</td>\n",
       "    </tr>\n",
       "    <tr>\n",
       "      <th>2</th>\n",
       "      <td>лифтбек</td>\n",
       "      <td>SKODA</td>\n",
       "      <td>серый</td>\n",
       "      <td>Все автомобили, представленные в продаже, прох...</td>\n",
       "      <td>1.8 LTR</td>\n",
       "      <td>152 N12</td>\n",
       "      <td>бензин</td>\n",
       "      <td>88000</td>\n",
       "      <td>2013.0</td>\n",
       "      <td>SUPERB</td>\n",
       "      <td>5.0</td>\n",
       "      <td>2014</td>\n",
       "      <td>LIFTBACK ROBOT 1.8</td>\n",
       "      <td>роботизированная</td>\n",
       "      <td>1 владелец</td>\n",
       "      <td>Оригинал</td>\n",
       "      <td>передний</td>\n",
       "      <td>Левый</td>\n",
       "      <td>0.0</td>\n",
       "      <td>0</td>\n",
       "    </tr>\n",
       "    <tr>\n",
       "      <th>3</th>\n",
       "      <td>лифтбек</td>\n",
       "      <td>SKODA</td>\n",
       "      <td>коричневый</td>\n",
       "      <td>КОМПЛЕКТ ЗИМНЕЙ (ЛЕТНЕЙ) РЕЗИНЫ ПО СЕЗОНУ В ПО...</td>\n",
       "      <td>1.6 LTR</td>\n",
       "      <td>110 N12</td>\n",
       "      <td>бензин</td>\n",
       "      <td>95000</td>\n",
       "      <td>2013.0</td>\n",
       "      <td>OCTAVIA</td>\n",
       "      <td>5.0</td>\n",
       "      <td>2014</td>\n",
       "      <td>LIFTBACK AUTOMATIC 1.6</td>\n",
       "      <td>автоматическая</td>\n",
       "      <td>1 владелец</td>\n",
       "      <td>Оригинал</td>\n",
       "      <td>передний</td>\n",
       "      <td>Левый</td>\n",
       "      <td>0.0</td>\n",
       "      <td>0</td>\n",
       "    </tr>\n",
       "    <tr>\n",
       "      <th>4</th>\n",
       "      <td>лифтбек</td>\n",
       "      <td>SKODA</td>\n",
       "      <td>белый</td>\n",
       "      <td>ЛОТ: 01220889\\nАвтопрага Север\\n\\nВы можете по...</td>\n",
       "      <td>1.8 LTR</td>\n",
       "      <td>152 N12</td>\n",
       "      <td>бензин</td>\n",
       "      <td>58536</td>\n",
       "      <td>2008.0</td>\n",
       "      <td>OCTAVIA</td>\n",
       "      <td>5.0</td>\n",
       "      <td>2012</td>\n",
       "      <td>LIFTBACK AUTOMATIC 1.8</td>\n",
       "      <td>автоматическая</td>\n",
       "      <td>1 владелец</td>\n",
       "      <td>Оригинал</td>\n",
       "      <td>передний</td>\n",
       "      <td>Левый</td>\n",
       "      <td>0.0</td>\n",
       "      <td>0</td>\n",
       "    </tr>\n",
       "  </tbody>\n",
       "</table>\n",
       "</div>"
      ],
      "text/plain": [
       "  bodyType  brand       color  \\\n",
       "0  лифтбек  SKODA       синий   \n",
       "1  лифтбек  SKODA      чёрный   \n",
       "2  лифтбек  SKODA       серый   \n",
       "3  лифтбек  SKODA  коричневый   \n",
       "4  лифтбек  SKODA       белый   \n",
       "\n",
       "                                         description engineDisplacement  \\\n",
       "0  Все автомобили, представленные в продаже, прох...            1.2 LTR   \n",
       "1  ЛОТ: 01217195\\nАвтопрага Север\\nДанный автомоб...            1.6 LTR   \n",
       "2  Все автомобили, представленные в продаже, прох...            1.8 LTR   \n",
       "3  КОМПЛЕКТ ЗИМНЕЙ (ЛЕТНЕЙ) РЕЗИНЫ ПО СЕЗОНУ В ПО...            1.6 LTR   \n",
       "4  ЛОТ: 01220889\\nАвтопрага Север\\n\\nВы можете по...            1.8 LTR   \n",
       "\n",
       "  enginePower fuelType mileage  modelDate model_name  numberOfDoors  \\\n",
       "0     105 N12   бензин   74000     2013.0    OCTAVIA            5.0   \n",
       "1     110 N12   бензин   60563     2017.0    OCTAVIA            5.0   \n",
       "2     152 N12   бензин   88000     2013.0     SUPERB            5.0   \n",
       "3     110 N12   бензин   95000     2013.0    OCTAVIA            5.0   \n",
       "4     152 N12   бензин   58536     2008.0    OCTAVIA            5.0   \n",
       "\n",
       "   productionDate     vehicleConfiguration vehicleTransmission       owners  \\\n",
       "0            2014       LIFTBACK ROBOT 1.2    роботизированная  3 или более   \n",
       "1            2017  LIFTBACK MECHANICAL 1.6        механическая   1 владелец   \n",
       "2            2014       LIFTBACK ROBOT 1.8    роботизированная   1 владелец   \n",
       "3            2014   LIFTBACK AUTOMATIC 1.6      автоматическая   1 владелец   \n",
       "4            2012   LIFTBACK AUTOMATIC 1.8      автоматическая   1 владелец   \n",
       "\n",
       "  auto_passport transmission  wheel  price  sample  \n",
       "0      Оригинал     передний  Левый    0.0       0  \n",
       "1      Оригинал     передний  Левый    0.0       0  \n",
       "2      Оригинал     передний  Левый    0.0       0  \n",
       "3      Оригинал     передний  Левый    0.0       0  \n",
       "4      Оригинал     передний  Левый    0.0       0  "
      ]
     },
     "execution_count": 377,
     "metadata": {},
     "output_type": "execute_result"
    }
   ],
   "source": [
    "data.head(5)"
   ]
  },
  {
   "cell_type": "code",
   "execution_count": 378,
   "metadata": {
    "execution": {
     "iopub.execute_input": "2021-11-01T09:01:13.344633Z",
     "iopub.status.busy": "2021-11-01T09:01:13.344312Z",
     "iopub.status.idle": "2021-11-01T09:01:13.354002Z",
     "shell.execute_reply": "2021-11-01T09:01:13.352599Z",
     "shell.execute_reply.started": "2021-11-01T09:01:13.344592Z"
    }
   },
   "outputs": [
    {
     "name": "stdout",
     "output_type": "stream",
     "text": [
      "['bodyType', 'brand', 'color', 'description', 'engineDisplacement', 'enginePower', 'fuelType', 'mileage', 'modelDate', 'model_name', 'numberOfDoors', 'productionDate', 'vehicleConfiguration', 'vehicleTransmission', 'owners', 'auto_passport', 'transmission', 'wheel', 'price', 'sample']\n"
     ]
    }
   ],
   "source": [
    "columns = list(data.columns)\n",
    "print(columns)"
   ]
  },
  {
   "cell_type": "code",
   "execution_count": 379,
   "metadata": {
    "execution": {
     "iopub.execute_input": "2021-11-01T09:01:13.356279Z",
     "iopub.status.busy": "2021-11-01T09:01:13.355939Z",
     "iopub.status.idle": "2021-11-01T09:01:13.365892Z",
     "shell.execute_reply": "2021-11-01T09:01:13.364960Z",
     "shell.execute_reply.started": "2021-11-01T09:01:13.356248Z"
    }
   },
   "outputs": [],
   "source": [
    "# Функция для поиска количества пустых значений\n",
    "\n",
    "def are_there_nan(cols, data):\n",
    "    for col in cols:\n",
    "        print(col, \":\", data[col].isna().sum())"
   ]
  },
  {
   "cell_type": "code",
   "execution_count": 380,
   "metadata": {
    "execution": {
     "iopub.execute_input": "2021-11-01T09:01:13.368334Z",
     "iopub.status.busy": "2021-11-01T09:01:13.367911Z",
     "iopub.status.idle": "2021-11-01T09:01:13.658501Z",
     "shell.execute_reply": "2021-11-01T09:01:13.657359Z",
     "shell.execute_reply.started": "2021-11-01T09:01:13.368300Z"
    }
   },
   "outputs": [
    {
     "name": "stdout",
     "output_type": "stream",
     "text": [
      "bodyType : 1\n",
      "brand : 0\n",
      "color : 0\n",
      "description : 3254\n",
      "engineDisplacement : 1\n",
      "enginePower : 1\n",
      "fuelType : 0\n",
      "mileage : 0\n",
      "modelDate : 1\n",
      "model_name : 0\n",
      "numberOfDoors : 1\n",
      "productionDate : 0\n",
      "vehicleConfiguration : 1\n",
      "vehicleTransmission : 1\n",
      "owners : 13588\n",
      "auto_passport : 362\n",
      "transmission : 1\n",
      "wheel : 0\n",
      "price : 410\n",
      "sample : 0\n"
     ]
    }
   ],
   "source": [
    "are_there_nan(columns, data)"
   ]
  },
  {
   "cell_type": "code",
   "execution_count": 381,
   "metadata": {
    "execution": {
     "iopub.execute_input": "2021-11-01T09:01:13.660272Z",
     "iopub.status.busy": "2021-11-01T09:01:13.659957Z",
     "iopub.status.idle": "2021-11-01T09:01:13.667205Z",
     "shell.execute_reply": "2021-11-01T09:01:13.665615Z",
     "shell.execute_reply.started": "2021-11-01T09:01:13.660232Z"
    }
   },
   "outputs": [],
   "source": [
    "# сколько процентов данных пропущено\n",
    "def procentage(data):\n",
    "    for col in data.columns:\n",
    "        missing = np.mean(data[col].isnull())\n",
    "        print ('{} - {}%'.format(col, round(missing*100)))"
   ]
  },
  {
   "cell_type": "code",
   "execution_count": 382,
   "metadata": {
    "execution": {
     "iopub.execute_input": "2021-11-01T09:01:13.669980Z",
     "iopub.status.busy": "2021-11-01T09:01:13.669222Z",
     "iopub.status.idle": "2021-11-01T09:01:13.965760Z",
     "shell.execute_reply": "2021-11-01T09:01:13.964849Z",
     "shell.execute_reply.started": "2021-11-01T09:01:13.669934Z"
    }
   },
   "outputs": [
    {
     "name": "stdout",
     "output_type": "stream",
     "text": [
      "bodyType - 0%\n",
      "brand - 0%\n",
      "color - 0%\n",
      "description - 2%\n",
      "engineDisplacement - 0%\n",
      "enginePower - 0%\n",
      "fuelType - 0%\n",
      "mileage - 0%\n",
      "modelDate - 0%\n",
      "model_name - 0%\n",
      "numberOfDoors - 0%\n",
      "productionDate - 0%\n",
      "vehicleConfiguration - 0%\n",
      "vehicleTransmission - 0%\n",
      "owners - 8%\n",
      "auto_passport - 0%\n",
      "transmission - 0%\n",
      "wheel - 0%\n",
      "price - 0%\n",
      "sample - 0%\n"
     ]
    }
   ],
   "source": [
    "procentage(data)"
   ]
  },
  {
   "cell_type": "markdown",
   "metadata": {},
   "source": [
    "Так как пропусков не очень много, просто удалим их."
   ]
  },
  {
   "cell_type": "code",
   "execution_count": 383,
   "metadata": {
    "execution": {
     "iopub.execute_input": "2021-11-01T09:01:13.967577Z",
     "iopub.status.busy": "2021-11-01T09:01:13.967261Z",
     "iopub.status.idle": "2021-11-01T09:01:14.393831Z",
     "shell.execute_reply": "2021-11-01T09:01:14.392945Z",
     "shell.execute_reply.started": "2021-11-01T09:01:13.967546Z"
    }
   },
   "outputs": [
    {
     "data": {
      "text/html": [
       "<div>\n",
       "<style scoped>\n",
       "    .dataframe tbody tr th:only-of-type {\n",
       "        vertical-align: middle;\n",
       "    }\n",
       "\n",
       "    .dataframe tbody tr th {\n",
       "        vertical-align: top;\n",
       "    }\n",
       "\n",
       "    .dataframe thead th {\n",
       "        text-align: right;\n",
       "    }\n",
       "</style>\n",
       "<table border=\"1\" class=\"dataframe\">\n",
       "  <thead>\n",
       "    <tr style=\"text-align: right;\">\n",
       "      <th></th>\n",
       "      <th>bodyType</th>\n",
       "      <th>brand</th>\n",
       "      <th>color</th>\n",
       "      <th>description</th>\n",
       "      <th>engineDisplacement</th>\n",
       "      <th>enginePower</th>\n",
       "      <th>fuelType</th>\n",
       "      <th>mileage</th>\n",
       "      <th>modelDate</th>\n",
       "      <th>model_name</th>\n",
       "      <th>numberOfDoors</th>\n",
       "      <th>productionDate</th>\n",
       "      <th>vehicleConfiguration</th>\n",
       "      <th>vehicleTransmission</th>\n",
       "      <th>owners</th>\n",
       "      <th>auto_passport</th>\n",
       "      <th>transmission</th>\n",
       "      <th>wheel</th>\n",
       "      <th>price</th>\n",
       "      <th>sample</th>\n",
       "    </tr>\n",
       "  </thead>\n",
       "  <tbody>\n",
       "    <tr>\n",
       "      <th>0</th>\n",
       "      <td>лифтбек</td>\n",
       "      <td>SKODA</td>\n",
       "      <td>синий</td>\n",
       "      <td>Все автомобили, представленные в продаже, прох...</td>\n",
       "      <td>1.2 LTR</td>\n",
       "      <td>105 N12</td>\n",
       "      <td>бензин</td>\n",
       "      <td>74000</td>\n",
       "      <td>2013.0</td>\n",
       "      <td>OCTAVIA</td>\n",
       "      <td>5.0</td>\n",
       "      <td>2014</td>\n",
       "      <td>LIFTBACK ROBOT 1.2</td>\n",
       "      <td>роботизированная</td>\n",
       "      <td>3 или более</td>\n",
       "      <td>Оригинал</td>\n",
       "      <td>передний</td>\n",
       "      <td>Левый</td>\n",
       "      <td>0.0</td>\n",
       "      <td>0</td>\n",
       "    </tr>\n",
       "    <tr>\n",
       "      <th>1</th>\n",
       "      <td>лифтбек</td>\n",
       "      <td>SKODA</td>\n",
       "      <td>чёрный</td>\n",
       "      <td>ЛОТ: 01217195\\nАвтопрага Север\\nДанный автомоб...</td>\n",
       "      <td>1.6 LTR</td>\n",
       "      <td>110 N12</td>\n",
       "      <td>бензин</td>\n",
       "      <td>60563</td>\n",
       "      <td>2017.0</td>\n",
       "      <td>OCTAVIA</td>\n",
       "      <td>5.0</td>\n",
       "      <td>2017</td>\n",
       "      <td>LIFTBACK MECHANICAL 1.6</td>\n",
       "      <td>механическая</td>\n",
       "      <td>1 владелец</td>\n",
       "      <td>Оригинал</td>\n",
       "      <td>передний</td>\n",
       "      <td>Левый</td>\n",
       "      <td>0.0</td>\n",
       "      <td>0</td>\n",
       "    </tr>\n",
       "    <tr>\n",
       "      <th>2</th>\n",
       "      <td>лифтбек</td>\n",
       "      <td>SKODA</td>\n",
       "      <td>серый</td>\n",
       "      <td>Все автомобили, представленные в продаже, прох...</td>\n",
       "      <td>1.8 LTR</td>\n",
       "      <td>152 N12</td>\n",
       "      <td>бензин</td>\n",
       "      <td>88000</td>\n",
       "      <td>2013.0</td>\n",
       "      <td>SUPERB</td>\n",
       "      <td>5.0</td>\n",
       "      <td>2014</td>\n",
       "      <td>LIFTBACK ROBOT 1.8</td>\n",
       "      <td>роботизированная</td>\n",
       "      <td>1 владелец</td>\n",
       "      <td>Оригинал</td>\n",
       "      <td>передний</td>\n",
       "      <td>Левый</td>\n",
       "      <td>0.0</td>\n",
       "      <td>0</td>\n",
       "    </tr>\n",
       "    <tr>\n",
       "      <th>3</th>\n",
       "      <td>лифтбек</td>\n",
       "      <td>SKODA</td>\n",
       "      <td>коричневый</td>\n",
       "      <td>КОМПЛЕКТ ЗИМНЕЙ (ЛЕТНЕЙ) РЕЗИНЫ ПО СЕЗОНУ В ПО...</td>\n",
       "      <td>1.6 LTR</td>\n",
       "      <td>110 N12</td>\n",
       "      <td>бензин</td>\n",
       "      <td>95000</td>\n",
       "      <td>2013.0</td>\n",
       "      <td>OCTAVIA</td>\n",
       "      <td>5.0</td>\n",
       "      <td>2014</td>\n",
       "      <td>LIFTBACK AUTOMATIC 1.6</td>\n",
       "      <td>автоматическая</td>\n",
       "      <td>1 владелец</td>\n",
       "      <td>Оригинал</td>\n",
       "      <td>передний</td>\n",
       "      <td>Левый</td>\n",
       "      <td>0.0</td>\n",
       "      <td>0</td>\n",
       "    </tr>\n",
       "    <tr>\n",
       "      <th>4</th>\n",
       "      <td>лифтбек</td>\n",
       "      <td>SKODA</td>\n",
       "      <td>белый</td>\n",
       "      <td>ЛОТ: 01220889\\nАвтопрага Север\\n\\nВы можете по...</td>\n",
       "      <td>1.8 LTR</td>\n",
       "      <td>152 N12</td>\n",
       "      <td>бензин</td>\n",
       "      <td>58536</td>\n",
       "      <td>2008.0</td>\n",
       "      <td>OCTAVIA</td>\n",
       "      <td>5.0</td>\n",
       "      <td>2012</td>\n",
       "      <td>LIFTBACK AUTOMATIC 1.8</td>\n",
       "      <td>автоматическая</td>\n",
       "      <td>1 владелец</td>\n",
       "      <td>Оригинал</td>\n",
       "      <td>передний</td>\n",
       "      <td>Левый</td>\n",
       "      <td>0.0</td>\n",
       "      <td>0</td>\n",
       "    </tr>\n",
       "  </tbody>\n",
       "</table>\n",
       "</div>"
      ],
      "text/plain": [
       "  bodyType  brand       color  \\\n",
       "0  лифтбек  SKODA       синий   \n",
       "1  лифтбек  SKODA      чёрный   \n",
       "2  лифтбек  SKODA       серый   \n",
       "3  лифтбек  SKODA  коричневый   \n",
       "4  лифтбек  SKODA       белый   \n",
       "\n",
       "                                         description engineDisplacement  \\\n",
       "0  Все автомобили, представленные в продаже, прох...            1.2 LTR   \n",
       "1  ЛОТ: 01217195\\nАвтопрага Север\\nДанный автомоб...            1.6 LTR   \n",
       "2  Все автомобили, представленные в продаже, прох...            1.8 LTR   \n",
       "3  КОМПЛЕКТ ЗИМНЕЙ (ЛЕТНЕЙ) РЕЗИНЫ ПО СЕЗОНУ В ПО...            1.6 LTR   \n",
       "4  ЛОТ: 01220889\\nАвтопрага Север\\n\\nВы можете по...            1.8 LTR   \n",
       "\n",
       "  enginePower fuelType mileage  modelDate model_name  numberOfDoors  \\\n",
       "0     105 N12   бензин   74000     2013.0    OCTAVIA            5.0   \n",
       "1     110 N12   бензин   60563     2017.0    OCTAVIA            5.0   \n",
       "2     152 N12   бензин   88000     2013.0     SUPERB            5.0   \n",
       "3     110 N12   бензин   95000     2013.0    OCTAVIA            5.0   \n",
       "4     152 N12   бензин   58536     2008.0    OCTAVIA            5.0   \n",
       "\n",
       "   productionDate     vehicleConfiguration vehicleTransmission       owners  \\\n",
       "0            2014       LIFTBACK ROBOT 1.2    роботизированная  3 или более   \n",
       "1            2017  LIFTBACK MECHANICAL 1.6        механическая   1 владелец   \n",
       "2            2014       LIFTBACK ROBOT 1.8    роботизированная   1 владелец   \n",
       "3            2014   LIFTBACK AUTOMATIC 1.6      автоматическая   1 владелец   \n",
       "4            2012   LIFTBACK AUTOMATIC 1.8      автоматическая   1 владелец   \n",
       "\n",
       "  auto_passport transmission  wheel  price  sample  \n",
       "0      Оригинал     передний  Левый    0.0       0  \n",
       "1      Оригинал     передний  Левый    0.0       0  \n",
       "2      Оригинал     передний  Левый    0.0       0  \n",
       "3      Оригинал     передний  Левый    0.0       0  \n",
       "4      Оригинал     передний  Левый    0.0       0  "
      ]
     },
     "execution_count": 383,
     "metadata": {},
     "output_type": "execute_result"
    }
   ],
   "source": [
    "data.dropna().head(5)"
   ]
  },
  {
   "cell_type": "markdown",
   "metadata": {},
   "source": [
    "#### Посмотрим на каждую колонку и преобразуем некоторые значения."
   ]
  },
  {
   "cell_type": "code",
   "execution_count": 384,
   "metadata": {
    "execution": {
     "iopub.execute_input": "2021-11-01T09:01:14.395505Z",
     "iopub.status.busy": "2021-11-01T09:01:14.395198Z",
     "iopub.status.idle": "2021-11-01T09:01:14.448420Z",
     "shell.execute_reply": "2021-11-01T09:01:14.446928Z",
     "shell.execute_reply.started": "2021-11-01T09:01:14.395474Z"
    }
   },
   "outputs": [
    {
     "data": {
      "text/plain": [
       "Внедорожник 5 дв.                   31885\n",
       "Седан                               30593\n",
       "внедорожник 5 дв.                   27124\n",
       "седан                               25850\n",
       "Хэтчбек 5 дв.                        8668\n",
       "                                    ...  \n",
       "Хэтчбек 5 дв. GT Line                   1\n",
       "Универсал 5 дв. XC                      1\n",
       "Пикап Полуторная кабина Club Cab        1\n",
       "Хэтчбек 5 дв. Runx                      1\n",
       "Седан T140                              1\n",
       "Name: bodyType, Length: 194, dtype: int64"
      ]
     },
     "execution_count": 384,
     "metadata": {},
     "output_type": "execute_result"
    }
   ],
   "source": [
    "data[\"bodyType\"].value_counts()"
   ]
  },
  {
   "cell_type": "markdown",
   "metadata": {},
   "source": [
    "Думаю, что для общности данных можно оставить только первое слово в типе кузова."
   ]
  },
  {
   "cell_type": "code",
   "execution_count": 385,
   "metadata": {
    "execution": {
     "iopub.execute_input": "2021-11-01T09:01:14.450581Z",
     "iopub.status.busy": "2021-11-01T09:01:14.449850Z",
     "iopub.status.idle": "2021-11-01T09:01:15.072077Z",
     "shell.execute_reply": "2021-11-01T09:01:15.071012Z",
     "shell.execute_reply.started": "2021-11-01T09:01:14.450535Z"
    }
   },
   "outputs": [],
   "source": [
    "data['bodyType'] = data['bodyType'].astype(str).apply(lambda x: x.split())\n",
    "data['bodyType'] = data['bodyType'].apply(lambda x: x[0].lower())"
   ]
  },
  {
   "cell_type": "code",
   "execution_count": 386,
   "metadata": {
    "execution": {
     "iopub.execute_input": "2021-11-01T09:01:15.074402Z",
     "iopub.status.busy": "2021-11-01T09:01:15.073751Z",
     "iopub.status.idle": "2021-11-01T09:01:15.135459Z",
     "shell.execute_reply": "2021-11-01T09:01:15.134257Z",
     "shell.execute_reply.started": "2021-11-01T09:01:15.074355Z"
    }
   },
   "outputs": [
    {
     "data": {
      "text/plain": [
       "внедорожник      59889\n",
       "седан            57821\n",
       "хэтчбек          16508\n",
       "лифтбек           7864\n",
       "универсал         6018\n",
       "минивэн           4333\n",
       "компактвэн        3096\n",
       "купе              2936\n",
       "пикап             1156\n",
       "купе-хардтоп       501\n",
       "фургон             347\n",
       "родстер            339\n",
       "кабриолет          317\n",
       "седан-хардтоп       46\n",
       "микровэн            41\n",
       "лимузин             15\n",
       "тарга               12\n",
       "фастбек              5\n",
       "nan                  1\n",
       "Name: bodyType, dtype: int64"
      ]
     },
     "execution_count": 386,
     "metadata": {},
     "output_type": "execute_result"
    }
   ],
   "source": [
    "data[\"bodyType\"].value_counts()"
   ]
  },
  {
   "cell_type": "code",
   "execution_count": 387,
   "metadata": {
    "execution": {
     "iopub.execute_input": "2021-11-01T09:01:15.137204Z",
     "iopub.status.busy": "2021-11-01T09:01:15.136880Z",
     "iopub.status.idle": "2021-11-01T09:01:15.155502Z",
     "shell.execute_reply": "2021-11-01T09:01:15.154749Z",
     "shell.execute_reply.started": "2021-11-01T09:01:15.137175Z"
    }
   },
   "outputs": [
    {
     "data": {
      "text/plain": [
       "array(['SKODA', 'AUDI', 'HONDA', 'VOLVO', 'BMW', 'NISSAN', 'INFINITI',\n",
       "       'MERCEDES', 'TOYOTA', 'LEXUS', 'VOLKSWAGEN', 'MITSUBISHI',\n",
       "       'CADILLAC', 'CHERY', 'CHEVROLET', 'CHRYSLER', 'CITROEN', 'DAEWOO',\n",
       "       'DODGE', 'FORD', 'GEELY', 'HYUNDAI', 'JAGUAR', 'JEEP', 'KIA',\n",
       "       'MAZDA', 'MINI', 'OPEL', 'PEUGEOT', 'PORSCHE', 'RENAULT', 'SUBARU',\n",
       "       'SUZUKI', 'GREAT_WALL', 'LAND_ROVER', 'SSANG_YONG', 'VAZ', 'RAM',\n",
       "       'UAZ', 'GENESIS', 'BENTLEY', 'CHANGAN', 'SMART', 'GAZ', 'HAVAL',\n",
       "       'LIFAN', 'ACURA', 'DATSUN', 'LAMBORGHINI', 'ZOTYE', 'CHERYEXEED',\n",
       "       'JAC', 'ZAZ', 'MASERATI', 'FIAT', 'ROLLS_ROYCE', 'SEAT',\n",
       "       'DONGFENG', 'TAGAZ', 'MCLAREN', 'FERRARI', 'TESLA', 'DAIHATSU',\n",
       "       'IRAN_KHODRO', 'HUMMER', 'ALFA_ROMEO', 'VORTEX', 'GAC', 'LUXGEN',\n",
       "       'SAAB', 'DW_HOWER', 'MOSCVICH', 'MG', 'TATRA', 'SATURN'],\n",
       "      dtype=object)"
      ]
     },
     "execution_count": 387,
     "metadata": {},
     "output_type": "execute_result"
    }
   ],
   "source": [
    "data[\"brand\"].unique()"
   ]
  },
  {
   "cell_type": "code",
   "execution_count": 388,
   "metadata": {
    "execution": {
     "iopub.execute_input": "2021-11-01T09:01:15.157446Z",
     "iopub.status.busy": "2021-11-01T09:01:15.157014Z",
     "iopub.status.idle": "2021-11-01T09:01:15.179841Z",
     "shell.execute_reply": "2021-11-01T09:01:15.179017Z",
     "shell.execute_reply.started": "2021-11-01T09:01:15.157417Z"
    }
   },
   "outputs": [
    {
     "data": {
      "text/plain": [
       "array(['синий', 'чёрный', 'серый', 'коричневый', 'белый', 'пурпурный',\n",
       "       'бежевый', 'серебристый', 'красный', 'зелёный', 'жёлтый',\n",
       "       'голубой', 'оранжевый', 'фиолетовый', 'золотистый', 'розовый',\n",
       "       '040001', 'EE1D19', '0000CC', 'CACECB', '007F00', 'FAFBFB',\n",
       "       '97948F', '22A0F8', '660099', '200204', 'C49648', 'DEA522',\n",
       "       '4A2197', 'FFD600', 'FF8649', 'FFC0CB'], dtype=object)"
      ]
     },
     "execution_count": 388,
     "metadata": {},
     "output_type": "execute_result"
    }
   ],
   "source": [
    "data[\"color\"].unique()"
   ]
  },
  {
   "cell_type": "markdown",
   "metadata": {},
   "source": [
    "Видим, что часть цветов обозначена кодами. Преобразуем колонку так, чтобы все цвета обозначались одинаково."
   ]
  },
  {
   "cell_type": "code",
   "execution_count": 389,
   "metadata": {
    "execution": {
     "iopub.execute_input": "2021-11-01T09:01:15.181372Z",
     "iopub.status.busy": "2021-11-01T09:01:15.180959Z",
     "iopub.status.idle": "2021-11-01T09:01:15.271074Z",
     "shell.execute_reply": "2021-11-01T09:01:15.270155Z",
     "shell.execute_reply.started": "2021-11-01T09:01:15.181344Z"
    }
   },
   "outputs": [],
   "source": [
    "data[\"color\"] = data[\"color\"].apply(lambda x: 'чёрный' if x == \"040001\" else \"красный\" if x == \"EE1D19\" else 'синий' if x ==\"0000CC\"\n",
    "                                   else 'серебристый' if x == \"CACECB\" else 'зелёный' if x == \"007F00\" else \"белый\" if x == \"FAFBFB\"\n",
    "                                   else 'серый' if x == \"97948F\" else 'голубой' if x == \"22A0F8\" else 'пурпурный' if x == \"660099\"\n",
    "                                   else 'коричневый' if x == \"200204\" else 'бежевый' if x == \"C49648\" else 'золотистый' if x == \"DEA522\"\n",
    "                                   else 'фиолетовый' if x == \"4A2197\" else 'жёлтый' if x == \"FFD600\" else 'оранжевый' if x == \"FF8649\"\n",
    "                                   else 'розовый' if x == \"FFC0CB\" else x)"
   ]
  },
  {
   "cell_type": "code",
   "execution_count": 390,
   "metadata": {
    "execution": {
     "iopub.execute_input": "2021-11-01T09:01:15.272797Z",
     "iopub.status.busy": "2021-11-01T09:01:15.272305Z",
     "iopub.status.idle": "2021-11-01T09:01:15.323048Z",
     "shell.execute_reply": "2021-11-01T09:01:15.321860Z",
     "shell.execute_reply.started": "2021-11-01T09:01:15.272745Z"
    }
   },
   "outputs": [
    {
     "data": {
      "text/plain": [
       "чёрный         47444\n",
       "белый          29500\n",
       "серый          19683\n",
       "серебристый    18979\n",
       "синий          15660\n",
       "красный         7764\n",
       "коричневый      6881\n",
       "зелёный         4374\n",
       "бежевый         3196\n",
       "голубой         2297\n",
       "золотистый      1272\n",
       "пурпурный       1237\n",
       "жёлтый          1092\n",
       "фиолетовый      1002\n",
       "оранжевый        817\n",
       "розовый           47\n",
       "Name: color, dtype: int64"
      ]
     },
     "execution_count": 390,
     "metadata": {},
     "output_type": "execute_result"
    }
   ],
   "source": [
    "data[\"color\"].value_counts()"
   ]
  },
  {
   "cell_type": "code",
   "execution_count": 391,
   "metadata": {
    "execution": {
     "iopub.execute_input": "2021-11-01T09:01:15.324813Z",
     "iopub.status.busy": "2021-11-01T09:01:15.324476Z",
     "iopub.status.idle": "2021-11-01T09:01:15.332985Z",
     "shell.execute_reply": "2021-11-01T09:01:15.331689Z",
     "shell.execute_reply.started": "2021-11-01T09:01:15.324782Z"
    }
   },
   "outputs": [],
   "source": [
    "# функция для обработки текста описания\n",
    "def clean_text(text):\n",
    "    text= str(text).lower()\n",
    "    text=re.sub(\"&lt;/?.*?&gt;\",\" &lt;&gt; \",text)\n",
    "    text=re.sub(\"(\\\\d|\\\\W)+\",\" \",text)\n",
    "    text = text.split()\n",
    "    return text"
   ]
  },
  {
   "cell_type": "code",
   "execution_count": 392,
   "metadata": {
    "execution": {
     "iopub.execute_input": "2021-11-01T09:01:15.335044Z",
     "iopub.status.busy": "2021-11-01T09:01:15.334615Z",
     "iopub.status.idle": "2021-11-01T09:01:58.612421Z",
     "shell.execute_reply": "2021-11-01T09:01:58.611523Z",
     "shell.execute_reply.started": "2021-11-01T09:01:15.335013Z"
    }
   },
   "outputs": [],
   "source": [
    "data[\"description\"] = data[\"description\"].apply(lambda x: clean_text(x))"
   ]
  },
  {
   "cell_type": "code",
   "execution_count": 393,
   "metadata": {
    "execution": {
     "iopub.execute_input": "2021-11-01T09:01:58.614443Z",
     "iopub.status.busy": "2021-11-01T09:01:58.613968Z",
     "iopub.status.idle": "2021-11-01T09:01:58.885005Z",
     "shell.execute_reply": "2021-11-01T09:01:58.884183Z",
     "shell.execute_reply.started": "2021-11-01T09:01:58.614397Z"
    }
   },
   "outputs": [
    {
     "data": {
      "text/plain": [
       "bodyType                    0\n",
       "brand                       0\n",
       "color                       0\n",
       "description                 0\n",
       "engineDisplacement          1\n",
       "enginePower                 1\n",
       "fuelType                    0\n",
       "mileage                     0\n",
       "modelDate                   1\n",
       "model_name                  0\n",
       "numberOfDoors               1\n",
       "productionDate              0\n",
       "vehicleConfiguration        1\n",
       "vehicleTransmission         1\n",
       "owners                  13588\n",
       "auto_passport             362\n",
       "transmission                1\n",
       "wheel                       0\n",
       "price                     410\n",
       "sample                      0\n",
       "dtype: int64"
      ]
     },
     "execution_count": 393,
     "metadata": {},
     "output_type": "execute_result"
    }
   ],
   "source": [
    "data.isna().sum()"
   ]
  },
  {
   "cell_type": "code",
   "execution_count": 394,
   "metadata": {
    "execution": {
     "iopub.execute_input": "2021-11-01T09:01:58.886549Z",
     "iopub.status.busy": "2021-11-01T09:01:58.886253Z",
     "iopub.status.idle": "2021-11-01T09:01:58.905569Z",
     "shell.execute_reply": "2021-11-01T09:01:58.904503Z",
     "shell.execute_reply.started": "2021-11-01T09:01:58.886519Z"
    }
   },
   "outputs": [
    {
     "data": {
      "text/plain": [
       "156272    [автомобиль, принят, по, программе, trade, in,...\n",
       "33796     [комфорт, безопасность, мультимедиа, обзор, эл...\n",
       "19854                       [возможен, безналичный, расчёт]\n",
       "Name: description, dtype: object"
      ]
     },
     "execution_count": 394,
     "metadata": {},
     "output_type": "execute_result"
    }
   ],
   "source": [
    "data[\"description\"].sample(3)"
   ]
  },
  {
   "cell_type": "code",
   "execution_count": 395,
   "metadata": {
    "execution": {
     "iopub.execute_input": "2021-11-01T09:01:58.907445Z",
     "iopub.status.busy": "2021-11-01T09:01:58.907128Z",
     "iopub.status.idle": "2021-11-01T09:01:59.065001Z",
     "shell.execute_reply": "2021-11-01T09:01:59.063759Z",
     "shell.execute_reply.started": "2021-11-01T09:01:58.907415Z"
    }
   },
   "outputs": [],
   "source": [
    "# Создадим новый признак - длина описания\n",
    "data[\"description_len\"] = data[\"description\"].apply(lambda x: len(x))"
   ]
  },
  {
   "cell_type": "code",
   "execution_count": 396,
   "metadata": {
    "execution": {
     "iopub.execute_input": "2021-11-01T09:01:59.066974Z",
     "iopub.status.busy": "2021-11-01T09:01:59.066592Z",
     "iopub.status.idle": "2021-11-01T09:01:59.118014Z",
     "shell.execute_reply": "2021-11-01T09:01:59.117201Z",
     "shell.execute_reply.started": "2021-11-01T09:01:59.066942Z"
    }
   },
   "outputs": [
    {
     "data": {
      "text/plain": [
       "1.6          17032\n",
       "2.0 LTR      15967\n",
       "2.0          13446\n",
       "1.6 LTR      10993\n",
       "3.0 LTR       8182\n",
       "             ...  \n",
       "Prominent        1\n",
       "Trackhawk        1\n",
       "4.0d             1\n",
       "116              1\n",
       "535xi            1\n",
       "Name: engineDisplacement, Length: 595, dtype: int64"
      ]
     },
     "execution_count": 396,
     "metadata": {},
     "output_type": "execute_result"
    }
   ],
   "source": [
    "data[\"engineDisplacement\"].value_counts()"
   ]
  },
  {
   "cell_type": "code",
   "execution_count": 397,
   "metadata": {
    "execution": {
     "iopub.execute_input": "2021-11-01T09:01:59.119467Z",
     "iopub.status.busy": "2021-11-01T09:01:59.119076Z",
     "iopub.status.idle": "2021-11-01T09:01:59.498798Z",
     "shell.execute_reply": "2021-11-01T09:01:59.497746Z",
     "shell.execute_reply.started": "2021-11-01T09:01:59.119439Z"
    }
   },
   "outputs": [],
   "source": [
    "data['engineDisplacement'] = data['engineDisplacement'].str.extract('(\\d.\\d)', expand = False).str.strip()"
   ]
  },
  {
   "cell_type": "code",
   "execution_count": 398,
   "metadata": {
    "execution": {
     "iopub.execute_input": "2021-11-01T09:01:59.500298Z",
     "iopub.status.busy": "2021-11-01T09:01:59.499985Z",
     "iopub.status.idle": "2021-11-01T09:01:59.582116Z",
     "shell.execute_reply": "2021-11-01T09:01:59.581211Z",
     "shell.execute_reply.started": "2021-11-01T09:01:59.500258Z"
    }
   },
   "outputs": [],
   "source": [
    "data['engineDisplacement'] = data['engineDisplacement'].apply(lambda x: x if float(x) < 7.0 else None)"
   ]
  },
  {
   "cell_type": "code",
   "execution_count": 399,
   "metadata": {
    "execution": {
     "iopub.execute_input": "2021-11-01T09:01:59.583656Z",
     "iopub.status.busy": "2021-11-01T09:01:59.583234Z",
     "iopub.status.idle": "2021-11-01T09:01:59.631297Z",
     "shell.execute_reply": "2021-11-01T09:01:59.630096Z",
     "shell.execute_reply.started": "2021-11-01T09:01:59.583625Z"
    }
   },
   "outputs": [
    {
     "data": {
      "text/plain": [
       "2.0    31510\n",
       "1.6    28212\n",
       "1.8    11448\n",
       "3.0    10919\n",
       "1.4     9322\n",
       "       ...  \n",
       "0.9        4\n",
       "3.9        4\n",
       "6.5        2\n",
       "6.7        1\n",
       "0.6        1\n",
       "Name: engineDisplacement, Length: 61, dtype: int64"
      ]
     },
     "execution_count": 399,
     "metadata": {},
     "output_type": "execute_result"
    }
   ],
   "source": [
    "data['engineDisplacement'].value_counts()"
   ]
  },
  {
   "cell_type": "code",
   "execution_count": 400,
   "metadata": {
    "execution": {
     "iopub.execute_input": "2021-11-01T09:01:59.633015Z",
     "iopub.status.busy": "2021-11-01T09:01:59.632712Z",
     "iopub.status.idle": "2021-11-01T09:01:59.682422Z",
     "shell.execute_reply": "2021-11-01T09:01:59.681053Z",
     "shell.execute_reply.started": "2021-11-01T09:01:59.632987Z"
    }
   },
   "outputs": [
    {
     "data": {
      "text/plain": [
       "150.0      7058\n",
       "150 N12    4261\n",
       "249 N12    4043\n",
       "249.0      3721\n",
       "140.0      2898\n",
       "           ... \n",
       "389 N12       1\n",
       "316 N12       1\n",
       "62 N12        1\n",
       "385 N12       1\n",
       "11.0          1\n",
       "Name: enginePower, Length: 767, dtype: int64"
      ]
     },
     "execution_count": 400,
     "metadata": {},
     "output_type": "execute_result"
    }
   ],
   "source": [
    "data[\"enginePower\"].value_counts()"
   ]
  },
  {
   "cell_type": "code",
   "execution_count": 401,
   "metadata": {
    "execution": {
     "iopub.execute_input": "2021-11-01T09:01:59.684390Z",
     "iopub.status.busy": "2021-11-01T09:01:59.684074Z",
     "iopub.status.idle": "2021-11-01T09:01:59.883938Z",
     "shell.execute_reply": "2021-11-01T09:01:59.882752Z",
     "shell.execute_reply.started": "2021-11-01T09:01:59.684361Z"
    }
   },
   "outputs": [],
   "source": [
    "data['enginePower'] = data['enginePower'].apply(lambda x: str(x).split()[0])\n",
    "data['enginePower'] = data['enginePower'].astype(float)"
   ]
  },
  {
   "cell_type": "code",
   "execution_count": 402,
   "metadata": {
    "execution": {
     "iopub.execute_input": "2021-11-01T09:01:59.885906Z",
     "iopub.status.busy": "2021-11-01T09:01:59.885533Z",
     "iopub.status.idle": "2021-11-01T09:01:59.895937Z",
     "shell.execute_reply": "2021-11-01T09:01:59.894532Z",
     "shell.execute_reply.started": "2021-11-01T09:01:59.885875Z"
    }
   },
   "outputs": [
    {
     "data": {
      "text/plain": [
       "0         105.0\n",
       "1         110.0\n",
       "2         152.0\n",
       "3         110.0\n",
       "4         152.0\n",
       "          ...  \n",
       "161240    115.0\n",
       "161241    130.0\n",
       "161242    140.0\n",
       "161243     90.0\n",
       "161244    131.0\n",
       "Name: enginePower, Length: 161245, dtype: float64"
      ]
     },
     "execution_count": 402,
     "metadata": {},
     "output_type": "execute_result"
    }
   ],
   "source": [
    "data['enginePower']"
   ]
  },
  {
   "cell_type": "code",
   "execution_count": 403,
   "metadata": {
    "execution": {
     "iopub.execute_input": "2021-11-01T09:01:59.897898Z",
     "iopub.status.busy": "2021-11-01T09:01:59.897440Z",
     "iopub.status.idle": "2021-11-01T09:01:59.952774Z",
     "shell.execute_reply": "2021-11-01T09:01:59.951963Z",
     "shell.execute_reply.started": "2021-11-01T09:01:59.897864Z"
    }
   },
   "outputs": [
    {
     "data": {
      "text/plain": [
       "бензин       133520\n",
       "дизель        26685\n",
       "гибрид          746\n",
       "электро         268\n",
       "газ              25\n",
       "универсал         1\n",
       "Name: fuelType, dtype: int64"
      ]
     },
     "execution_count": 403,
     "metadata": {},
     "output_type": "execute_result"
    }
   ],
   "source": [
    "data[\"fuelType\"].value_counts()"
   ]
  },
  {
   "cell_type": "code",
   "execution_count": 404,
   "metadata": {
    "execution": {
     "iopub.execute_input": "2021-11-01T09:01:59.957119Z",
     "iopub.status.busy": "2021-11-01T09:01:59.956789Z",
     "iopub.status.idle": "2021-11-01T09:02:00.060774Z",
     "shell.execute_reply": "2021-11-01T09:02:00.059784Z",
     "shell.execute_reply.started": "2021-11-01T09:01:59.957090Z"
    }
   },
   "outputs": [],
   "source": [
    "# Заменим неправильное значение \"универсал\" на самое частотное\n",
    "data = data.replace({'fuelType': {'универсал' : 'бензин'}}) "
   ]
  },
  {
   "cell_type": "code",
   "execution_count": 405,
   "metadata": {
    "execution": {
     "iopub.execute_input": "2021-11-01T09:02:00.062473Z",
     "iopub.status.busy": "2021-11-01T09:02:00.062149Z",
     "iopub.status.idle": "2021-11-01T09:02:01.588179Z",
     "shell.execute_reply": "2021-11-01T09:02:01.587271Z",
     "shell.execute_reply.started": "2021-11-01T09:02:00.062442Z"
    }
   },
   "outputs": [],
   "source": [
    "# конвертируем все значения в тип float\n",
    "data[\"mileage\"] = data[\"mileage\"].apply(lambda x: re.findall(r'\\d+', str(x)))"
   ]
  },
  {
   "cell_type": "code",
   "execution_count": 406,
   "metadata": {
    "execution": {
     "iopub.execute_input": "2021-11-01T09:02:01.590139Z",
     "iopub.status.busy": "2021-11-01T09:02:01.589486Z",
     "iopub.status.idle": "2021-11-01T09:02:01.725116Z",
     "shell.execute_reply": "2021-11-01T09:02:01.723814Z",
     "shell.execute_reply.started": "2021-11-01T09:02:01.590084Z"
    }
   },
   "outputs": [],
   "source": [
    "data[\"mileage\"] = data[\"mileage\"].apply(lambda x: float(x[0]))"
   ]
  },
  {
   "cell_type": "code",
   "execution_count": 407,
   "metadata": {
    "execution": {
     "iopub.execute_input": "2021-11-01T09:02:01.727382Z",
     "iopub.status.busy": "2021-11-01T09:02:01.726958Z",
     "iopub.status.idle": "2021-11-01T09:02:01.739981Z",
     "shell.execute_reply": "2021-11-01T09:02:01.738814Z",
     "shell.execute_reply.started": "2021-11-01T09:02:01.727339Z"
    }
   },
   "outputs": [
    {
     "data": {
      "text/plain": [
       "2010.0    10379\n",
       "2012.0     9543\n",
       "2011.0     9491\n",
       "2006.0     9458\n",
       "2017.0     9185\n",
       "          ...  \n",
       "1908.0        2\n",
       "1948.0        1\n",
       "1935.0        1\n",
       "1946.0        1\n",
       "1967.0        1\n",
       "Name: modelDate, Length: 82, dtype: int64"
      ]
     },
     "execution_count": 407,
     "metadata": {},
     "output_type": "execute_result"
    }
   ],
   "source": [
    "data[\"modelDate\"].value_counts()"
   ]
  },
  {
   "cell_type": "code",
   "execution_count": 408,
   "metadata": {
    "execution": {
     "iopub.execute_input": "2021-11-01T09:02:01.742344Z",
     "iopub.status.busy": "2021-11-01T09:02:01.741690Z",
     "iopub.status.idle": "2021-11-01T09:02:01.764482Z",
     "shell.execute_reply": "2021-11-01T09:02:01.763550Z",
     "shell.execute_reply.started": "2021-11-01T09:02:01.742299Z"
    }
   },
   "outputs": [
    {
     "data": {
      "text/plain": [
       "array(['OCTAVIA', 'SUPERB', 'OCTAVIA_RS', ..., 'VAMOS', 'CAPA', 'MDX'],\n",
       "      dtype=object)"
      ]
     },
     "execution_count": 408,
     "metadata": {},
     "output_type": "execute_result"
    }
   ],
   "source": [
    "# пока не будет трогать этот признак\n",
    "data[\"model_name\"].unique()"
   ]
  },
  {
   "cell_type": "code",
   "execution_count": 409,
   "metadata": {
    "execution": {
     "iopub.execute_input": "2021-11-01T09:02:01.766507Z",
     "iopub.status.busy": "2021-11-01T09:02:01.766204Z",
     "iopub.status.idle": "2021-11-01T09:02:01.779165Z",
     "shell.execute_reply": "2021-11-01T09:02:01.777348Z",
     "shell.execute_reply.started": "2021-11-01T09:02:01.766478Z"
    }
   },
   "outputs": [
    {
     "data": {
      "text/plain": [
       "5.0    92250\n",
       "4.0    61295\n",
       "2.0     4235\n",
       "3.0     3462\n",
       "0.0        2\n",
       "Name: numberOfDoors, dtype: int64"
      ]
     },
     "execution_count": 409,
     "metadata": {},
     "output_type": "execute_result"
    }
   ],
   "source": [
    "data[\"numberOfDoors\"].value_counts()"
   ]
  },
  {
   "cell_type": "code",
   "execution_count": 410,
   "metadata": {
    "execution": {
     "iopub.execute_input": "2021-11-01T09:02:01.781298Z",
     "iopub.status.busy": "2021-11-01T09:02:01.780867Z",
     "iopub.status.idle": "2021-11-01T09:02:01.788931Z",
     "shell.execute_reply": "2021-11-01T09:02:01.787902Z",
     "shell.execute_reply.started": "2021-11-01T09:02:01.781266Z"
    }
   },
   "outputs": [
    {
     "data": {
      "text/plain": [
       "array([2014, 2017, 2012, 2011, 2019, 2018, 2010, 2020, 2016, 2013, 2006,\n",
       "       2007, 2015, 2005, 2008, 2009, 1997, 2004, 2002, 1987, 2003, 2001,\n",
       "       1976, 2000, 1998, 1995, 1999, 1993, 1939, 1996, 1984, 1990, 1991,\n",
       "       1992, 1989, 1982, 1985, 1994, 1938, 1981, 1988, 1983, 1980, 1986,\n",
       "       1978, 1970, 1979, 1977, 1972, 1975, 1969, 1950, 1953, 1949, 1937,\n",
       "       1959, 1968, 1936, 1904, 1974, 1967, 1961, 1960, 1965, 1963, 1957,\n",
       "       1952, 1973, 1948, 1955, 1964, 1971, 1931, 1927, 1923, 1924, 1932,\n",
       "       1951, 1954, 1966, 2021, 1958, 1962], dtype=int64)"
      ]
     },
     "execution_count": 410,
     "metadata": {},
     "output_type": "execute_result"
    }
   ],
   "source": [
    "data[\"productionDate\"].unique()"
   ]
  },
  {
   "cell_type": "code",
   "execution_count": 411,
   "metadata": {
    "execution": {
     "iopub.execute_input": "2021-11-01T09:02:01.790589Z",
     "iopub.status.busy": "2021-11-01T09:02:01.790277Z",
     "iopub.status.idle": "2021-11-01T09:02:01.814260Z",
     "shell.execute_reply": "2021-11-01T09:02:01.813076Z",
     "shell.execute_reply.started": "2021-11-01T09:02:01.790551Z"
    }
   },
   "outputs": [],
   "source": [
    "df = data.copy()"
   ]
  },
  {
   "cell_type": "code",
   "execution_count": 412,
   "metadata": {
    "execution": {
     "iopub.execute_input": "2021-11-01T09:02:01.815651Z",
     "iopub.status.busy": "2021-11-01T09:02:01.815374Z",
     "iopub.status.idle": "2021-11-01T09:02:01.866753Z",
     "shell.execute_reply": "2021-11-01T09:02:01.865560Z",
     "shell.execute_reply.started": "2021-11-01T09:02:01.815624Z"
    }
   },
   "outputs": [
    {
     "data": {
      "text/html": [
       "<div>\n",
       "<style scoped>\n",
       "    .dataframe tbody tr th:only-of-type {\n",
       "        vertical-align: middle;\n",
       "    }\n",
       "\n",
       "    .dataframe tbody tr th {\n",
       "        vertical-align: top;\n",
       "    }\n",
       "\n",
       "    .dataframe thead th {\n",
       "        text-align: right;\n",
       "    }\n",
       "</style>\n",
       "<table border=\"1\" class=\"dataframe\">\n",
       "  <thead>\n",
       "    <tr style=\"text-align: right;\">\n",
       "      <th></th>\n",
       "      <th>bodyType</th>\n",
       "      <th>brand</th>\n",
       "      <th>color</th>\n",
       "      <th>description</th>\n",
       "      <th>engineDisplacement</th>\n",
       "      <th>enginePower</th>\n",
       "      <th>fuelType</th>\n",
       "      <th>mileage</th>\n",
       "      <th>modelDate</th>\n",
       "      <th>model_name</th>\n",
       "      <th>numberOfDoors</th>\n",
       "      <th>productionDate</th>\n",
       "      <th>vehicleTransmission</th>\n",
       "      <th>owners</th>\n",
       "      <th>auto_passport</th>\n",
       "      <th>transmission</th>\n",
       "      <th>wheel</th>\n",
       "      <th>price</th>\n",
       "      <th>sample</th>\n",
       "      <th>description_len</th>\n",
       "    </tr>\n",
       "  </thead>\n",
       "  <tbody>\n",
       "    <tr>\n",
       "      <th>0</th>\n",
       "      <td>лифтбек</td>\n",
       "      <td>SKODA</td>\n",
       "      <td>синий</td>\n",
       "      <td>[все, автомобили, представленные, в, продаже, ...</td>\n",
       "      <td>1.2</td>\n",
       "      <td>105.0</td>\n",
       "      <td>бензин</td>\n",
       "      <td>74000.0</td>\n",
       "      <td>2013.0</td>\n",
       "      <td>OCTAVIA</td>\n",
       "      <td>5.0</td>\n",
       "      <td>2014</td>\n",
       "      <td>роботизированная</td>\n",
       "      <td>3 или более</td>\n",
       "      <td>Оригинал</td>\n",
       "      <td>передний</td>\n",
       "      <td>Левый</td>\n",
       "      <td>0.0</td>\n",
       "      <td>0</td>\n",
       "      <td>126</td>\n",
       "    </tr>\n",
       "  </tbody>\n",
       "</table>\n",
       "</div>"
      ],
      "text/plain": [
       "  bodyType  brand  color                                        description  \\\n",
       "0  лифтбек  SKODA  синий  [все, автомобили, представленные, в, продаже, ...   \n",
       "\n",
       "  engineDisplacement  enginePower fuelType  mileage  modelDate model_name  \\\n",
       "0                1.2        105.0   бензин  74000.0     2013.0    OCTAVIA   \n",
       "\n",
       "   numberOfDoors  productionDate vehicleTransmission       owners  \\\n",
       "0            5.0            2014    роботизированная  3 или более   \n",
       "\n",
       "  auto_passport transmission  wheel  price  sample  description_len  \n",
       "0      Оригинал     передний  Левый    0.0       0              126  "
      ]
     },
     "execution_count": 412,
     "metadata": {},
     "output_type": "execute_result"
    }
   ],
   "source": [
    "# В данной колонке слишком много различных значений, поэтому было решено ее удалить\n",
    "data.drop([\"vehicleConfiguration\"], axis=1).head(1)"
   ]
  },
  {
   "cell_type": "code",
   "execution_count": 413,
   "metadata": {
    "execution": {
     "iopub.execute_input": "2021-11-01T09:02:01.868378Z",
     "iopub.status.busy": "2021-11-01T09:02:01.868088Z",
     "iopub.status.idle": "2021-11-01T09:02:01.917609Z",
     "shell.execute_reply": "2021-11-01T09:02:01.916802Z",
     "shell.execute_reply.started": "2021-11-01T09:02:01.868351Z"
    }
   },
   "outputs": [
    {
     "data": {
      "text/plain": [
       "AUTOMATIC           49218\n",
       "автоматическая      41354\n",
       "MECHANICAL          25264\n",
       "механическая        13949\n",
       "роботизированная     8471\n",
       "вариатор             8093\n",
       "ROBOT                7871\n",
       "VARIATOR             7024\n",
       "Name: vehicleTransmission, dtype: int64"
      ]
     },
     "execution_count": 413,
     "metadata": {},
     "output_type": "execute_result"
    }
   ],
   "source": [
    "data['vehicleTransmission'].value_counts()"
   ]
  },
  {
   "cell_type": "code",
   "execution_count": 414,
   "metadata": {
    "execution": {
     "iopub.execute_input": "2021-11-01T09:02:01.920070Z",
     "iopub.status.busy": "2021-11-01T09:02:01.919434Z",
     "iopub.status.idle": "2021-11-01T09:02:01.982515Z",
     "shell.execute_reply": "2021-11-01T09:02:01.981464Z",
     "shell.execute_reply.started": "2021-11-01T09:02:01.920023Z"
    }
   },
   "outputs": [],
   "source": [
    "data['vehicleTransmission'] = data['vehicleTransmission'].apply(lambda x: \"автоматическая\" if x == \"AUTOMATIC\" else \n",
    "                                                        \"механическая\" if x == \"MECHANICAL\" else \"роботизированная\" if x == \"ROBOT\"\n",
    "                                                         else \"вариатор\"  if x == \"VARIATOR\" else x)"
   ]
  },
  {
   "cell_type": "code",
   "execution_count": 415,
   "metadata": {
    "execution": {
     "iopub.execute_input": "2021-11-01T09:02:01.984468Z",
     "iopub.status.busy": "2021-11-01T09:02:01.984044Z",
     "iopub.status.idle": "2021-11-01T09:02:02.035347Z",
     "shell.execute_reply": "2021-11-01T09:02:02.034525Z",
     "shell.execute_reply.started": "2021-11-01T09:02:01.984426Z"
    }
   },
   "outputs": [
    {
     "data": {
      "text/plain": [
       "автоматическая      90572\n",
       "механическая        39213\n",
       "роботизированная    16342\n",
       "вариатор            15117\n",
       "Name: vehicleTransmission, dtype: int64"
      ]
     },
     "execution_count": 415,
     "metadata": {},
     "output_type": "execute_result"
    }
   ],
   "source": [
    "data['vehicleTransmission'].value_counts()"
   ]
  },
  {
   "cell_type": "code",
   "execution_count": 416,
   "metadata": {
    "execution": {
     "iopub.execute_input": "2021-11-01T09:02:02.036866Z",
     "iopub.status.busy": "2021-11-01T09:02:02.036542Z",
     "iopub.status.idle": "2021-11-01T09:02:02.217027Z",
     "shell.execute_reply": "2021-11-01T09:02:02.216188Z",
     "shell.execute_reply.started": "2021-11-01T09:02:02.036838Z"
    }
   },
   "outputs": [],
   "source": [
    "data[\"owners\"] = data[\"owners\"].apply(lambda x: 1 if x == 1.0 or x == \"1 владелец\" or x == \"1\\xa0владелец\" else 2 if x == 2.0 or x ==\"2 владельца\"\n",
    "                                     or x == \"2\\xa0владельца\" else 3 if x == 3.0 else 4 if x == \"3 или более\" else x)"
   ]
  },
  {
   "cell_type": "code",
   "execution_count": 417,
   "metadata": {
    "execution": {
     "iopub.execute_input": "2021-11-01T09:02:02.218778Z",
     "iopub.status.busy": "2021-11-01T09:02:02.218299Z",
     "iopub.status.idle": "2021-11-01T09:02:02.229283Z",
     "shell.execute_reply": "2021-11-01T09:02:02.228022Z",
     "shell.execute_reply.started": "2021-11-01T09:02:02.218747Z"
    }
   },
   "outputs": [
    {
     "data": {
      "text/plain": [
       "1.0    41255\n",
       "2.0    40132\n",
       "3.0    36248\n",
       "4.0    30022\n",
       "Name: owners, dtype: int64"
      ]
     },
     "execution_count": 417,
     "metadata": {},
     "output_type": "execute_result"
    }
   ],
   "source": [
    "data[\"owners\"].value_counts()"
   ]
  },
  {
   "cell_type": "code",
   "execution_count": 418,
   "metadata": {
    "execution": {
     "iopub.execute_input": "2021-11-01T09:02:02.230883Z",
     "iopub.status.busy": "2021-11-01T09:02:02.230565Z",
     "iopub.status.idle": "2021-11-01T09:02:02.281413Z",
     "shell.execute_reply": "2021-11-01T09:02:02.279806Z",
     "shell.execute_reply.started": "2021-11-01T09:02:02.230855Z"
    }
   },
   "outputs": [
    {
     "data": {
      "text/plain": [
       "ORIGINAL     78597\n",
       "Оригинал     63123\n",
       "DUPLICATE    10420\n",
       "Дубликат      8743\n",
       "Name: auto_passport, dtype: int64"
      ]
     },
     "execution_count": 418,
     "metadata": {},
     "output_type": "execute_result"
    }
   ],
   "source": [
    "data[\"auto_passport\"].value_counts()"
   ]
  },
  {
   "cell_type": "code",
   "execution_count": 419,
   "metadata": {
    "execution": {
     "iopub.execute_input": "2021-11-01T09:02:02.284121Z",
     "iopub.status.busy": "2021-11-01T09:02:02.283524Z",
     "iopub.status.idle": "2021-11-01T09:02:02.343216Z",
     "shell.execute_reply": "2021-11-01T09:02:02.342087Z",
     "shell.execute_reply.started": "2021-11-01T09:02:02.283997Z"
    }
   },
   "outputs": [],
   "source": [
    "data[\"auto_passport\"] = data[\"auto_passport\"].apply(lambda x: \"Оригинал\" if x == \"ORIGINAL\" else \"Дубликат\" if x == \"DUPLICATE\" else x)"
   ]
  },
  {
   "cell_type": "code",
   "execution_count": 420,
   "metadata": {
    "execution": {
     "iopub.execute_input": "2021-11-01T09:02:02.345019Z",
     "iopub.status.busy": "2021-11-01T09:02:02.344706Z",
     "iopub.status.idle": "2021-11-01T09:02:02.395811Z",
     "shell.execute_reply": "2021-11-01T09:02:02.394285Z",
     "shell.execute_reply.started": "2021-11-01T09:02:02.344987Z"
    }
   },
   "outputs": [
    {
     "data": {
      "text/plain": [
       "Оригинал    141720\n",
       "Дубликат     19163\n",
       "Name: auto_passport, dtype: int64"
      ]
     },
     "execution_count": 420,
     "metadata": {},
     "output_type": "execute_result"
    }
   ],
   "source": [
    "data[\"auto_passport\"].value_counts()"
   ]
  },
  {
   "cell_type": "code",
   "execution_count": 421,
   "metadata": {
    "execution": {
     "iopub.execute_input": "2021-11-01T09:02:02.397839Z",
     "iopub.status.busy": "2021-11-01T09:02:02.397345Z",
     "iopub.status.idle": "2021-11-01T09:02:02.451449Z",
     "shell.execute_reply": "2021-11-01T09:02:02.450778Z",
     "shell.execute_reply.started": "2021-11-01T09:02:02.397806Z"
    }
   },
   "outputs": [
    {
     "data": {
      "text/plain": [
       "передний    79401\n",
       "полный      67122\n",
       "задний      14721\n",
       "Name: transmission, dtype: int64"
      ]
     },
     "execution_count": 421,
     "metadata": {},
     "output_type": "execute_result"
    }
   ],
   "source": [
    "data[\"transmission\"].value_counts()"
   ]
  },
  {
   "cell_type": "code",
   "execution_count": 422,
   "metadata": {
    "execution": {
     "iopub.execute_input": "2021-11-01T09:02:02.452889Z",
     "iopub.status.busy": "2021-11-01T09:02:02.452453Z",
     "iopub.status.idle": "2021-11-01T09:02:02.502369Z",
     "shell.execute_reply": "2021-11-01T09:02:02.500941Z",
     "shell.execute_reply.started": "2021-11-01T09:02:02.452852Z"
    }
   },
   "outputs": [
    {
     "data": {
      "text/plain": [
       "LEFT      87589\n",
       "Левый     69386\n",
       "Правый     2481\n",
       "RIGHT      1789\n",
       "Name: wheel, dtype: int64"
      ]
     },
     "execution_count": 422,
     "metadata": {},
     "output_type": "execute_result"
    }
   ],
   "source": [
    "data[\"wheel\"].value_counts()"
   ]
  },
  {
   "cell_type": "code",
   "execution_count": 423,
   "metadata": {
    "execution": {
     "iopub.execute_input": "2021-11-01T09:02:02.504094Z",
     "iopub.status.busy": "2021-11-01T09:02:02.503740Z",
     "iopub.status.idle": "2021-11-01T09:02:02.561553Z",
     "shell.execute_reply": "2021-11-01T09:02:02.560435Z",
     "shell.execute_reply.started": "2021-11-01T09:02:02.504034Z"
    }
   },
   "outputs": [],
   "source": [
    "data[\"wheel\"] =  data[\"wheel\"].apply(lambda x: \"Левый\"  if x == \"LEFT\" else \"Правый\" if x == \"RIGHT\" else x)"
   ]
  },
  {
   "cell_type": "code",
   "execution_count": 424,
   "metadata": {
    "execution": {
     "iopub.execute_input": "2021-11-01T09:02:02.563371Z",
     "iopub.status.busy": "2021-11-01T09:02:02.563061Z",
     "iopub.status.idle": "2021-11-01T09:02:02.614447Z",
     "shell.execute_reply": "2021-11-01T09:02:02.613153Z",
     "shell.execute_reply.started": "2021-11-01T09:02:02.563342Z"
    }
   },
   "outputs": [
    {
     "data": {
      "text/plain": [
       "Левый     156975\n",
       "Правый      4270\n",
       "Name: wheel, dtype: int64"
      ]
     },
     "execution_count": 424,
     "metadata": {},
     "output_type": "execute_result"
    }
   ],
   "source": [
    "data[\"wheel\"].value_counts()"
   ]
  },
  {
   "cell_type": "markdown",
   "metadata": {},
   "source": [
    "# EDA"
   ]
  },
  {
   "cell_type": "markdown",
   "metadata": {},
   "source": [
    "Итого: на данный момент имеем 13 категориальных колонок и 8 числовых. Построим графики для обоих типов."
   ]
  },
  {
   "cell_type": "code",
   "execution_count": 425,
   "metadata": {
    "execution": {
     "iopub.execute_input": "2021-11-01T09:02:02.616583Z",
     "iopub.status.busy": "2021-11-01T09:02:02.616075Z",
     "iopub.status.idle": "2021-11-01T09:02:02.625020Z",
     "shell.execute_reply": "2021-11-01T09:02:02.623919Z",
     "shell.execute_reply.started": "2021-11-01T09:02:02.616538Z"
    }
   },
   "outputs": [],
   "source": [
    "num_cols = ['enginePower','mileage','modelDate','numberOfDoors','productionDate','owners','description_len']"
   ]
  },
  {
   "cell_type": "code",
   "execution_count": 426,
   "metadata": {
    "execution": {
     "iopub.execute_input": "2021-11-01T09:02:02.626775Z",
     "iopub.status.busy": "2021-11-01T09:02:02.626429Z",
     "iopub.status.idle": "2021-11-01T09:02:02.691655Z",
     "shell.execute_reply": "2021-11-01T09:02:02.690306Z",
     "shell.execute_reply.started": "2021-11-01T09:02:02.626743Z"
    }
   },
   "outputs": [],
   "source": [
    "df = data.copy()"
   ]
  },
  {
   "cell_type": "markdown",
   "metadata": {},
   "source": [
    "### Распределение числовых признаков"
   ]
  },
  {
   "cell_type": "code",
   "execution_count": 427,
   "metadata": {
    "execution": {
     "iopub.execute_input": "2021-11-01T09:02:02.695240Z",
     "iopub.status.busy": "2021-11-01T09:02:02.694769Z",
     "iopub.status.idle": "2021-11-01T09:02:04.646049Z",
     "shell.execute_reply": "2021-11-01T09:02:04.644862Z",
     "shell.execute_reply.started": "2021-11-01T09:02:02.695194Z"
    }
   },
   "outputs": [
    {
     "data": {
      "image/png": "[encoded data removed]",
      "text/plain": [
       "<Figure size 1800x1080 with 8 Axes>"
      ]
     },
     "metadata": {},
     "output_type": "display_data"
    }
   ],
   "source": [
    "fig, axes = plt.subplots(2, 4, figsize=(25,15))\n",
    "\n",
    "for i,col in enumerate(df[num_cols]):\n",
    "    sns.set()\n",
    "    sns.distplot(df[col], kde=False, ax=axes.flat[i], color=\"green\")"
   ]
  },
  {
   "cell_type": "code",
   "execution_count": 428,
   "metadata": {
    "execution": {
     "iopub.execute_input": "2021-11-01T09:02:04.647950Z",
     "iopub.status.busy": "2021-11-01T09:02:04.647504Z",
     "iopub.status.idle": "2021-11-01T09:02:06.436251Z",
     "shell.execute_reply": "2021-11-01T09:02:06.434790Z",
     "shell.execute_reply.started": "2021-11-01T09:02:04.647904Z"
    }
   },
   "outputs": [
    {
     "data": {
      "image/png": "[encoded data removed]",
      "text/plain": [
       "<Figure size 1080x216 with 1 Axes>"
      ]
     },
     "metadata": {},
     "output_type": "display_data"
    },
    {
     "data": {
      "image/png": "[encoded data removed]",
      "text/plain": [
       "<Figure size 1080x216 with 1 Axes>"
      ]
     },
     "metadata": {},
     "output_type": "display_data"
    },
    {
     "data": {
      "image/png": "[encoded data removed]",
      "text/plain": [
       "<Figure size 1080x216 with 1 Axes>"
      ]
     },
     "metadata": {},
     "output_type": "display_data"
    },
    {
     "data": {
      "image/png": "[encoded data removed]",
      "text/plain": [
       "<Figure size 1080x216 with 1 Axes>"
      ]
     },
     "metadata": {},
     "output_type": "display_data"
    },
    {
     "data": {
      "image/png": "[encoded data removed]",
      "text/plain": [
       "<Figure size 1080x216 with 1 Axes>"
      ]
     },
     "metadata": {},
     "output_type": "display_data"
    },
    {
     "data": {
      "image/png": "[encoded data removed]",
      "text/plain": [
       "<Figure size 1080x216 with 1 Axes>"
      ]
     },
     "metadata": {},
     "output_type": "display_data"
    },
    {
     "data": {
      "image/png": "[encoded data removed]",
      "text/plain": [
       "<Figure size 1080x216 with 1 Axes>"
      ]
     },
     "metadata": {},
     "output_type": "display_data"
    }
   ],
   "source": [
    "for col in df[num_cols]:\n",
    "    plt.figure(figsize=(15,3))\n",
    "    sns.boxplot(x = df[col],showmeans=True, meanline=True, orient='h', color=\"lightgreen\")"
   ]
  },
  {
   "cell_type": "code",
   "execution_count": 429,
   "metadata": {
    "execution": {
     "iopub.execute_input": "2021-11-01T09:02:06.438688Z",
     "iopub.status.busy": "2021-11-01T09:02:06.438237Z",
     "iopub.status.idle": "2021-11-01T09:02:06.886355Z",
     "shell.execute_reply": "2021-11-01T09:02:06.885138Z",
     "shell.execute_reply.started": "2021-11-01T09:02:06.438629Z"
    }
   },
   "outputs": [
    {
     "data": {
      "text/plain": [
       "<matplotlib.axes._subplots.AxesSubplot at 0x295614755b0>"
      ]
     },
     "execution_count": 429,
     "metadata": {},
     "output_type": "execute_result"
    },
    {
     "data": {
      "image/png": "[encoded data removed]",
      "text/plain": [
       "<Figure size 720x720 with 1 Axes>"
      ]
     },
     "metadata": {},
     "output_type": "display_data"
    }
   ],
   "source": [
    "# Распределение целевой переменной\n",
    "plt.figure(figsize=(10,10))\n",
    "sns.set()\n",
    "sns.distplot(df[df[\"sample\"] == 1][\"price\"], kde=False, color=\"green\")"
   ]
  },
  {
   "cell_type": "code",
   "execution_count": null,
   "metadata": {},
   "outputs": [],
   "source": []
  },
  {
   "cell_type": "markdown",
   "metadata": {},
   "source": [
    "# Feature Engineering"
   ]
  },
  {
   "cell_type": "markdown",
   "metadata": {},
   "source": [
    "Добавим несколько новых признаков в наш датасет. Один новый признак у нас уже есть - количество слов в описании."
   ]
  },
  {
   "cell_type": "code",
   "execution_count": 430,
   "metadata": {
    "execution": {
     "iopub.execute_input": "2021-11-01T09:02:06.887993Z",
     "iopub.status.busy": "2021-11-01T09:02:06.887705Z",
     "iopub.status.idle": "2021-11-01T09:02:06.921188Z",
     "shell.execute_reply": "2021-11-01T09:02:06.920027Z",
     "shell.execute_reply.started": "2021-11-01T09:02:06.887965Z"
    }
   },
   "outputs": [],
   "source": [
    "data = df.copy()"
   ]
  },
  {
   "cell_type": "code",
   "execution_count": 431,
   "metadata": {},
   "outputs": [
    {
     "data": {
      "text/html": [
       "<div>\n",
       "<style scoped>\n",
       "    .dataframe tbody tr th:only-of-type {\n",
       "        vertical-align: middle;\n",
       "    }\n",
       "\n",
       "    .dataframe tbody tr th {\n",
       "        vertical-align: top;\n",
       "    }\n",
       "\n",
       "    .dataframe thead th {\n",
       "        text-align: right;\n",
       "    }\n",
       "</style>\n",
       "<table border=\"1\" class=\"dataframe\">\n",
       "  <thead>\n",
       "    <tr style=\"text-align: right;\">\n",
       "      <th></th>\n",
       "      <th>bodyType</th>\n",
       "      <th>brand</th>\n",
       "      <th>color</th>\n",
       "      <th>description</th>\n",
       "      <th>engineDisplacement</th>\n",
       "      <th>enginePower</th>\n",
       "      <th>fuelType</th>\n",
       "      <th>mileage</th>\n",
       "      <th>modelDate</th>\n",
       "      <th>model_name</th>\n",
       "      <th>...</th>\n",
       "      <th>productionDate</th>\n",
       "      <th>vehicleConfiguration</th>\n",
       "      <th>vehicleTransmission</th>\n",
       "      <th>owners</th>\n",
       "      <th>auto_passport</th>\n",
       "      <th>transmission</th>\n",
       "      <th>wheel</th>\n",
       "      <th>price</th>\n",
       "      <th>sample</th>\n",
       "      <th>description_len</th>\n",
       "    </tr>\n",
       "  </thead>\n",
       "  <tbody>\n",
       "    <tr>\n",
       "      <th>0</th>\n",
       "      <td>лифтбек</td>\n",
       "      <td>SKODA</td>\n",
       "      <td>синий</td>\n",
       "      <td>[все, автомобили, представленные, в, продаже, ...</td>\n",
       "      <td>1.2</td>\n",
       "      <td>105.0</td>\n",
       "      <td>бензин</td>\n",
       "      <td>74000.0</td>\n",
       "      <td>2013.0</td>\n",
       "      <td>OCTAVIA</td>\n",
       "      <td>...</td>\n",
       "      <td>2014</td>\n",
       "      <td>LIFTBACK ROBOT 1.2</td>\n",
       "      <td>роботизированная</td>\n",
       "      <td>4.0</td>\n",
       "      <td>Оригинал</td>\n",
       "      <td>передний</td>\n",
       "      <td>Левый</td>\n",
       "      <td>0.0</td>\n",
       "      <td>0</td>\n",
       "      <td>126</td>\n",
       "    </tr>\n",
       "    <tr>\n",
       "      <th>1</th>\n",
       "      <td>лифтбек</td>\n",
       "      <td>SKODA</td>\n",
       "      <td>чёрный</td>\n",
       "      <td>[лот, автопрага, север, данный, автомобиль, пр...</td>\n",
       "      <td>1.6</td>\n",
       "      <td>110.0</td>\n",
       "      <td>бензин</td>\n",
       "      <td>60563.0</td>\n",
       "      <td>2017.0</td>\n",
       "      <td>OCTAVIA</td>\n",
       "      <td>...</td>\n",
       "      <td>2017</td>\n",
       "      <td>LIFTBACK MECHANICAL 1.6</td>\n",
       "      <td>механическая</td>\n",
       "      <td>1.0</td>\n",
       "      <td>Оригинал</td>\n",
       "      <td>передний</td>\n",
       "      <td>Левый</td>\n",
       "      <td>0.0</td>\n",
       "      <td>0</td>\n",
       "      <td>305</td>\n",
       "    </tr>\n",
       "    <tr>\n",
       "      <th>2</th>\n",
       "      <td>лифтбек</td>\n",
       "      <td>SKODA</td>\n",
       "      <td>серый</td>\n",
       "      <td>[все, автомобили, представленные, в, продаже, ...</td>\n",
       "      <td>1.8</td>\n",
       "      <td>152.0</td>\n",
       "      <td>бензин</td>\n",
       "      <td>88000.0</td>\n",
       "      <td>2013.0</td>\n",
       "      <td>SUPERB</td>\n",
       "      <td>...</td>\n",
       "      <td>2014</td>\n",
       "      <td>LIFTBACK ROBOT 1.8</td>\n",
       "      <td>роботизированная</td>\n",
       "      <td>1.0</td>\n",
       "      <td>Оригинал</td>\n",
       "      <td>передний</td>\n",
       "      <td>Левый</td>\n",
       "      <td>0.0</td>\n",
       "      <td>0</td>\n",
       "      <td>126</td>\n",
       "    </tr>\n",
       "    <tr>\n",
       "      <th>3</th>\n",
       "      <td>лифтбек</td>\n",
       "      <td>SKODA</td>\n",
       "      <td>коричневый</td>\n",
       "      <td>[комплект, зимней, летней, резины, по, сезону,...</td>\n",
       "      <td>1.6</td>\n",
       "      <td>110.0</td>\n",
       "      <td>бензин</td>\n",
       "      <td>95000.0</td>\n",
       "      <td>2013.0</td>\n",
       "      <td>OCTAVIA</td>\n",
       "      <td>...</td>\n",
       "      <td>2014</td>\n",
       "      <td>LIFTBACK AUTOMATIC 1.6</td>\n",
       "      <td>автоматическая</td>\n",
       "      <td>1.0</td>\n",
       "      <td>Оригинал</td>\n",
       "      <td>передний</td>\n",
       "      <td>Левый</td>\n",
       "      <td>0.0</td>\n",
       "      <td>0</td>\n",
       "      <td>208</td>\n",
       "    </tr>\n",
       "    <tr>\n",
       "      <th>4</th>\n",
       "      <td>лифтбек</td>\n",
       "      <td>SKODA</td>\n",
       "      <td>белый</td>\n",
       "      <td>[лот, автопрага, север, вы, можете, получить, ...</td>\n",
       "      <td>1.8</td>\n",
       "      <td>152.0</td>\n",
       "      <td>бензин</td>\n",
       "      <td>58536.0</td>\n",
       "      <td>2008.0</td>\n",
       "      <td>OCTAVIA</td>\n",
       "      <td>...</td>\n",
       "      <td>2012</td>\n",
       "      <td>LIFTBACK AUTOMATIC 1.8</td>\n",
       "      <td>автоматическая</td>\n",
       "      <td>1.0</td>\n",
       "      <td>Оригинал</td>\n",
       "      <td>передний</td>\n",
       "      <td>Левый</td>\n",
       "      <td>0.0</td>\n",
       "      <td>0</td>\n",
       "      <td>277</td>\n",
       "    </tr>\n",
       "    <tr>\n",
       "      <th>...</th>\n",
       "      <td>...</td>\n",
       "      <td>...</td>\n",
       "      <td>...</td>\n",
       "      <td>...</td>\n",
       "      <td>...</td>\n",
       "      <td>...</td>\n",
       "      <td>...</td>\n",
       "      <td>...</td>\n",
       "      <td>...</td>\n",
       "      <td>...</td>\n",
       "      <td>...</td>\n",
       "      <td>...</td>\n",
       "      <td>...</td>\n",
       "      <td>...</td>\n",
       "      <td>...</td>\n",
       "      <td>...</td>\n",
       "      <td>...</td>\n",
       "      <td>...</td>\n",
       "      <td>...</td>\n",
       "      <td>...</td>\n",
       "      <td>...</td>\n",
       "    </tr>\n",
       "    <tr>\n",
       "      <th>161240</th>\n",
       "      <td>хэтчбек</td>\n",
       "      <td>HONDA</td>\n",
       "      <td>красный</td>\n",
       "      <td>[машина, в, отличном, состоянии, есть, что, пе...</td>\n",
       "      <td>1.5</td>\n",
       "      <td>115.0</td>\n",
       "      <td>бензин</td>\n",
       "      <td>373317.0</td>\n",
       "      <td>1999.0</td>\n",
       "      <td>CIVIC</td>\n",
       "      <td>...</td>\n",
       "      <td>1999</td>\n",
       "      <td>HATCHBACK_5_DOORS MECHANICAL 1.5</td>\n",
       "      <td>механическая</td>\n",
       "      <td>4.0</td>\n",
       "      <td>Дубликат</td>\n",
       "      <td>передний</td>\n",
       "      <td>Левый</td>\n",
       "      <td>674938.0</td>\n",
       "      <td>1</td>\n",
       "      <td>24</td>\n",
       "    </tr>\n",
       "    <tr>\n",
       "      <th>161241</th>\n",
       "      <td>компактвэн</td>\n",
       "      <td>HONDA</td>\n",
       "      <td>серебристый</td>\n",
       "      <td>[продам, свою, ласточку, или, поменяю, на, бол...</td>\n",
       "      <td>1.7</td>\n",
       "      <td>130.0</td>\n",
       "      <td>бензин</td>\n",
       "      <td>311000.0</td>\n",
       "      <td>2002.0</td>\n",
       "      <td>STREAM</td>\n",
       "      <td>...</td>\n",
       "      <td>2002</td>\n",
       "      <td>COMPACTVAN AUTOMATIC 1.7</td>\n",
       "      <td>автоматическая</td>\n",
       "      <td>4.0</td>\n",
       "      <td>Оригинал</td>\n",
       "      <td>передний</td>\n",
       "      <td>Правый</td>\n",
       "      <td>1060617.0</td>\n",
       "      <td>1</td>\n",
       "      <td>166</td>\n",
       "    </tr>\n",
       "    <tr>\n",
       "      <th>161242</th>\n",
       "      <td>седан</td>\n",
       "      <td>HONDA</td>\n",
       "      <td>серый</td>\n",
       "      <td>[продаю, личный, автомобиль, технически, испра...</td>\n",
       "      <td>1.8</td>\n",
       "      <td>140.0</td>\n",
       "      <td>бензин</td>\n",
       "      <td>196000.0</td>\n",
       "      <td>2008.0</td>\n",
       "      <td>CIVIC</td>\n",
       "      <td>...</td>\n",
       "      <td>2008</td>\n",
       "      <td>SEDAN MECHANICAL 1.8</td>\n",
       "      <td>механическая</td>\n",
       "      <td>4.0</td>\n",
       "      <td>Дубликат</td>\n",
       "      <td>передний</td>\n",
       "      <td>Левый</td>\n",
       "      <td>1382016.0</td>\n",
       "      <td>1</td>\n",
       "      <td>58</td>\n",
       "    </tr>\n",
       "    <tr>\n",
       "      <th>161243</th>\n",
       "      <td>хэтчбек</td>\n",
       "      <td>HONDA</td>\n",
       "      <td>синий</td>\n",
       "      <td>[в, нормальном, состоянии, требует, внимание, ...</td>\n",
       "      <td>1.4</td>\n",
       "      <td>90.0</td>\n",
       "      <td>бензин</td>\n",
       "      <td>350000.0</td>\n",
       "      <td>2000.0</td>\n",
       "      <td>CIVIC</td>\n",
       "      <td>...</td>\n",
       "      <td>2000</td>\n",
       "      <td>HATCHBACK_5_DOORS MECHANICAL 1.4</td>\n",
       "      <td>механическая</td>\n",
       "      <td>4.0</td>\n",
       "      <td>Дубликат</td>\n",
       "      <td>передний</td>\n",
       "      <td>Левый</td>\n",
       "      <td>433889.0</td>\n",
       "      <td>1</td>\n",
       "      <td>29</td>\n",
       "    </tr>\n",
       "    <tr>\n",
       "      <th>161244</th>\n",
       "      <td>седан</td>\n",
       "      <td>HONDA</td>\n",
       "      <td>чёрный</td>\n",
       "      <td>[на, полном, ходу, есть, жизненные, котцки, во...</td>\n",
       "      <td>2.0</td>\n",
       "      <td>131.0</td>\n",
       "      <td>бензин</td>\n",
       "      <td>90000.0</td>\n",
       "      <td>1995.0</td>\n",
       "      <td>ACCORD</td>\n",
       "      <td>...</td>\n",
       "      <td>1995</td>\n",
       "      <td>SEDAN MECHANICAL 2.0</td>\n",
       "      <td>механическая</td>\n",
       "      <td>4.0</td>\n",
       "      <td>Оригинал</td>\n",
       "      <td>передний</td>\n",
       "      <td>Левый</td>\n",
       "      <td>674938.0</td>\n",
       "      <td>1</td>\n",
       "      <td>26</td>\n",
       "    </tr>\n",
       "  </tbody>\n",
       "</table>\n",
       "<p>161245 rows × 21 columns</p>\n",
       "</div>"
      ],
      "text/plain": [
       "          bodyType  brand        color  \\\n",
       "0          лифтбек  SKODA        синий   \n",
       "1          лифтбек  SKODA       чёрный   \n",
       "2          лифтбек  SKODA        серый   \n",
       "3          лифтбек  SKODA   коричневый   \n",
       "4          лифтбек  SKODA        белый   \n",
       "...            ...    ...          ...   \n",
       "161240     хэтчбек  HONDA      красный   \n",
       "161241  компактвэн  HONDA  серебристый   \n",
       "161242       седан  HONDA        серый   \n",
       "161243     хэтчбек  HONDA        синий   \n",
       "161244       седан  HONDA       чёрный   \n",
       "\n",
       "                                              description engineDisplacement  \\\n",
       "0       [все, автомобили, представленные, в, продаже, ...                1.2   \n",
       "1       [лот, автопрага, север, данный, автомобиль, пр...                1.6   \n",
       "2       [все, автомобили, представленные, в, продаже, ...                1.8   \n",
       "3       [комплект, зимней, летней, резины, по, сезону,...                1.6   \n",
       "4       [лот, автопрага, север, вы, можете, получить, ...                1.8   \n",
       "...                                                   ...                ...   \n",
       "161240  [машина, в, отличном, состоянии, есть, что, пе...                1.5   \n",
       "161241  [продам, свою, ласточку, или, поменяю, на, бол...                1.7   \n",
       "161242  [продаю, личный, автомобиль, технически, испра...                1.8   \n",
       "161243  [в, нормальном, состоянии, требует, внимание, ...                1.4   \n",
       "161244  [на, полном, ходу, есть, жизненные, котцки, во...                2.0   \n",
       "\n",
       "        enginePower fuelType   mileage  modelDate model_name  ...  \\\n",
       "0             105.0   бензин   74000.0     2013.0    OCTAVIA  ...   \n",
       "1             110.0   бензин   60563.0     2017.0    OCTAVIA  ...   \n",
       "2             152.0   бензин   88000.0     2013.0     SUPERB  ...   \n",
       "3             110.0   бензин   95000.0     2013.0    OCTAVIA  ...   \n",
       "4             152.0   бензин   58536.0     2008.0    OCTAVIA  ...   \n",
       "...             ...      ...       ...        ...        ...  ...   \n",
       "161240        115.0   бензин  373317.0     1999.0      CIVIC  ...   \n",
       "161241        130.0   бензин  311000.0     2002.0     STREAM  ...   \n",
       "161242        140.0   бензин  196000.0     2008.0      CIVIC  ...   \n",
       "161243         90.0   бензин  350000.0     2000.0      CIVIC  ...   \n",
       "161244        131.0   бензин   90000.0     1995.0     ACCORD  ...   \n",
       "\n",
       "        productionDate              vehicleConfiguration vehicleTransmission  \\\n",
       "0                 2014                LIFTBACK ROBOT 1.2    роботизированная   \n",
       "1                 2017           LIFTBACK MECHANICAL 1.6        механическая   \n",
       "2                 2014                LIFTBACK ROBOT 1.8    роботизированная   \n",
       "3                 2014            LIFTBACK AUTOMATIC 1.6      автоматическая   \n",
       "4                 2012            LIFTBACK AUTOMATIC 1.8      автоматическая   \n",
       "...                ...                               ...                 ...   \n",
       "161240            1999  HATCHBACK_5_DOORS MECHANICAL 1.5        механическая   \n",
       "161241            2002          COMPACTVAN AUTOMATIC 1.7      автоматическая   \n",
       "161242            2008              SEDAN MECHANICAL 1.8        механическая   \n",
       "161243            2000  HATCHBACK_5_DOORS MECHANICAL 1.4        механическая   \n",
       "161244            1995              SEDAN MECHANICAL 2.0        механическая   \n",
       "\n",
       "       owners  auto_passport transmission   wheel      price  sample  \\\n",
       "0         4.0       Оригинал     передний   Левый        0.0       0   \n",
       "1         1.0       Оригинал     передний   Левый        0.0       0   \n",
       "2         1.0       Оригинал     передний   Левый        0.0       0   \n",
       "3         1.0       Оригинал     передний   Левый        0.0       0   \n",
       "4         1.0       Оригинал     передний   Левый        0.0       0   \n",
       "...       ...            ...          ...     ...        ...     ...   \n",
       "161240    4.0       Дубликат     передний   Левый   674938.0       1   \n",
       "161241    4.0       Оригинал     передний  Правый  1060617.0       1   \n",
       "161242    4.0       Дубликат     передний   Левый  1382016.0       1   \n",
       "161243    4.0       Дубликат     передний   Левый   433889.0       1   \n",
       "161244    4.0       Оригинал     передний   Левый   674938.0       1   \n",
       "\n",
       "        description_len  \n",
       "0                   126  \n",
       "1                   305  \n",
       "2                   126  \n",
       "3                   208  \n",
       "4                   277  \n",
       "...                 ...  \n",
       "161240               24  \n",
       "161241              166  \n",
       "161242               58  \n",
       "161243               29  \n",
       "161244               26  \n",
       "\n",
       "[161245 rows x 21 columns]"
      ]
     },
     "execution_count": 431,
     "metadata": {},
     "output_type": "execute_result"
    }
   ],
   "source": [
    "data"
   ]
  },
  {
   "cell_type": "code",
   "execution_count": 432,
   "metadata": {
    "execution": {
     "iopub.execute_input": "2021-11-01T09:02:06.922681Z",
     "iopub.status.busy": "2021-11-01T09:02:06.922393Z",
     "iopub.status.idle": "2021-11-01T09:02:06.945823Z",
     "shell.execute_reply": "2021-11-01T09:02:06.944787Z",
     "shell.execute_reply.started": "2021-11-01T09:02:06.922643Z"
    }
   },
   "outputs": [],
   "source": [
    "# Возраст машины\n",
    "data['car_years_old'] = 2021 - data.productionDate\n",
    "data['car_years_old'] = data['car_years_old'].astype(float)\n",
    "data['car_years_old'].replace([np.inf, -np.inf], 0, inplace=True)\n",
    "\n",
    "# средний пробег в год\n",
    "data[\"mean_mileage_per_year\"] = data[\"mileage\"] / data[\"car_years_old\"]\n",
    "data[\"mean_mileage_per_year\"] = data[\"mean_mileage_per_year\"].astype(float)\n",
    "data['mean_mileage_per_year'].replace([np.inf, -np.inf], 0, inplace=True)\n",
    "\n",
    "# разница в годе выпуска модели и выпуском самого авто\n",
    "data['diff_product'] = data.productionDate - data.modelDate\n",
    "data['diff_product'] = data['diff_product'].astype(float)\n",
    "data['diff_product'].replace([np.inf, -np.inf], 0, inplace=True)"
   ]
  },
  {
   "cell_type": "code",
   "execution_count": 433,
   "metadata": {
    "execution": {
     "iopub.execute_input": "2021-11-01T09:02:06.949419Z",
     "iopub.status.busy": "2021-11-01T09:02:06.948923Z",
     "iopub.status.idle": "2021-11-01T09:02:06.954901Z",
     "shell.execute_reply": "2021-11-01T09:02:06.954068Z",
     "shell.execute_reply.started": "2021-11-01T09:02:06.949370Z"
    }
   },
   "outputs": [],
   "source": [
    "cat_cols = ['bodyType','brand','color','fuelType','vehicleTransmission','transmission','auto_passport','wheel']\n",
    "num_cols = ['enginePower','mileage','modelDate','numberOfDoors','productionDate','owners','description_len', 'car_years_old',\n",
    "          \"mean_mileage_per_year\", 'diff_product']"
   ]
  },
  {
   "cell_type": "code",
   "execution_count": 434,
   "metadata": {
    "execution": {
     "iopub.execute_input": "2021-11-01T09:02:06.956683Z",
     "iopub.status.busy": "2021-11-01T09:02:06.956363Z",
     "iopub.status.idle": "2021-11-01T09:02:11.917606Z",
     "shell.execute_reply": "2021-11-01T09:02:11.916208Z",
     "shell.execute_reply.started": "2021-11-01T09:02:06.956633Z"
    }
   },
   "outputs": [
    {
     "data": {
      "image/png": "[encoded data removed]",
      "text/plain": [
       "<Figure size 1080x720 with 1 Axes>"
      ]
     },
     "metadata": {},
     "output_type": "display_data"
    },
    {
     "data": {
      "image/png": "[encoded data removed]",
      "text/plain": [
       "<Figure size 1080x720 with 1 Axes>"
      ]
     },
     "metadata": {},
     "output_type": "display_data"
    },
    {
     "data": {
      "image/png": "[encoded data removed]",
      "text/plain": [
       "<Figure size 1080x720 with 1 Axes>"
      ]
     },
     "metadata": {},
     "output_type": "display_data"
    },
    {
     "data": {
      "image/png": "[encoded data removed]",
      "text/plain": [
       "<Figure size 1080x720 with 1 Axes>"
      ]
     },
     "metadata": {},
     "output_type": "display_data"
    },
    {
     "data": {
      "image/png": "[encoded data removed]",
      "text/plain": [
       "<Figure size 1080x720 with 1 Axes>"
      ]
     },
     "metadata": {},
     "output_type": "display_data"
    },
    {
     "data": {
      "image/png": "[encoded data removed]",
      "text/plain": [
       "<Figure size 1080x720 with 1 Axes>"
      ]
     },
     "metadata": {},
     "output_type": "display_data"
    },
    {
     "data": {
      "image/png": "[encoded data removed]",
      "text/plain": [
       "<Figure size 1080x720 with 1 Axes>"
      ]
     },
     "metadata": {},
     "output_type": "display_data"
    },
    {
     "data": {
      "image/png": "[encoded data removed]",
      "text/plain": [
       "<Figure size 1080x720 with 1 Axes>"
      ]
     },
     "metadata": {},
     "output_type": "display_data"
    }
   ],
   "source": [
    "\n",
    "for col in cat_cols:\n",
    "    plt.figure(figsize=(15,10))\n",
    "    ax = sns.countplot(x=col, data=data)\n",
    "    ax.xaxis.set_tick_params(rotation=100)\n",
    "    plt.show()"
   ]
  },
  {
   "cell_type": "markdown",
   "metadata": {},
   "source": [
    "## Label encoding"
   ]
  },
  {
   "cell_type": "code",
   "execution_count": 435,
   "metadata": {
    "execution": {
     "iopub.execute_input": "2021-11-01T09:02:19.641866Z",
     "iopub.status.busy": "2021-11-01T09:02:19.641444Z",
     "iopub.status.idle": "2021-11-01T09:02:19.675253Z",
     "shell.execute_reply": "2021-11-01T09:02:19.674299Z",
     "shell.execute_reply.started": "2021-11-01T09:02:19.641833Z"
    }
   },
   "outputs": [
    {
     "data": {
      "text/html": [
       "<div>\n",
       "<style scoped>\n",
       "    .dataframe tbody tr th:only-of-type {\n",
       "        vertical-align: middle;\n",
       "    }\n",
       "\n",
       "    .dataframe tbody tr th {\n",
       "        vertical-align: top;\n",
       "    }\n",
       "\n",
       "    .dataframe thead th {\n",
       "        text-align: right;\n",
       "    }\n",
       "</style>\n",
       "<table border=\"1\" class=\"dataframe\">\n",
       "  <thead>\n",
       "    <tr style=\"text-align: right;\">\n",
       "      <th></th>\n",
       "      <th>bodyType</th>\n",
       "      <th>brand</th>\n",
       "      <th>color</th>\n",
       "      <th>description</th>\n",
       "      <th>engineDisplacement</th>\n",
       "      <th>enginePower</th>\n",
       "      <th>fuelType</th>\n",
       "      <th>mileage</th>\n",
       "      <th>modelDate</th>\n",
       "      <th>model_name</th>\n",
       "      <th>...</th>\n",
       "      <th>owners</th>\n",
       "      <th>auto_passport</th>\n",
       "      <th>transmission</th>\n",
       "      <th>wheel</th>\n",
       "      <th>price</th>\n",
       "      <th>sample</th>\n",
       "      <th>description_len</th>\n",
       "      <th>car_years_old</th>\n",
       "      <th>mean_mileage_per_year</th>\n",
       "      <th>diff_product</th>\n",
       "    </tr>\n",
       "  </thead>\n",
       "  <tbody>\n",
       "    <tr>\n",
       "      <th>0</th>\n",
       "      <td>лифтбек</td>\n",
       "      <td>SKODA</td>\n",
       "      <td>синий</td>\n",
       "      <td>[все, автомобили, представленные, в, продаже, ...</td>\n",
       "      <td>1.2</td>\n",
       "      <td>105.0</td>\n",
       "      <td>бензин</td>\n",
       "      <td>74000.0</td>\n",
       "      <td>2013.0</td>\n",
       "      <td>OCTAVIA</td>\n",
       "      <td>...</td>\n",
       "      <td>4.0</td>\n",
       "      <td>Оригинал</td>\n",
       "      <td>передний</td>\n",
       "      <td>Левый</td>\n",
       "      <td>0.0</td>\n",
       "      <td>0</td>\n",
       "      <td>126</td>\n",
       "      <td>7.0</td>\n",
       "      <td>10571.428571</td>\n",
       "      <td>1.0</td>\n",
       "    </tr>\n",
       "  </tbody>\n",
       "</table>\n",
       "<p>1 rows × 24 columns</p>\n",
       "</div>"
      ],
      "text/plain": [
       "  bodyType  brand  color                                        description  \\\n",
       "0  лифтбек  SKODA  синий  [все, автомобили, представленные, в, продаже, ...   \n",
       "\n",
       "  engineDisplacement  enginePower fuelType  mileage  modelDate model_name  \\\n",
       "0                1.2        105.0   бензин  74000.0     2013.0    OCTAVIA   \n",
       "\n",
       "   ...  owners  auto_passport transmission  wheel  price sample  \\\n",
       "0  ...     4.0       Оригинал     передний  Левый    0.0      0   \n",
       "\n",
       "  description_len car_years_old  mean_mileage_per_year  diff_product  \n",
       "0             126           7.0           10571.428571           1.0  \n",
       "\n",
       "[1 rows x 24 columns]"
      ]
     },
     "execution_count": 435,
     "metadata": {},
     "output_type": "execute_result"
    }
   ],
   "source": [
    "data.head(1)"
   ]
  },
  {
   "cell_type": "code",
   "execution_count": 436,
   "metadata": {
    "execution": {
     "iopub.execute_input": "2021-11-01T09:02:21.128630Z",
     "iopub.status.busy": "2021-11-01T09:02:21.128278Z",
     "iopub.status.idle": "2021-11-01T09:02:21.134328Z",
     "shell.execute_reply": "2021-11-01T09:02:21.133291Z",
     "shell.execute_reply.started": "2021-11-01T09:02:21.128602Z"
    }
   },
   "outputs": [],
   "source": [
    "all_cat_cols = ['bodyType', 'brand', 'color', 'fuelType', 'model_name',\n",
    "       'vehicleTransmission',  'auto_passport', 'transmission',\n",
    "       'wheel']"
   ]
  },
  {
   "cell_type": "code",
   "execution_count": 437,
   "metadata": {
    "execution": {
     "iopub.execute_input": "2021-11-01T09:02:22.187209Z",
     "iopub.status.busy": "2021-11-01T09:02:22.186838Z",
     "iopub.status.idle": "2021-11-01T09:02:23.308129Z",
     "shell.execute_reply": "2021-11-01T09:02:23.307026Z",
     "shell.execute_reply.started": "2021-11-01T09:02:22.187179Z"
    }
   },
   "outputs": [],
   "source": [
    "# кодируем наши категориальные переменные\n",
    "mapped_data = {}\n",
    "label_encoder = LabelEncoder()\n",
    "for col in all_cat_cols:\n",
    "    data[col] = label_encoder.fit_transform(data[col].astype(str))\n",
    "    mapped_data[col] = dict(enumerate(label_encoder.classes_))"
   ]
  },
  {
   "cell_type": "code",
   "execution_count": 438,
   "metadata": {
    "execution": {
     "iopub.execute_input": "2021-11-01T09:02:23.924960Z",
     "iopub.status.busy": "2021-11-01T09:02:23.924576Z",
     "iopub.status.idle": "2021-11-01T09:02:23.969803Z",
     "shell.execute_reply": "2021-11-01T09:02:23.968923Z",
     "shell.execute_reply.started": "2021-11-01T09:02:23.924928Z"
    }
   },
   "outputs": [],
   "source": [
    "df = data.drop(['description','vehicleConfiguration',], axis=1)"
   ]
  },
  {
   "cell_type": "code",
   "execution_count": 439,
   "metadata": {
    "execution": {
     "iopub.execute_input": "2021-11-01T09:02:25.147616Z",
     "iopub.status.busy": "2021-11-01T09:02:25.147218Z",
     "iopub.status.idle": "2021-11-01T09:02:25.196612Z",
     "shell.execute_reply": "2021-11-01T09:02:25.195544Z",
     "shell.execute_reply.started": "2021-11-01T09:02:25.147584Z"
    }
   },
   "outputs": [
    {
     "data": {
      "text/html": [
       "<div>\n",
       "<style scoped>\n",
       "    .dataframe tbody tr th:only-of-type {\n",
       "        vertical-align: middle;\n",
       "    }\n",
       "\n",
       "    .dataframe tbody tr th {\n",
       "        vertical-align: top;\n",
       "    }\n",
       "\n",
       "    .dataframe thead th {\n",
       "        text-align: right;\n",
       "    }\n",
       "</style>\n",
       "<table border=\"1\" class=\"dataframe\">\n",
       "  <thead>\n",
       "    <tr style=\"text-align: right;\">\n",
       "      <th></th>\n",
       "      <th>bodyType</th>\n",
       "      <th>brand</th>\n",
       "      <th>color</th>\n",
       "      <th>engineDisplacement</th>\n",
       "      <th>enginePower</th>\n",
       "      <th>fuelType</th>\n",
       "      <th>mileage</th>\n",
       "      <th>modelDate</th>\n",
       "      <th>model_name</th>\n",
       "      <th>numberOfDoors</th>\n",
       "      <th>...</th>\n",
       "      <th>owners</th>\n",
       "      <th>auto_passport</th>\n",
       "      <th>transmission</th>\n",
       "      <th>wheel</th>\n",
       "      <th>price</th>\n",
       "      <th>sample</th>\n",
       "      <th>description_len</th>\n",
       "      <th>car_years_old</th>\n",
       "      <th>mean_mileage_per_year</th>\n",
       "      <th>diff_product</th>\n",
       "    </tr>\n",
       "  </thead>\n",
       "  <tbody>\n",
       "    <tr>\n",
       "      <th>34686</th>\n",
       "      <td>12</td>\n",
       "      <td>2</td>\n",
       "      <td>15</td>\n",
       "      <td>2.8</td>\n",
       "      <td>174.0</td>\n",
       "      <td>0</td>\n",
       "      <td>350000.0</td>\n",
       "      <td>1990.0</td>\n",
       "      <td>1</td>\n",
       "      <td>4.0</td>\n",
       "      <td>...</td>\n",
       "      <td>3.0</td>\n",
       "      <td>2</td>\n",
       "      <td>3</td>\n",
       "      <td>0</td>\n",
       "      <td>200000.0</td>\n",
       "      <td>1</td>\n",
       "      <td>31</td>\n",
       "      <td>30.0</td>\n",
       "      <td>11666.666667</td>\n",
       "      <td>1.0</td>\n",
       "    </tr>\n",
       "    <tr>\n",
       "      <th>34687</th>\n",
       "      <td>12</td>\n",
       "      <td>2</td>\n",
       "      <td>7</td>\n",
       "      <td>1.8</td>\n",
       "      <td>90.0</td>\n",
       "      <td>0</td>\n",
       "      <td>173424.0</td>\n",
       "      <td>1982.0</td>\n",
       "      <td>1</td>\n",
       "      <td>4.0</td>\n",
       "      <td>...</td>\n",
       "      <td>3.0</td>\n",
       "      <td>2</td>\n",
       "      <td>2</td>\n",
       "      <td>0</td>\n",
       "      <td>60000.0</td>\n",
       "      <td>1</td>\n",
       "      <td>20</td>\n",
       "      <td>35.0</td>\n",
       "      <td>4954.971429</td>\n",
       "      <td>4.0</td>\n",
       "    </tr>\n",
       "    <tr>\n",
       "      <th>34688</th>\n",
       "      <td>15</td>\n",
       "      <td>2</td>\n",
       "      <td>13</td>\n",
       "      <td>2.3</td>\n",
       "      <td>136.0</td>\n",
       "      <td>0</td>\n",
       "      <td>230000.0</td>\n",
       "      <td>1988.0</td>\n",
       "      <td>1</td>\n",
       "      <td>5.0</td>\n",
       "      <td>...</td>\n",
       "      <td>3.0</td>\n",
       "      <td>2</td>\n",
       "      <td>3</td>\n",
       "      <td>0</td>\n",
       "      <td>99000.0</td>\n",
       "      <td>1</td>\n",
       "      <td>130</td>\n",
       "      <td>32.0</td>\n",
       "      <td>7187.500000</td>\n",
       "      <td>1.0</td>\n",
       "    </tr>\n",
       "    <tr>\n",
       "      <th>34689</th>\n",
       "      <td>12</td>\n",
       "      <td>2</td>\n",
       "      <td>11</td>\n",
       "      <td>1.8</td>\n",
       "      <td>90.0</td>\n",
       "      <td>0</td>\n",
       "      <td>240000.0</td>\n",
       "      <td>1988.0</td>\n",
       "      <td>1</td>\n",
       "      <td>4.0</td>\n",
       "      <td>...</td>\n",
       "      <td>3.0</td>\n",
       "      <td>2</td>\n",
       "      <td>2</td>\n",
       "      <td>0</td>\n",
       "      <td>65000.0</td>\n",
       "      <td>1</td>\n",
       "      <td>1</td>\n",
       "      <td>32.0</td>\n",
       "      <td>7500.000000</td>\n",
       "      <td>1.0</td>\n",
       "    </tr>\n",
       "    <tr>\n",
       "      <th>34690</th>\n",
       "      <td>12</td>\n",
       "      <td>2</td>\n",
       "      <td>15</td>\n",
       "      <td>2.0</td>\n",
       "      <td>101.0</td>\n",
       "      <td>0</td>\n",
       "      <td>300000.0</td>\n",
       "      <td>1990.0</td>\n",
       "      <td>1</td>\n",
       "      <td>4.0</td>\n",
       "      <td>...</td>\n",
       "      <td>3.0</td>\n",
       "      <td>1</td>\n",
       "      <td>2</td>\n",
       "      <td>0</td>\n",
       "      <td>100000.0</td>\n",
       "      <td>1</td>\n",
       "      <td>34</td>\n",
       "      <td>30.0</td>\n",
       "      <td>10000.000000</td>\n",
       "      <td>1.0</td>\n",
       "    </tr>\n",
       "    <tr>\n",
       "      <th>...</th>\n",
       "      <td>...</td>\n",
       "      <td>...</td>\n",
       "      <td>...</td>\n",
       "      <td>...</td>\n",
       "      <td>...</td>\n",
       "      <td>...</td>\n",
       "      <td>...</td>\n",
       "      <td>...</td>\n",
       "      <td>...</td>\n",
       "      <td>...</td>\n",
       "      <td>...</td>\n",
       "      <td>...</td>\n",
       "      <td>...</td>\n",
       "      <td>...</td>\n",
       "      <td>...</td>\n",
       "      <td>...</td>\n",
       "      <td>...</td>\n",
       "      <td>...</td>\n",
       "      <td>...</td>\n",
       "      <td>...</td>\n",
       "      <td>...</td>\n",
       "    </tr>\n",
       "    <tr>\n",
       "      <th>161240</th>\n",
       "      <td>18</td>\n",
       "      <td>27</td>\n",
       "      <td>7</td>\n",
       "      <td>1.5</td>\n",
       "      <td>115.0</td>\n",
       "      <td>0</td>\n",
       "      <td>373317.0</td>\n",
       "      <td>1999.0</td>\n",
       "      <td>691</td>\n",
       "      <td>5.0</td>\n",
       "      <td>...</td>\n",
       "      <td>4.0</td>\n",
       "      <td>1</td>\n",
       "      <td>2</td>\n",
       "      <td>0</td>\n",
       "      <td>674938.0</td>\n",
       "      <td>1</td>\n",
       "      <td>24</td>\n",
       "      <td>22.0</td>\n",
       "      <td>16968.954545</td>\n",
       "      <td>0.0</td>\n",
       "    </tr>\n",
       "    <tr>\n",
       "      <th>161241</th>\n",
       "      <td>3</td>\n",
       "      <td>27</td>\n",
       "      <td>11</td>\n",
       "      <td>1.7</td>\n",
       "      <td>130.0</td>\n",
       "      <td>0</td>\n",
       "      <td>311000.0</td>\n",
       "      <td>2002.0</td>\n",
       "      <td>2765</td>\n",
       "      <td>5.0</td>\n",
       "      <td>...</td>\n",
       "      <td>4.0</td>\n",
       "      <td>2</td>\n",
       "      <td>2</td>\n",
       "      <td>1</td>\n",
       "      <td>1060617.0</td>\n",
       "      <td>1</td>\n",
       "      <td>166</td>\n",
       "      <td>19.0</td>\n",
       "      <td>16368.421053</td>\n",
       "      <td>0.0</td>\n",
       "    </tr>\n",
       "    <tr>\n",
       "      <th>161242</th>\n",
       "      <td>12</td>\n",
       "      <td>27</td>\n",
       "      <td>12</td>\n",
       "      <td>1.8</td>\n",
       "      <td>140.0</td>\n",
       "      <td>0</td>\n",
       "      <td>196000.0</td>\n",
       "      <td>2008.0</td>\n",
       "      <td>691</td>\n",
       "      <td>4.0</td>\n",
       "      <td>...</td>\n",
       "      <td>4.0</td>\n",
       "      <td>1</td>\n",
       "      <td>2</td>\n",
       "      <td>0</td>\n",
       "      <td>1382016.0</td>\n",
       "      <td>1</td>\n",
       "      <td>58</td>\n",
       "      <td>13.0</td>\n",
       "      <td>15076.923077</td>\n",
       "      <td>0.0</td>\n",
       "    </tr>\n",
       "    <tr>\n",
       "      <th>161243</th>\n",
       "      <td>18</td>\n",
       "      <td>27</td>\n",
       "      <td>13</td>\n",
       "      <td>1.4</td>\n",
       "      <td>90.0</td>\n",
       "      <td>0</td>\n",
       "      <td>350000.0</td>\n",
       "      <td>2000.0</td>\n",
       "      <td>691</td>\n",
       "      <td>5.0</td>\n",
       "      <td>...</td>\n",
       "      <td>4.0</td>\n",
       "      <td>1</td>\n",
       "      <td>2</td>\n",
       "      <td>0</td>\n",
       "      <td>433889.0</td>\n",
       "      <td>1</td>\n",
       "      <td>29</td>\n",
       "      <td>21.0</td>\n",
       "      <td>16666.666667</td>\n",
       "      <td>0.0</td>\n",
       "    </tr>\n",
       "    <tr>\n",
       "      <th>161244</th>\n",
       "      <td>12</td>\n",
       "      <td>27</td>\n",
       "      <td>15</td>\n",
       "      <td>2.0</td>\n",
       "      <td>131.0</td>\n",
       "      <td>0</td>\n",
       "      <td>90000.0</td>\n",
       "      <td>1995.0</td>\n",
       "      <td>100</td>\n",
       "      <td>4.0</td>\n",
       "      <td>...</td>\n",
       "      <td>4.0</td>\n",
       "      <td>2</td>\n",
       "      <td>2</td>\n",
       "      <td>0</td>\n",
       "      <td>674938.0</td>\n",
       "      <td>1</td>\n",
       "      <td>26</td>\n",
       "      <td>26.0</td>\n",
       "      <td>3461.538462</td>\n",
       "      <td>0.0</td>\n",
       "    </tr>\n",
       "  </tbody>\n",
       "</table>\n",
       "<p>97005 rows × 22 columns</p>\n",
       "</div>"
      ],
      "text/plain": [
       "        bodyType  brand  color engineDisplacement  enginePower  fuelType  \\\n",
       "34686         12      2     15                2.8        174.0         0   \n",
       "34687         12      2      7                1.8         90.0         0   \n",
       "34688         15      2     13                2.3        136.0         0   \n",
       "34689         12      2     11                1.8         90.0         0   \n",
       "34690         12      2     15                2.0        101.0         0   \n",
       "...          ...    ...    ...                ...          ...       ...   \n",
       "161240        18     27      7                1.5        115.0         0   \n",
       "161241         3     27     11                1.7        130.0         0   \n",
       "161242        12     27     12                1.8        140.0         0   \n",
       "161243        18     27     13                1.4         90.0         0   \n",
       "161244        12     27     15                2.0        131.0         0   \n",
       "\n",
       "         mileage  modelDate  model_name  numberOfDoors  ...  owners  \\\n",
       "34686   350000.0     1990.0           1            4.0  ...     3.0   \n",
       "34687   173424.0     1982.0           1            4.0  ...     3.0   \n",
       "34688   230000.0     1988.0           1            5.0  ...     3.0   \n",
       "34689   240000.0     1988.0           1            4.0  ...     3.0   \n",
       "34690   300000.0     1990.0           1            4.0  ...     3.0   \n",
       "...          ...        ...         ...            ...  ...     ...   \n",
       "161240  373317.0     1999.0         691            5.0  ...     4.0   \n",
       "161241  311000.0     2002.0        2765            5.0  ...     4.0   \n",
       "161242  196000.0     2008.0         691            4.0  ...     4.0   \n",
       "161243  350000.0     2000.0         691            5.0  ...     4.0   \n",
       "161244   90000.0     1995.0         100            4.0  ...     4.0   \n",
       "\n",
       "        auto_passport  transmission  wheel      price  sample  \\\n",
       "34686               2             3      0   200000.0       1   \n",
       "34687               2             2      0    60000.0       1   \n",
       "34688               2             3      0    99000.0       1   \n",
       "34689               2             2      0    65000.0       1   \n",
       "34690               1             2      0   100000.0       1   \n",
       "...               ...           ...    ...        ...     ...   \n",
       "161240              1             2      0   674938.0       1   \n",
       "161241              2             2      1  1060617.0       1   \n",
       "161242              1             2      0  1382016.0       1   \n",
       "161243              1             2      0   433889.0       1   \n",
       "161244              2             2      0   674938.0       1   \n",
       "\n",
       "        description_len  car_years_old  mean_mileage_per_year  diff_product  \n",
       "34686                31           30.0           11666.666667           1.0  \n",
       "34687                20           35.0            4954.971429           4.0  \n",
       "34688               130           32.0            7187.500000           1.0  \n",
       "34689                 1           32.0            7500.000000           1.0  \n",
       "34690                34           30.0           10000.000000           1.0  \n",
       "...                 ...            ...                    ...           ...  \n",
       "161240               24           22.0           16968.954545           0.0  \n",
       "161241              166           19.0           16368.421053           0.0  \n",
       "161242               58           13.0           15076.923077           0.0  \n",
       "161243               29           21.0           16666.666667           0.0  \n",
       "161244               26           26.0            3461.538462           0.0  \n",
       "\n",
       "[97005 rows x 22 columns]"
      ]
     },
     "execution_count": 439,
     "metadata": {},
     "output_type": "execute_result"
    }
   ],
   "source": [
    "df[df[\"sample\"]==1].dropna()"
   ]
  },
  {
   "cell_type": "code",
   "execution_count": 440,
   "metadata": {},
   "outputs": [],
   "source": [
    "df[\"engineDisplacement\"] = df[\"engineDisplacement\"].astype(\"float\")"
   ]
  },
  {
   "cell_type": "code",
   "execution_count": 447,
   "metadata": {},
   "outputs": [],
   "source": [
    "dd = df[df[\"sample\"]==1].dropna()"
   ]
  },
  {
   "cell_type": "code",
   "execution_count": 442,
   "metadata": {
    "execution": {
     "iopub.execute_input": "2021-11-01T09:02:26.247914Z",
     "iopub.status.busy": "2021-11-01T09:02:26.246986Z",
     "iopub.status.idle": "2021-11-01T09:02:28.046691Z",
     "shell.execute_reply": "2021-11-01T09:02:28.045825Z",
     "shell.execute_reply.started": "2021-11-01T09:02:26.247865Z"
    }
   },
   "outputs": [
    {
     "data": {
      "text/plain": [
       "<matplotlib.axes._subplots.AxesSubplot at 0x295ccdd2f70>"
      ]
     },
     "execution_count": 442,
     "metadata": {},
     "output_type": "execute_result"
    },
    {
     "data": {
      "image/png": "[encoded data removed]",
      "text/plain": [
       "<Figure size 1080x720 with 2 Axes>"
      ]
     },
     "metadata": {},
     "output_type": "display_data"
    }
   ],
   "source": [
    "plt.rcParams['figure.figsize'] = (15,10)\n",
    "sns.heatmap(df[df[\"sample\"]==1].corr(), vmin=0, vmax=1, annot = True, cmap=\"YlGnBu\")"
   ]
  },
  {
   "cell_type": "markdown",
   "metadata": {},
   "source": [
    "Наблюдаем довольно сильную корреляцию между признаками productionDate и modelDate.\n",
    "Небольшая корреляция видна между переменными transmission и enginePower. Видно, что признак enginePower оказывает влияние на цену автомобиля. Сильно скоррелированы между собой признаки enginePower и engineDisplacement"
   ]
  },
  {
   "cell_type": "markdown",
   "metadata": {},
   "source": [
    "### Значимость наших признаков:"
   ]
  },
  {
   "cell_type": "code",
   "execution_count": 448,
   "metadata": {
    "execution": {
     "iopub.execute_input": "2021-11-01T09:02:29.002872Z",
     "iopub.status.busy": "2021-11-01T09:02:29.002205Z",
     "iopub.status.idle": "2021-11-01T09:02:31.836119Z",
     "shell.execute_reply": "2021-11-01T09:02:31.834656Z",
     "shell.execute_reply.started": "2021-11-01T09:02:29.002830Z"
    }
   },
   "outputs": [
    {
     "data": {
      "text/plain": [
       "<matplotlib.axes._subplots.AxesSubplot at 0x29496288f70>"
      ]
     },
     "execution_count": 448,
     "metadata": {},
     "output_type": "execute_result"
    },
    {
     "data": {
      "image/png": "[encoded data removed]",
      "text/plain": [
       "<Figure size 1080x720 with 1 Axes>"
      ]
     },
     "metadata": {},
     "output_type": "display_data"
    }
   ],
   "source": [
    "imp_num = pd.Series(f_classif(dd[dd[\"sample\"]==1][all_cat_cols + num_cols], \n",
    "                              dd[dd[\"sample\"]==1]['price'])[0], index = all_cat_cols + num_cols)\n",
    "imp_num.sort_values(inplace = True)\n",
    "imp_num.plot(kind = 'barh', color=\"teal\")"
   ]
  },
  {
   "cell_type": "markdown",
   "metadata": {},
   "source": [
    "Наибольшее значение на нашу целевую переменную оказывают следующие признаки:\n",
    "\n",
    "1) дата выпуска модели (довольно неожиданно)\n",
    "\n",
    "2) возраст авто\n",
    "\n",
    "3) год производства\n",
    "\n",
    "4) мощность двигателя\n",
    "\n",
    "5) пробег\n",
    "\n",
    "6) подробность описания\n",
    "\n",
    " и так далее"
   ]
  },
  {
   "cell_type": "markdown",
   "metadata": {},
   "source": [
    "# Split data"
   ]
  },
  {
   "cell_type": "code",
   "execution_count": 449,
   "metadata": {
    "execution": {
     "iopub.execute_input": "2021-11-01T09:02:33.237345Z",
     "iopub.status.busy": "2021-11-01T09:02:33.236996Z",
     "iopub.status.idle": "2021-11-01T09:02:33.297877Z",
     "shell.execute_reply": "2021-11-01T09:02:33.296689Z",
     "shell.execute_reply.started": "2021-11-01T09:02:33.237316Z"
    }
   },
   "outputs": [],
   "source": [
    "train_data = dd.query('sample == 1').drop(['sample'], axis=1)\n",
    "test_data = df.query('sample == 0').drop(['sample','price'], axis=1)\n",
    "X = train_data.drop(['price'], axis=1)\n",
    "y = train_data['price']\n",
    "X_train, X_test, y_train, y_test = train_test_split(X, y, test_size=VAL_SIZE, shuffle=True, random_state=RANDOM_SEED)\n"
   ]
  },
  {
   "cell_type": "markdown",
   "metadata": {},
   "source": [
    "# Создадим \"наивную\" модель\n",
    "Эта модель будет предсказывать среднюю цену по модели двигателя (engineDisplacement). C ней будем сравнивать другие модели."
   ]
  },
  {
   "cell_type": "code",
   "execution_count": 153,
   "metadata": {
    "execution": {
     "iopub.execute_input": "2021-11-01T09:02:35.500124Z",
     "iopub.status.busy": "2021-11-01T09:02:35.499760Z",
     "iopub.status.idle": "2021-11-01T09:02:35.511273Z",
     "shell.execute_reply": "2021-11-01T09:02:35.510447Z",
     "shell.execute_reply.started": "2021-11-01T09:02:35.500095Z"
    }
   },
   "outputs": [],
   "source": [
    "tmp_train = X_train.copy()\n",
    "tmp_train['price'] = y_train"
   ]
  },
  {
   "cell_type": "code",
   "execution_count": 154,
   "metadata": {
    "execution": {
     "iopub.execute_input": "2021-11-01T09:02:37.150817Z",
     "iopub.status.busy": "2021-11-01T09:02:37.150439Z",
     "iopub.status.idle": "2021-11-01T09:02:37.176901Z",
     "shell.execute_reply": "2021-11-01T09:02:37.176076Z",
     "shell.execute_reply.started": "2021-11-01T09:02:37.150787Z"
    }
   },
   "outputs": [
    {
     "name": "stdout",
     "output_type": "stream",
     "text": [
      "Точность наивной модели по метрике MAPE: 83.93%\n"
     ]
    }
   ],
   "source": [
    "# Находим median по экземплярам engineDisplacement в трейне и размечаем тест\n",
    "predict = X_test['engineDisplacement'].map(tmp_train.groupby('engineDisplacement')['price'].median())\n",
    "\n",
    "#оцениваем точность\n",
    "print(f\"Точность наивной модели по метрике MAPE: {(mape(y_test, predict.values))*100:0.2f}%\")"
   ]
  },
  {
   "cell_type": "markdown",
   "metadata": {},
   "source": [
    "# Линейная регрессия"
   ]
  },
  {
   "cell_type": "code",
   "execution_count": 155,
   "metadata": {
    "execution": {
     "iopub.execute_input": "2021-11-01T09:02:41.268153Z",
     "iopub.status.busy": "2021-11-01T09:02:41.267485Z",
     "iopub.status.idle": "2021-11-01T09:02:41.613920Z",
     "shell.execute_reply": "2021-11-01T09:02:41.612501Z",
     "shell.execute_reply.started": "2021-11-01T09:02:41.268115Z"
    }
   },
   "outputs": [
    {
     "name": "stdout",
     "output_type": "stream",
     "text": [
      "Точность модели по метрике MAPE: 38.09%\n"
     ]
    }
   ],
   "source": [
    "linear_regr = LinearRegression().fit(X_train, np.log(y_train+1))\n",
    "VERSION = 2\n",
    "predict_test = np.exp(linear_regr.predict(X_test))\n",
    "print(f\"Точность модели по метрике MAPE: {(mape(y_test, predict_test)) * 100:0.2f}%\")"
   ]
  },
  {
   "cell_type": "markdown",
   "metadata": {
    "papermill": {
     "duration": 0.037164,
     "end_time": "2020-10-26T12:47:03.997616",
     "exception": false,
     "start_time": "2020-10-26T12:47:03.960452",
     "status": "completed"
    },
    "tags": []
   },
   "source": [
    "#  CatBoost\n",
    "![](https://pbs.twimg.com/media/DP-jUCyXcAArRTo.png:large)   \n",
    "\n",
    "\n",
    "У нас в данных практически все признаки категориальные. Специально для работы с такими данными была создана очень удобная библиотека CatBoost от Яндекса. [https://catboost.ai](http://)     \n",
    "На данный момент **CatBoost является одной из лучших библиотек для табличных данных!**\n",
    "\n",
    "#### Полезные видео о CatBoost (на русском):\n",
    "* [Доклад про CatBoost](https://youtu.be/9ZrfErvm97M)\n",
    "* [Свежий Туториал от команды CatBoost (практическая часть)](https://youtu.be/wQt4kgAOgV0) "
   ]
  },
  {
   "cell_type": "code",
   "execution_count": 156,
   "metadata": {
    "execution": {
     "iopub.execute_input": "2021-11-01T09:02:52.023520Z",
     "iopub.status.busy": "2021-11-01T09:02:52.022929Z",
     "iopub.status.idle": "2021-11-01T09:03:59.465901Z",
     "shell.execute_reply": "2021-11-01T09:03:59.464689Z",
     "shell.execute_reply.started": "2021-11-01T09:02:52.023468Z"
    },
    "papermill": {
     "duration": 67.991521,
     "end_time": "2020-10-26T12:48:12.178488",
     "exception": false,
     "start_time": "2020-10-26T12:47:04.186967",
     "status": "completed"
    },
    "tags": []
   },
   "outputs": [
    {
     "data": {
      "text/plain": [
       "<catboost.core.CatBoostRegressor at 0x293c7ea27f0>"
      ]
     },
     "execution_count": 156,
     "metadata": {},
     "output_type": "execute_result"
    }
   ],
   "source": [
    "\n",
    "model = CatBoostRegressor(iterations = 5000,\n",
    "                          random_seed = RANDOM_SEED,\n",
    "                          eval_metric='MAPE',\n",
    "                          custom_metric=['R2', 'MAE'],\n",
    "                          silent=True,\n",
    "                         )\n",
    "model.fit(X_train, y_train,\n",
    "         #cat_features=cat_features_ids,\n",
    "         eval_set=(X_test, y_test),\n",
    "         verbose_eval=0,\n",
    "         use_best_model=True,\n",
    "         #plot=True\n",
    "         )\n",
    "\n",
    "#model.save_model('catboost_single_model_baseline.model')"
   ]
  },
  {
   "cell_type": "code",
   "execution_count": 157,
   "metadata": {
    "execution": {
     "iopub.execute_input": "2021-11-01T09:04:08.955867Z",
     "iopub.status.busy": "2021-11-01T09:04:08.955457Z",
     "iopub.status.idle": "2021-11-01T09:04:09.025904Z",
     "shell.execute_reply": "2021-11-01T09:04:09.024977Z",
     "shell.execute_reply.started": "2021-11-01T09:04:08.955833Z"
    }
   },
   "outputs": [
    {
     "name": "stdout",
     "output_type": "stream",
     "text": [
      "Точность модели по метрике MAPE: 21.83%\n"
     ]
    }
   ],
   "source": [
    "# оцениваем точность\n",
    "predict = model.predict(X_test)\n",
    "print(f\"Точность модели по метрике MAPE: {(mape(y_test, predict))*100:0.2f}%\")"
   ]
  },
  {
   "cell_type": "markdown",
   "metadata": {},
   "source": [
    "### Log Traget\n",
    "Попробуем взять таргет в логорифм - это позволит уменьшить влияние выбросов на обучение модели (используем для этого np.log и np.exp).    \n",
    "В принциепе мы можем использовать любое приобразование на целевую переменную. Например деление на курс доллара, евро или гречки :) в дату сбора данных, смотрим дату парсинга в тесте в **parsing_unixtime**"
   ]
  },
  {
   "cell_type": "code",
   "execution_count": 158,
   "metadata": {
    "execution": {
     "iopub.execute_input": "2021-11-01T09:04:12.997984Z",
     "iopub.status.busy": "2021-11-01T09:04:12.997192Z",
     "iopub.status.idle": "2021-11-01T09:04:13.011680Z",
     "shell.execute_reply": "2021-11-01T09:04:13.010125Z",
     "shell.execute_reply.started": "2021-11-01T09:04:12.997932Z"
    }
   },
   "outputs": [
    {
     "data": {
      "text/plain": [
       "128603    14.375126\n",
       "139019    12.847927\n",
       "76028     13.458836\n",
       "132396    12.072541\n",
       "149499    14.233563\n",
       "            ...    \n",
       "48903     12.409013\n",
       "109110    12.611538\n",
       "141042    15.662232\n",
       "35682     12.676076\n",
       "59053     14.014361\n",
       "Name: price, Length: 77604, dtype: float64"
      ]
     },
     "execution_count": 158,
     "metadata": {},
     "output_type": "execute_result"
    }
   ],
   "source": [
    "np.log(y_train)"
   ]
  },
  {
   "cell_type": "code",
   "execution_count": 159,
   "metadata": {
    "execution": {
     "iopub.execute_input": "2021-11-01T09:04:18.735903Z",
     "iopub.status.busy": "2021-11-01T09:04:18.735435Z",
     "iopub.status.idle": "2021-11-01T09:05:27.105691Z",
     "shell.execute_reply": "2021-11-01T09:05:27.104246Z",
     "shell.execute_reply.started": "2021-11-01T09:04:18.735863Z"
    }
   },
   "outputs": [
    {
     "data": {
      "text/plain": [
       "<catboost.core.CatBoostRegressor at 0x2937f001190>"
      ]
     },
     "execution_count": 159,
     "metadata": {},
     "output_type": "execute_result"
    }
   ],
   "source": [
    "VERSION = 3\n",
    "model = CatBoostRegressor(iterations = 5000,\n",
    "                          random_seed = RANDOM_SEED,\n",
    "                          eval_metric='MAPE',\n",
    "                          custom_metric=['R2', 'MAE'],\n",
    "                          silent=True,\n",
    "                         )\n",
    "model.fit(X_train, np.log(y_train),\n",
    "         eval_set=(X_test, np.log(y_test)),\n",
    "         verbose_eval=0,\n",
    "         use_best_model=True,\n",
    "         #plot=True\n",
    "         )\n",
    "\n",
    "#model.save_model('catboost_single_model_2_baseline.model')"
   ]
  },
  {
   "cell_type": "code",
   "execution_count": 160,
   "metadata": {
    "execution": {
     "iopub.execute_input": "2021-11-01T09:05:42.654296Z",
     "iopub.status.busy": "2021-11-01T09:05:42.653596Z",
     "iopub.status.idle": "2021-11-01T09:05:42.693086Z",
     "shell.execute_reply": "2021-11-01T09:05:42.691592Z",
     "shell.execute_reply.started": "2021-11-01T09:05:42.654230Z"
    }
   },
   "outputs": [
    {
     "name": "stdout",
     "output_type": "stream",
     "text": [
      "Точность модели по метрике MAPE: 15.26%\n"
     ]
    }
   ],
   "source": [
    "predict_test = np.exp(model.predict(X_test))\n",
    "predict_submission = np.exp(model.predict(test_data))\n",
    "VERSION = 4\n",
    "print(f\"Точность модели по метрике MAPE: {(mape(y_test, predict_test)) * 100:0.2f}%\")"
   ]
  },
  {
   "cell_type": "markdown",
   "metadata": {},
   "source": [
    "##  DecisionTreeRegressor"
   ]
  },
  {
   "cell_type": "code",
   "execution_count": 163,
   "metadata": {
    "execution": {
     "iopub.status.busy": "2021-11-01T09:02:12.141767Z",
     "iopub.status.idle": "2021-11-01T09:02:12.142205Z"
    }
   },
   "outputs": [
    {
     "name": "stdout",
     "output_type": "stream",
     "text": [
      "Точность модели по метрике MAPE: 0.2355933413623385%\n"
     ]
    }
   ],
   "source": [
    "VERSION = 4 \n",
    "model_dtr = DecisionTreeRegressor(random_state=RANDOM_SEED)\n",
    "model_dtr.fit(X_train, np.log(y_train))\n",
    "\n",
    "predict_test = np.exp(model_dtr.predict(X_test))\n",
    "m = mape(y_test, predict_test)\n",
    "print(f\"Точность модели по метрике MAPE: {m}%\")\n",
    "#Точность модели по метрике MAPE: 0.2358272835065354%"
   ]
  },
  {
   "cell_type": "markdown",
   "metadata": {},
   "source": [
    "##  RandomForestRegressor"
   ]
  },
  {
   "cell_type": "code",
   "execution_count": 164,
   "metadata": {
    "execution": {
     "iopub.status.busy": "2021-11-01T09:02:12.143141Z",
     "iopub.status.idle": "2021-11-01T09:02:12.143569Z"
    }
   },
   "outputs": [
    {
     "name": "stderr",
     "output_type": "stream",
     "text": [
      "[Parallel(n_jobs=1)]: Using backend SequentialBackend with 1 concurrent workers.\n",
      "[Parallel(n_jobs=1)]: Done 150 out of 150 | elapsed:  1.7min finished\n",
      "[Parallel(n_jobs=1)]: Using backend SequentialBackend with 1 concurrent workers.\n"
     ]
    },
    {
     "name": "stdout",
     "output_type": "stream",
     "text": [
      "Точность модели по метрике MAPE: 0.16226235646235224%\n"
     ]
    },
    {
     "name": "stderr",
     "output_type": "stream",
     "text": [
      "[Parallel(n_jobs=1)]: Done 150 out of 150 | elapsed:    1.2s finished\n"
     ]
    }
   ],
   "source": [
    "VERSION = 5\n",
    "model_rfr = RandomForestRegressor(150, random_state=RANDOM_SEED, verbose=True)\n",
    "model_rfr.fit(X_train, np.log(y_train))\n",
    "\n",
    "predict_test = np.exp(model_rfr.predict(X_test))\n",
    "m = mape(y_test, predict_test)\n",
    "print(f\"Точность модели по метрике MAPE: {m}%\")\n",
    "# Точность модели по метрике MAPE: 0.1621673229925428%"
   ]
  },
  {
   "cell_type": "markdown",
   "metadata": {},
   "source": [
    "## GradientBoosting"
   ]
  },
  {
   "cell_type": "code",
   "execution_count": 169,
   "metadata": {
    "execution": {
     "iopub.status.busy": "2021-11-01T09:02:12.144542Z",
     "iopub.status.idle": "2021-11-01T09:02:12.145041Z"
    }
   },
   "outputs": [],
   "source": [
    "# Подбор гиперпараметров \n",
    "\n",
    "gb = GradientBoostingRegressor(min_samples_split=2,\n",
    "                               learning_rate=0.03,\n",
    "                               max_depth=10,\n",
    "                               n_estimators=1500)\n",
    "\n"
   ]
  },
  {
   "cell_type": "code",
   "execution_count": 170,
   "metadata": {
    "execution": {
     "iopub.status.busy": "2021-11-01T09:02:12.145967Z",
     "iopub.status.idle": "2021-11-01T09:02:12.146377Z"
    }
   },
   "outputs": [
    {
     "name": "stdout",
     "output_type": "stream",
     "text": [
      "Точность модели по метрике MAPE: 0.15196365515344792%\n"
     ]
    }
   ],
   "source": [
    "gb.fit(X_train, np.log(y_train))\n",
    "predict_test = np.exp(gb.predict(X_test))\n",
    "m = mape(y_test, predict_test)\n",
    "print(f\"Точность модели по метрике MAPE: {m}%\")\n"
   ]
  },
  {
   "cell_type": "markdown",
   "metadata": {},
   "source": [
    "## ExtraTree Regressor"
   ]
  },
  {
   "cell_type": "code",
   "execution_count": 182,
   "metadata": {
    "execution": {
     "iopub.status.busy": "2021-11-01T09:02:12.147444Z",
     "iopub.status.idle": "2021-11-01T09:02:12.147934Z"
    }
   },
   "outputs": [
    {
     "name": "stdout",
     "output_type": "stream",
     "text": [
      "Точность модели по метрике MAPE: 16.01%\n"
     ]
    }
   ],
   "source": [
    "etr = ExtraTreesRegressor(random_state = RANDOM_SEED)\n",
    "etr.fit(X_train, np.log(y_train))\n",
    "etr_pred = np.exp(etr.predict(X_test))\n",
    "print(f\"Точность модели по метрике MAPE: {(mape(y_test, etr_pred))*100:0.2f}%\")\n"
   ]
  },
  {
   "cell_type": "markdown",
   "metadata": {},
   "source": [
    "## xgboost"
   ]
  },
  {
   "cell_type": "code",
   "execution_count": 193,
   "metadata": {},
   "outputs": [
    {
     "name": "stdout",
     "output_type": "stream",
     "text": [
      "Точность модели по метрике MAPE: 14.69%\n"
     ]
    }
   ],
   "source": [
    "import xgboost as xgb\n",
    "\n",
    "xb = xgb.XGBRegressor(objective='reg:squarederror', colsample_bytree=0.5, learning_rate=0.03, \\\n",
    "                      max_depth=12, alpha=1, n_jobs=-1, n_estimators=1500)\n",
    "xb.fit(X_train, np.log(y_train))\n",
    "print(f\"Точность модели по метрике MAPE: {(mape(y_test, np.exp(xb.predict(X_test))))*100:0.2f}%\")\n",
    "predict_test = np.exp(xb.predict(X_test))"
   ]
  },
  {
   "cell_type": "markdown",
   "metadata": {},
   "source": [
    "## Stacking"
   ]
  },
  {
   "cell_type": "markdown",
   "metadata": {},
   "source": [
    "Объединим в ансамбль CatBoost и Xgboost"
   ]
  },
  {
   "cell_type": "code",
   "execution_count": 198,
   "metadata": {},
   "outputs": [],
   "source": [
    "estimators = [('xgb_reg', xgb.XGBRegressor(objective='reg:squarederror',\n",
    "                           colsample_bytree=0.5,\n",
    "                           learning_rate=0.05,\n",
    "                           max_depth=12,\n",
    "                           alpha=1,\n",
    "                           n_estimators=1500)),\n",
    "              ('model', CatBoostRegressor(iterations = 5000,\n",
    "                          random_seed = RANDOM_SEED,\n",
    "                          eval_metric='MAPE',\n",
    "                          custom_metric=['R2', 'MAE'],\n",
    "                          silent=True))]\n",
    "\n",
    "st_ensemble = StackingRegressor(estimators=estimators,\n",
    "                                final_estimator=GradientBoostingRegressor(\n",
    "                                min_samples_split=2,\n",
    "                                learning_rate=0.03,\n",
    "                                max_depth=10,\n",
    "                                n_estimators=1500))"
   ]
  },
  {
   "cell_type": "code",
   "execution_count": 201,
   "metadata": {},
   "outputs": [],
   "source": [
    "#st_ensemble.fit(X_train, np.log(y_train))\n",
    "#predict_ensemble = np.exp(st_ensemble.predict(X_test))\n",
    "#print(f\"Точность модели по метрике MAPE: {(mape(y_test, predict_ensemble))*100:0.2f}%\")\n",
    "\n",
    "# Точность модели по метрике MAPE: 15.57%"
   ]
  },
  {
   "cell_type": "markdown",
   "metadata": {},
   "source": [
    "К сожалению, лучшего результата достичь не удалось. Лучше всех с задачей справился xgboost, показавший результат в 14.69 %.\n",
    "Думаю, можно было еще много чего доработать, но времени до делайна оставалось очень мало.\n"
   ]
  },
  {
   "cell_type": "code",
   "execution_count": null,
   "metadata": {
    "execution": {
     "iopub.status.busy": "2021-11-01T09:02:12.150273Z",
     "iopub.status.idle": "2021-11-01T09:02:12.150716Z"
    }
   },
   "outputs": [],
   "source": [
    "len(predict_ensemble)"
   ]
  },
  {
   "cell_type": "code",
   "execution_count": 451,
   "metadata": {},
   "outputs": [],
   "source": [
    "predict_sub = np.exp(xb.predict(test_data))"
   ]
  },
  {
   "cell_type": "markdown",
   "metadata": {
    "papermill": {
     "duration": 0.085876,
     "end_time": "2020-10-26T12:48:12.734207",
     "exception": false,
     "start_time": "2020-10-26T12:48:12.648331",
     "status": "completed"
    },
    "tags": []
   },
   "source": [
    "# Submission"
   ]
  },
  {
   "cell_type": "code",
   "execution_count": 452,
   "metadata": {
    "execution": {
     "iopub.status.busy": "2021-11-01T09:02:12.160333Z",
     "iopub.status.idle": "2021-11-01T09:02:12.160824Z"
    },
    "papermill": {
     "duration": 0.628302,
     "end_time": "2020-10-26T12:48:13.763488",
     "exception": false,
     "start_time": "2020-10-26T12:48:13.135186",
     "status": "completed"
    },
    "tags": []
   },
   "outputs": [
    {
     "data": {
      "text/html": [
       "<div>\n",
       "<style scoped>\n",
       "    .dataframe tbody tr th:only-of-type {\n",
       "        vertical-align: middle;\n",
       "    }\n",
       "\n",
       "    .dataframe tbody tr th {\n",
       "        vertical-align: top;\n",
       "    }\n",
       "\n",
       "    .dataframe thead th {\n",
       "        text-align: right;\n",
       "    }\n",
       "</style>\n",
       "<table border=\"1\" class=\"dataframe\">\n",
       "  <thead>\n",
       "    <tr style=\"text-align: right;\">\n",
       "      <th></th>\n",
       "      <th>sell_id</th>\n",
       "      <th>price</th>\n",
       "    </tr>\n",
       "  </thead>\n",
       "  <tbody>\n",
       "    <tr>\n",
       "      <th>0</th>\n",
       "      <td>1100575026</td>\n",
       "      <td>6.414856e+05</td>\n",
       "    </tr>\n",
       "    <tr>\n",
       "      <th>1</th>\n",
       "      <td>1100549428</td>\n",
       "      <td>9.265290e+05</td>\n",
       "    </tr>\n",
       "    <tr>\n",
       "      <th>2</th>\n",
       "      <td>1100658222</td>\n",
       "      <td>8.296541e+05</td>\n",
       "    </tr>\n",
       "    <tr>\n",
       "      <th>3</th>\n",
       "      <td>1100937408</td>\n",
       "      <td>7.614678e+05</td>\n",
       "    </tr>\n",
       "    <tr>\n",
       "      <th>4</th>\n",
       "      <td>1101037972</td>\n",
       "      <td>7.355362e+05</td>\n",
       "    </tr>\n",
       "    <tr>\n",
       "      <th>5</th>\n",
       "      <td>1100912634</td>\n",
       "      <td>7.683290e+05</td>\n",
       "    </tr>\n",
       "    <tr>\n",
       "      <th>6</th>\n",
       "      <td>1101228730</td>\n",
       "      <td>5.802645e+05</td>\n",
       "    </tr>\n",
       "    <tr>\n",
       "      <th>7</th>\n",
       "      <td>1100165896</td>\n",
       "      <td>4.022162e+05</td>\n",
       "    </tr>\n",
       "    <tr>\n",
       "      <th>8</th>\n",
       "      <td>1100768262</td>\n",
       "      <td>1.785793e+06</td>\n",
       "    </tr>\n",
       "    <tr>\n",
       "      <th>9</th>\n",
       "      <td>1101218501</td>\n",
       "      <td>8.128727e+05</td>\n",
       "    </tr>\n",
       "  </tbody>\n",
       "</table>\n",
       "</div>"
      ],
      "text/plain": [
       "      sell_id         price\n",
       "0  1100575026  6.414856e+05\n",
       "1  1100549428  9.265290e+05\n",
       "2  1100658222  8.296541e+05\n",
       "3  1100937408  7.614678e+05\n",
       "4  1101037972  7.355362e+05\n",
       "5  1100912634  7.683290e+05\n",
       "6  1101228730  5.802645e+05\n",
       "7  1100165896  4.022162e+05\n",
       "8  1100768262  1.785793e+06\n",
       "9  1101218501  8.128727e+05"
      ]
     },
     "execution_count": 452,
     "metadata": {},
     "output_type": "execute_result"
    }
   ],
   "source": [
    "sample_submission['price'] = predict_sub\n",
    "sample_submission.to_csv(f'submission_2_v{VERSION}.csv', index=False)\n",
    "sample_submission.head(10)"
   ]
  },
  {
   "cell_type": "markdown",
   "metadata": {
    "papermill": {
     "duration": 0.087712,
     "end_time": "2020-10-26T12:48:14.104388",
     "exception": false,
     "start_time": "2020-10-26T12:48:14.016676",
     "status": "completed"
    },
    "tags": []
   },
   "source": [
    "# What's next?\n",
    "Или что еще можно сделать, чтоб улучшить результат:\n",
    "\n",
    "* Спарсить свежие данные \n",
    "* Посмотреть, что можно извлечь из признаков или как еще можно обработать признаки\n",
    "* Сгенерировать новые признаки\n",
    "* Попробовать подобрать параметры модели\n",
    "* Попробовать другие алгоритмы и библиотеки ML\n",
    "* Сделать Ансамбль моделей, Blending, Stacking"
   ]
  },
  {
   "cell_type": "markdown",
   "metadata": {},
   "source": [
    "Подробный чек лист: https://docs.google.com/spreadsheets/d/1I_ErM3U0Cs7Rs1obyZbIEGtVn-H47pHNCi4xdDgUmXY/edit?usp=sharing"
   ]
  },
  {
   "cell_type": "code",
   "execution_count": null,
   "metadata": {
    "papermill": {
     "duration": 0.082055,
     "end_time": "2020-10-26T12:48:14.270602",
     "exception": false,
     "start_time": "2020-10-26T12:48:14.188547",
     "status": "completed"
    },
    "tags": []
   },
   "outputs": [],
   "source": []
  },
  {
   "cell_type": "code",
   "execution_count": null,
   "metadata": {
    "papermill": {
     "duration": 0.08168,
     "end_time": "2020-10-26T12:48:14.435554",
     "exception": false,
     "start_time": "2020-10-26T12:48:14.353874",
     "status": "completed"
    },
    "tags": []
   },
   "outputs": [],
   "source": []
  },
  {
   "cell_type": "code",
   "execution_count": null,
   "metadata": {
    "papermill": {
     "duration": 0.080788,
     "end_time": "2020-10-26T12:48:14.596978",
     "exception": false,
     "start_time": "2020-10-26T12:48:14.51619",
     "status": "completed"
    },
    "tags": []
   },
   "outputs": [],
   "source": []
  }
 ],
 "metadata": {
  "kernelspec": {
   "display_name": "Python 3",
   "language": "python",
   "name": "python3"
  },
  "language_info": {
   "codemirror_mode": {
    "name": "ipython",
    "version": 3
   },
   "file_extension": ".py",
   "mimetype": "text/x-python",
   "name": "python",
   "nbconvert_exporter": "python",
   "pygments_lexer": "ipython3",
   "version": "3.8.5"
  }
 },
 "nbformat": 4,
 "nbformat_minor": 4
}
